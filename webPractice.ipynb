{
 "cells": [
  {
   "cell_type": "code",
   "execution_count": 1,
   "id": "21222fe9",
   "metadata": {},
   "outputs": [],
   "source": [
    "import requests\n",
    "from bs4 import BeautifulSoup\n",
    "from csv import writer"
   ]
  },
  {
   "cell_type": "code",
   "execution_count": 2,
   "id": "dd34aa76",
   "metadata": {},
   "outputs": [],
   "source": [
    "url =\"https://frankotrading.com/\""
   ]
  },
  {
   "cell_type": "code",
   "execution_count": 3,
   "id": "0895203c",
   "metadata": {},
   "outputs": [],
   "source": [
    "page = requests.get(url)"
   ]
  },
  {
   "cell_type": "code",
   "execution_count": 4,
   "id": "a0cd5d45",
   "metadata": {},
   "outputs": [
    {
     "data": {
      "text/plain": [
       "<Response [200]>"
      ]
     },
     "execution_count": 4,
     "metadata": {},
     "output_type": "execute_result"
    }
   ],
   "source": [
    "page"
   ]
  },
  {
   "cell_type": "code",
   "execution_count": 7,
   "id": "405dc48a",
   "metadata": {},
   "outputs": [],
   "source": [
    "soup = BeautifulSoup(page.content,'html.parser')\n"
   ]
  },
  {
   "cell_type": "code",
   "execution_count": 9,
   "id": "fc63f384",
   "metadata": {},
   "outputs": [],
   "source": [
    "link = soup.find_all('div', class_= \"product-info\")"
   ]
  },
  {
   "cell_type": "code",
   "execution_count": 17,
   "id": "89b3206e",
   "metadata": {},
   "outputs": [],
   "source": [
    "with open('franko-product.csv','w',encoding='utf8',newline='')as f:\n",
    "    thewriter =writer(f)\n",
    "    header= ['Product_name','Price']\n",
    "    thewriter.writerow(header)\n",
    "    for info in link:\n",
    "        product_name = info.find('h3',class_ = \"product-title\").text\n",
    "        price = info.find('bdi').text\n",
    "    \n",
    "        data = [product_name,price]\n",
    "        thewriter.writerow(data)"
   ]
  },
  {
   "cell_type": "code",
   "execution_count": null,
   "id": "bc48ef5a",
   "metadata": {},
   "outputs": [],
   "source": []
  },
  {
   "cell_type": "markdown",
   "id": "22be41cc",
   "metadata": {},
   "source": [
    "# Melcom products"
   ]
  },
  {
   "cell_type": "code",
   "execution_count": 18,
   "id": "fd93ea58",
   "metadata": {},
   "outputs": [],
   "source": [
    "site= \"https://melcom.com/\""
   ]
  },
  {
   "cell_type": "code",
   "execution_count": 19,
   "id": "42583751",
   "metadata": {},
   "outputs": [],
   "source": [
    "web = requests.get(site)"
   ]
  },
  {
   "cell_type": "code",
   "execution_count": 20,
   "id": "78154476",
   "metadata": {},
   "outputs": [
    {
     "data": {
      "text/plain": [
       "<Response [403]>"
      ]
     },
     "execution_count": 20,
     "metadata": {},
     "output_type": "execute_result"
    }
   ],
   "source": [
    "web"
   ]
  },
  {
   "cell_type": "code",
   "execution_count": null,
   "id": "12c6f157",
   "metadata": {},
   "outputs": [],
   "source": []
  }
 ],
 "metadata": {
  "kernelspec": {
   "display_name": "Python 3 (ipykernel)",
   "language": "python",
   "name": "python3"
  },
  "language_info": {
   "codemirror_mode": {
    "name": "ipython",
    "version": 3
   },
   "file_extension": ".py",
   "mimetype": "text/x-python",
   "name": "python",
   "nbconvert_exporter": "python",
   "pygments_lexer": "ipython3",
   "version": "3.9.12"
  }
 },
 "nbformat": 4,
 "nbformat_minor": 5
}
