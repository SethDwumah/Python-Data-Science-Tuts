{
 "cells": [
  {
   "cell_type": "code",
   "execution_count": 241,
   "id": "e3bc7861",
   "metadata": {},
   "outputs": [],
   "source": [
    "# import libraries\n",
    "import pandas as pd\n",
    "import numpy as np\n",
    "import plotly.express as px\n",
    "%matplotlib inline\n",
    "import matplotlib.pyplot as plt"
   ]
  },
  {
   "cell_type": "code",
   "execution_count": 242,
   "id": "1e55a9de",
   "metadata": {},
   "outputs": [
    {
     "data": {
      "text/html": [
       "<div>\n",
       "<style scoped>\n",
       "    .dataframe tbody tr th:only-of-type {\n",
       "        vertical-align: middle;\n",
       "    }\n",
       "\n",
       "    .dataframe tbody tr th {\n",
       "        vertical-align: top;\n",
       "    }\n",
       "\n",
       "    .dataframe thead th {\n",
       "        text-align: right;\n",
       "    }\n",
       "</style>\n",
       "<table border=\"1\" class=\"dataframe\">\n",
       "  <thead>\n",
       "    <tr style=\"text-align: right;\">\n",
       "      <th></th>\n",
       "      <th>course_id</th>\n",
       "      <th>course_title</th>\n",
       "      <th>url</th>\n",
       "      <th>price</th>\n",
       "      <th>num_subscribers</th>\n",
       "      <th>num_reviews</th>\n",
       "      <th>num_lectures</th>\n",
       "      <th>level</th>\n",
       "      <th>rating</th>\n",
       "      <th>content_duration</th>\n",
       "      <th>published_timestamp</th>\n",
       "      <th>subject</th>\n",
       "      <th>Date</th>\n",
       "      <th>Free/Paid</th>\n",
       "    </tr>\n",
       "  </thead>\n",
       "  <tbody>\n",
       "    <tr>\n",
       "      <th>0</th>\n",
       "      <td>41295</td>\n",
       "      <td>Learn HTML5 Programming From Scratch</td>\n",
       "      <td>https://www.udemy.com/learn-html5-programming-...</td>\n",
       "      <td>0</td>\n",
       "      <td>268923</td>\n",
       "      <td>8629</td>\n",
       "      <td>45</td>\n",
       "      <td>Beginner Level</td>\n",
       "      <td>0.82</td>\n",
       "      <td>10.5</td>\n",
       "      <td>2013-02-14T07:03:41Z</td>\n",
       "      <td>Web Development</td>\n",
       "      <td>2013-02-14</td>\n",
       "      <td>Free</td>\n",
       "    </tr>\n",
       "    <tr>\n",
       "      <th>1</th>\n",
       "      <td>59014</td>\n",
       "      <td>Coding for Entrepreneurs Basic</td>\n",
       "      <td>https://www.udemy.com/coding-for-entrepreneurs...</td>\n",
       "      <td>0</td>\n",
       "      <td>161029</td>\n",
       "      <td>279</td>\n",
       "      <td>27</td>\n",
       "      <td>Expert Level</td>\n",
       "      <td>0.69</td>\n",
       "      <td>3.5</td>\n",
       "      <td>2013-06-09T15:51:55Z</td>\n",
       "      <td>Web Development</td>\n",
       "      <td>2013-06-09</td>\n",
       "      <td>Free</td>\n",
       "    </tr>\n",
       "    <tr>\n",
       "      <th>2</th>\n",
       "      <td>625204</td>\n",
       "      <td>The Web Developer Bootcamp</td>\n",
       "      <td>https://www.udemy.com/the-web-developer-bootcamp/</td>\n",
       "      <td>200</td>\n",
       "      <td>121584</td>\n",
       "      <td>27445</td>\n",
       "      <td>342</td>\n",
       "      <td>Beginner Level</td>\n",
       "      <td>0.89</td>\n",
       "      <td>43.0</td>\n",
       "      <td>2015-11-02T21:13:27Z</td>\n",
       "      <td>Web Development</td>\n",
       "      <td>2015-11-02</td>\n",
       "      <td>Paid</td>\n",
       "    </tr>\n",
       "    <tr>\n",
       "      <th>3</th>\n",
       "      <td>173548</td>\n",
       "      <td>Build Your First Website in 1 Week with HTML5 ...</td>\n",
       "      <td>https://www.udemy.com/build-your-first-website...</td>\n",
       "      <td>0</td>\n",
       "      <td>120291</td>\n",
       "      <td>5924</td>\n",
       "      <td>30</td>\n",
       "      <td>All Levels</td>\n",
       "      <td>0.78</td>\n",
       "      <td>3.0</td>\n",
       "      <td>2014-04-08T16:21:30Z</td>\n",
       "      <td>Web Development</td>\n",
       "      <td>2014-04-08</td>\n",
       "      <td>Free</td>\n",
       "    </tr>\n",
       "    <tr>\n",
       "      <th>4</th>\n",
       "      <td>764164</td>\n",
       "      <td>The Complete Web Developer Course 2.0</td>\n",
       "      <td>https://www.udemy.com/the-complete-web-develop...</td>\n",
       "      <td>200</td>\n",
       "      <td>114512</td>\n",
       "      <td>22412</td>\n",
       "      <td>304</td>\n",
       "      <td>Beginner Level</td>\n",
       "      <td>0.55</td>\n",
       "      <td>30.5</td>\n",
       "      <td>2016-03-08T22:28:36Z</td>\n",
       "      <td>Web Development</td>\n",
       "      <td>2016-03-08</td>\n",
       "      <td>Paid</td>\n",
       "    </tr>\n",
       "  </tbody>\n",
       "</table>\n",
       "</div>"
      ],
      "text/plain": [
       "   course_id                                       course_title  \\\n",
       "0      41295               Learn HTML5 Programming From Scratch   \n",
       "1      59014                     Coding for Entrepreneurs Basic   \n",
       "2     625204                         The Web Developer Bootcamp   \n",
       "3     173548  Build Your First Website in 1 Week with HTML5 ...   \n",
       "4     764164              The Complete Web Developer Course 2.0   \n",
       "\n",
       "                                                 url  price  num_subscribers  \\\n",
       "0  https://www.udemy.com/learn-html5-programming-...      0           268923   \n",
       "1  https://www.udemy.com/coding-for-entrepreneurs...      0           161029   \n",
       "2  https://www.udemy.com/the-web-developer-bootcamp/    200           121584   \n",
       "3  https://www.udemy.com/build-your-first-website...      0           120291   \n",
       "4  https://www.udemy.com/the-complete-web-develop...    200           114512   \n",
       "\n",
       "   num_reviews  num_lectures           level  rating  content_duration  \\\n",
       "0         8629            45  Beginner Level    0.82              10.5   \n",
       "1          279            27    Expert Level    0.69               3.5   \n",
       "2        27445           342  Beginner Level    0.89              43.0   \n",
       "3         5924            30      All Levels    0.78               3.0   \n",
       "4        22412           304  Beginner Level    0.55              30.5   \n",
       "\n",
       "    published_timestamp          subject        Date Free/Paid  \n",
       "0  2013-02-14T07:03:41Z  Web Development  2013-02-14      Free  \n",
       "1  2013-06-09T15:51:55Z  Web Development  2013-06-09      Free  \n",
       "2  2015-11-02T21:13:27Z  Web Development  2015-11-02      Paid  \n",
       "3  2014-04-08T16:21:30Z  Web Development  2014-04-08      Free  \n",
       "4  2016-03-08T22:28:36Z  Web Development  2016-03-08      Paid  "
      ]
     },
     "execution_count": 242,
     "metadata": {},
     "output_type": "execute_result"
    }
   ],
   "source": [
    "# Load dataset \n",
    "\n",
    "data = pd.read_csv(r\"C:\\Users\\Administrator\\Desktop\\Datasets\\udemy_courses.csv\")\n",
    "data.head()"
   ]
  },
  {
   "cell_type": "code",
   "execution_count": 3,
   "id": "dd1ffc28",
   "metadata": {},
   "outputs": [],
   "source": [
    "# Drop url\n",
    "data.drop('url', axis=1, inplace=True)"
   ]
  },
  {
   "cell_type": "code",
   "execution_count": 5,
   "id": "8c32837e",
   "metadata": {},
   "outputs": [
    {
     "data": {
      "text/plain": [
       "Index(['course_id', 'course_title', 'price', 'num_subscribers', 'num_reviews',\n",
       "       'num_lectures', 'level', 'rating', 'content_duration',\n",
       "       'published_timestamp', 'subject', 'Date', 'Free/Paid'],\n",
       "      dtype='object')"
      ]
     },
     "execution_count": 5,
     "metadata": {},
     "output_type": "execute_result"
    }
   ],
   "source": [
    "data.columns"
   ]
  },
  {
   "cell_type": "code",
   "execution_count": 6,
   "id": "40c0cf74",
   "metadata": {},
   "outputs": [
    {
     "name": "stdout",
     "output_type": "stream",
     "text": [
      "<class 'pandas.core.frame.DataFrame'>\n",
      "RangeIndex: 3676 entries, 0 to 3675\n",
      "Data columns (total 13 columns):\n",
      " #   Column               Non-Null Count  Dtype  \n",
      "---  ------               --------------  -----  \n",
      " 0   course_id            3676 non-null   int64  \n",
      " 1   course_title         3676 non-null   object \n",
      " 2   price                3676 non-null   int64  \n",
      " 3   num_subscribers      3676 non-null   int64  \n",
      " 4   num_reviews          3676 non-null   int64  \n",
      " 5   num_lectures         3676 non-null   int64  \n",
      " 6   level                3676 non-null   object \n",
      " 7   rating               3676 non-null   float64\n",
      " 8   content_duration     3676 non-null   float64\n",
      " 9   published_timestamp  3676 non-null   object \n",
      " 10  subject              3676 non-null   object \n",
      " 11  Date                 3676 non-null   object \n",
      " 12  Free/Paid            3676 non-null   object \n",
      "dtypes: float64(2), int64(5), object(6)\n",
      "memory usage: 373.5+ KB\n"
     ]
    }
   ],
   "source": [
    "data.info()"
   ]
  },
  {
   "cell_type": "code",
   "execution_count": 7,
   "id": "8ed82031",
   "metadata": {},
   "outputs": [
    {
     "data": {
      "text/plain": [
       "course_id              0\n",
       "course_title           0\n",
       "price                  0\n",
       "num_subscribers        0\n",
       "num_reviews            0\n",
       "num_lectures           0\n",
       "level                  0\n",
       "rating                 0\n",
       "content_duration       0\n",
       "published_timestamp    0\n",
       "subject                0\n",
       "Date                   0\n",
       "Free/Paid              0\n",
       "dtype: int64"
      ]
     },
     "execution_count": 7,
     "metadata": {},
     "output_type": "execute_result"
    }
   ],
   "source": [
    "data.isnull().sum()"
   ]
  },
  {
   "cell_type": "markdown",
   "id": "4645d7ac",
   "metadata": {},
   "source": [
    "#### Problem Statement"
   ]
  },
  {
   "cell_type": "markdown",
   "id": "a32191ac",
   "metadata": {},
   "source": [
    "Use the given dataset to answer the following questions and also building a machine learning model to predict whether a course is free or paid.\n",
    "\n",
    "1. Which course has the highest number of subscribers?\n",
    "2. For free and paid courses, which one has the highest number of subscriber?\n",
    "3. Top 3 subject with more subscribers\n",
    "4. In which month or year did a lot of people subscribe to a particular course?\n",
    "5. What account for the increase in number of subscribers for the course with more subscribers?\n",
    "6. Which course has the highest rating?\n",
    "7. Number of paid and free courses?\n",
    "8. Which subject generate more income in terms of price of course?\n",
    "9. what is the highest paid course?\n",
    "10. Build a machine learning model to predict whether a particular course is free or paid?"
   ]
  },
  {
   "cell_type": "markdown",
   "id": "577c489f",
   "metadata": {},
   "source": [
    "### 1. Course with the highest number of subscriber"
   ]
  },
  {
   "cell_type": "code",
   "execution_count": 13,
   "id": "2655859f",
   "metadata": {},
   "outputs": [
    {
     "data": {
      "text/html": [
       "<div>\n",
       "<style scoped>\n",
       "    .dataframe tbody tr th:only-of-type {\n",
       "        vertical-align: middle;\n",
       "    }\n",
       "\n",
       "    .dataframe tbody tr th {\n",
       "        vertical-align: top;\n",
       "    }\n",
       "\n",
       "    .dataframe thead th {\n",
       "        text-align: right;\n",
       "    }\n",
       "</style>\n",
       "<table border=\"1\" class=\"dataframe\">\n",
       "  <thead>\n",
       "    <tr style=\"text-align: right;\">\n",
       "      <th></th>\n",
       "      <th>course_title</th>\n",
       "      <th>num_subscribers</th>\n",
       "    </tr>\n",
       "  </thead>\n",
       "  <tbody>\n",
       "    <tr>\n",
       "      <th>0</th>\n",
       "      <td>Learn HTML5 Programming From Scratch</td>\n",
       "      <td>268923</td>\n",
       "    </tr>\n",
       "    <tr>\n",
       "      <th>1</th>\n",
       "      <td>Coding for Entrepreneurs Basic</td>\n",
       "      <td>161029</td>\n",
       "    </tr>\n",
       "    <tr>\n",
       "      <th>2</th>\n",
       "      <td>The Web Developer Bootcamp</td>\n",
       "      <td>121584</td>\n",
       "    </tr>\n",
       "    <tr>\n",
       "      <th>3</th>\n",
       "      <td>Build Your First Website in 1 Week with HTML5 ...</td>\n",
       "      <td>120291</td>\n",
       "    </tr>\n",
       "    <tr>\n",
       "      <th>4</th>\n",
       "      <td>The Complete Web Developer Course 2.0</td>\n",
       "      <td>114512</td>\n",
       "    </tr>\n",
       "    <tr>\n",
       "      <th>5</th>\n",
       "      <td>Free Beginner Electric Guitar Lessons</td>\n",
       "      <td>101154</td>\n",
       "    </tr>\n",
       "    <tr>\n",
       "      <th>6</th>\n",
       "      <td>Web Design for Web Developers: Build Beautiful...</td>\n",
       "      <td>98867</td>\n",
       "    </tr>\n",
       "    <tr>\n",
       "      <th>7</th>\n",
       "      <td>Learn Javascript &amp; JQuery From Scratch</td>\n",
       "      <td>84897</td>\n",
       "    </tr>\n",
       "    <tr>\n",
       "      <th>8</th>\n",
       "      <td>Practical PHP: Master the Basics and Code Dyna...</td>\n",
       "      <td>83737</td>\n",
       "    </tr>\n",
       "    <tr>\n",
       "      <th>9</th>\n",
       "      <td>JavaScript: Understanding the Weird Parts</td>\n",
       "      <td>79612</td>\n",
       "    </tr>\n",
       "  </tbody>\n",
       "</table>\n",
       "</div>"
      ],
      "text/plain": [
       "                                        course_title  num_subscribers\n",
       "0               Learn HTML5 Programming From Scratch           268923\n",
       "1                     Coding for Entrepreneurs Basic           161029\n",
       "2                         The Web Developer Bootcamp           121584\n",
       "3  Build Your First Website in 1 Week with HTML5 ...           120291\n",
       "4              The Complete Web Developer Course 2.0           114512\n",
       "5              Free Beginner Electric Guitar Lessons           101154\n",
       "6  Web Design for Web Developers: Build Beautiful...            98867\n",
       "7             Learn Javascript & JQuery From Scratch            84897\n",
       "8  Practical PHP: Master the Basics and Code Dyna...            83737\n",
       "9          JavaScript: Understanding the Weird Parts            79612"
      ]
     },
     "execution_count": 13,
     "metadata": {},
     "output_type": "execute_result"
    }
   ],
   "source": [
    "num_subs=data[['course_title','num_subscribers']].sort_values(by='num_subscribers',ascending=False)[:10]\n",
    "num_subs"
   ]
  },
  {
   "cell_type": "code",
   "execution_count": 56,
   "id": "ebc1145b",
   "metadata": {},
   "outputs": [
    {
     "data": {
      "application/vnd.plotly.v1+json": {
       "config": {
        "plotlyServerURL": "https://plot.ly"
       },
       "data": [
        {
         "alignmentgroup": "True",
         "hovertemplate": "course_title=%{x}<br>num_subscribers=%{marker.color}<extra></extra>",
         "legendgroup": "",
         "marker": {
          "color": [
           268923,
           161029,
           121584,
           120291,
           114512,
           101154,
           98867,
           84897,
           83737,
           79612
          ],
          "coloraxis": "coloraxis",
          "pattern": {
           "shape": ""
          }
         },
         "name": "",
         "offsetgroup": "",
         "orientation": "v",
         "showlegend": false,
         "textposition": "auto",
         "type": "bar",
         "x": [
          "Learn HTML5 Programming From Scratch",
          "Coding for Entrepreneurs Basic",
          "The Web Developer Bootcamp",
          "Build Your First Website in 1 Week with HTML5 and CSS3",
          "The Complete Web Developer Course 2.0",
          "Free Beginner Electric Guitar Lessons",
          "Web Design for Web Developers: Build Beautiful Websites!",
          "Learn Javascript & JQuery From Scratch",
          "Practical PHP: Master the Basics and Code Dynamic Websites",
          "JavaScript: Understanding the Weird Parts"
         ],
         "xaxis": "x",
         "y": [
          268923,
          161029,
          121584,
          120291,
          114512,
          101154,
          98867,
          84897,
          83737,
          79612
         ],
         "yaxis": "y"
        }
       ],
       "layout": {
        "barmode": "relative",
        "coloraxis": {
         "colorbar": {
          "title": {
           "text": "num_subscribers"
          }
         },
         "colorscale": [
          [
           0,
           "#0d0887"
          ],
          [
           0.1111111111111111,
           "#46039f"
          ],
          [
           0.2222222222222222,
           "#7201a8"
          ],
          [
           0.3333333333333333,
           "#9c179e"
          ],
          [
           0.4444444444444444,
           "#bd3786"
          ],
          [
           0.5555555555555556,
           "#d8576b"
          ],
          [
           0.6666666666666666,
           "#ed7953"
          ],
          [
           0.7777777777777778,
           "#fb9f3a"
          ],
          [
           0.8888888888888888,
           "#fdca26"
          ],
          [
           1,
           "#f0f921"
          ]
         ]
        },
        "legend": {
         "tracegroupgap": 0
        },
        "template": {
         "data": {
          "bar": [
           {
            "error_x": {
             "color": "#2a3f5f"
            },
            "error_y": {
             "color": "#2a3f5f"
            },
            "marker": {
             "line": {
              "color": "white",
              "width": 0.5
             },
             "pattern": {
              "fillmode": "overlay",
              "size": 10,
              "solidity": 0.2
             }
            },
            "type": "bar"
           }
          ],
          "barpolar": [
           {
            "marker": {
             "line": {
              "color": "white",
              "width": 0.5
             },
             "pattern": {
              "fillmode": "overlay",
              "size": 10,
              "solidity": 0.2
             }
            },
            "type": "barpolar"
           }
          ],
          "carpet": [
           {
            "aaxis": {
             "endlinecolor": "#2a3f5f",
             "gridcolor": "#C8D4E3",
             "linecolor": "#C8D4E3",
             "minorgridcolor": "#C8D4E3",
             "startlinecolor": "#2a3f5f"
            },
            "baxis": {
             "endlinecolor": "#2a3f5f",
             "gridcolor": "#C8D4E3",
             "linecolor": "#C8D4E3",
             "minorgridcolor": "#C8D4E3",
             "startlinecolor": "#2a3f5f"
            },
            "type": "carpet"
           }
          ],
          "choropleth": [
           {
            "colorbar": {
             "outlinewidth": 0,
             "ticks": ""
            },
            "type": "choropleth"
           }
          ],
          "contour": [
           {
            "colorbar": {
             "outlinewidth": 0,
             "ticks": ""
            },
            "colorscale": [
             [
              0,
              "#0d0887"
             ],
             [
              0.1111111111111111,
              "#46039f"
             ],
             [
              0.2222222222222222,
              "#7201a8"
             ],
             [
              0.3333333333333333,
              "#9c179e"
             ],
             [
              0.4444444444444444,
              "#bd3786"
             ],
             [
              0.5555555555555556,
              "#d8576b"
             ],
             [
              0.6666666666666666,
              "#ed7953"
             ],
             [
              0.7777777777777778,
              "#fb9f3a"
             ],
             [
              0.8888888888888888,
              "#fdca26"
             ],
             [
              1,
              "#f0f921"
             ]
            ],
            "type": "contour"
           }
          ],
          "contourcarpet": [
           {
            "colorbar": {
             "outlinewidth": 0,
             "ticks": ""
            },
            "type": "contourcarpet"
           }
          ],
          "heatmap": [
           {
            "colorbar": {
             "outlinewidth": 0,
             "ticks": ""
            },
            "colorscale": [
             [
              0,
              "#0d0887"
             ],
             [
              0.1111111111111111,
              "#46039f"
             ],
             [
              0.2222222222222222,
              "#7201a8"
             ],
             [
              0.3333333333333333,
              "#9c179e"
             ],
             [
              0.4444444444444444,
              "#bd3786"
             ],
             [
              0.5555555555555556,
              "#d8576b"
             ],
             [
              0.6666666666666666,
              "#ed7953"
             ],
             [
              0.7777777777777778,
              "#fb9f3a"
             ],
             [
              0.8888888888888888,
              "#fdca26"
             ],
             [
              1,
              "#f0f921"
             ]
            ],
            "type": "heatmap"
           }
          ],
          "heatmapgl": [
           {
            "colorbar": {
             "outlinewidth": 0,
             "ticks": ""
            },
            "colorscale": [
             [
              0,
              "#0d0887"
             ],
             [
              0.1111111111111111,
              "#46039f"
             ],
             [
              0.2222222222222222,
              "#7201a8"
             ],
             [
              0.3333333333333333,
              "#9c179e"
             ],
             [
              0.4444444444444444,
              "#bd3786"
             ],
             [
              0.5555555555555556,
              "#d8576b"
             ],
             [
              0.6666666666666666,
              "#ed7953"
             ],
             [
              0.7777777777777778,
              "#fb9f3a"
             ],
             [
              0.8888888888888888,
              "#fdca26"
             ],
             [
              1,
              "#f0f921"
             ]
            ],
            "type": "heatmapgl"
           }
          ],
          "histogram": [
           {
            "marker": {
             "pattern": {
              "fillmode": "overlay",
              "size": 10,
              "solidity": 0.2
             }
            },
            "type": "histogram"
           }
          ],
          "histogram2d": [
           {
            "colorbar": {
             "outlinewidth": 0,
             "ticks": ""
            },
            "colorscale": [
             [
              0,
              "#0d0887"
             ],
             [
              0.1111111111111111,
              "#46039f"
             ],
             [
              0.2222222222222222,
              "#7201a8"
             ],
             [
              0.3333333333333333,
              "#9c179e"
             ],
             [
              0.4444444444444444,
              "#bd3786"
             ],
             [
              0.5555555555555556,
              "#d8576b"
             ],
             [
              0.6666666666666666,
              "#ed7953"
             ],
             [
              0.7777777777777778,
              "#fb9f3a"
             ],
             [
              0.8888888888888888,
              "#fdca26"
             ],
             [
              1,
              "#f0f921"
             ]
            ],
            "type": "histogram2d"
           }
          ],
          "histogram2dcontour": [
           {
            "colorbar": {
             "outlinewidth": 0,
             "ticks": ""
            },
            "colorscale": [
             [
              0,
              "#0d0887"
             ],
             [
              0.1111111111111111,
              "#46039f"
             ],
             [
              0.2222222222222222,
              "#7201a8"
             ],
             [
              0.3333333333333333,
              "#9c179e"
             ],
             [
              0.4444444444444444,
              "#bd3786"
             ],
             [
              0.5555555555555556,
              "#d8576b"
             ],
             [
              0.6666666666666666,
              "#ed7953"
             ],
             [
              0.7777777777777778,
              "#fb9f3a"
             ],
             [
              0.8888888888888888,
              "#fdca26"
             ],
             [
              1,
              "#f0f921"
             ]
            ],
            "type": "histogram2dcontour"
           }
          ],
          "mesh3d": [
           {
            "colorbar": {
             "outlinewidth": 0,
             "ticks": ""
            },
            "type": "mesh3d"
           }
          ],
          "parcoords": [
           {
            "line": {
             "colorbar": {
              "outlinewidth": 0,
              "ticks": ""
             }
            },
            "type": "parcoords"
           }
          ],
          "pie": [
           {
            "automargin": true,
            "type": "pie"
           }
          ],
          "scatter": [
           {
            "marker": {
             "colorbar": {
              "outlinewidth": 0,
              "ticks": ""
             }
            },
            "type": "scatter"
           }
          ],
          "scatter3d": [
           {
            "line": {
             "colorbar": {
              "outlinewidth": 0,
              "ticks": ""
             }
            },
            "marker": {
             "colorbar": {
              "outlinewidth": 0,
              "ticks": ""
             }
            },
            "type": "scatter3d"
           }
          ],
          "scattercarpet": [
           {
            "marker": {
             "colorbar": {
              "outlinewidth": 0,
              "ticks": ""
             }
            },
            "type": "scattercarpet"
           }
          ],
          "scattergeo": [
           {
            "marker": {
             "colorbar": {
              "outlinewidth": 0,
              "ticks": ""
             }
            },
            "type": "scattergeo"
           }
          ],
          "scattergl": [
           {
            "marker": {
             "colorbar": {
              "outlinewidth": 0,
              "ticks": ""
             }
            },
            "type": "scattergl"
           }
          ],
          "scattermapbox": [
           {
            "marker": {
             "colorbar": {
              "outlinewidth": 0,
              "ticks": ""
             }
            },
            "type": "scattermapbox"
           }
          ],
          "scatterpolar": [
           {
            "marker": {
             "colorbar": {
              "outlinewidth": 0,
              "ticks": ""
             }
            },
            "type": "scatterpolar"
           }
          ],
          "scatterpolargl": [
           {
            "marker": {
             "colorbar": {
              "outlinewidth": 0,
              "ticks": ""
             }
            },
            "type": "scatterpolargl"
           }
          ],
          "scatterternary": [
           {
            "marker": {
             "colorbar": {
              "outlinewidth": 0,
              "ticks": ""
             }
            },
            "type": "scatterternary"
           }
          ],
          "surface": [
           {
            "colorbar": {
             "outlinewidth": 0,
             "ticks": ""
            },
            "colorscale": [
             [
              0,
              "#0d0887"
             ],
             [
              0.1111111111111111,
              "#46039f"
             ],
             [
              0.2222222222222222,
              "#7201a8"
             ],
             [
              0.3333333333333333,
              "#9c179e"
             ],
             [
              0.4444444444444444,
              "#bd3786"
             ],
             [
              0.5555555555555556,
              "#d8576b"
             ],
             [
              0.6666666666666666,
              "#ed7953"
             ],
             [
              0.7777777777777778,
              "#fb9f3a"
             ],
             [
              0.8888888888888888,
              "#fdca26"
             ],
             [
              1,
              "#f0f921"
             ]
            ],
            "type": "surface"
           }
          ],
          "table": [
           {
            "cells": {
             "fill": {
              "color": "#EBF0F8"
             },
             "line": {
              "color": "white"
             }
            },
            "header": {
             "fill": {
              "color": "#C8D4E3"
             },
             "line": {
              "color": "white"
             }
            },
            "type": "table"
           }
          ]
         },
         "layout": {
          "annotationdefaults": {
           "arrowcolor": "#2a3f5f",
           "arrowhead": 0,
           "arrowwidth": 1
          },
          "autotypenumbers": "strict",
          "coloraxis": {
           "colorbar": {
            "outlinewidth": 0,
            "ticks": ""
           }
          },
          "colorscale": {
           "diverging": [
            [
             0,
             "#8e0152"
            ],
            [
             0.1,
             "#c51b7d"
            ],
            [
             0.2,
             "#de77ae"
            ],
            [
             0.3,
             "#f1b6da"
            ],
            [
             0.4,
             "#fde0ef"
            ],
            [
             0.5,
             "#f7f7f7"
            ],
            [
             0.6,
             "#e6f5d0"
            ],
            [
             0.7,
             "#b8e186"
            ],
            [
             0.8,
             "#7fbc41"
            ],
            [
             0.9,
             "#4d9221"
            ],
            [
             1,
             "#276419"
            ]
           ],
           "sequential": [
            [
             0,
             "#0d0887"
            ],
            [
             0.1111111111111111,
             "#46039f"
            ],
            [
             0.2222222222222222,
             "#7201a8"
            ],
            [
             0.3333333333333333,
             "#9c179e"
            ],
            [
             0.4444444444444444,
             "#bd3786"
            ],
            [
             0.5555555555555556,
             "#d8576b"
            ],
            [
             0.6666666666666666,
             "#ed7953"
            ],
            [
             0.7777777777777778,
             "#fb9f3a"
            ],
            [
             0.8888888888888888,
             "#fdca26"
            ],
            [
             1,
             "#f0f921"
            ]
           ],
           "sequentialminus": [
            [
             0,
             "#0d0887"
            ],
            [
             0.1111111111111111,
             "#46039f"
            ],
            [
             0.2222222222222222,
             "#7201a8"
            ],
            [
             0.3333333333333333,
             "#9c179e"
            ],
            [
             0.4444444444444444,
             "#bd3786"
            ],
            [
             0.5555555555555556,
             "#d8576b"
            ],
            [
             0.6666666666666666,
             "#ed7953"
            ],
            [
             0.7777777777777778,
             "#fb9f3a"
            ],
            [
             0.8888888888888888,
             "#fdca26"
            ],
            [
             1,
             "#f0f921"
            ]
           ]
          },
          "colorway": [
           "#636efa",
           "#EF553B",
           "#00cc96",
           "#ab63fa",
           "#FFA15A",
           "#19d3f3",
           "#FF6692",
           "#B6E880",
           "#FF97FF",
           "#FECB52"
          ],
          "font": {
           "color": "#2a3f5f"
          },
          "geo": {
           "bgcolor": "white",
           "lakecolor": "white",
           "landcolor": "white",
           "showlakes": true,
           "showland": true,
           "subunitcolor": "#C8D4E3"
          },
          "hoverlabel": {
           "align": "left"
          },
          "hovermode": "closest",
          "mapbox": {
           "style": "light"
          },
          "paper_bgcolor": "white",
          "plot_bgcolor": "white",
          "polar": {
           "angularaxis": {
            "gridcolor": "#EBF0F8",
            "linecolor": "#EBF0F8",
            "ticks": ""
           },
           "bgcolor": "white",
           "radialaxis": {
            "gridcolor": "#EBF0F8",
            "linecolor": "#EBF0F8",
            "ticks": ""
           }
          },
          "scene": {
           "xaxis": {
            "backgroundcolor": "white",
            "gridcolor": "#DFE8F3",
            "gridwidth": 2,
            "linecolor": "#EBF0F8",
            "showbackground": true,
            "ticks": "",
            "zerolinecolor": "#EBF0F8"
           },
           "yaxis": {
            "backgroundcolor": "white",
            "gridcolor": "#DFE8F3",
            "gridwidth": 2,
            "linecolor": "#EBF0F8",
            "showbackground": true,
            "ticks": "",
            "zerolinecolor": "#EBF0F8"
           },
           "zaxis": {
            "backgroundcolor": "white",
            "gridcolor": "#DFE8F3",
            "gridwidth": 2,
            "linecolor": "#EBF0F8",
            "showbackground": true,
            "ticks": "",
            "zerolinecolor": "#EBF0F8"
           }
          },
          "shapedefaults": {
           "line": {
            "color": "#2a3f5f"
           }
          },
          "ternary": {
           "aaxis": {
            "gridcolor": "#DFE8F3",
            "linecolor": "#A2B1C6",
            "ticks": ""
           },
           "baxis": {
            "gridcolor": "#DFE8F3",
            "linecolor": "#A2B1C6",
            "ticks": ""
           },
           "bgcolor": "white",
           "caxis": {
            "gridcolor": "#DFE8F3",
            "linecolor": "#A2B1C6",
            "ticks": ""
           }
          },
          "title": {
           "x": 0.05
          },
          "xaxis": {
           "automargin": true,
           "gridcolor": "#EBF0F8",
           "linecolor": "#EBF0F8",
           "ticks": "",
           "title": {
            "standoff": 15
           },
           "zerolinecolor": "#EBF0F8",
           "zerolinewidth": 2
          },
          "yaxis": {
           "automargin": true,
           "gridcolor": "#EBF0F8",
           "linecolor": "#EBF0F8",
           "ticks": "",
           "title": {
            "standoff": 15
           },
           "zerolinecolor": "#EBF0F8",
           "zerolinewidth": 2
          }
         }
        },
        "title": {
         "text": "<b>Courses with high number of Subscribers</b>"
        },
        "xaxis": {
         "anchor": "y",
         "domain": [
          0,
          1
         ],
         "title": {
          "text": "course_title"
         }
        },
        "yaxis": {
         "anchor": "x",
         "domain": [
          0,
          1
         ],
         "title": {
          "text": "num_subscribers"
         }
        }
       }
      },
      "text/html": [
       "<div>                            <div id=\"44f7bb82-0618-4932-ba47-70f88d7033e3\" class=\"plotly-graph-div\" style=\"height:525px; width:100%;\"></div>            <script type=\"text/javascript\">                require([\"plotly\"], function(Plotly) {                    window.PLOTLYENV=window.PLOTLYENV || {};                                    if (document.getElementById(\"44f7bb82-0618-4932-ba47-70f88d7033e3\")) {                    Plotly.newPlot(                        \"44f7bb82-0618-4932-ba47-70f88d7033e3\",                        [{\"alignmentgroup\":\"True\",\"hovertemplate\":\"course_title=%{x}<br>num_subscribers=%{marker.color}<extra></extra>\",\"legendgroup\":\"\",\"marker\":{\"color\":[268923,161029,121584,120291,114512,101154,98867,84897,83737,79612],\"coloraxis\":\"coloraxis\",\"pattern\":{\"shape\":\"\"}},\"name\":\"\",\"offsetgroup\":\"\",\"orientation\":\"v\",\"showlegend\":false,\"textposition\":\"auto\",\"x\":[\"Learn HTML5 Programming From Scratch\",\"Coding for Entrepreneurs Basic\",\"The Web Developer Bootcamp\",\"Build Your First Website in 1 Week with HTML5 and CSS3\",\"The Complete Web Developer Course 2.0\",\"Free Beginner Electric Guitar Lessons\",\"Web Design for Web Developers: Build Beautiful Websites!\",\"Learn Javascript & JQuery From Scratch\",\"Practical PHP: Master the Basics and Code Dynamic Websites\",\"JavaScript: Understanding the Weird Parts\"],\"xaxis\":\"x\",\"y\":[268923,161029,121584,120291,114512,101154,98867,84897,83737,79612],\"yaxis\":\"y\",\"type\":\"bar\"}],                        {\"template\":{\"data\":{\"barpolar\":[{\"marker\":{\"line\":{\"color\":\"white\",\"width\":0.5},\"pattern\":{\"fillmode\":\"overlay\",\"size\":10,\"solidity\":0.2}},\"type\":\"barpolar\"}],\"bar\":[{\"error_x\":{\"color\":\"#2a3f5f\"},\"error_y\":{\"color\":\"#2a3f5f\"},\"marker\":{\"line\":{\"color\":\"white\",\"width\":0.5},\"pattern\":{\"fillmode\":\"overlay\",\"size\":10,\"solidity\":0.2}},\"type\":\"bar\"}],\"carpet\":[{\"aaxis\":{\"endlinecolor\":\"#2a3f5f\",\"gridcolor\":\"#C8D4E3\",\"linecolor\":\"#C8D4E3\",\"minorgridcolor\":\"#C8D4E3\",\"startlinecolor\":\"#2a3f5f\"},\"baxis\":{\"endlinecolor\":\"#2a3f5f\",\"gridcolor\":\"#C8D4E3\",\"linecolor\":\"#C8D4E3\",\"minorgridcolor\":\"#C8D4E3\",\"startlinecolor\":\"#2a3f5f\"},\"type\":\"carpet\"}],\"choropleth\":[{\"colorbar\":{\"outlinewidth\":0,\"ticks\":\"\"},\"type\":\"choropleth\"}],\"contourcarpet\":[{\"colorbar\":{\"outlinewidth\":0,\"ticks\":\"\"},\"type\":\"contourcarpet\"}],\"contour\":[{\"colorbar\":{\"outlinewidth\":0,\"ticks\":\"\"},\"colorscale\":[[0.0,\"#0d0887\"],[0.1111111111111111,\"#46039f\"],[0.2222222222222222,\"#7201a8\"],[0.3333333333333333,\"#9c179e\"],[0.4444444444444444,\"#bd3786\"],[0.5555555555555556,\"#d8576b\"],[0.6666666666666666,\"#ed7953\"],[0.7777777777777778,\"#fb9f3a\"],[0.8888888888888888,\"#fdca26\"],[1.0,\"#f0f921\"]],\"type\":\"contour\"}],\"heatmapgl\":[{\"colorbar\":{\"outlinewidth\":0,\"ticks\":\"\"},\"colorscale\":[[0.0,\"#0d0887\"],[0.1111111111111111,\"#46039f\"],[0.2222222222222222,\"#7201a8\"],[0.3333333333333333,\"#9c179e\"],[0.4444444444444444,\"#bd3786\"],[0.5555555555555556,\"#d8576b\"],[0.6666666666666666,\"#ed7953\"],[0.7777777777777778,\"#fb9f3a\"],[0.8888888888888888,\"#fdca26\"],[1.0,\"#f0f921\"]],\"type\":\"heatmapgl\"}],\"heatmap\":[{\"colorbar\":{\"outlinewidth\":0,\"ticks\":\"\"},\"colorscale\":[[0.0,\"#0d0887\"],[0.1111111111111111,\"#46039f\"],[0.2222222222222222,\"#7201a8\"],[0.3333333333333333,\"#9c179e\"],[0.4444444444444444,\"#bd3786\"],[0.5555555555555556,\"#d8576b\"],[0.6666666666666666,\"#ed7953\"],[0.7777777777777778,\"#fb9f3a\"],[0.8888888888888888,\"#fdca26\"],[1.0,\"#f0f921\"]],\"type\":\"heatmap\"}],\"histogram2dcontour\":[{\"colorbar\":{\"outlinewidth\":0,\"ticks\":\"\"},\"colorscale\":[[0.0,\"#0d0887\"],[0.1111111111111111,\"#46039f\"],[0.2222222222222222,\"#7201a8\"],[0.3333333333333333,\"#9c179e\"],[0.4444444444444444,\"#bd3786\"],[0.5555555555555556,\"#d8576b\"],[0.6666666666666666,\"#ed7953\"],[0.7777777777777778,\"#fb9f3a\"],[0.8888888888888888,\"#fdca26\"],[1.0,\"#f0f921\"]],\"type\":\"histogram2dcontour\"}],\"histogram2d\":[{\"colorbar\":{\"outlinewidth\":0,\"ticks\":\"\"},\"colorscale\":[[0.0,\"#0d0887\"],[0.1111111111111111,\"#46039f\"],[0.2222222222222222,\"#7201a8\"],[0.3333333333333333,\"#9c179e\"],[0.4444444444444444,\"#bd3786\"],[0.5555555555555556,\"#d8576b\"],[0.6666666666666666,\"#ed7953\"],[0.7777777777777778,\"#fb9f3a\"],[0.8888888888888888,\"#fdca26\"],[1.0,\"#f0f921\"]],\"type\":\"histogram2d\"}],\"histogram\":[{\"marker\":{\"pattern\":{\"fillmode\":\"overlay\",\"size\":10,\"solidity\":0.2}},\"type\":\"histogram\"}],\"mesh3d\":[{\"colorbar\":{\"outlinewidth\":0,\"ticks\":\"\"},\"type\":\"mesh3d\"}],\"parcoords\":[{\"line\":{\"colorbar\":{\"outlinewidth\":0,\"ticks\":\"\"}},\"type\":\"parcoords\"}],\"pie\":[{\"automargin\":true,\"type\":\"pie\"}],\"scatter3d\":[{\"line\":{\"colorbar\":{\"outlinewidth\":0,\"ticks\":\"\"}},\"marker\":{\"colorbar\":{\"outlinewidth\":0,\"ticks\":\"\"}},\"type\":\"scatter3d\"}],\"scattercarpet\":[{\"marker\":{\"colorbar\":{\"outlinewidth\":0,\"ticks\":\"\"}},\"type\":\"scattercarpet\"}],\"scattergeo\":[{\"marker\":{\"colorbar\":{\"outlinewidth\":0,\"ticks\":\"\"}},\"type\":\"scattergeo\"}],\"scattergl\":[{\"marker\":{\"colorbar\":{\"outlinewidth\":0,\"ticks\":\"\"}},\"type\":\"scattergl\"}],\"scattermapbox\":[{\"marker\":{\"colorbar\":{\"outlinewidth\":0,\"ticks\":\"\"}},\"type\":\"scattermapbox\"}],\"scatterpolargl\":[{\"marker\":{\"colorbar\":{\"outlinewidth\":0,\"ticks\":\"\"}},\"type\":\"scatterpolargl\"}],\"scatterpolar\":[{\"marker\":{\"colorbar\":{\"outlinewidth\":0,\"ticks\":\"\"}},\"type\":\"scatterpolar\"}],\"scatter\":[{\"marker\":{\"colorbar\":{\"outlinewidth\":0,\"ticks\":\"\"}},\"type\":\"scatter\"}],\"scatterternary\":[{\"marker\":{\"colorbar\":{\"outlinewidth\":0,\"ticks\":\"\"}},\"type\":\"scatterternary\"}],\"surface\":[{\"colorbar\":{\"outlinewidth\":0,\"ticks\":\"\"},\"colorscale\":[[0.0,\"#0d0887\"],[0.1111111111111111,\"#46039f\"],[0.2222222222222222,\"#7201a8\"],[0.3333333333333333,\"#9c179e\"],[0.4444444444444444,\"#bd3786\"],[0.5555555555555556,\"#d8576b\"],[0.6666666666666666,\"#ed7953\"],[0.7777777777777778,\"#fb9f3a\"],[0.8888888888888888,\"#fdca26\"],[1.0,\"#f0f921\"]],\"type\":\"surface\"}],\"table\":[{\"cells\":{\"fill\":{\"color\":\"#EBF0F8\"},\"line\":{\"color\":\"white\"}},\"header\":{\"fill\":{\"color\":\"#C8D4E3\"},\"line\":{\"color\":\"white\"}},\"type\":\"table\"}]},\"layout\":{\"annotationdefaults\":{\"arrowcolor\":\"#2a3f5f\",\"arrowhead\":0,\"arrowwidth\":1},\"autotypenumbers\":\"strict\",\"coloraxis\":{\"colorbar\":{\"outlinewidth\":0,\"ticks\":\"\"}},\"colorscale\":{\"diverging\":[[0,\"#8e0152\"],[0.1,\"#c51b7d\"],[0.2,\"#de77ae\"],[0.3,\"#f1b6da\"],[0.4,\"#fde0ef\"],[0.5,\"#f7f7f7\"],[0.6,\"#e6f5d0\"],[0.7,\"#b8e186\"],[0.8,\"#7fbc41\"],[0.9,\"#4d9221\"],[1,\"#276419\"]],\"sequential\":[[0.0,\"#0d0887\"],[0.1111111111111111,\"#46039f\"],[0.2222222222222222,\"#7201a8\"],[0.3333333333333333,\"#9c179e\"],[0.4444444444444444,\"#bd3786\"],[0.5555555555555556,\"#d8576b\"],[0.6666666666666666,\"#ed7953\"],[0.7777777777777778,\"#fb9f3a\"],[0.8888888888888888,\"#fdca26\"],[1.0,\"#f0f921\"]],\"sequentialminus\":[[0.0,\"#0d0887\"],[0.1111111111111111,\"#46039f\"],[0.2222222222222222,\"#7201a8\"],[0.3333333333333333,\"#9c179e\"],[0.4444444444444444,\"#bd3786\"],[0.5555555555555556,\"#d8576b\"],[0.6666666666666666,\"#ed7953\"],[0.7777777777777778,\"#fb9f3a\"],[0.8888888888888888,\"#fdca26\"],[1.0,\"#f0f921\"]]},\"colorway\":[\"#636efa\",\"#EF553B\",\"#00cc96\",\"#ab63fa\",\"#FFA15A\",\"#19d3f3\",\"#FF6692\",\"#B6E880\",\"#FF97FF\",\"#FECB52\"],\"font\":{\"color\":\"#2a3f5f\"},\"geo\":{\"bgcolor\":\"white\",\"lakecolor\":\"white\",\"landcolor\":\"white\",\"showlakes\":true,\"showland\":true,\"subunitcolor\":\"#C8D4E3\"},\"hoverlabel\":{\"align\":\"left\"},\"hovermode\":\"closest\",\"mapbox\":{\"style\":\"light\"},\"paper_bgcolor\":\"white\",\"plot_bgcolor\":\"white\",\"polar\":{\"angularaxis\":{\"gridcolor\":\"#EBF0F8\",\"linecolor\":\"#EBF0F8\",\"ticks\":\"\"},\"bgcolor\":\"white\",\"radialaxis\":{\"gridcolor\":\"#EBF0F8\",\"linecolor\":\"#EBF0F8\",\"ticks\":\"\"}},\"scene\":{\"xaxis\":{\"backgroundcolor\":\"white\",\"gridcolor\":\"#DFE8F3\",\"gridwidth\":2,\"linecolor\":\"#EBF0F8\",\"showbackground\":true,\"ticks\":\"\",\"zerolinecolor\":\"#EBF0F8\"},\"yaxis\":{\"backgroundcolor\":\"white\",\"gridcolor\":\"#DFE8F3\",\"gridwidth\":2,\"linecolor\":\"#EBF0F8\",\"showbackground\":true,\"ticks\":\"\",\"zerolinecolor\":\"#EBF0F8\"},\"zaxis\":{\"backgroundcolor\":\"white\",\"gridcolor\":\"#DFE8F3\",\"gridwidth\":2,\"linecolor\":\"#EBF0F8\",\"showbackground\":true,\"ticks\":\"\",\"zerolinecolor\":\"#EBF0F8\"}},\"shapedefaults\":{\"line\":{\"color\":\"#2a3f5f\"}},\"ternary\":{\"aaxis\":{\"gridcolor\":\"#DFE8F3\",\"linecolor\":\"#A2B1C6\",\"ticks\":\"\"},\"baxis\":{\"gridcolor\":\"#DFE8F3\",\"linecolor\":\"#A2B1C6\",\"ticks\":\"\"},\"bgcolor\":\"white\",\"caxis\":{\"gridcolor\":\"#DFE8F3\",\"linecolor\":\"#A2B1C6\",\"ticks\":\"\"}},\"title\":{\"x\":0.05},\"xaxis\":{\"automargin\":true,\"gridcolor\":\"#EBF0F8\",\"linecolor\":\"#EBF0F8\",\"ticks\":\"\",\"title\":{\"standoff\":15},\"zerolinecolor\":\"#EBF0F8\",\"zerolinewidth\":2},\"yaxis\":{\"automargin\":true,\"gridcolor\":\"#EBF0F8\",\"linecolor\":\"#EBF0F8\",\"ticks\":\"\",\"title\":{\"standoff\":15},\"zerolinecolor\":\"#EBF0F8\",\"zerolinewidth\":2}}},\"xaxis\":{\"anchor\":\"y\",\"domain\":[0.0,1.0],\"title\":{\"text\":\"course_title\"}},\"yaxis\":{\"anchor\":\"x\",\"domain\":[0.0,1.0],\"title\":{\"text\":\"num_subscribers\"}},\"coloraxis\":{\"colorbar\":{\"title\":{\"text\":\"num_subscribers\"}},\"colorscale\":[[0.0,\"#0d0887\"],[0.1111111111111111,\"#46039f\"],[0.2222222222222222,\"#7201a8\"],[0.3333333333333333,\"#9c179e\"],[0.4444444444444444,\"#bd3786\"],[0.5555555555555556,\"#d8576b\"],[0.6666666666666666,\"#ed7953\"],[0.7777777777777778,\"#fb9f3a\"],[0.8888888888888888,\"#fdca26\"],[1.0,\"#f0f921\"]]},\"legend\":{\"tracegroupgap\":0},\"title\":{\"text\":\"<b>Courses with high number of Subscribers</b>\"},\"barmode\":\"relative\"},                        {\"responsive\": true}                    ).then(function(){\n",
       "                            \n",
       "var gd = document.getElementById('44f7bb82-0618-4932-ba47-70f88d7033e3');\n",
       "var x = new MutationObserver(function (mutations, observer) {{\n",
       "        var display = window.getComputedStyle(gd).display;\n",
       "        if (!display || display === 'none') {{\n",
       "            console.log([gd, 'removed!']);\n",
       "            Plotly.purge(gd);\n",
       "            observer.disconnect();\n",
       "        }}\n",
       "}});\n",
       "\n",
       "// Listen for the removal of the full notebook cells\n",
       "var notebookContainer = gd.closest('#notebook-container');\n",
       "if (notebookContainer) {{\n",
       "    x.observe(notebookContainer, {childList: true});\n",
       "}}\n",
       "\n",
       "// Listen for the clearing of the current output cell\n",
       "var outputEl = gd.closest('.output');\n",
       "if (outputEl) {{\n",
       "    x.observe(outputEl, {childList: true});\n",
       "}}\n",
       "\n",
       "                        })                };                });            </script>        </div>"
      ]
     },
     "metadata": {},
     "output_type": "display_data"
    }
   ],
   "source": [
    "fig = px.bar(num_subs, x='course_title',y='num_subscribers',\n",
    "             title='<b>Courses with high number of Subscribers</b>', color='num_subscribers',template='plotly_white')\n",
    "\n",
    "fig.show()"
   ]
  },
  {
   "cell_type": "markdown",
   "id": "b6ad1db0",
   "metadata": {},
   "source": [
    "### 2.  Total number of subscribers for free and paid courses\n"
   ]
  },
  {
   "cell_type": "code",
   "execution_count": 32,
   "id": "9cb0121a",
   "metadata": {},
   "outputs": [
    {
     "data": {
      "text/html": [
       "<div>\n",
       "<style scoped>\n",
       "    .dataframe tbody tr th:only-of-type {\n",
       "        vertical-align: middle;\n",
       "    }\n",
       "\n",
       "    .dataframe tbody tr th {\n",
       "        vertical-align: top;\n",
       "    }\n",
       "\n",
       "    .dataframe thead th {\n",
       "        text-align: right;\n",
       "    }\n",
       "</style>\n",
       "<table border=\"1\" class=\"dataframe\">\n",
       "  <thead>\n",
       "    <tr style=\"text-align: right;\">\n",
       "      <th></th>\n",
       "      <th>num_subscribers</th>\n",
       "    </tr>\n",
       "    <tr>\n",
       "      <th>Free/Paid</th>\n",
       "      <th></th>\n",
       "    </tr>\n",
       "  </thead>\n",
       "  <tbody>\n",
       "    <tr>\n",
       "      <th>Free</th>\n",
       "      <td>3586551</td>\n",
       "    </tr>\n",
       "    <tr>\n",
       "      <th>Paid</th>\n",
       "      <td>8173932</td>\n",
       "    </tr>\n",
       "  </tbody>\n",
       "</table>\n",
       "</div>"
      ],
      "text/plain": [
       "           num_subscribers\n",
       "Free/Paid                 \n",
       "Free               3586551\n",
       "Paid               8173932"
      ]
     },
     "execution_count": 32,
     "metadata": {},
     "output_type": "execute_result"
    }
   ],
   "source": [
    "free_paid = data[['Free/Paid','num_subscribers']]\n",
    "free_paid_num_subs=free_paid.groupby('Free/Paid').sum()\n",
    "free_paid_num_subs"
   ]
  },
  {
   "cell_type": "code",
   "execution_count": 38,
   "id": "3a688847",
   "metadata": {},
   "outputs": [
    {
     "data": {
      "application/vnd.plotly.v1+json": {
       "config": {
        "plotlyServerURL": "https://plot.ly"
       },
       "data": [
        {
         "domain": {
          "x": [
           0,
           1
          ],
          "y": [
           0,
           1
          ]
         },
         "hole": 0.6,
         "hovertemplate": "Free/Paid=%{label}<br>num_subscribers=%{value}<extra></extra>",
         "labels": [
          "Free",
          "Paid"
         ],
         "legendgroup": "",
         "name": "",
         "showlegend": true,
         "type": "pie",
         "values": [
          3586551,
          8173932
         ]
        }
       ],
       "layout": {
        "legend": {
         "tracegroupgap": 0
        },
        "template": {
         "data": {
          "bar": [
           {
            "error_x": {
             "color": "#2a3f5f"
            },
            "error_y": {
             "color": "#2a3f5f"
            },
            "marker": {
             "line": {
              "color": "#E5ECF6",
              "width": 0.5
             },
             "pattern": {
              "fillmode": "overlay",
              "size": 10,
              "solidity": 0.2
             }
            },
            "type": "bar"
           }
          ],
          "barpolar": [
           {
            "marker": {
             "line": {
              "color": "#E5ECF6",
              "width": 0.5
             },
             "pattern": {
              "fillmode": "overlay",
              "size": 10,
              "solidity": 0.2
             }
            },
            "type": "barpolar"
           }
          ],
          "carpet": [
           {
            "aaxis": {
             "endlinecolor": "#2a3f5f",
             "gridcolor": "white",
             "linecolor": "white",
             "minorgridcolor": "white",
             "startlinecolor": "#2a3f5f"
            },
            "baxis": {
             "endlinecolor": "#2a3f5f",
             "gridcolor": "white",
             "linecolor": "white",
             "minorgridcolor": "white",
             "startlinecolor": "#2a3f5f"
            },
            "type": "carpet"
           }
          ],
          "choropleth": [
           {
            "colorbar": {
             "outlinewidth": 0,
             "ticks": ""
            },
            "type": "choropleth"
           }
          ],
          "contour": [
           {
            "colorbar": {
             "outlinewidth": 0,
             "ticks": ""
            },
            "colorscale": [
             [
              0,
              "#0d0887"
             ],
             [
              0.1111111111111111,
              "#46039f"
             ],
             [
              0.2222222222222222,
              "#7201a8"
             ],
             [
              0.3333333333333333,
              "#9c179e"
             ],
             [
              0.4444444444444444,
              "#bd3786"
             ],
             [
              0.5555555555555556,
              "#d8576b"
             ],
             [
              0.6666666666666666,
              "#ed7953"
             ],
             [
              0.7777777777777778,
              "#fb9f3a"
             ],
             [
              0.8888888888888888,
              "#fdca26"
             ],
             [
              1,
              "#f0f921"
             ]
            ],
            "type": "contour"
           }
          ],
          "contourcarpet": [
           {
            "colorbar": {
             "outlinewidth": 0,
             "ticks": ""
            },
            "type": "contourcarpet"
           }
          ],
          "heatmap": [
           {
            "colorbar": {
             "outlinewidth": 0,
             "ticks": ""
            },
            "colorscale": [
             [
              0,
              "#0d0887"
             ],
             [
              0.1111111111111111,
              "#46039f"
             ],
             [
              0.2222222222222222,
              "#7201a8"
             ],
             [
              0.3333333333333333,
              "#9c179e"
             ],
             [
              0.4444444444444444,
              "#bd3786"
             ],
             [
              0.5555555555555556,
              "#d8576b"
             ],
             [
              0.6666666666666666,
              "#ed7953"
             ],
             [
              0.7777777777777778,
              "#fb9f3a"
             ],
             [
              0.8888888888888888,
              "#fdca26"
             ],
             [
              1,
              "#f0f921"
             ]
            ],
            "type": "heatmap"
           }
          ],
          "heatmapgl": [
           {
            "colorbar": {
             "outlinewidth": 0,
             "ticks": ""
            },
            "colorscale": [
             [
              0,
              "#0d0887"
             ],
             [
              0.1111111111111111,
              "#46039f"
             ],
             [
              0.2222222222222222,
              "#7201a8"
             ],
             [
              0.3333333333333333,
              "#9c179e"
             ],
             [
              0.4444444444444444,
              "#bd3786"
             ],
             [
              0.5555555555555556,
              "#d8576b"
             ],
             [
              0.6666666666666666,
              "#ed7953"
             ],
             [
              0.7777777777777778,
              "#fb9f3a"
             ],
             [
              0.8888888888888888,
              "#fdca26"
             ],
             [
              1,
              "#f0f921"
             ]
            ],
            "type": "heatmapgl"
           }
          ],
          "histogram": [
           {
            "marker": {
             "pattern": {
              "fillmode": "overlay",
              "size": 10,
              "solidity": 0.2
             }
            },
            "type": "histogram"
           }
          ],
          "histogram2d": [
           {
            "colorbar": {
             "outlinewidth": 0,
             "ticks": ""
            },
            "colorscale": [
             [
              0,
              "#0d0887"
             ],
             [
              0.1111111111111111,
              "#46039f"
             ],
             [
              0.2222222222222222,
              "#7201a8"
             ],
             [
              0.3333333333333333,
              "#9c179e"
             ],
             [
              0.4444444444444444,
              "#bd3786"
             ],
             [
              0.5555555555555556,
              "#d8576b"
             ],
             [
              0.6666666666666666,
              "#ed7953"
             ],
             [
              0.7777777777777778,
              "#fb9f3a"
             ],
             [
              0.8888888888888888,
              "#fdca26"
             ],
             [
              1,
              "#f0f921"
             ]
            ],
            "type": "histogram2d"
           }
          ],
          "histogram2dcontour": [
           {
            "colorbar": {
             "outlinewidth": 0,
             "ticks": ""
            },
            "colorscale": [
             [
              0,
              "#0d0887"
             ],
             [
              0.1111111111111111,
              "#46039f"
             ],
             [
              0.2222222222222222,
              "#7201a8"
             ],
             [
              0.3333333333333333,
              "#9c179e"
             ],
             [
              0.4444444444444444,
              "#bd3786"
             ],
             [
              0.5555555555555556,
              "#d8576b"
             ],
             [
              0.6666666666666666,
              "#ed7953"
             ],
             [
              0.7777777777777778,
              "#fb9f3a"
             ],
             [
              0.8888888888888888,
              "#fdca26"
             ],
             [
              1,
              "#f0f921"
             ]
            ],
            "type": "histogram2dcontour"
           }
          ],
          "mesh3d": [
           {
            "colorbar": {
             "outlinewidth": 0,
             "ticks": ""
            },
            "type": "mesh3d"
           }
          ],
          "parcoords": [
           {
            "line": {
             "colorbar": {
              "outlinewidth": 0,
              "ticks": ""
             }
            },
            "type": "parcoords"
           }
          ],
          "pie": [
           {
            "automargin": true,
            "type": "pie"
           }
          ],
          "scatter": [
           {
            "marker": {
             "colorbar": {
              "outlinewidth": 0,
              "ticks": ""
             }
            },
            "type": "scatter"
           }
          ],
          "scatter3d": [
           {
            "line": {
             "colorbar": {
              "outlinewidth": 0,
              "ticks": ""
             }
            },
            "marker": {
             "colorbar": {
              "outlinewidth": 0,
              "ticks": ""
             }
            },
            "type": "scatter3d"
           }
          ],
          "scattercarpet": [
           {
            "marker": {
             "colorbar": {
              "outlinewidth": 0,
              "ticks": ""
             }
            },
            "type": "scattercarpet"
           }
          ],
          "scattergeo": [
           {
            "marker": {
             "colorbar": {
              "outlinewidth": 0,
              "ticks": ""
             }
            },
            "type": "scattergeo"
           }
          ],
          "scattergl": [
           {
            "marker": {
             "colorbar": {
              "outlinewidth": 0,
              "ticks": ""
             }
            },
            "type": "scattergl"
           }
          ],
          "scattermapbox": [
           {
            "marker": {
             "colorbar": {
              "outlinewidth": 0,
              "ticks": ""
             }
            },
            "type": "scattermapbox"
           }
          ],
          "scatterpolar": [
           {
            "marker": {
             "colorbar": {
              "outlinewidth": 0,
              "ticks": ""
             }
            },
            "type": "scatterpolar"
           }
          ],
          "scatterpolargl": [
           {
            "marker": {
             "colorbar": {
              "outlinewidth": 0,
              "ticks": ""
             }
            },
            "type": "scatterpolargl"
           }
          ],
          "scatterternary": [
           {
            "marker": {
             "colorbar": {
              "outlinewidth": 0,
              "ticks": ""
             }
            },
            "type": "scatterternary"
           }
          ],
          "surface": [
           {
            "colorbar": {
             "outlinewidth": 0,
             "ticks": ""
            },
            "colorscale": [
             [
              0,
              "#0d0887"
             ],
             [
              0.1111111111111111,
              "#46039f"
             ],
             [
              0.2222222222222222,
              "#7201a8"
             ],
             [
              0.3333333333333333,
              "#9c179e"
             ],
             [
              0.4444444444444444,
              "#bd3786"
             ],
             [
              0.5555555555555556,
              "#d8576b"
             ],
             [
              0.6666666666666666,
              "#ed7953"
             ],
             [
              0.7777777777777778,
              "#fb9f3a"
             ],
             [
              0.8888888888888888,
              "#fdca26"
             ],
             [
              1,
              "#f0f921"
             ]
            ],
            "type": "surface"
           }
          ],
          "table": [
           {
            "cells": {
             "fill": {
              "color": "#EBF0F8"
             },
             "line": {
              "color": "white"
             }
            },
            "header": {
             "fill": {
              "color": "#C8D4E3"
             },
             "line": {
              "color": "white"
             }
            },
            "type": "table"
           }
          ]
         },
         "layout": {
          "annotationdefaults": {
           "arrowcolor": "#2a3f5f",
           "arrowhead": 0,
           "arrowwidth": 1
          },
          "autotypenumbers": "strict",
          "coloraxis": {
           "colorbar": {
            "outlinewidth": 0,
            "ticks": ""
           }
          },
          "colorscale": {
           "diverging": [
            [
             0,
             "#8e0152"
            ],
            [
             0.1,
             "#c51b7d"
            ],
            [
             0.2,
             "#de77ae"
            ],
            [
             0.3,
             "#f1b6da"
            ],
            [
             0.4,
             "#fde0ef"
            ],
            [
             0.5,
             "#f7f7f7"
            ],
            [
             0.6,
             "#e6f5d0"
            ],
            [
             0.7,
             "#b8e186"
            ],
            [
             0.8,
             "#7fbc41"
            ],
            [
             0.9,
             "#4d9221"
            ],
            [
             1,
             "#276419"
            ]
           ],
           "sequential": [
            [
             0,
             "#0d0887"
            ],
            [
             0.1111111111111111,
             "#46039f"
            ],
            [
             0.2222222222222222,
             "#7201a8"
            ],
            [
             0.3333333333333333,
             "#9c179e"
            ],
            [
             0.4444444444444444,
             "#bd3786"
            ],
            [
             0.5555555555555556,
             "#d8576b"
            ],
            [
             0.6666666666666666,
             "#ed7953"
            ],
            [
             0.7777777777777778,
             "#fb9f3a"
            ],
            [
             0.8888888888888888,
             "#fdca26"
            ],
            [
             1,
             "#f0f921"
            ]
           ],
           "sequentialminus": [
            [
             0,
             "#0d0887"
            ],
            [
             0.1111111111111111,
             "#46039f"
            ],
            [
             0.2222222222222222,
             "#7201a8"
            ],
            [
             0.3333333333333333,
             "#9c179e"
            ],
            [
             0.4444444444444444,
             "#bd3786"
            ],
            [
             0.5555555555555556,
             "#d8576b"
            ],
            [
             0.6666666666666666,
             "#ed7953"
            ],
            [
             0.7777777777777778,
             "#fb9f3a"
            ],
            [
             0.8888888888888888,
             "#fdca26"
            ],
            [
             1,
             "#f0f921"
            ]
           ]
          },
          "colorway": [
           "#636efa",
           "#EF553B",
           "#00cc96",
           "#ab63fa",
           "#FFA15A",
           "#19d3f3",
           "#FF6692",
           "#B6E880",
           "#FF97FF",
           "#FECB52"
          ],
          "font": {
           "color": "#2a3f5f"
          },
          "geo": {
           "bgcolor": "white",
           "lakecolor": "white",
           "landcolor": "#E5ECF6",
           "showlakes": true,
           "showland": true,
           "subunitcolor": "white"
          },
          "hoverlabel": {
           "align": "left"
          },
          "hovermode": "closest",
          "mapbox": {
           "style": "light"
          },
          "paper_bgcolor": "white",
          "plot_bgcolor": "#E5ECF6",
          "polar": {
           "angularaxis": {
            "gridcolor": "white",
            "linecolor": "white",
            "ticks": ""
           },
           "bgcolor": "#E5ECF6",
           "radialaxis": {
            "gridcolor": "white",
            "linecolor": "white",
            "ticks": ""
           }
          },
          "scene": {
           "xaxis": {
            "backgroundcolor": "#E5ECF6",
            "gridcolor": "white",
            "gridwidth": 2,
            "linecolor": "white",
            "showbackground": true,
            "ticks": "",
            "zerolinecolor": "white"
           },
           "yaxis": {
            "backgroundcolor": "#E5ECF6",
            "gridcolor": "white",
            "gridwidth": 2,
            "linecolor": "white",
            "showbackground": true,
            "ticks": "",
            "zerolinecolor": "white"
           },
           "zaxis": {
            "backgroundcolor": "#E5ECF6",
            "gridcolor": "white",
            "gridwidth": 2,
            "linecolor": "white",
            "showbackground": true,
            "ticks": "",
            "zerolinecolor": "white"
           }
          },
          "shapedefaults": {
           "line": {
            "color": "#2a3f5f"
           }
          },
          "ternary": {
           "aaxis": {
            "gridcolor": "white",
            "linecolor": "white",
            "ticks": ""
           },
           "baxis": {
            "gridcolor": "white",
            "linecolor": "white",
            "ticks": ""
           },
           "bgcolor": "#E5ECF6",
           "caxis": {
            "gridcolor": "white",
            "linecolor": "white",
            "ticks": ""
           }
          },
          "title": {
           "x": 0.05
          },
          "xaxis": {
           "automargin": true,
           "gridcolor": "white",
           "linecolor": "white",
           "ticks": "",
           "title": {
            "standoff": 15
           },
           "zerolinecolor": "white",
           "zerolinewidth": 2
          },
          "yaxis": {
           "automargin": true,
           "gridcolor": "white",
           "linecolor": "white",
           "ticks": "",
           "title": {
            "standoff": 15
           },
           "zerolinecolor": "white",
           "zerolinewidth": 2
          }
         }
        },
        "title": {
         "text": "<b>Percentage of Free and Paid Subscribers</b>"
        }
       }
      },
      "text/html": [
       "<div>                            <div id=\"a1f98350-9b61-45c1-af52-fcdbac43bbec\" class=\"plotly-graph-div\" style=\"height:525px; width:100%;\"></div>            <script type=\"text/javascript\">                require([\"plotly\"], function(Plotly) {                    window.PLOTLYENV=window.PLOTLYENV || {};                                    if (document.getElementById(\"a1f98350-9b61-45c1-af52-fcdbac43bbec\")) {                    Plotly.newPlot(                        \"a1f98350-9b61-45c1-af52-fcdbac43bbec\",                        [{\"domain\":{\"x\":[0.0,1.0],\"y\":[0.0,1.0]},\"hole\":0.6,\"hovertemplate\":\"Free/Paid=%{label}<br>num_subscribers=%{value}<extra></extra>\",\"labels\":[\"Free\",\"Paid\"],\"legendgroup\":\"\",\"name\":\"\",\"showlegend\":true,\"values\":[3586551,8173932],\"type\":\"pie\"}],                        {\"template\":{\"data\":{\"bar\":[{\"error_x\":{\"color\":\"#2a3f5f\"},\"error_y\":{\"color\":\"#2a3f5f\"},\"marker\":{\"line\":{\"color\":\"#E5ECF6\",\"width\":0.5},\"pattern\":{\"fillmode\":\"overlay\",\"size\":10,\"solidity\":0.2}},\"type\":\"bar\"}],\"barpolar\":[{\"marker\":{\"line\":{\"color\":\"#E5ECF6\",\"width\":0.5},\"pattern\":{\"fillmode\":\"overlay\",\"size\":10,\"solidity\":0.2}},\"type\":\"barpolar\"}],\"carpet\":[{\"aaxis\":{\"endlinecolor\":\"#2a3f5f\",\"gridcolor\":\"white\",\"linecolor\":\"white\",\"minorgridcolor\":\"white\",\"startlinecolor\":\"#2a3f5f\"},\"baxis\":{\"endlinecolor\":\"#2a3f5f\",\"gridcolor\":\"white\",\"linecolor\":\"white\",\"minorgridcolor\":\"white\",\"startlinecolor\":\"#2a3f5f\"},\"type\":\"carpet\"}],\"choropleth\":[{\"colorbar\":{\"outlinewidth\":0,\"ticks\":\"\"},\"type\":\"choropleth\"}],\"contour\":[{\"colorbar\":{\"outlinewidth\":0,\"ticks\":\"\"},\"colorscale\":[[0.0,\"#0d0887\"],[0.1111111111111111,\"#46039f\"],[0.2222222222222222,\"#7201a8\"],[0.3333333333333333,\"#9c179e\"],[0.4444444444444444,\"#bd3786\"],[0.5555555555555556,\"#d8576b\"],[0.6666666666666666,\"#ed7953\"],[0.7777777777777778,\"#fb9f3a\"],[0.8888888888888888,\"#fdca26\"],[1.0,\"#f0f921\"]],\"type\":\"contour\"}],\"contourcarpet\":[{\"colorbar\":{\"outlinewidth\":0,\"ticks\":\"\"},\"type\":\"contourcarpet\"}],\"heatmap\":[{\"colorbar\":{\"outlinewidth\":0,\"ticks\":\"\"},\"colorscale\":[[0.0,\"#0d0887\"],[0.1111111111111111,\"#46039f\"],[0.2222222222222222,\"#7201a8\"],[0.3333333333333333,\"#9c179e\"],[0.4444444444444444,\"#bd3786\"],[0.5555555555555556,\"#d8576b\"],[0.6666666666666666,\"#ed7953\"],[0.7777777777777778,\"#fb9f3a\"],[0.8888888888888888,\"#fdca26\"],[1.0,\"#f0f921\"]],\"type\":\"heatmap\"}],\"heatmapgl\":[{\"colorbar\":{\"outlinewidth\":0,\"ticks\":\"\"},\"colorscale\":[[0.0,\"#0d0887\"],[0.1111111111111111,\"#46039f\"],[0.2222222222222222,\"#7201a8\"],[0.3333333333333333,\"#9c179e\"],[0.4444444444444444,\"#bd3786\"],[0.5555555555555556,\"#d8576b\"],[0.6666666666666666,\"#ed7953\"],[0.7777777777777778,\"#fb9f3a\"],[0.8888888888888888,\"#fdca26\"],[1.0,\"#f0f921\"]],\"type\":\"heatmapgl\"}],\"histogram\":[{\"marker\":{\"pattern\":{\"fillmode\":\"overlay\",\"size\":10,\"solidity\":0.2}},\"type\":\"histogram\"}],\"histogram2d\":[{\"colorbar\":{\"outlinewidth\":0,\"ticks\":\"\"},\"colorscale\":[[0.0,\"#0d0887\"],[0.1111111111111111,\"#46039f\"],[0.2222222222222222,\"#7201a8\"],[0.3333333333333333,\"#9c179e\"],[0.4444444444444444,\"#bd3786\"],[0.5555555555555556,\"#d8576b\"],[0.6666666666666666,\"#ed7953\"],[0.7777777777777778,\"#fb9f3a\"],[0.8888888888888888,\"#fdca26\"],[1.0,\"#f0f921\"]],\"type\":\"histogram2d\"}],\"histogram2dcontour\":[{\"colorbar\":{\"outlinewidth\":0,\"ticks\":\"\"},\"colorscale\":[[0.0,\"#0d0887\"],[0.1111111111111111,\"#46039f\"],[0.2222222222222222,\"#7201a8\"],[0.3333333333333333,\"#9c179e\"],[0.4444444444444444,\"#bd3786\"],[0.5555555555555556,\"#d8576b\"],[0.6666666666666666,\"#ed7953\"],[0.7777777777777778,\"#fb9f3a\"],[0.8888888888888888,\"#fdca26\"],[1.0,\"#f0f921\"]],\"type\":\"histogram2dcontour\"}],\"mesh3d\":[{\"colorbar\":{\"outlinewidth\":0,\"ticks\":\"\"},\"type\":\"mesh3d\"}],\"parcoords\":[{\"line\":{\"colorbar\":{\"outlinewidth\":0,\"ticks\":\"\"}},\"type\":\"parcoords\"}],\"pie\":[{\"automargin\":true,\"type\":\"pie\"}],\"scatter\":[{\"marker\":{\"colorbar\":{\"outlinewidth\":0,\"ticks\":\"\"}},\"type\":\"scatter\"}],\"scatter3d\":[{\"line\":{\"colorbar\":{\"outlinewidth\":0,\"ticks\":\"\"}},\"marker\":{\"colorbar\":{\"outlinewidth\":0,\"ticks\":\"\"}},\"type\":\"scatter3d\"}],\"scattercarpet\":[{\"marker\":{\"colorbar\":{\"outlinewidth\":0,\"ticks\":\"\"}},\"type\":\"scattercarpet\"}],\"scattergeo\":[{\"marker\":{\"colorbar\":{\"outlinewidth\":0,\"ticks\":\"\"}},\"type\":\"scattergeo\"}],\"scattergl\":[{\"marker\":{\"colorbar\":{\"outlinewidth\":0,\"ticks\":\"\"}},\"type\":\"scattergl\"}],\"scattermapbox\":[{\"marker\":{\"colorbar\":{\"outlinewidth\":0,\"ticks\":\"\"}},\"type\":\"scattermapbox\"}],\"scatterpolar\":[{\"marker\":{\"colorbar\":{\"outlinewidth\":0,\"ticks\":\"\"}},\"type\":\"scatterpolar\"}],\"scatterpolargl\":[{\"marker\":{\"colorbar\":{\"outlinewidth\":0,\"ticks\":\"\"}},\"type\":\"scatterpolargl\"}],\"scatterternary\":[{\"marker\":{\"colorbar\":{\"outlinewidth\":0,\"ticks\":\"\"}},\"type\":\"scatterternary\"}],\"surface\":[{\"colorbar\":{\"outlinewidth\":0,\"ticks\":\"\"},\"colorscale\":[[0.0,\"#0d0887\"],[0.1111111111111111,\"#46039f\"],[0.2222222222222222,\"#7201a8\"],[0.3333333333333333,\"#9c179e\"],[0.4444444444444444,\"#bd3786\"],[0.5555555555555556,\"#d8576b\"],[0.6666666666666666,\"#ed7953\"],[0.7777777777777778,\"#fb9f3a\"],[0.8888888888888888,\"#fdca26\"],[1.0,\"#f0f921\"]],\"type\":\"surface\"}],\"table\":[{\"cells\":{\"fill\":{\"color\":\"#EBF0F8\"},\"line\":{\"color\":\"white\"}},\"header\":{\"fill\":{\"color\":\"#C8D4E3\"},\"line\":{\"color\":\"white\"}},\"type\":\"table\"}]},\"layout\":{\"annotationdefaults\":{\"arrowcolor\":\"#2a3f5f\",\"arrowhead\":0,\"arrowwidth\":1},\"autotypenumbers\":\"strict\",\"coloraxis\":{\"colorbar\":{\"outlinewidth\":0,\"ticks\":\"\"}},\"colorscale\":{\"diverging\":[[0,\"#8e0152\"],[0.1,\"#c51b7d\"],[0.2,\"#de77ae\"],[0.3,\"#f1b6da\"],[0.4,\"#fde0ef\"],[0.5,\"#f7f7f7\"],[0.6,\"#e6f5d0\"],[0.7,\"#b8e186\"],[0.8,\"#7fbc41\"],[0.9,\"#4d9221\"],[1,\"#276419\"]],\"sequential\":[[0.0,\"#0d0887\"],[0.1111111111111111,\"#46039f\"],[0.2222222222222222,\"#7201a8\"],[0.3333333333333333,\"#9c179e\"],[0.4444444444444444,\"#bd3786\"],[0.5555555555555556,\"#d8576b\"],[0.6666666666666666,\"#ed7953\"],[0.7777777777777778,\"#fb9f3a\"],[0.8888888888888888,\"#fdca26\"],[1.0,\"#f0f921\"]],\"sequentialminus\":[[0.0,\"#0d0887\"],[0.1111111111111111,\"#46039f\"],[0.2222222222222222,\"#7201a8\"],[0.3333333333333333,\"#9c179e\"],[0.4444444444444444,\"#bd3786\"],[0.5555555555555556,\"#d8576b\"],[0.6666666666666666,\"#ed7953\"],[0.7777777777777778,\"#fb9f3a\"],[0.8888888888888888,\"#fdca26\"],[1.0,\"#f0f921\"]]},\"colorway\":[\"#636efa\",\"#EF553B\",\"#00cc96\",\"#ab63fa\",\"#FFA15A\",\"#19d3f3\",\"#FF6692\",\"#B6E880\",\"#FF97FF\",\"#FECB52\"],\"font\":{\"color\":\"#2a3f5f\"},\"geo\":{\"bgcolor\":\"white\",\"lakecolor\":\"white\",\"landcolor\":\"#E5ECF6\",\"showlakes\":true,\"showland\":true,\"subunitcolor\":\"white\"},\"hoverlabel\":{\"align\":\"left\"},\"hovermode\":\"closest\",\"mapbox\":{\"style\":\"light\"},\"paper_bgcolor\":\"white\",\"plot_bgcolor\":\"#E5ECF6\",\"polar\":{\"angularaxis\":{\"gridcolor\":\"white\",\"linecolor\":\"white\",\"ticks\":\"\"},\"bgcolor\":\"#E5ECF6\",\"radialaxis\":{\"gridcolor\":\"white\",\"linecolor\":\"white\",\"ticks\":\"\"}},\"scene\":{\"xaxis\":{\"backgroundcolor\":\"#E5ECF6\",\"gridcolor\":\"white\",\"gridwidth\":2,\"linecolor\":\"white\",\"showbackground\":true,\"ticks\":\"\",\"zerolinecolor\":\"white\"},\"yaxis\":{\"backgroundcolor\":\"#E5ECF6\",\"gridcolor\":\"white\",\"gridwidth\":2,\"linecolor\":\"white\",\"showbackground\":true,\"ticks\":\"\",\"zerolinecolor\":\"white\"},\"zaxis\":{\"backgroundcolor\":\"#E5ECF6\",\"gridcolor\":\"white\",\"gridwidth\":2,\"linecolor\":\"white\",\"showbackground\":true,\"ticks\":\"\",\"zerolinecolor\":\"white\"}},\"shapedefaults\":{\"line\":{\"color\":\"#2a3f5f\"}},\"ternary\":{\"aaxis\":{\"gridcolor\":\"white\",\"linecolor\":\"white\",\"ticks\":\"\"},\"baxis\":{\"gridcolor\":\"white\",\"linecolor\":\"white\",\"ticks\":\"\"},\"bgcolor\":\"#E5ECF6\",\"caxis\":{\"gridcolor\":\"white\",\"linecolor\":\"white\",\"ticks\":\"\"}},\"title\":{\"x\":0.05},\"xaxis\":{\"automargin\":true,\"gridcolor\":\"white\",\"linecolor\":\"white\",\"ticks\":\"\",\"title\":{\"standoff\":15},\"zerolinecolor\":\"white\",\"zerolinewidth\":2},\"yaxis\":{\"automargin\":true,\"gridcolor\":\"white\",\"linecolor\":\"white\",\"ticks\":\"\",\"title\":{\"standoff\":15},\"zerolinecolor\":\"white\",\"zerolinewidth\":2}}},\"legend\":{\"tracegroupgap\":0},\"title\":{\"text\":\"<b>Percentage of Free and Paid Subscribers</b>\"}},                        {\"responsive\": true}                    ).then(function(){\n",
       "                            \n",
       "var gd = document.getElementById('a1f98350-9b61-45c1-af52-fcdbac43bbec');\n",
       "var x = new MutationObserver(function (mutations, observer) {{\n",
       "        var display = window.getComputedStyle(gd).display;\n",
       "        if (!display || display === 'none') {{\n",
       "            console.log([gd, 'removed!']);\n",
       "            Plotly.purge(gd);\n",
       "            observer.disconnect();\n",
       "        }}\n",
       "}});\n",
       "\n",
       "// Listen for the removal of the full notebook cells\n",
       "var notebookContainer = gd.closest('#notebook-container');\n",
       "if (notebookContainer) {{\n",
       "    x.observe(notebookContainer, {childList: true});\n",
       "}}\n",
       "\n",
       "// Listen for the clearing of the current output cell\n",
       "var outputEl = gd.closest('.output');\n",
       "if (outputEl) {{\n",
       "    x.observe(outputEl, {childList: true});\n",
       "}}\n",
       "\n",
       "                        })                };                });            </script>        </div>"
      ]
     },
     "metadata": {},
     "output_type": "display_data"
    }
   ],
   "source": [
    "fig = px.pie(free_paid_num_subs, values='num_subscribers', names= free_paid_num_subs.index,\n",
    "             title='<b>Percentage of Free and Paid Subscribers</b>',hole=0.6)\n",
    "fig.show()"
   ]
  },
  {
   "cell_type": "markdown",
   "id": "43ec8032",
   "metadata": {},
   "source": [
    "### 3. Top Subjects with higher number of subscribers"
   ]
  },
  {
   "cell_type": "code",
   "execution_count": 44,
   "id": "f9a596ec",
   "metadata": {},
   "outputs": [],
   "source": [
    "subjects_subs = data[['subject', 'num_subscribers']]\n",
    "all_subjects = subjects_subs.groupby('subject').sum()"
   ]
  },
  {
   "cell_type": "code",
   "execution_count": 59,
   "id": "0090b32d",
   "metadata": {},
   "outputs": [
    {
     "data": {
      "application/vnd.plotly.v1+json": {
       "config": {
        "plotlyServerURL": "https://plot.ly"
       },
       "data": [
        {
         "alignmentgroup": "True",
         "hovertemplate": "subject=%{x}<br>num_subscribers=%{marker.color}<extra></extra>",
         "legendgroup": "",
         "marker": {
          "color": [
           1868711,
           1063148,
           846689,
           7981935
          ],
          "coloraxis": "coloraxis",
          "pattern": {
           "shape": ""
          }
         },
         "name": "",
         "offsetgroup": "",
         "orientation": "v",
         "showlegend": false,
         "textposition": "auto",
         "type": "bar",
         "x": [
          "Business Finance",
          "Graphic Design",
          "Musical Instruments",
          "Web Development"
         ],
         "xaxis": "x",
         "y": [
          1868711,
          1063148,
          846689,
          7981935
         ],
         "yaxis": "y"
        }
       ],
       "layout": {
        "barmode": "relative",
        "coloraxis": {
         "colorbar": {
          "title": {
           "text": "num_subscribers"
          }
         },
         "colorscale": [
          [
           0,
           "#0d0887"
          ],
          [
           0.1111111111111111,
           "#46039f"
          ],
          [
           0.2222222222222222,
           "#7201a8"
          ],
          [
           0.3333333333333333,
           "#9c179e"
          ],
          [
           0.4444444444444444,
           "#bd3786"
          ],
          [
           0.5555555555555556,
           "#d8576b"
          ],
          [
           0.6666666666666666,
           "#ed7953"
          ],
          [
           0.7777777777777778,
           "#fb9f3a"
          ],
          [
           0.8888888888888888,
           "#fdca26"
          ],
          [
           1,
           "#f0f921"
          ]
         ]
        },
        "legend": {
         "tracegroupgap": 0
        },
        "template": {
         "data": {
          "bar": [
           {
            "error_x": {
             "color": "#2a3f5f"
            },
            "error_y": {
             "color": "#2a3f5f"
            },
            "marker": {
             "line": {
              "color": "white",
              "width": 0.5
             },
             "pattern": {
              "fillmode": "overlay",
              "size": 10,
              "solidity": 0.2
             }
            },
            "type": "bar"
           }
          ],
          "barpolar": [
           {
            "marker": {
             "line": {
              "color": "white",
              "width": 0.5
             },
             "pattern": {
              "fillmode": "overlay",
              "size": 10,
              "solidity": 0.2
             }
            },
            "type": "barpolar"
           }
          ],
          "carpet": [
           {
            "aaxis": {
             "endlinecolor": "#2a3f5f",
             "gridcolor": "#C8D4E3",
             "linecolor": "#C8D4E3",
             "minorgridcolor": "#C8D4E3",
             "startlinecolor": "#2a3f5f"
            },
            "baxis": {
             "endlinecolor": "#2a3f5f",
             "gridcolor": "#C8D4E3",
             "linecolor": "#C8D4E3",
             "minorgridcolor": "#C8D4E3",
             "startlinecolor": "#2a3f5f"
            },
            "type": "carpet"
           }
          ],
          "choropleth": [
           {
            "colorbar": {
             "outlinewidth": 0,
             "ticks": ""
            },
            "type": "choropleth"
           }
          ],
          "contour": [
           {
            "colorbar": {
             "outlinewidth": 0,
             "ticks": ""
            },
            "colorscale": [
             [
              0,
              "#0d0887"
             ],
             [
              0.1111111111111111,
              "#46039f"
             ],
             [
              0.2222222222222222,
              "#7201a8"
             ],
             [
              0.3333333333333333,
              "#9c179e"
             ],
             [
              0.4444444444444444,
              "#bd3786"
             ],
             [
              0.5555555555555556,
              "#d8576b"
             ],
             [
              0.6666666666666666,
              "#ed7953"
             ],
             [
              0.7777777777777778,
              "#fb9f3a"
             ],
             [
              0.8888888888888888,
              "#fdca26"
             ],
             [
              1,
              "#f0f921"
             ]
            ],
            "type": "contour"
           }
          ],
          "contourcarpet": [
           {
            "colorbar": {
             "outlinewidth": 0,
             "ticks": ""
            },
            "type": "contourcarpet"
           }
          ],
          "heatmap": [
           {
            "colorbar": {
             "outlinewidth": 0,
             "ticks": ""
            },
            "colorscale": [
             [
              0,
              "#0d0887"
             ],
             [
              0.1111111111111111,
              "#46039f"
             ],
             [
              0.2222222222222222,
              "#7201a8"
             ],
             [
              0.3333333333333333,
              "#9c179e"
             ],
             [
              0.4444444444444444,
              "#bd3786"
             ],
             [
              0.5555555555555556,
              "#d8576b"
             ],
             [
              0.6666666666666666,
              "#ed7953"
             ],
             [
              0.7777777777777778,
              "#fb9f3a"
             ],
             [
              0.8888888888888888,
              "#fdca26"
             ],
             [
              1,
              "#f0f921"
             ]
            ],
            "type": "heatmap"
           }
          ],
          "heatmapgl": [
           {
            "colorbar": {
             "outlinewidth": 0,
             "ticks": ""
            },
            "colorscale": [
             [
              0,
              "#0d0887"
             ],
             [
              0.1111111111111111,
              "#46039f"
             ],
             [
              0.2222222222222222,
              "#7201a8"
             ],
             [
              0.3333333333333333,
              "#9c179e"
             ],
             [
              0.4444444444444444,
              "#bd3786"
             ],
             [
              0.5555555555555556,
              "#d8576b"
             ],
             [
              0.6666666666666666,
              "#ed7953"
             ],
             [
              0.7777777777777778,
              "#fb9f3a"
             ],
             [
              0.8888888888888888,
              "#fdca26"
             ],
             [
              1,
              "#f0f921"
             ]
            ],
            "type": "heatmapgl"
           }
          ],
          "histogram": [
           {
            "marker": {
             "pattern": {
              "fillmode": "overlay",
              "size": 10,
              "solidity": 0.2
             }
            },
            "type": "histogram"
           }
          ],
          "histogram2d": [
           {
            "colorbar": {
             "outlinewidth": 0,
             "ticks": ""
            },
            "colorscale": [
             [
              0,
              "#0d0887"
             ],
             [
              0.1111111111111111,
              "#46039f"
             ],
             [
              0.2222222222222222,
              "#7201a8"
             ],
             [
              0.3333333333333333,
              "#9c179e"
             ],
             [
              0.4444444444444444,
              "#bd3786"
             ],
             [
              0.5555555555555556,
              "#d8576b"
             ],
             [
              0.6666666666666666,
              "#ed7953"
             ],
             [
              0.7777777777777778,
              "#fb9f3a"
             ],
             [
              0.8888888888888888,
              "#fdca26"
             ],
             [
              1,
              "#f0f921"
             ]
            ],
            "type": "histogram2d"
           }
          ],
          "histogram2dcontour": [
           {
            "colorbar": {
             "outlinewidth": 0,
             "ticks": ""
            },
            "colorscale": [
             [
              0,
              "#0d0887"
             ],
             [
              0.1111111111111111,
              "#46039f"
             ],
             [
              0.2222222222222222,
              "#7201a8"
             ],
             [
              0.3333333333333333,
              "#9c179e"
             ],
             [
              0.4444444444444444,
              "#bd3786"
             ],
             [
              0.5555555555555556,
              "#d8576b"
             ],
             [
              0.6666666666666666,
              "#ed7953"
             ],
             [
              0.7777777777777778,
              "#fb9f3a"
             ],
             [
              0.8888888888888888,
              "#fdca26"
             ],
             [
              1,
              "#f0f921"
             ]
            ],
            "type": "histogram2dcontour"
           }
          ],
          "mesh3d": [
           {
            "colorbar": {
             "outlinewidth": 0,
             "ticks": ""
            },
            "type": "mesh3d"
           }
          ],
          "parcoords": [
           {
            "line": {
             "colorbar": {
              "outlinewidth": 0,
              "ticks": ""
             }
            },
            "type": "parcoords"
           }
          ],
          "pie": [
           {
            "automargin": true,
            "type": "pie"
           }
          ],
          "scatter": [
           {
            "marker": {
             "colorbar": {
              "outlinewidth": 0,
              "ticks": ""
             }
            },
            "type": "scatter"
           }
          ],
          "scatter3d": [
           {
            "line": {
             "colorbar": {
              "outlinewidth": 0,
              "ticks": ""
             }
            },
            "marker": {
             "colorbar": {
              "outlinewidth": 0,
              "ticks": ""
             }
            },
            "type": "scatter3d"
           }
          ],
          "scattercarpet": [
           {
            "marker": {
             "colorbar": {
              "outlinewidth": 0,
              "ticks": ""
             }
            },
            "type": "scattercarpet"
           }
          ],
          "scattergeo": [
           {
            "marker": {
             "colorbar": {
              "outlinewidth": 0,
              "ticks": ""
             }
            },
            "type": "scattergeo"
           }
          ],
          "scattergl": [
           {
            "marker": {
             "colorbar": {
              "outlinewidth": 0,
              "ticks": ""
             }
            },
            "type": "scattergl"
           }
          ],
          "scattermapbox": [
           {
            "marker": {
             "colorbar": {
              "outlinewidth": 0,
              "ticks": ""
             }
            },
            "type": "scattermapbox"
           }
          ],
          "scatterpolar": [
           {
            "marker": {
             "colorbar": {
              "outlinewidth": 0,
              "ticks": ""
             }
            },
            "type": "scatterpolar"
           }
          ],
          "scatterpolargl": [
           {
            "marker": {
             "colorbar": {
              "outlinewidth": 0,
              "ticks": ""
             }
            },
            "type": "scatterpolargl"
           }
          ],
          "scatterternary": [
           {
            "marker": {
             "colorbar": {
              "outlinewidth": 0,
              "ticks": ""
             }
            },
            "type": "scatterternary"
           }
          ],
          "surface": [
           {
            "colorbar": {
             "outlinewidth": 0,
             "ticks": ""
            },
            "colorscale": [
             [
              0,
              "#0d0887"
             ],
             [
              0.1111111111111111,
              "#46039f"
             ],
             [
              0.2222222222222222,
              "#7201a8"
             ],
             [
              0.3333333333333333,
              "#9c179e"
             ],
             [
              0.4444444444444444,
              "#bd3786"
             ],
             [
              0.5555555555555556,
              "#d8576b"
             ],
             [
              0.6666666666666666,
              "#ed7953"
             ],
             [
              0.7777777777777778,
              "#fb9f3a"
             ],
             [
              0.8888888888888888,
              "#fdca26"
             ],
             [
              1,
              "#f0f921"
             ]
            ],
            "type": "surface"
           }
          ],
          "table": [
           {
            "cells": {
             "fill": {
              "color": "#EBF0F8"
             },
             "line": {
              "color": "white"
             }
            },
            "header": {
             "fill": {
              "color": "#C8D4E3"
             },
             "line": {
              "color": "white"
             }
            },
            "type": "table"
           }
          ]
         },
         "layout": {
          "annotationdefaults": {
           "arrowcolor": "#2a3f5f",
           "arrowhead": 0,
           "arrowwidth": 1
          },
          "autotypenumbers": "strict",
          "coloraxis": {
           "colorbar": {
            "outlinewidth": 0,
            "ticks": ""
           }
          },
          "colorscale": {
           "diverging": [
            [
             0,
             "#8e0152"
            ],
            [
             0.1,
             "#c51b7d"
            ],
            [
             0.2,
             "#de77ae"
            ],
            [
             0.3,
             "#f1b6da"
            ],
            [
             0.4,
             "#fde0ef"
            ],
            [
             0.5,
             "#f7f7f7"
            ],
            [
             0.6,
             "#e6f5d0"
            ],
            [
             0.7,
             "#b8e186"
            ],
            [
             0.8,
             "#7fbc41"
            ],
            [
             0.9,
             "#4d9221"
            ],
            [
             1,
             "#276419"
            ]
           ],
           "sequential": [
            [
             0,
             "#0d0887"
            ],
            [
             0.1111111111111111,
             "#46039f"
            ],
            [
             0.2222222222222222,
             "#7201a8"
            ],
            [
             0.3333333333333333,
             "#9c179e"
            ],
            [
             0.4444444444444444,
             "#bd3786"
            ],
            [
             0.5555555555555556,
             "#d8576b"
            ],
            [
             0.6666666666666666,
             "#ed7953"
            ],
            [
             0.7777777777777778,
             "#fb9f3a"
            ],
            [
             0.8888888888888888,
             "#fdca26"
            ],
            [
             1,
             "#f0f921"
            ]
           ],
           "sequentialminus": [
            [
             0,
             "#0d0887"
            ],
            [
             0.1111111111111111,
             "#46039f"
            ],
            [
             0.2222222222222222,
             "#7201a8"
            ],
            [
             0.3333333333333333,
             "#9c179e"
            ],
            [
             0.4444444444444444,
             "#bd3786"
            ],
            [
             0.5555555555555556,
             "#d8576b"
            ],
            [
             0.6666666666666666,
             "#ed7953"
            ],
            [
             0.7777777777777778,
             "#fb9f3a"
            ],
            [
             0.8888888888888888,
             "#fdca26"
            ],
            [
             1,
             "#f0f921"
            ]
           ]
          },
          "colorway": [
           "#636efa",
           "#EF553B",
           "#00cc96",
           "#ab63fa",
           "#FFA15A",
           "#19d3f3",
           "#FF6692",
           "#B6E880",
           "#FF97FF",
           "#FECB52"
          ],
          "font": {
           "color": "#2a3f5f"
          },
          "geo": {
           "bgcolor": "white",
           "lakecolor": "white",
           "landcolor": "white",
           "showlakes": true,
           "showland": true,
           "subunitcolor": "#C8D4E3"
          },
          "hoverlabel": {
           "align": "left"
          },
          "hovermode": "closest",
          "mapbox": {
           "style": "light"
          },
          "paper_bgcolor": "white",
          "plot_bgcolor": "white",
          "polar": {
           "angularaxis": {
            "gridcolor": "#EBF0F8",
            "linecolor": "#EBF0F8",
            "ticks": ""
           },
           "bgcolor": "white",
           "radialaxis": {
            "gridcolor": "#EBF0F8",
            "linecolor": "#EBF0F8",
            "ticks": ""
           }
          },
          "scene": {
           "xaxis": {
            "backgroundcolor": "white",
            "gridcolor": "#DFE8F3",
            "gridwidth": 2,
            "linecolor": "#EBF0F8",
            "showbackground": true,
            "ticks": "",
            "zerolinecolor": "#EBF0F8"
           },
           "yaxis": {
            "backgroundcolor": "white",
            "gridcolor": "#DFE8F3",
            "gridwidth": 2,
            "linecolor": "#EBF0F8",
            "showbackground": true,
            "ticks": "",
            "zerolinecolor": "#EBF0F8"
           },
           "zaxis": {
            "backgroundcolor": "white",
            "gridcolor": "#DFE8F3",
            "gridwidth": 2,
            "linecolor": "#EBF0F8",
            "showbackground": true,
            "ticks": "",
            "zerolinecolor": "#EBF0F8"
           }
          },
          "shapedefaults": {
           "line": {
            "color": "#2a3f5f"
           }
          },
          "ternary": {
           "aaxis": {
            "gridcolor": "#DFE8F3",
            "linecolor": "#A2B1C6",
            "ticks": ""
           },
           "baxis": {
            "gridcolor": "#DFE8F3",
            "linecolor": "#A2B1C6",
            "ticks": ""
           },
           "bgcolor": "white",
           "caxis": {
            "gridcolor": "#DFE8F3",
            "linecolor": "#A2B1C6",
            "ticks": ""
           }
          },
          "title": {
           "x": 0.05
          },
          "xaxis": {
           "automargin": true,
           "gridcolor": "#EBF0F8",
           "linecolor": "#EBF0F8",
           "ticks": "",
           "title": {
            "standoff": 15
           },
           "zerolinecolor": "#EBF0F8",
           "zerolinewidth": 2
          },
          "yaxis": {
           "automargin": true,
           "gridcolor": "#EBF0F8",
           "linecolor": "#EBF0F8",
           "ticks": "",
           "title": {
            "standoff": 15
           },
           "zerolinecolor": "#EBF0F8",
           "zerolinewidth": 2
          }
         }
        },
        "title": {
         "text": "<b>Subjects with higher number of Subscribers</b>"
        },
        "xaxis": {
         "anchor": "y",
         "domain": [
          0,
          1
         ],
         "title": {
          "text": "subject"
         }
        },
        "yaxis": {
         "anchor": "x",
         "domain": [
          0,
          1
         ],
         "title": {
          "text": "num_subscribers"
         }
        }
       }
      },
      "text/html": [
       "<div>                            <div id=\"18def78c-0030-41d7-b02f-137a216f2312\" class=\"plotly-graph-div\" style=\"height:525px; width:100%;\"></div>            <script type=\"text/javascript\">                require([\"plotly\"], function(Plotly) {                    window.PLOTLYENV=window.PLOTLYENV || {};                                    if (document.getElementById(\"18def78c-0030-41d7-b02f-137a216f2312\")) {                    Plotly.newPlot(                        \"18def78c-0030-41d7-b02f-137a216f2312\",                        [{\"alignmentgroup\":\"True\",\"hovertemplate\":\"subject=%{x}<br>num_subscribers=%{marker.color}<extra></extra>\",\"legendgroup\":\"\",\"marker\":{\"color\":[1868711,1063148,846689,7981935],\"coloraxis\":\"coloraxis\",\"pattern\":{\"shape\":\"\"}},\"name\":\"\",\"offsetgroup\":\"\",\"orientation\":\"v\",\"showlegend\":false,\"textposition\":\"auto\",\"x\":[\"Business Finance\",\"Graphic Design\",\"Musical Instruments\",\"Web Development\"],\"xaxis\":\"x\",\"y\":[1868711,1063148,846689,7981935],\"yaxis\":\"y\",\"type\":\"bar\"}],                        {\"template\":{\"data\":{\"barpolar\":[{\"marker\":{\"line\":{\"color\":\"white\",\"width\":0.5},\"pattern\":{\"fillmode\":\"overlay\",\"size\":10,\"solidity\":0.2}},\"type\":\"barpolar\"}],\"bar\":[{\"error_x\":{\"color\":\"#2a3f5f\"},\"error_y\":{\"color\":\"#2a3f5f\"},\"marker\":{\"line\":{\"color\":\"white\",\"width\":0.5},\"pattern\":{\"fillmode\":\"overlay\",\"size\":10,\"solidity\":0.2}},\"type\":\"bar\"}],\"carpet\":[{\"aaxis\":{\"endlinecolor\":\"#2a3f5f\",\"gridcolor\":\"#C8D4E3\",\"linecolor\":\"#C8D4E3\",\"minorgridcolor\":\"#C8D4E3\",\"startlinecolor\":\"#2a3f5f\"},\"baxis\":{\"endlinecolor\":\"#2a3f5f\",\"gridcolor\":\"#C8D4E3\",\"linecolor\":\"#C8D4E3\",\"minorgridcolor\":\"#C8D4E3\",\"startlinecolor\":\"#2a3f5f\"},\"type\":\"carpet\"}],\"choropleth\":[{\"colorbar\":{\"outlinewidth\":0,\"ticks\":\"\"},\"type\":\"choropleth\"}],\"contourcarpet\":[{\"colorbar\":{\"outlinewidth\":0,\"ticks\":\"\"},\"type\":\"contourcarpet\"}],\"contour\":[{\"colorbar\":{\"outlinewidth\":0,\"ticks\":\"\"},\"colorscale\":[[0.0,\"#0d0887\"],[0.1111111111111111,\"#46039f\"],[0.2222222222222222,\"#7201a8\"],[0.3333333333333333,\"#9c179e\"],[0.4444444444444444,\"#bd3786\"],[0.5555555555555556,\"#d8576b\"],[0.6666666666666666,\"#ed7953\"],[0.7777777777777778,\"#fb9f3a\"],[0.8888888888888888,\"#fdca26\"],[1.0,\"#f0f921\"]],\"type\":\"contour\"}],\"heatmapgl\":[{\"colorbar\":{\"outlinewidth\":0,\"ticks\":\"\"},\"colorscale\":[[0.0,\"#0d0887\"],[0.1111111111111111,\"#46039f\"],[0.2222222222222222,\"#7201a8\"],[0.3333333333333333,\"#9c179e\"],[0.4444444444444444,\"#bd3786\"],[0.5555555555555556,\"#d8576b\"],[0.6666666666666666,\"#ed7953\"],[0.7777777777777778,\"#fb9f3a\"],[0.8888888888888888,\"#fdca26\"],[1.0,\"#f0f921\"]],\"type\":\"heatmapgl\"}],\"heatmap\":[{\"colorbar\":{\"outlinewidth\":0,\"ticks\":\"\"},\"colorscale\":[[0.0,\"#0d0887\"],[0.1111111111111111,\"#46039f\"],[0.2222222222222222,\"#7201a8\"],[0.3333333333333333,\"#9c179e\"],[0.4444444444444444,\"#bd3786\"],[0.5555555555555556,\"#d8576b\"],[0.6666666666666666,\"#ed7953\"],[0.7777777777777778,\"#fb9f3a\"],[0.8888888888888888,\"#fdca26\"],[1.0,\"#f0f921\"]],\"type\":\"heatmap\"}],\"histogram2dcontour\":[{\"colorbar\":{\"outlinewidth\":0,\"ticks\":\"\"},\"colorscale\":[[0.0,\"#0d0887\"],[0.1111111111111111,\"#46039f\"],[0.2222222222222222,\"#7201a8\"],[0.3333333333333333,\"#9c179e\"],[0.4444444444444444,\"#bd3786\"],[0.5555555555555556,\"#d8576b\"],[0.6666666666666666,\"#ed7953\"],[0.7777777777777778,\"#fb9f3a\"],[0.8888888888888888,\"#fdca26\"],[1.0,\"#f0f921\"]],\"type\":\"histogram2dcontour\"}],\"histogram2d\":[{\"colorbar\":{\"outlinewidth\":0,\"ticks\":\"\"},\"colorscale\":[[0.0,\"#0d0887\"],[0.1111111111111111,\"#46039f\"],[0.2222222222222222,\"#7201a8\"],[0.3333333333333333,\"#9c179e\"],[0.4444444444444444,\"#bd3786\"],[0.5555555555555556,\"#d8576b\"],[0.6666666666666666,\"#ed7953\"],[0.7777777777777778,\"#fb9f3a\"],[0.8888888888888888,\"#fdca26\"],[1.0,\"#f0f921\"]],\"type\":\"histogram2d\"}],\"histogram\":[{\"marker\":{\"pattern\":{\"fillmode\":\"overlay\",\"size\":10,\"solidity\":0.2}},\"type\":\"histogram\"}],\"mesh3d\":[{\"colorbar\":{\"outlinewidth\":0,\"ticks\":\"\"},\"type\":\"mesh3d\"}],\"parcoords\":[{\"line\":{\"colorbar\":{\"outlinewidth\":0,\"ticks\":\"\"}},\"type\":\"parcoords\"}],\"pie\":[{\"automargin\":true,\"type\":\"pie\"}],\"scatter3d\":[{\"line\":{\"colorbar\":{\"outlinewidth\":0,\"ticks\":\"\"}},\"marker\":{\"colorbar\":{\"outlinewidth\":0,\"ticks\":\"\"}},\"type\":\"scatter3d\"}],\"scattercarpet\":[{\"marker\":{\"colorbar\":{\"outlinewidth\":0,\"ticks\":\"\"}},\"type\":\"scattercarpet\"}],\"scattergeo\":[{\"marker\":{\"colorbar\":{\"outlinewidth\":0,\"ticks\":\"\"}},\"type\":\"scattergeo\"}],\"scattergl\":[{\"marker\":{\"colorbar\":{\"outlinewidth\":0,\"ticks\":\"\"}},\"type\":\"scattergl\"}],\"scattermapbox\":[{\"marker\":{\"colorbar\":{\"outlinewidth\":0,\"ticks\":\"\"}},\"type\":\"scattermapbox\"}],\"scatterpolargl\":[{\"marker\":{\"colorbar\":{\"outlinewidth\":0,\"ticks\":\"\"}},\"type\":\"scatterpolargl\"}],\"scatterpolar\":[{\"marker\":{\"colorbar\":{\"outlinewidth\":0,\"ticks\":\"\"}},\"type\":\"scatterpolar\"}],\"scatter\":[{\"marker\":{\"colorbar\":{\"outlinewidth\":0,\"ticks\":\"\"}},\"type\":\"scatter\"}],\"scatterternary\":[{\"marker\":{\"colorbar\":{\"outlinewidth\":0,\"ticks\":\"\"}},\"type\":\"scatterternary\"}],\"surface\":[{\"colorbar\":{\"outlinewidth\":0,\"ticks\":\"\"},\"colorscale\":[[0.0,\"#0d0887\"],[0.1111111111111111,\"#46039f\"],[0.2222222222222222,\"#7201a8\"],[0.3333333333333333,\"#9c179e\"],[0.4444444444444444,\"#bd3786\"],[0.5555555555555556,\"#d8576b\"],[0.6666666666666666,\"#ed7953\"],[0.7777777777777778,\"#fb9f3a\"],[0.8888888888888888,\"#fdca26\"],[1.0,\"#f0f921\"]],\"type\":\"surface\"}],\"table\":[{\"cells\":{\"fill\":{\"color\":\"#EBF0F8\"},\"line\":{\"color\":\"white\"}},\"header\":{\"fill\":{\"color\":\"#C8D4E3\"},\"line\":{\"color\":\"white\"}},\"type\":\"table\"}]},\"layout\":{\"annotationdefaults\":{\"arrowcolor\":\"#2a3f5f\",\"arrowhead\":0,\"arrowwidth\":1},\"autotypenumbers\":\"strict\",\"coloraxis\":{\"colorbar\":{\"outlinewidth\":0,\"ticks\":\"\"}},\"colorscale\":{\"diverging\":[[0,\"#8e0152\"],[0.1,\"#c51b7d\"],[0.2,\"#de77ae\"],[0.3,\"#f1b6da\"],[0.4,\"#fde0ef\"],[0.5,\"#f7f7f7\"],[0.6,\"#e6f5d0\"],[0.7,\"#b8e186\"],[0.8,\"#7fbc41\"],[0.9,\"#4d9221\"],[1,\"#276419\"]],\"sequential\":[[0.0,\"#0d0887\"],[0.1111111111111111,\"#46039f\"],[0.2222222222222222,\"#7201a8\"],[0.3333333333333333,\"#9c179e\"],[0.4444444444444444,\"#bd3786\"],[0.5555555555555556,\"#d8576b\"],[0.6666666666666666,\"#ed7953\"],[0.7777777777777778,\"#fb9f3a\"],[0.8888888888888888,\"#fdca26\"],[1.0,\"#f0f921\"]],\"sequentialminus\":[[0.0,\"#0d0887\"],[0.1111111111111111,\"#46039f\"],[0.2222222222222222,\"#7201a8\"],[0.3333333333333333,\"#9c179e\"],[0.4444444444444444,\"#bd3786\"],[0.5555555555555556,\"#d8576b\"],[0.6666666666666666,\"#ed7953\"],[0.7777777777777778,\"#fb9f3a\"],[0.8888888888888888,\"#fdca26\"],[1.0,\"#f0f921\"]]},\"colorway\":[\"#636efa\",\"#EF553B\",\"#00cc96\",\"#ab63fa\",\"#FFA15A\",\"#19d3f3\",\"#FF6692\",\"#B6E880\",\"#FF97FF\",\"#FECB52\"],\"font\":{\"color\":\"#2a3f5f\"},\"geo\":{\"bgcolor\":\"white\",\"lakecolor\":\"white\",\"landcolor\":\"white\",\"showlakes\":true,\"showland\":true,\"subunitcolor\":\"#C8D4E3\"},\"hoverlabel\":{\"align\":\"left\"},\"hovermode\":\"closest\",\"mapbox\":{\"style\":\"light\"},\"paper_bgcolor\":\"white\",\"plot_bgcolor\":\"white\",\"polar\":{\"angularaxis\":{\"gridcolor\":\"#EBF0F8\",\"linecolor\":\"#EBF0F8\",\"ticks\":\"\"},\"bgcolor\":\"white\",\"radialaxis\":{\"gridcolor\":\"#EBF0F8\",\"linecolor\":\"#EBF0F8\",\"ticks\":\"\"}},\"scene\":{\"xaxis\":{\"backgroundcolor\":\"white\",\"gridcolor\":\"#DFE8F3\",\"gridwidth\":2,\"linecolor\":\"#EBF0F8\",\"showbackground\":true,\"ticks\":\"\",\"zerolinecolor\":\"#EBF0F8\"},\"yaxis\":{\"backgroundcolor\":\"white\",\"gridcolor\":\"#DFE8F3\",\"gridwidth\":2,\"linecolor\":\"#EBF0F8\",\"showbackground\":true,\"ticks\":\"\",\"zerolinecolor\":\"#EBF0F8\"},\"zaxis\":{\"backgroundcolor\":\"white\",\"gridcolor\":\"#DFE8F3\",\"gridwidth\":2,\"linecolor\":\"#EBF0F8\",\"showbackground\":true,\"ticks\":\"\",\"zerolinecolor\":\"#EBF0F8\"}},\"shapedefaults\":{\"line\":{\"color\":\"#2a3f5f\"}},\"ternary\":{\"aaxis\":{\"gridcolor\":\"#DFE8F3\",\"linecolor\":\"#A2B1C6\",\"ticks\":\"\"},\"baxis\":{\"gridcolor\":\"#DFE8F3\",\"linecolor\":\"#A2B1C6\",\"ticks\":\"\"},\"bgcolor\":\"white\",\"caxis\":{\"gridcolor\":\"#DFE8F3\",\"linecolor\":\"#A2B1C6\",\"ticks\":\"\"}},\"title\":{\"x\":0.05},\"xaxis\":{\"automargin\":true,\"gridcolor\":\"#EBF0F8\",\"linecolor\":\"#EBF0F8\",\"ticks\":\"\",\"title\":{\"standoff\":15},\"zerolinecolor\":\"#EBF0F8\",\"zerolinewidth\":2},\"yaxis\":{\"automargin\":true,\"gridcolor\":\"#EBF0F8\",\"linecolor\":\"#EBF0F8\",\"ticks\":\"\",\"title\":{\"standoff\":15},\"zerolinecolor\":\"#EBF0F8\",\"zerolinewidth\":2}}},\"xaxis\":{\"anchor\":\"y\",\"domain\":[0.0,1.0],\"title\":{\"text\":\"subject\"}},\"yaxis\":{\"anchor\":\"x\",\"domain\":[0.0,1.0],\"title\":{\"text\":\"num_subscribers\"}},\"coloraxis\":{\"colorbar\":{\"title\":{\"text\":\"num_subscribers\"}},\"colorscale\":[[0.0,\"#0d0887\"],[0.1111111111111111,\"#46039f\"],[0.2222222222222222,\"#7201a8\"],[0.3333333333333333,\"#9c179e\"],[0.4444444444444444,\"#bd3786\"],[0.5555555555555556,\"#d8576b\"],[0.6666666666666666,\"#ed7953\"],[0.7777777777777778,\"#fb9f3a\"],[0.8888888888888888,\"#fdca26\"],[1.0,\"#f0f921\"]]},\"legend\":{\"tracegroupgap\":0},\"title\":{\"text\":\"<b>Subjects with higher number of Subscribers</b>\"},\"barmode\":\"relative\"},                        {\"responsive\": true}                    ).then(function(){\n",
       "                            \n",
       "var gd = document.getElementById('18def78c-0030-41d7-b02f-137a216f2312');\n",
       "var x = new MutationObserver(function (mutations, observer) {{\n",
       "        var display = window.getComputedStyle(gd).display;\n",
       "        if (!display || display === 'none') {{\n",
       "            console.log([gd, 'removed!']);\n",
       "            Plotly.purge(gd);\n",
       "            observer.disconnect();\n",
       "        }}\n",
       "}});\n",
       "\n",
       "// Listen for the removal of the full notebook cells\n",
       "var notebookContainer = gd.closest('#notebook-container');\n",
       "if (notebookContainer) {{\n",
       "    x.observe(notebookContainer, {childList: true});\n",
       "}}\n",
       "\n",
       "// Listen for the clearing of the current output cell\n",
       "var outputEl = gd.closest('.output');\n",
       "if (outputEl) {{\n",
       "    x.observe(outputEl, {childList: true});\n",
       "}}\n",
       "\n",
       "                        })                };                });            </script>        </div>"
      ]
     },
     "metadata": {},
     "output_type": "display_data"
    }
   ],
   "source": [
    "fig = px.bar(all_subjects, x=all_subjects.index, y='num_subscribers',color ='num_subscribers',\n",
    "             title='<b>Subjects with higher number of Subscribers</b>',template='plotly_white')\n",
    "fig.show()"
   ]
  },
  {
   "cell_type": "markdown",
   "id": "598f9c7d",
   "metadata": {},
   "source": [
    "### The month or year in which number of subscribers for a particular course increase"
   ]
  },
  {
   "cell_type": "code",
   "execution_count": 73,
   "id": "7c07a723",
   "metadata": {},
   "outputs": [],
   "source": [
    "date_subs = data[['Date','course_title','num_subscribers']]\n",
    "#.sort_values(by='num_subscribers',ascending=False)\n"
   ]
  },
  {
   "cell_type": "code",
   "execution_count": 98,
   "id": "c6960e4b",
   "metadata": {},
   "outputs": [
    {
     "data": {
      "application/vnd.plotly.v1+json": {
       "config": {
        "plotlyServerURL": "https://plot.ly"
       },
       "data": [
        {
         "alignmentgroup": "True",
         "bingroup": "x",
         "histfunc": "sum",
         "hovertemplate": "Date=%{x}<br>sum of num_subscribers=%{y}<extra></extra>",
         "legendgroup": "",
         "marker": {
          "color": "#636efa",
          "pattern": {
           "shape": ""
          }
         },
         "name": "",
         "offsetgroup": "",
         "orientation": "v",
         "showlegend": false,
         "type": "histogram",
         "x": [
          "2013-02-14",
          "2013-06-09",
          "2015-11-02",
          "2014-04-08",
          "2016-03-08",
          "2012-06-15",
          "2015-04-13",
          "2013-10-10",
          "2014-07-19",
          "2015-03-12",
          "2014-08-07",
          "2016-02-11",
          "2012-07-27",
          "2013-09-25",
          "2015-03-19",
          "2011-11-19",
          "2013-04-20",
          "2014-11-22",
          "2013-12-09",
          "2014-09-24",
          "2015-08-31",
          "2015-07-27",
          "2013-04-07",
          "2015-09-22",
          "2014-11-30",
          "2013-09-25",
          "2013-12-25",
          "2015-12-28",
          "2013-10-16",
          "2012-06-18",
          "2012-05-09",
          "2013-05-29",
          "2016-01-20",
          "2015-01-22",
          "2015-03-24",
          "2013-01-03",
          "2015-12-30",
          "2016-03-03",
          "2016-05-18",
          "2016-03-01",
          "2016-06-09",
          "2012-04-25",
          "2015-08-20",
          "2015-10-23",
          "2014-06-30",
          "2013-05-29",
          "2016-10-07",
          "2014-09-05",
          "2015-12-29",
          "2012-10-28",
          "2015-06-30",
          "2014-08-10",
          "2016-11-29",
          "2014-05-27",
          "2015-02-14",
          "2016-12-11",
          "2015-09-25",
          "2016-10-14",
          "2014-02-13",
          "2017-01-23",
          "2015-04-09",
          "2011-12-20",
          "2015-05-21",
          "2012-10-21",
          "2012-10-31",
          "2012-04-08",
          "2016-01-03",
          "2015-01-05",
          "2015-10-27",
          "2015-11-26",
          "2014-03-15",
          "2012-10-10",
          "2015-08-26",
          "2016-01-21",
          "2015-10-17",
          "2013-06-23",
          "2016-06-20",
          "2013-04-08",
          "2015-11-09",
          "2013-07-04",
          "2016-06-20",
          "2015-06-23",
          "2013-10-16",
          "2014-11-25",
          "2015-08-11",
          "2016-03-12",
          "2013-10-05",
          "2015-04-28",
          "2016-04-01",
          "2016-03-12",
          "2013-01-07",
          "2016-01-11",
          "2015-01-16",
          "2014-04-14",
          "2015-02-06",
          "2016-05-16",
          "2014-10-27",
          "2016-02-29",
          "2014-02-12",
          "2014-04-23",
          "2014-03-31",
          "2016-08-29",
          "2014-06-03",
          "2015-07-07",
          "2014-10-06",
          "2013-07-09",
          "2016-07-23",
          "2013-08-19",
          "2013-10-04",
          "2015-08-14",
          "2015-12-29",
          "2016-02-24",
          "2014-03-24",
          "2017-02-13",
          "2016-09-26",
          "2015-02-09",
          "2016-11-08",
          "2015-06-01",
          "2015-10-15",
          "2015-02-23",
          "2016-05-02",
          "2014-08-29",
          "2012-11-26",
          "2014-03-01",
          "2016-10-13",
          "2014-12-12",
          "2017-01-19",
          "2015-12-29",
          "2015-10-29",
          "2014-03-26",
          "2014-03-21",
          "2016-06-14",
          "2014-09-02",
          "2016-10-29",
          "2013-07-09",
          "2017-06-07",
          "2016-11-02",
          "2014-12-18",
          "2013-10-16",
          "2014-08-18",
          "2015-09-29",
          "2017-03-16",
          "2016-05-13",
          "2012-09-10",
          "2014-04-14",
          "2015-10-29",
          "2016-08-23",
          "2014-10-23",
          "2015-08-16",
          "2016-12-02",
          "2015-02-23",
          "2014-07-29",
          "2013-06-16",
          "2013-01-31",
          "2014-08-07",
          "2015-08-13",
          "2015-09-25",
          "2015-05-13",
          "2016-03-01",
          "2015-01-19",
          "2013-10-23",
          "2015-10-02",
          "2014-07-26",
          "2016-09-19",
          "2015-08-04",
          "2016-06-23",
          "2016-08-17",
          "2017-04-06",
          "2016-11-01",
          "2015-07-26",
          "2014-06-24",
          "2016-11-30",
          "2016-03-18",
          "2016-03-03",
          "2016-07-12",
          "2015-01-03",
          "2016-09-12",
          "2015-10-21",
          "2016-10-12",
          "2015-11-27",
          "2013-11-11",
          "2016-03-11",
          "2017-02-12",
          "2016-01-27",
          "2015-07-23",
          "2014-04-09",
          "2011-09-09",
          "2015-02-20",
          "2015-11-13",
          "2017-06-23",
          "2017-03-07",
          "2016-04-04",
          "2014-07-04",
          "2015-01-14",
          "2014-04-29",
          "2016-07-06",
          "2013-12-04",
          "2015-09-24",
          "2016-04-05",
          "2016-02-24",
          "2014-10-02",
          "2013-04-25",
          "2015-09-12",
          "2012-10-17",
          "2017-02-24",
          "2015-07-27",
          "2015-07-15",
          "2016-03-04",
          "2016-04-07",
          "2013-08-12",
          "2015-12-14",
          "2016-08-25",
          "2016-02-19",
          "2013-11-09",
          "2016-03-21",
          "2016-06-28",
          "2016-09-19",
          "2015-04-21",
          "2017-02-07",
          "2017-02-07",
          "2015-01-07",
          "2016-02-02",
          "2016-02-02",
          "2014-06-23",
          "2014-06-23",
          "2014-11-20",
          "2014-06-09",
          "2014-06-09",
          "2015-09-20",
          "2016-11-15",
          "2015-06-09",
          "2013-11-01",
          "2012-07-25",
          "2016-01-25",
          "2015-04-29",
          "2016-02-01",
          "2016-01-14",
          "2014-01-21",
          "2016-11-22",
          "2016-03-03",
          "2014-02-12",
          "2014-07-25",
          "2014-10-24",
          "2014-10-12",
          "2015-11-11",
          "2014-04-27",
          "2015-08-11",
          "2016-09-15",
          "2015-08-21",
          "2013-10-23",
          "2014-03-14",
          "2016-09-26",
          "2015-08-14",
          "2015-04-22",
          "2015-05-26",
          "2014-02-03",
          "2016-05-29",
          "2013-02-25",
          "2015-10-22",
          "2016-12-01",
          "2014-02-10",
          "2017-02-17",
          "2013-08-25",
          "2014-12-29",
          "2014-08-16",
          "2017-01-06",
          "2017-03-21",
          "2015-04-15",
          "2016-10-24",
          "2016-11-01",
          "2015-04-24",
          "2015-11-20",
          "2016-10-24",
          "2015-10-28",
          "2016-01-14",
          "2015-12-21",
          "2014-02-19",
          "2016-08-10",
          "2015-08-25",
          "2015-10-22",
          "2014-10-15",
          "2014-01-10",
          "2017-03-21",
          "2015-03-04",
          "2016-10-10",
          "2015-11-02",
          "2017-05-01",
          "2016-03-11",
          "2015-11-18",
          "2014-05-02",
          "2016-03-24",
          "2016-09-12",
          "2014-09-12",
          "2014-10-16",
          "2014-09-22",
          "2017-03-08",
          "2016-02-04",
          "2015-07-28",
          "2014-07-01",
          "2015-03-06",
          "2016-03-03",
          "2017-01-03",
          "2012-11-21",
          "2014-04-27",
          "2015-01-09",
          "2015-10-04",
          "2014-06-17",
          "2015-09-20",
          "2016-12-09",
          "2014-12-19",
          "2015-10-17",
          "2016-09-09",
          "2017-05-02",
          "2015-12-15",
          "2016-04-23",
          "2016-07-04",
          "2013-07-20",
          "2015-08-12",
          "2016-10-10",
          "2016-04-21",
          "2014-02-20",
          "2014-07-19",
          "2014-08-30",
          "2014-12-12",
          "2015-10-14",
          "2015-01-24",
          "2013-11-23",
          "2015-10-09",
          "2015-11-13",
          "2013-09-30",
          "2015-08-18",
          "2016-10-18",
          "2017-05-15",
          "2013-06-09",
          "2015-11-26",
          "2016-07-21",
          "2014-08-11",
          "2017-01-27",
          "2016-06-08",
          "2016-02-02",
          "2015-05-19",
          "2012-05-15",
          "2017-04-07",
          "2015-03-02",
          "2016-09-26",
          "2015-10-01",
          "2014-01-16",
          "2014-07-17",
          "2015-09-10",
          "2016-12-11",
          "2016-03-29",
          "2012-11-30",
          "2014-03-21",
          "2014-04-21",
          "2015-11-09",
          "2015-11-08",
          "2015-10-22",
          "2015-03-04",
          "2014-04-19",
          "2015-06-08",
          "2016-11-28",
          "2015-05-31",
          "2014-03-04",
          "2015-07-30",
          "2016-03-07",
          "2013-09-20",
          "2017-02-13",
          "2014-08-10",
          "2016-03-08",
          "2015-01-03",
          "2016-01-09",
          "2016-02-10",
          "2017-06-06",
          "2016-08-11",
          "2017-01-19",
          "2014-04-12",
          "2016-10-27",
          "2014-06-02",
          "2015-06-25",
          "2016-02-02",
          "2013-08-11",
          "2013-07-25",
          "2015-08-18",
          "2014-02-15",
          "2017-05-28",
          "2017-06-19",
          "2016-11-12",
          "2017-01-24",
          "2015-07-30",
          "2015-04-08",
          "2011-11-29",
          "2015-06-05",
          "2017-05-02",
          "2017-06-02",
          "2017-02-01",
          "2015-03-20",
          "2017-04-27",
          "2015-06-03",
          "2015-11-09",
          "2016-11-29",
          "2015-03-30",
          "2014-01-21",
          "2016-08-05",
          "2013-11-26",
          "2016-02-11",
          "2014-10-02",
          "2016-01-18",
          "2017-05-24",
          "2016-05-26",
          "2013-07-19",
          "2014-12-19",
          "2015-11-21",
          "2014-06-17",
          "2015-08-04",
          "2016-12-01",
          "2013-06-25",
          "2016-05-23",
          "2015-08-11",
          "2015-10-05",
          "2015-06-03",
          "2015-07-15",
          "2014-04-16",
          "2017-04-14",
          "2015-09-23",
          "2017-06-13",
          "2016-06-20",
          "2015-04-28",
          "2017-02-14",
          "2016-06-21",
          "2013-10-16",
          "2014-12-10",
          "2015-11-03",
          "2016-05-30",
          "2013-06-27",
          "2017-02-14",
          "2016-02-05",
          "2016-01-18",
          "2013-08-26",
          "2015-06-14",
          "2016-04-17",
          "2016-12-19",
          "2014-10-31",
          "2016-11-03",
          "2016-11-22",
          "2014-11-24",
          "2014-12-19",
          "2014-05-18",
          "2015-02-25",
          "2015-07-29",
          "2014-04-11",
          "2015-01-24",
          "2015-10-02",
          "2015-10-06",
          "2016-03-08",
          "2014-09-25",
          "2016-05-04",
          "2014-03-11",
          "2014-06-26",
          "2015-05-26",
          "2016-06-14",
          "2015-06-03",
          "2013-07-21",
          "2016-07-12",
          "2016-08-28",
          "2015-07-20",
          "2013-09-27",
          "2017-04-27",
          "2015-01-31",
          "2015-01-22",
          "2015-11-13",
          "2017-03-12",
          "2017-06-28",
          "2015-04-26",
          "2014-08-05",
          "2016-10-02",
          "2013-02-16",
          "2014-03-27",
          "2017-04-18",
          "2012-12-15",
          "2014-10-22",
          "2015-03-03",
          "2017-06-12",
          "2015-02-09",
          "2014-06-18",
          "2015-02-19",
          "2016-02-17",
          "2015-05-18",
          "2015-03-05",
          "2013-08-03",
          "2017-06-13",
          "2015-01-17",
          "2016-01-25",
          "2014-10-08",
          "2017-02-28",
          "2015-01-26",
          "2015-08-05",
          "2015-09-21",
          "2016-05-17",
          "2016-08-06",
          "2014-11-28",
          "2017-03-27",
          "2016-01-24",
          "2017-01-12",
          "2017-02-10",
          "2015-07-16",
          "2016-10-16",
          "2017-01-17",
          "2016-06-21",
          "2016-12-27",
          "2016-10-27",
          "2015-07-28",
          "2016-09-12",
          "2015-09-08",
          "2016-11-14",
          "2015-07-26",
          "2017-01-18",
          "2015-09-21",
          "2016-08-14",
          "2015-05-28",
          "2016-11-06",
          "2017-02-03",
          "2016-07-01",
          "2015-06-07",
          "2016-08-09",
          "2015-07-17",
          "2015-09-14",
          "2015-09-08",
          "2015-01-20",
          "2016-04-09",
          "2015-01-31",
          "2016-08-27",
          "2014-02-13",
          "2015-07-22",
          "2016-10-03",
          "2014-10-21",
          "2015-11-13",
          "2015-02-06",
          "2014-12-13",
          "2014-12-28",
          "2015-02-10",
          "2017-05-17",
          "2016-05-27",
          "2015-08-09",
          "2015-04-13",
          "2015-12-29",
          "2016-07-05",
          "2017-03-29",
          "2015-08-20",
          "2017-02-13",
          "2015-06-20",
          "2014-10-27",
          "2016-05-31",
          "2015-04-26",
          "2016-01-08",
          "2016-10-22",
          "2016-08-04",
          "2014-09-11",
          "2017-01-17",
          "2016-03-30",
          "2015-02-07",
          "2013-03-22",
          "2016-08-02",
          "2017-03-23",
          "2015-11-02",
          "2015-08-18",
          "2015-12-16",
          "2015-10-30",
          "2017-04-20",
          "2017-03-03",
          "2015-07-30",
          "2013-08-09",
          "2016-05-05",
          "2017-05-27",
          "2015-04-24",
          "2016-07-12",
          "2015-07-16",
          "2016-10-06",
          "2013-06-07",
          "2014-05-07",
          "2014-09-23",
          "2017-01-03",
          "2015-03-05",
          "2014-09-01",
          "2014-09-14",
          "2017-02-28",
          "2015-09-28",
          "2016-12-06",
          "2016-05-17",
          "2015-04-02",
          "2015-09-29",
          "2017-04-14",
          "2015-11-26",
          "2015-08-17",
          "2016-01-05",
          "2015-05-20",
          "2015-08-20",
          "2015-08-06",
          "2015-11-26",
          "2015-12-21",
          "2016-02-16",
          "2017-02-14",
          "2015-07-14",
          "2014-12-05",
          "2016-10-13",
          "2014-08-23",
          "2015-07-28",
          "2016-04-19",
          "2016-03-15",
          "2017-01-20",
          "2016-12-20",
          "2015-12-04",
          "2017-05-04",
          "2016-11-15",
          "2015-02-09",
          "2014-10-20",
          "2016-02-07",
          "2015-10-01",
          "2016-03-17",
          "2015-08-26",
          "2015-09-11",
          "2014-05-17",
          "2016-04-11",
          "2014-09-19",
          "2013-08-12",
          "2014-10-16",
          "2015-08-03",
          "2013-10-20",
          "2015-07-30",
          "2015-11-30",
          "2016-02-29",
          "2014-10-12",
          "2015-03-13",
          "2016-02-25",
          "2016-03-01",
          "2016-10-13",
          "2017-03-28",
          "2014-05-19",
          "2015-10-08",
          "2015-02-21",
          "2013-12-04",
          "2014-05-30",
          "2013-04-04",
          "2017-02-22",
          "2016-08-27",
          "2013-11-13",
          "2016-10-12",
          "2015-03-08",
          "2013-10-01",
          "2016-08-18",
          "2014-10-28",
          "2016-03-16",
          "2016-05-09",
          "2013-09-06",
          "2015-09-16",
          "2016-02-15",
          "2016-02-19",
          "2016-06-09",
          "2016-12-15",
          "2015-01-14",
          "2015-08-03",
          "2016-06-13",
          "2015-04-12",
          "2017-05-07",
          "2016-11-09",
          "2016-07-24",
          "2015-12-03",
          "2017-05-09",
          "2016-05-03",
          "2017-06-27",
          "2013-08-17",
          "2015-12-29",
          "2016-05-26",
          "2015-09-07",
          "2016-12-07",
          "2015-09-09",
          "2014-05-20",
          "2016-03-21",
          "2016-01-29",
          "2017-02-21",
          "2015-04-23",
          "2015-06-12",
          "2017-03-30",
          "2015-06-19",
          "2017-01-03",
          "2017-01-02",
          "2017-06-06",
          "2017-05-01",
          "2015-02-13",
          "2015-08-11",
          "2017-03-09",
          "2016-04-18",
          "2015-05-27",
          "2015-05-28",
          "2015-04-10",
          "2017-02-04",
          "2014-06-16",
          "2015-08-28",
          "2016-05-17",
          "2011-07-09",
          "2015-08-28",
          "2017-04-13",
          "2014-12-06",
          "2017-03-30",
          "2016-04-29",
          "2016-07-26",
          "2016-10-26",
          "2014-08-13",
          "2016-02-03",
          "2016-09-03",
          "2016-01-24",
          "2016-01-25",
          "2017-06-19",
          "2017-06-18",
          "2015-04-12",
          "2017-01-26",
          "2017-04-19",
          "2013-11-19",
          "2016-01-10",
          "2015-02-06",
          "2017-03-30",
          "2016-10-27",
          "2017-05-09",
          "2016-12-06",
          "2015-09-15",
          "2016-09-13",
          "2015-01-15",
          "2016-02-23",
          "2015-12-02",
          "2017-01-27",
          "2015-11-25",
          "2015-09-16",
          "2015-03-04",
          "2016-07-01",
          "2013-11-09",
          "2014-09-19",
          "2015-07-27",
          "2015-04-06",
          "2016-10-06",
          "2014-08-23",
          "2016-04-25",
          "2016-02-14",
          "2015-10-14",
          "2016-02-26",
          "2013-09-29",
          "2015-11-12",
          "2015-04-07",
          "2015-03-15",
          "2014-04-18",
          "2017-02-21",
          "2013-02-25",
          "2014-02-17",
          "2017-05-31",
          "2016-02-15",
          "2017-02-03",
          "2017-01-17",
          "2016-06-27",
          "2015-03-04",
          "2016-11-23",
          "2016-09-15",
          "2015-09-20",
          "2016-05-16",
          "2016-06-20",
          "2016-06-07",
          "2016-05-02",
          "2016-07-13",
          "2014-01-31",
          "2015-10-30",
          "2017-06-22",
          "2016-03-30",
          "2016-09-13",
          "2015-11-22",
          "2017-06-30",
          "2015-08-06",
          "2016-02-03",
          "2015-05-08",
          "2017-02-19",
          "2015-04-16",
          "2016-09-26",
          "2014-07-19",
          "2015-03-19",
          "2016-12-08",
          "2015-05-18",
          "2015-11-10",
          "2016-07-29",
          "2017-02-02",
          "2014-09-18",
          "2017-04-12",
          "2016-03-28",
          "2014-11-28",
          "2015-08-09",
          "2013-10-27",
          "2016-11-24",
          "2016-12-20",
          "2015-05-06",
          "2016-08-12",
          "2017-04-15",
          "2016-04-07",
          "2015-07-17",
          "2017-06-20",
          "2017-01-18",
          "2015-04-10",
          "2015-01-27",
          "2016-12-13",
          "2016-06-20",
          "2016-06-05",
          "2012-02-28",
          "2015-06-19",
          "2017-01-03",
          "2015-06-14",
          "2016-09-25",
          "2015-02-23",
          "2015-01-30",
          "2015-03-09",
          "2015-07-01",
          "2015-09-29",
          "2014-12-22",
          "2016-11-29",
          "2016-10-09",
          "2015-03-24",
          "2017-04-29",
          "2016-01-07",
          "2016-10-05",
          "2016-04-15",
          "2016-05-04",
          "2016-05-05",
          "2016-04-06",
          "2015-01-15",
          "2015-07-09",
          "2016-03-14",
          "2015-01-30",
          "2016-06-13",
          "2015-03-04",
          "2015-05-25",
          "2015-11-11",
          "2014-10-19",
          "2015-11-23",
          "2016-08-10",
          "2015-04-13",
          "2016-04-26",
          "2015-10-14",
          "2017-01-10",
          "2017-01-27",
          "2016-04-26",
          "2016-09-25",
          "2017-05-05",
          "2013-10-16",
          "2014-11-18",
          "2016-10-03",
          "2017-02-07",
          "2015-08-16",
          "2014-08-27",
          "2015-05-22",
          "2017-03-09",
          "2015-11-12",
          "2015-07-01",
          "2017-01-24",
          "2015-07-28",
          "2014-08-23",
          "2016-12-22",
          "2017-01-26",
          "2015-06-19",
          "2016-12-20",
          "2015-07-13",
          "2017-02-16",
          "2016-02-08",
          "2015-09-07",
          "2015-12-15",
          "2015-02-19",
          "2016-02-01",
          "2016-04-02",
          "2014-12-29",
          "2013-05-20",
          "2016-05-25",
          "2015-08-14",
          "2013-09-03",
          "2013-04-22",
          "2015-08-13",
          "2016-10-29",
          "2015-09-17",
          "2015-05-13",
          "2017-03-31",
          "2016-02-02",
          "2014-10-03",
          "2012-07-06",
          "2017-04-27",
          "2015-08-10",
          "2016-12-22",
          "2016-06-19",
          "2016-02-02",
          "2015-11-05",
          "2015-03-26",
          "2015-02-24",
          "2017-06-12",
          "2016-02-19",
          "2016-01-07",
          "2017-02-24",
          "2016-02-13",
          "2016-10-13",
          "2016-02-08",
          "2012-04-04",
          "2015-07-01",
          "2015-08-21",
          "2016-03-29",
          "2016-04-20",
          "2015-11-26",
          "2017-05-16",
          "2015-10-28",
          "2016-09-25",
          "2015-10-08",
          "2015-01-26",
          "2017-01-23",
          "2016-06-30",
          "2015-07-03",
          "2015-10-19",
          "2014-03-29",
          "2017-06-29",
          "2016-06-10",
          "2014-08-28",
          "2016-02-14",
          "2016-10-19",
          "2012-09-04",
          "2017-03-09",
          "2016-10-27",
          "2014-02-12",
          "2016-06-28",
          "2014-10-26",
          "2014-12-17",
          "2013-08-12",
          "2015-01-08",
          "2017-03-08",
          "2016-05-30",
          "2015-05-11",
          "2017-03-30",
          "2014-05-29",
          "2016-03-09",
          "2015-01-31",
          "2014-11-10",
          "2017-03-01",
          "2017-01-31",
          "2016-08-22",
          "2015-12-29",
          "2015-07-07",
          "2015-01-22",
          "2015-11-05",
          "2015-09-23",
          "2017-03-07",
          "2012-05-24",
          "2017-05-30",
          "2016-06-07",
          "2016-11-16",
          "2016-10-13",
          "2016-12-15",
          "2016-06-05",
          "2015-11-25",
          "2016-08-27",
          "2016-08-09",
          "2015-02-17",
          "2016-08-30",
          "2015-03-04",
          "2014-10-20",
          "2017-02-22",
          "2016-12-11",
          "2015-11-29",
          "2013-05-29",
          "2015-03-31",
          "2015-07-08",
          "2016-08-06",
          "2016-09-04",
          "2017-01-10",
          "2013-09-24",
          "2016-03-01",
          "2016-03-31",
          "2017-02-21",
          "2013-05-02",
          "2012-11-26",
          "2016-08-12",
          "2014-09-17",
          "2015-01-22",
          "2015-01-21",
          "2016-11-15",
          "2014-10-08",
          "2012-06-26",
          "2016-12-28",
          "2014-10-25",
          "2013-04-17",
          "2015-09-20",
          "2015-02-06",
          "2014-08-24",
          "2014-12-31",
          "2015-05-05",
          "2016-04-21",
          "2014-12-04",
          "2016-10-05",
          "2015-02-05",
          "2015-07-22",
          "2015-07-20",
          "2016-06-16",
          "2016-05-02",
          "2015-01-06",
          "2017-02-25",
          "2015-04-20",
          "2015-04-02",
          "2014-07-04",
          "2015-06-22",
          "2017-05-09",
          "2016-05-24",
          "2015-07-07",
          "2015-01-04",
          "2016-05-24",
          "2015-08-13",
          "2016-06-20",
          "2014-06-30",
          "2016-06-02",
          "2016-05-01",
          "2014-12-03",
          "2015-09-20",
          "2015-12-27",
          "2015-09-29",
          "2016-11-02",
          "2015-10-09",
          "2015-06-22",
          "2016-02-16",
          "2017-06-05",
          "2015-02-07",
          "2015-09-28",
          "2016-04-13",
          "2017-03-23",
          "2013-03-05",
          "2017-02-03",
          "2016-01-24",
          "2016-02-03",
          "2016-02-09",
          "2016-12-21",
          "2016-03-06",
          "2015-05-25",
          "2015-08-03",
          "2015-07-20",
          "2015-09-20",
          "2017-03-30",
          "2016-03-10",
          "2015-07-13",
          "2015-07-07",
          "2016-12-19",
          "2014-10-06",
          "2016-01-08",
          "2015-11-04",
          "2016-11-07",
          "2016-03-10",
          "2015-07-06",
          "2015-07-27",
          "2015-01-13",
          "2017-01-18",
          "2014-05-07",
          "2015-06-16",
          "2017-06-19",
          "2016-03-18",
          "2016-01-24",
          "2015-04-13",
          "2016-07-13",
          "2014-10-03",
          "2015-10-28",
          "2015-11-13",
          "2017-01-19",
          "2015-04-12",
          "2017-02-25",
          "2014-08-18",
          "2016-02-23",
          "2017-06-27",
          "2015-08-24",
          "2015-11-23",
          "2016-02-18",
          "2015-06-08",
          "2016-01-22",
          "2016-12-12",
          "2016-09-28",
          "2016-01-24",
          "2016-03-17",
          "2017-02-28",
          "2015-02-15",
          "2016-03-22",
          "2017-02-26",
          "2015-04-20",
          "2017-03-08",
          "2015-02-25",
          "2015-10-01",
          "2015-04-26",
          "2017-03-30",
          "2016-01-28",
          "2014-07-05",
          "2014-10-01",
          "2016-09-09",
          "2013-03-15",
          "2016-03-18",
          "2014-07-05",
          "2016-08-25",
          "2015-04-12",
          "2015-02-05",
          "2017-05-09",
          "2015-12-29",
          "2016-10-16",
          "2014-04-21",
          "2017-04-18",
          "2017-03-09",
          "2016-05-02",
          "2015-04-13",
          "2015-08-13",
          "2017-03-08",
          "2017-03-08",
          "2017-03-17",
          "2016-02-18",
          "2017-02-22",
          "2015-04-21",
          "2015-07-16",
          "2014-12-11",
          "2015-04-13",
          "2016-11-01",
          "2016-06-06",
          "2016-06-15",
          "2017-05-31",
          "2016-02-01",
          "2016-03-21",
          "2014-11-25",
          "2017-01-20",
          "2015-12-03",
          "2016-11-15",
          "2016-09-27",
          "2016-01-12",
          "2012-06-02",
          "2015-10-13",
          "2016-09-18",
          "2015-09-15",
          "2015-08-24",
          "2015-12-17",
          "2017-05-02",
          "2015-08-24",
          "2014-12-22",
          "2014-03-07",
          "2017-05-19",
          "2014-09-09",
          "2015-07-24",
          "2017-04-27",
          "2015-07-16",
          "2016-02-25",
          "2015-03-24",
          "2016-01-21",
          "2016-12-05",
          "2015-02-08",
          "2017-04-28",
          "2015-02-05",
          "2016-12-09",
          "2015-03-10",
          "2017-03-21",
          "2016-11-17",
          "2016-07-28",
          "2016-06-15",
          "2014-11-14",
          "2015-12-17",
          "2015-07-20",
          "2016-04-27",
          "2016-03-16",
          "2016-07-12",
          "2013-10-20",
          "2016-03-30",
          "2016-10-28",
          "2013-12-08",
          "2016-12-03",
          "2015-07-12",
          "2016-12-28",
          "2015-06-01",
          "2016-08-23",
          "2014-12-20",
          "2016-10-04",
          "2013-12-12",
          "2016-06-20",
          "2016-08-30",
          "2014-07-17",
          "2017-03-08",
          "2016-11-18",
          "2015-03-05",
          "2017-06-05",
          "2016-09-21",
          "2014-07-17",
          "2015-06-17",
          "2016-03-02",
          "2016-04-27",
          "2015-03-18",
          "2015-06-19",
          "2017-06-21",
          "2017-05-11",
          "2015-01-27",
          "2015-11-17",
          "2012-10-03",
          "2017-03-03",
          "2017-02-07",
          "2016-10-25",
          "2015-02-02",
          "2017-04-05",
          "2015-02-12",
          "2015-11-17",
          "2017-05-18",
          "2014-08-28",
          "2017-01-20",
          "2014-12-17",
          "2015-07-08",
          "2015-10-28",
          "2016-01-08",
          "2015-12-30",
          "2015-06-03",
          "2015-02-24",
          "2016-07-13",
          "2014-10-21",
          "2017-02-24",
          "2012-05-21",
          "2014-11-25",
          "2016-06-30",
          "2017-02-21",
          "2015-07-19",
          "2015-06-23",
          "2016-08-29",
          "2017-05-20",
          "2014-10-05",
          "2015-07-21",
          "2015-05-22",
          "2016-06-02",
          "2014-11-12",
          "2017-01-23",
          "2016-08-30",
          "2017-05-28",
          "2016-09-14",
          "2017-06-06",
          "2015-10-16",
          "2015-11-19",
          "2015-12-08",
          "2014-07-24",
          "2016-01-27",
          "2016-05-05",
          "2016-02-29",
          "2016-10-05",
          "2016-02-18",
          "2015-12-14",
          "2014-10-29",
          "2017-02-23",
          "2016-02-08",
          "2016-05-15",
          "2016-07-04",
          "2016-12-16",
          "2016-01-18",
          "2016-02-04",
          "2014-11-04",
          "2016-09-19",
          "2015-06-23",
          "2016-02-01",
          "2015-07-07",
          "2016-07-13",
          "2016-07-08",
          "2016-03-25",
          "2014-06-23",
          "2016-04-28",
          "2016-05-08",
          "2016-01-27",
          "2016-11-26",
          "2015-09-17",
          "2016-02-03",
          "2017-03-15",
          "2017-01-25",
          "2017-05-09",
          "2015-08-10",
          "2013-03-25",
          "2016-01-01",
          "2015-09-08",
          "2016-04-01",
          "2016-01-17",
          "2015-08-06",
          "2016-05-03",
          "2017-05-17",
          "2016-05-23",
          "2016-09-07",
          "2015-07-01",
          "2015-11-01",
          "2016-06-28",
          "2016-09-13",
          "2012-10-01",
          "2015-11-23",
          "2015-01-13",
          "2016-05-23",
          "2016-06-15",
          "2016-11-15",
          "2016-08-29",
          "2016-03-14",
          "2016-05-13",
          "2017-06-19",
          "2016-04-14",
          "2016-11-07",
          "2014-03-11",
          "2015-10-13",
          "2013-12-13",
          "2016-09-07",
          "2017-06-11",
          "2015-02-13",
          "2017-05-07",
          "2016-02-28",
          "2017-04-18",
          "2017-04-12",
          "2017-02-08",
          "2014-06-27",
          "2015-03-03",
          "2015-05-14",
          "2013-04-17",
          "2016-03-04",
          "2014-06-13",
          "2015-09-07",
          "2017-05-02",
          "2015-02-21",
          "2015-02-17",
          "2015-04-20",
          "2015-10-14",
          "2013-10-09",
          "2016-09-28",
          "2016-10-10",
          "2016-08-31",
          "2015-06-02",
          "2014-09-16",
          "2016-02-02",
          "2015-04-12",
          "2014-10-21",
          "2015-11-04",
          "2015-12-07",
          "2014-09-22",
          "2015-05-15",
          "2015-07-26",
          "2016-08-23",
          "2015-09-24",
          "2013-12-19",
          "2016-07-14",
          "2017-06-23",
          "2015-04-20",
          "2016-10-29",
          "2015-05-21",
          "2016-02-21",
          "2017-02-06",
          "2017-03-13",
          "2016-06-03",
          "2015-03-02",
          "2016-05-03",
          "2014-07-30",
          "2014-04-24",
          "2016-11-20",
          "2015-11-12",
          "2015-05-26",
          "2016-10-12",
          "2016-07-07",
          "2017-05-30",
          "2016-08-08",
          "2017-02-18",
          "2013-07-28",
          "2017-05-15",
          "2015-11-03",
          "2015-02-17",
          "2014-06-06",
          "2016-08-22",
          "2017-03-23",
          "2015-06-21",
          "2015-08-04",
          "2015-09-14",
          "2015-09-23",
          "2016-11-25",
          "2013-10-15",
          "2016-01-05",
          "2016-10-03",
          "2014-09-09",
          "2015-06-22",
          "2016-12-27",
          "2016-12-28",
          "2015-11-29",
          "2015-07-01",
          "2017-03-08",
          "2016-03-21",
          "2015-04-30",
          "2015-01-26",
          "2017-04-24",
          "2017-06-26",
          "2016-01-04",
          "2015-10-20",
          "2017-02-08",
          "2016-03-31",
          "2016-08-04",
          "2015-03-24",
          "2015-08-18",
          "2012-06-18",
          "2016-10-17",
          "2016-07-06",
          "2015-11-09",
          "2017-04-01",
          "2015-01-08",
          "2016-10-24",
          "2013-06-06",
          "2015-06-16",
          "2015-11-06",
          "2015-10-29",
          "2014-12-09",
          "2016-07-25",
          "2015-01-23",
          "2015-11-03",
          "2015-03-10",
          "2016-04-06",
          "2017-03-09",
          "2016-08-08",
          "2015-10-22",
          "2016-01-19",
          "2016-05-09",
          "2015-10-06",
          "2016-09-12",
          "2014-12-28",
          "2016-06-19",
          "2015-11-10",
          "2016-09-04",
          "2016-04-28",
          "2014-11-05",
          "2015-03-22",
          "2017-06-27",
          "2015-05-14",
          "2016-04-15",
          "2016-12-21",
          "2015-09-07",
          "2016-12-15",
          "2017-01-18",
          "2015-06-12",
          "2014-11-13",
          "2015-06-01",
          "2016-09-12",
          "2017-01-19",
          "2015-10-19",
          "2014-12-18",
          "2015-09-29",
          "2015-09-29",
          "2016-01-06",
          "2015-09-12",
          "2016-06-22",
          "2016-10-18",
          "2016-01-14",
          "2015-11-18",
          "2017-01-16",
          "2016-03-06",
          "2017-04-24",
          "2015-08-06",
          "2016-02-22",
          "2014-02-06",
          "2016-10-04",
          "2017-01-25",
          "2017-02-01",
          "2017-02-23",
          "2015-07-14",
          "2017-03-30",
          "2016-11-01",
          "2017-04-24",
          "2015-01-04",
          "2014-08-29",
          "2016-10-12",
          "2017-05-03",
          "2017-05-05",
          "2017-03-14",
          "2015-07-19",
          "2017-01-18",
          "2015-11-11",
          "2013-03-02",
          "2017-05-14",
          "2016-01-18",
          "2015-10-16",
          "2014-01-05",
          "2014-12-06",
          "2016-07-28",
          "2017-02-05",
          "2015-03-29",
          "2016-10-11",
          "2016-03-11",
          "2015-07-22",
          "2016-08-09",
          "2015-03-22",
          "2015-04-13",
          "2016-08-24",
          "2015-09-21",
          "2015-11-18",
          "2016-01-11",
          "2015-08-07",
          "2016-01-15",
          "2015-05-22",
          "2017-01-10",
          "2015-06-01",
          "2015-03-13",
          "2015-11-11",
          "2015-04-19",
          "2016-08-31",
          "2015-08-18",
          "2015-06-19",
          "2016-01-13",
          "2017-04-11",
          "2016-08-11",
          "2015-01-29",
          "2013-10-13",
          "2016-05-17",
          "2014-12-31",
          "2013-08-28",
          "2016-03-10",
          "2014-11-18",
          "2015-10-13",
          "2015-10-26",
          "2013-11-28",
          "2016-01-29",
          "2016-05-01",
          "2016-12-28",
          "2014-05-09",
          "2015-10-21",
          "2016-11-03",
          "2015-07-02",
          "2015-07-08",
          "2017-04-05",
          "2016-12-13",
          "2015-04-06",
          "2015-10-12",
          "2015-05-27",
          "2016-09-12",
          "2014-12-22",
          "2014-01-09",
          "2015-09-22",
          "2017-05-01",
          "2017-01-16",
          "2016-04-28",
          "2015-11-10",
          "2013-11-21",
          "2015-05-15",
          "2015-07-14",
          "2015-05-07",
          "2014-10-01",
          "2015-01-27",
          "2014-12-11",
          "2017-06-29",
          "2016-11-14",
          "2013-03-01",
          "2014-01-28",
          "2015-12-06",
          "2016-09-10",
          "2016-01-15",
          "2017-05-23",
          "2016-09-19",
          "2016-02-04",
          "2015-06-05",
          "2016-01-06",
          "2013-06-10",
          "2015-07-07",
          "2015-01-23",
          "2016-11-08",
          "2015-12-12",
          "2016-10-25",
          "2015-07-10",
          "2016-09-28",
          "2015-04-20",
          "2016-03-23",
          "2017-03-07",
          "2015-10-07",
          "2015-06-05",
          "2016-08-26",
          "2015-06-11",
          "2016-06-15",
          "2013-05-29",
          "2016-10-07",
          "2014-03-03",
          "2017-03-13",
          "2017-01-24",
          "2016-03-29",
          "2016-08-19",
          "2015-04-05",
          "2016-10-30",
          "2015-10-12",
          "2016-04-29",
          "2015-03-23",
          "2017-05-11",
          "2016-10-04",
          "2013-02-18",
          "2016-01-01",
          "2016-09-18",
          "2017-05-24",
          "2015-01-12",
          "2017-05-02",
          "2015-06-16",
          "2014-06-05",
          "2014-02-21",
          "2015-02-19",
          "2016-04-01",
          "2016-03-03",
          "2016-02-21",
          "2015-11-13",
          "2016-05-11",
          "2016-02-02",
          "2014-11-28",
          "2015-07-28",
          "2014-03-12",
          "2017-06-29",
          "2013-01-15",
          "2016-12-23",
          "2015-12-29",
          "2015-09-10",
          "2015-08-20",
          "2015-09-05",
          "2014-04-09",
          "2015-01-25",
          "2014-01-24",
          "2017-05-28",
          "2014-12-10",
          "2015-10-25",
          "2015-10-21",
          "2017-05-30",
          "2016-01-28",
          "2013-12-10",
          "2016-09-21",
          "2017-01-26",
          "2016-01-10",
          "2015-10-14",
          "2015-05-25",
          "2017-05-01",
          "2016-12-07",
          "2016-04-06",
          "2016-09-06",
          "2015-02-12",
          "2015-05-01",
          "2015-05-28",
          "2016-02-23",
          "2016-11-29",
          "2015-11-24",
          "2014-12-03",
          "2015-07-08",
          "2015-07-20",
          "2015-05-06",
          "2016-07-29",
          "2016-11-10",
          "2012-10-24",
          "2017-02-23",
          "2016-04-07",
          "2016-01-28",
          "2016-05-23",
          "2016-11-24",
          "2017-03-02",
          "2017-05-08",
          "2017-04-27",
          "2017-01-23",
          "2016-05-23",
          "2016-02-10",
          "2017-06-08",
          "2013-09-03",
          "2014-04-07",
          "2016-05-26",
          "2017-04-11",
          "2017-02-03",
          "2017-04-02",
          "2017-02-06",
          "2016-05-03",
          "2015-02-11",
          "2016-01-29",
          "2014-12-24",
          "2016-01-27",
          "2015-11-13",
          "2015-10-14",
          "2014-11-08",
          "2013-06-07",
          "2017-02-09",
          "2015-10-29",
          "2016-07-28",
          "2016-04-23",
          "2016-03-30",
          "2016-07-05",
          "2016-12-20",
          "2015-06-19",
          "2016-01-13",
          "2016-11-07",
          "2015-09-15",
          "2015-04-27",
          "2017-03-23",
          "2016-11-22",
          "2016-02-05",
          "2016-12-19",
          "2016-08-29",
          "2013-07-17",
          "2017-02-03",
          "2015-01-29",
          "2017-02-10",
          "2016-11-29",
          "2015-10-12",
          "2015-02-26",
          "2015-08-21",
          "2015-05-26",
          "2016-08-19",
          "2015-11-11",
          "2017-05-22",
          "2016-11-04",
          "2014-01-13",
          "2016-03-29",
          "2016-07-25",
          "2016-12-14",
          "2015-02-07",
          "2015-07-20",
          "2014-12-15",
          "2015-07-31",
          "2016-09-26",
          "2015-03-02",
          "2015-11-22",
          "2016-04-21",
          "2016-08-29",
          "2017-01-11",
          "2015-10-09",
          "2017-02-09",
          "2014-07-11",
          "2014-06-10",
          "2017-03-10",
          "2017-05-17",
          "2016-03-11",
          "2016-07-23",
          "2016-01-27",
          "2015-11-06",
          "2017-01-26",
          "2014-04-24",
          "2016-04-15",
          "2016-02-21",
          "2013-05-19",
          "2017-04-24",
          "2015-12-17",
          "2016-11-23",
          "2017-06-11",
          "2017-05-29",
          "2016-06-14",
          "2016-05-06",
          "2015-12-29",
          "2016-02-21",
          "2016-10-07",
          "2017-01-11",
          "2017-02-22",
          "2016-04-18",
          "2014-10-01",
          "2017-06-08",
          "2017-05-12",
          "2017-03-03",
          "2017-06-01",
          "2015-11-30",
          "2016-09-26",
          "2016-05-04",
          "2016-03-17",
          "2016-07-18",
          "2015-06-12",
          "2017-06-27",
          "2016-04-04",
          "2016-10-21",
          "2016-03-22",
          "2017-02-08",
          "2015-07-01",
          "2016-08-02",
          "2015-07-07",
          "2015-10-26",
          "2016-10-30",
          "2016-12-15",
          "2013-02-15",
          "2016-03-17",
          "2016-03-29",
          "2014-03-27",
          "2017-05-19",
          "2017-05-02",
          "2016-05-12",
          "2016-04-12",
          "2016-01-27",
          "2017-06-22",
          "2016-09-03",
          "2015-11-09",
          "2016-08-19",
          "2016-09-01",
          "2016-09-19",
          "2015-07-10",
          "2016-02-26",
          "2017-06-27",
          "2016-11-07",
          "2017-01-19",
          "2015-07-29",
          "2017-04-24",
          "2016-08-17",
          "2015-02-23",
          "2016-03-02",
          "2016-01-29",
          "2015-11-03",
          "2014-07-14",
          "2016-12-08",
          "2015-09-30",
          "2015-08-09",
          "2016-02-01",
          "2016-06-21",
          "2016-11-14",
          "2016-03-20",
          "2015-01-20",
          "2017-06-04",
          "2013-02-27",
          "2016-03-20",
          "2014-03-21",
          "2017-06-28",
          "2016-04-08",
          "2016-02-26",
          "2017-01-12",
          "2016-07-11",
          "2015-01-20",
          "2015-08-27",
          "2015-08-07",
          "2017-03-22",
          "2014-12-10",
          "2015-02-13",
          "2017-03-27",
          "2016-09-13",
          "2015-09-14",
          "2016-11-22",
          "2017-06-20",
          "2016-09-02",
          "2017-02-18",
          "2014-06-25",
          "2016-02-05",
          "2017-03-06",
          "2017-02-21",
          "2017-02-10",
          "2016-07-18",
          "2016-09-27",
          "2016-09-12",
          "2017-04-11",
          "2015-02-02",
          "2015-09-01",
          "2017-05-02",
          "2012-06-14",
          "2017-06-29",
          "2014-03-08",
          "2016-09-26",
          "2016-01-12",
          "2015-02-20",
          "2015-11-11",
          "2016-02-22",
          "2014-12-11",
          "2017-04-13",
          "2016-05-18",
          "2016-10-18",
          "2015-07-14",
          "2017-01-11",
          "2015-07-16",
          "2015-06-05",
          "2017-06-23",
          "2016-09-26",
          "2014-09-28",
          "2016-08-12",
          "2014-09-27",
          "2017-06-15",
          "2017-01-13",
          "2016-05-24",
          "2017-02-20",
          "2014-07-12",
          "2014-11-06",
          "2016-10-17",
          "2015-02-02",
          "2015-09-13",
          "2016-06-27",
          "2015-01-07",
          "2016-03-10",
          "2016-09-27",
          "2016-09-27",
          "2015-01-01",
          "2015-06-12",
          "2015-06-11",
          "2014-12-27",
          "2015-06-16",
          "2016-04-24",
          "2015-03-17",
          "2015-08-31",
          "2015-12-15",
          "2016-09-19",
          "2013-09-24",
          "2016-05-04",
          "2016-04-25",
          "2017-03-31",
          "2017-06-08",
          "2016-11-06",
          "2016-03-08",
          "2016-04-20",
          "2016-04-12",
          "2017-02-21",
          "2015-07-12",
          "2015-03-19",
          "2016-10-11",
          "2015-12-01",
          "2016-07-29",
          "2016-06-06",
          "2015-03-16",
          "2016-10-03",
          "2015-07-22",
          "2015-11-10",
          "2016-11-03",
          "2016-12-07",
          "2014-04-14",
          "2013-09-15",
          "2015-04-27",
          "2015-07-14",
          "2017-04-24",
          "2017-04-18",
          "2016-08-22",
          "2015-12-11",
          "2015-10-14",
          "2017-05-28",
          "2016-03-02",
          "2013-11-18",
          "2015-10-09",
          "2015-01-09",
          "2015-10-05",
          "2016-03-16",
          "2015-08-27",
          "2016-08-25",
          "2016-10-30",
          "2017-06-06",
          "2015-06-14",
          "2014-10-08",
          "2016-11-22",
          "2016-11-25",
          "2015-03-22",
          "2016-05-11",
          "2017-05-22",
          "2016-05-30",
          "2016-04-06",
          "2016-08-10",
          "2016-05-31",
          "2013-12-24",
          "2016-09-13",
          "2016-07-25",
          "2017-03-02",
          "2016-02-08",
          "2014-01-19",
          "2014-03-03",
          "2013-11-01",
          "2014-12-14",
          "2016-09-15",
          "2017-04-18",
          "2016-07-28",
          "2017-06-09",
          "2016-10-28",
          "2015-02-26",
          "2013-03-08",
          "2017-04-04",
          "2015-08-05",
          "2016-06-03",
          "2016-04-02",
          "2013-03-12",
          "2015-04-08",
          "2015-11-08",
          "2014-01-28",
          "2016-09-27",
          "2016-05-06",
          "2015-11-02",
          "2016-03-14",
          "2014-08-21",
          "2016-07-22",
          "2016-09-29",
          "2016-01-25",
          "2016-09-27",
          "2015-05-14",
          "2016-05-05",
          "2015-11-10",
          "2015-11-10",
          "2015-11-17",
          "2017-06-06",
          "2016-01-03",
          "2016-12-02",
          "2016-08-19",
          "2014-12-23",
          "2014-03-11",
          "2012-10-13",
          "2013-03-03",
          "2014-04-01",
          "2016-03-20",
          "2015-09-17",
          "2016-12-06",
          "2017-06-20",
          "2015-04-24",
          "2013-03-08",
          "2017-04-26",
          "2015-03-31",
          "2015-11-11",
          "2015-08-16",
          "2016-03-28",
          "2014-10-28",
          "2016-06-29",
          "2017-05-18",
          "2015-01-31",
          "2016-09-14",
          "2014-11-21",
          "2016-11-10",
          "2015-11-06",
          "2014-12-09",
          "2016-09-19",
          "2016-08-08",
          "2017-04-17",
          "2014-09-02",
          "2014-12-08",
          "2015-07-10",
          "2014-10-29",
          "2016-03-08",
          "2016-05-04",
          "2016-11-03",
          "2015-06-19",
          "2014-06-23",
          "2015-09-04",
          "2014-03-11",
          "2016-03-25",
          "2014-05-08",
          "2016-08-22",
          "2016-01-25",
          "2016-05-16",
          "2015-03-06",
          "2016-05-30",
          "2017-05-28",
          "2016-12-18",
          "2017-02-03",
          "2016-02-04",
          "2013-07-11",
          "2015-06-08",
          "2017-02-07",
          "2016-04-28",
          "2015-03-12",
          "2015-04-16",
          "2017-06-24",
          "2016-05-09",
          "2016-02-07",
          "2017-05-02",
          "2016-07-18",
          "2016-03-02",
          "2017-06-02",
          "2016-05-30",
          "2017-04-28",
          "2017-04-25",
          "2016-06-26",
          "2017-01-17",
          "2014-11-08",
          "2017-01-16",
          "2015-11-06",
          "2016-08-08",
          "2013-02-07",
          "2017-05-01",
          "2013-05-11",
          "2015-09-13",
          "2015-09-02",
          "2015-06-17",
          "2016-01-14",
          "2015-07-27",
          "2016-03-22",
          "2016-11-08",
          "2015-10-15",
          "2015-10-04",
          "2015-04-08",
          "2015-04-17",
          "2015-12-01",
          "2016-09-01",
          "2015-12-10",
          "2015-09-23",
          "2015-10-17",
          "2017-03-27",
          "2013-02-19",
          "2013-10-18",
          "2014-12-06",
          "2015-10-29",
          "2015-08-16",
          "2016-05-23",
          "2015-08-18",
          "2016-10-17",
          "2014-02-25",
          "2016-06-06",
          "2017-06-07",
          "2013-02-24",
          "2016-01-12",
          "2014-11-21",
          "2013-03-05",
          "2015-07-28",
          "2016-10-10",
          "2016-05-20",
          "2015-05-20",
          "2017-04-11",
          "2016-12-28",
          "2016-07-11",
          "2016-11-27",
          "2015-09-02",
          "2014-11-07",
          "2017-05-01",
          "2015-02-09",
          "2014-11-26",
          "2015-08-11",
          "2014-02-10",
          "2016-04-19",
          "2017-01-02",
          "2015-11-11",
          "2015-03-23",
          "2017-02-13",
          "2016-05-16",
          "2017-01-23",
          "2014-12-18",
          "2017-01-27",
          "2017-01-11",
          "2016-11-17",
          "2014-05-19",
          "2016-05-11",
          "2016-03-31",
          "2014-07-09",
          "2014-02-11",
          "2017-03-21",
          "2016-11-17",
          "2016-08-29",
          "2016-12-22",
          "2014-05-01",
          "2016-08-11",
          "2014-06-28",
          "2016-03-18",
          "2017-01-04",
          "2015-03-31",
          "2014-01-27",
          "2015-11-29",
          "2015-01-10",
          "2016-07-13",
          "2015-09-27",
          "2016-12-28",
          "2016-12-14",
          "2015-08-31",
          "2016-04-12",
          "2016-01-14",
          "2016-10-17",
          "2014-08-25",
          "2016-03-20",
          "2014-03-12",
          "2015-07-24",
          "2016-06-21",
          "2017-04-15",
          "2015-11-12",
          "2013-03-02",
          "2017-04-27",
          "2015-11-13",
          "2016-08-23",
          "2015-02-17",
          "2017-05-04",
          "2015-01-27",
          "2014-11-15",
          "2016-08-11",
          "2017-04-04",
          "2016-02-24",
          "2014-11-30",
          "2015-05-01",
          "2015-06-08",
          "2014-06-30",
          "2015-11-01",
          "2015-12-30",
          "2016-10-06",
          "2014-11-03",
          "2014-11-04",
          "2016-11-28",
          "2015-08-13",
          "2015-06-24",
          "2014-09-19",
          "2015-04-28",
          "2016-03-08",
          "2014-11-19",
          "2016-09-02",
          "2015-03-26",
          "2016-05-17",
          "2016-12-03",
          "2017-03-23",
          "2015-04-26",
          "2016-12-31",
          "2017-05-27",
          "2015-01-01",
          "2014-12-29",
          "2015-11-09",
          "2015-04-26",
          "2014-12-19",
          "2015-08-01",
          "2014-03-11",
          "2015-12-10",
          "2015-05-04",
          "2016-08-10",
          "2016-03-07",
          "2017-03-30",
          "2015-10-26",
          "2017-05-01",
          "2016-08-08",
          "2017-02-18",
          "2015-09-23",
          "2015-03-19",
          "2014-03-11",
          "2017-03-14",
          "2015-11-06",
          "2017-04-26",
          "2015-04-08",
          "2015-01-05",
          "2014-12-27",
          "2015-08-12",
          "2016-09-15",
          "2017-05-01",
          "2015-02-06",
          "2016-01-10",
          "2016-11-01",
          "2016-02-21",
          "2015-03-05",
          "2015-09-28",
          "2016-11-23",
          "2017-04-20",
          "2016-09-12",
          "2015-09-03",
          "2014-05-17",
          "2017-05-02",
          "2015-07-16",
          "2015-02-25",
          "2015-12-09",
          "2014-10-29",
          "2013-02-17",
          "2015-06-12",
          "2017-05-03",
          "2015-07-22",
          "2013-02-24",
          "2015-01-09",
          "2017-03-14",
          "2016-08-29",
          "2017-05-14",
          "2014-11-25",
          "2016-03-04",
          "2016-04-14",
          "2016-07-25",
          "2016-08-05",
          "2016-11-24",
          "2016-06-13",
          "2016-07-28",
          "2015-12-30",
          "2015-05-18",
          "2016-06-15",
          "2016-11-10",
          "2014-04-29",
          "2016-02-12",
          "2016-04-26",
          "2015-11-19",
          "2016-06-07",
          "2016-01-04",
          "2016-11-21",
          "2016-11-12",
          "2017-04-04",
          "2017-02-19",
          "2017-02-19",
          "2016-05-27",
          "2014-03-11",
          "2015-01-16",
          "2016-09-20",
          "2015-10-16",
          "2016-06-08",
          "2015-03-05",
          "2017-05-08",
          "2016-07-21",
          "2015-07-23",
          "2014-11-19",
          "2016-07-21",
          "2017-03-03",
          "2016-12-01",
          "2015-11-23",
          "2014-11-11",
          "2013-10-10",
          "2016-08-22",
          "2016-04-12",
          "2017-02-23",
          "2017-04-28",
          "2016-04-05",
          "2016-08-10",
          "2013-12-13",
          "2014-03-04",
          "2016-04-11",
          "2016-08-02",
          "2015-03-04",
          "2013-07-23",
          "2016-08-19",
          "2015-11-23",
          "2014-03-12",
          "2015-08-27",
          "2016-04-07",
          "2017-02-19",
          "2015-11-05",
          "2016-12-20",
          "2016-02-08",
          "2014-03-13",
          "2017-02-06",
          "2015-09-15",
          "2016-12-19",
          "2016-02-22",
          "2015-07-23",
          "2017-04-04",
          "2017-06-13",
          "2016-11-05",
          "2013-08-05",
          "2017-04-25",
          "2013-05-13",
          "2015-11-10",
          "2013-06-10",
          "2017-06-15",
          "2016-09-12",
          "2015-08-27",
          "2015-11-11",
          "2016-10-10",
          "2015-04-20",
          "2015-08-31",
          "2017-02-23",
          "2015-04-15",
          "2017-06-26",
          "2016-06-10",
          "2016-08-18",
          "2014-01-30",
          "2017-02-12",
          "2014-03-17",
          "2014-03-13",
          "2017-07-02",
          "2017-03-12",
          "2015-09-12",
          "2015-11-03",
          "2014-04-23",
          "2012-04-23",
          "2016-09-06",
          "2017-04-25",
          "2017-06-21",
          "2013-10-09",
          "2016-01-24",
          "2014-08-13",
          "2012-06-01",
          "2017-01-09",
          "2016-11-12",
          "2017-01-05",
          "2016-07-04",
          "2015-12-18",
          "2015-11-16",
          "2015-11-18",
          "2017-05-03",
          "2015-11-11",
          "2016-05-03",
          "2016-01-04",
          "2016-03-18",
          "2015-12-29",
          "2014-06-23",
          "2015-06-25",
          "2015-10-25",
          "2016-12-01",
          "2016-02-03",
          "2017-05-29",
          "2013-08-21",
          "2015-01-30",
          "2017-06-21",
          "2015-11-20",
          "2017-07-06",
          "2014-11-24",
          "2015-07-16",
          "2013-06-07",
          "2015-10-25",
          "2016-06-17",
          "2016-01-10",
          "2017-03-08",
          "2017-05-30",
          "2016-10-25",
          "2012-12-24",
          "2015-12-16",
          "2015-11-27",
          "2016-05-13",
          "2016-07-07",
          "2017-05-01",
          "2015-07-14",
          "2014-05-28",
          "2013-07-06",
          "2015-11-16",
          "2016-10-26",
          "2017-05-02",
          "2015-03-27",
          "2017-02-22",
          "2017-07-03",
          "2016-09-12",
          "2015-11-18",
          "2017-02-23",
          "2016-03-04",
          "2017-03-01",
          "2014-11-01",
          "2016-07-21",
          "2013-08-05",
          "2016-10-24",
          "2016-11-17",
          "2015-08-07",
          "2016-01-22",
          "2015-08-11",
          "2016-04-21",
          "2014-12-19",
          "2016-06-27",
          "2015-07-05",
          "2016-11-28",
          "2014-12-18",
          "2016-07-01",
          "2016-03-08",
          "2014-02-11",
          "2017-05-01",
          "2017-03-10",
          "2014-11-28",
          "2015-06-05",
          "2016-02-26",
          "2015-04-16",
          "2016-03-10",
          "2015-01-29",
          "2016-07-10",
          "2017-02-09",
          "2016-08-11",
          "2015-09-04",
          "2016-07-14",
          "2015-11-12",
          "2015-12-06",
          "2016-02-11",
          "2013-10-07",
          "2014-01-17",
          "2016-04-25",
          "2015-02-12",
          "2017-04-28",
          "2017-02-23",
          "2016-04-11",
          "2015-08-17",
          "2016-11-15",
          "2014-03-22",
          "2014-03-24",
          "2015-10-28",
          "2016-01-06",
          "2016-10-25",
          "2014-10-29",
          "2016-01-25",
          "2016-01-27",
          "2014-11-11",
          "2015-10-26",
          "2016-05-30",
          "2015-01-27",
          "2016-04-01",
          "2016-02-10",
          "2015-11-10",
          "2017-04-25",
          "2014-05-12",
          "2015-10-15",
          "2016-08-30",
          "2014-04-04",
          "2014-12-17",
          "2015-10-26",
          "2014-01-16",
          "2015-08-30",
          "2016-03-15",
          "2016-12-22",
          "2017-02-20",
          "2017-07-03",
          "2014-12-17",
          "2015-08-14",
          "2016-10-22",
          "2015-01-02",
          "2013-02-18",
          "2013-07-19",
          "2016-04-27",
          "2015-10-08",
          "2017-01-09",
          "2016-04-10",
          "2014-05-07",
          "2014-11-06",
          "2013-12-26",
          "2016-11-11",
          "2015-09-23",
          "2016-02-14",
          "2014-01-16",
          "2017-01-27",
          "2016-03-06",
          "2016-10-12",
          "2015-11-12",
          "2015-05-12",
          "2016-12-12",
          "2017-05-23",
          "2017-03-10",
          "2016-02-19",
          "2016-08-17",
          "2016-11-30",
          "2013-09-05",
          "2015-06-02",
          "2016-06-14",
          "2016-06-20",
          "2015-03-09",
          "2015-08-21",
          "2016-03-03",
          "2015-11-02",
          "2015-08-11",
          "2016-10-28",
          "2013-11-26",
          "2017-06-29",
          "2014-04-30",
          "2015-06-16",
          "2015-11-09",
          "2016-12-09",
          "2016-02-16",
          "2016-03-14",
          "2014-04-25",
          "2014-02-19",
          "2015-03-03",
          "2016-03-14",
          "2016-07-18",
          "2013-10-08",
          "2015-04-17",
          "2014-01-31",
          "2016-10-12",
          "2016-05-18",
          "2015-01-01",
          "2014-09-20",
          "2015-03-04",
          "2017-05-01",
          "2014-04-16",
          "2017-05-26",
          "2017-07-03",
          "2014-06-30",
          "2014-05-13",
          "2017-05-22",
          "2015-07-14",
          "2016-05-11",
          "2016-10-03",
          "2015-05-26",
          "2013-08-05",
          "2015-09-23",
          "2016-12-05",
          "2015-04-15",
          "2014-09-03",
          "2014-03-19",
          "2016-03-30",
          "2016-04-25",
          "2016-12-22",
          "2017-05-02",
          "2016-12-14",
          "2017-01-03",
          "2016-02-17",
          "2015-11-11",
          "2017-01-01",
          "2013-05-13",
          "2013-12-31",
          "2017-05-28",
          "2017-02-06",
          "2014-12-24",
          "2015-01-08",
          "2016-11-01",
          "2016-09-19",
          "2014-03-18",
          "2016-05-27",
          "2016-08-18",
          "2015-03-19",
          "2015-10-26",
          "2016-01-18",
          "2014-06-02",
          "2015-10-08",
          "2015-12-30",
          "2013-03-06",
          "2017-02-09",
          "2014-09-22",
          "2014-10-10",
          "2016-07-13",
          "2014-03-07",
          "2016-06-10",
          "2016-09-22",
          "2016-04-29",
          "2014-01-27",
          "2016-05-18",
          "2015-09-15",
          "2016-03-12",
          "2017-03-13",
          "2015-09-07",
          "2015-04-15",
          "2016-11-20",
          "2014-02-11",
          "2016-10-29",
          "2014-06-21",
          "2015-10-02",
          "2017-04-18",
          "2016-11-11",
          "2014-07-24",
          "2016-02-12",
          "2016-02-13",
          "2016-12-22",
          "2017-03-28",
          "2015-04-15",
          "2015-01-22",
          "2016-10-18",
          "2016-01-28",
          "2015-12-10",
          "2016-08-18",
          "2014-12-17",
          "2014-03-12",
          "2015-12-22",
          "2017-03-06",
          "2017-06-09",
          "2016-01-10",
          "2015-08-07",
          "2014-02-27",
          "2014-12-19",
          "2017-03-07",
          "2016-12-14",
          "2016-09-30",
          "2016-02-05",
          "2016-12-01",
          "2015-11-05",
          "2017-05-24",
          "2016-10-25",
          "2014-03-26",
          "2015-04-15",
          "2017-03-31",
          "2015-09-21",
          "2014-06-25",
          "2014-11-20",
          "2016-04-26",
          "2016-02-13",
          "2016-07-15",
          "2016-08-06",
          "2015-04-15",
          "2015-08-13",
          "2016-06-07",
          "2015-04-15",
          "2016-05-02",
          "2016-04-13",
          "2014-12-30",
          "2017-05-24",
          "2014-03-11",
          "2017-01-13",
          "2014-02-24",
          "2013-10-21",
          "2013-01-09",
          "2014-11-05",
          "2017-01-23",
          "2014-10-24",
          "2014-06-11",
          "2016-06-10",
          "2015-04-24",
          "2017-04-28",
          "2016-08-09",
          "2013-08-21",
          "2015-04-15",
          "2016-07-20",
          "2016-09-25",
          "2014-03-02",
          "2016-02-17",
          "2014-07-28",
          "2014-01-14",
          "2015-09-22",
          "2016-04-28",
          "2017-05-26",
          "2016-12-19",
          "2016-02-17",
          "2013-08-05",
          "2016-08-16",
          "2015-11-12",
          "2015-09-10",
          "2017-02-13",
          "2016-05-16",
          "2013-08-05",
          "2016-03-03",
          "2015-04-08",
          "2015-02-26",
          "2017-02-07",
          "2016-10-09",
          "2016-02-29",
          "2014-10-16",
          "2017-01-20",
          "2016-07-22",
          "2015-03-08",
          "2015-01-01",
          "2013-11-15",
          "2014-03-17",
          "2013-08-12",
          "2014-01-30",
          "2016-03-08",
          "2015-12-18",
          "2013-10-03",
          "2015-10-30",
          "2017-04-05",
          "2014-06-30",
          "2016-07-07",
          "2015-06-26",
          "2013-01-24",
          "2013-08-12",
          "2016-06-09",
          "2013-05-29",
          "2016-06-13",
          "2016-11-10",
          "2015-03-29",
          "2015-12-07",
          "2014-11-18",
          "2016-05-16",
          "2016-04-01",
          "2016-03-24",
          "2014-06-08",
          "2015-06-07",
          "2014-11-08",
          "2016-02-17",
          "2016-03-15",
          "2016-12-29",
          "2015-04-06",
          "2015-11-23",
          "2014-09-15",
          "2015-11-03",
          "2015-09-07",
          "2013-07-30",
          "2016-12-29",
          "2016-03-18",
          "2016-11-27",
          "2017-05-04",
          "2014-02-05",
          "2013-08-12",
          "2016-10-18",
          "2017-03-29",
          "2014-12-17",
          "2013-05-24",
          "2015-03-02",
          "2016-02-16",
          "2015-09-22",
          "2017-02-16",
          "2015-10-18",
          "2015-11-14",
          "2015-11-12",
          "2014-11-18",
          "2015-05-25",
          "2015-11-06",
          "2015-04-16",
          "2017-04-24",
          "2016-07-26",
          "2015-07-21",
          "2017-06-15",
          "2015-10-12",
          "2016-04-08",
          "2012-01-26",
          "2013-10-02",
          "2015-02-26",
          "2015-03-23",
          "2017-02-18",
          "2015-10-02",
          "2013-06-19",
          "2014-03-06",
          "2016-11-21",
          "2016-02-14",
          "2016-11-03",
          "2013-07-23",
          "2014-08-28",
          "2015-08-10",
          "2014-03-25",
          "2015-06-26",
          "2017-02-06",
          "2014-03-16",
          "2014-10-01",
          "2015-04-27",
          "2016-10-18",
          "2016-07-07",
          "2017-05-25",
          "2016-06-29",
          "2015-01-03",
          "2015-04-21",
          "2016-01-12",
          "2015-09-15",
          "2016-01-18",
          "2016-02-22",
          "2015-08-16",
          "2013-12-11",
          "2016-04-13",
          "2015-10-07",
          "2017-03-01",
          "2016-06-09",
          "2016-05-27",
          "2013-08-12",
          "2014-07-21",
          "2017-06-02",
          "2015-08-19",
          "2015-08-04",
          "2016-06-28",
          "2015-04-16",
          "2017-05-09",
          "2015-04-20",
          "2016-02-24",
          "2015-11-28",
          "2016-02-15",
          "2015-01-21",
          "2017-06-13",
          "2012-05-04",
          "2015-06-03",
          "2017-04-24",
          "2014-07-31",
          "2015-07-07",
          "2017-02-17",
          "2017-06-30",
          "2017-02-20",
          "2014-10-30",
          "2017-05-31",
          "2015-09-17",
          "2015-12-14",
          "2017-06-27",
          "2016-11-24",
          "2016-08-10",
          "2017-05-25",
          "2016-11-20",
          "2017-01-02",
          "2015-07-23",
          "2015-03-26",
          "2015-04-06",
          "2015-07-06",
          "2014-03-16",
          "2015-01-01",
          "2016-12-13",
          "2016-02-13",
          "2015-12-09",
          "2017-01-03",
          "2017-04-19",
          "2016-07-05",
          "2016-03-10",
          "2016-07-25",
          "2016-04-08",
          "2016-04-13",
          "2017-02-02",
          "2014-08-08",
          "2017-05-23",
          "2015-01-08",
          "2016-08-17",
          "2014-11-05",
          "2016-04-22",
          "2014-01-27",
          "2015-05-01",
          "2014-10-02",
          "2015-02-18",
          "2017-04-18",
          "2013-07-23",
          "2015-01-30",
          "2017-05-12",
          "2015-11-01",
          "2015-08-28",
          "2014-01-29",
          "2016-06-21",
          "2015-04-16",
          "2016-12-29",
          "2016-10-11",
          "2016-06-26",
          "2016-12-26",
          "2016-02-10",
          "2017-04-06",
          "2016-07-09",
          "2017-05-04",
          "2015-09-24",
          "2015-07-26",
          "2016-07-02",
          "2013-10-24",
          "2014-06-17",
          "2013-10-26",
          "2015-09-01",
          "2017-01-23",
          "2017-04-20",
          "2015-08-21",
          "2015-02-13",
          "2016-10-03",
          "2013-07-24",
          "2016-08-18",
          "2016-08-21",
          "2016-03-31",
          "2012-10-31",
          "2014-08-02",
          "2016-04-13",
          "2015-05-12",
          "2014-09-19",
          "2017-04-17",
          "2014-03-10",
          "2015-07-19",
          "2016-03-12",
          "2016-02-17",
          "2017-03-14",
          "2015-07-10",
          "2017-05-02",
          "2015-09-10",
          "2016-01-12",
          "2015-08-19",
          "2016-01-21",
          "2015-10-16",
          "2016-07-29",
          "2014-03-17",
          "2014-12-08",
          "2016-08-11",
          "2015-06-16",
          "2014-02-25",
          "2016-06-23",
          "2014-09-05",
          "2015-05-24",
          "2014-01-16",
          "2016-07-18",
          "2013-11-18",
          "2013-09-29",
          "2014-03-06",
          "2016-01-11",
          "2012-06-27",
          "2015-10-13",
          "2017-04-26",
          "2016-04-13",
          "2016-06-02",
          "2016-04-27",
          "2013-10-16",
          "2015-11-01",
          "2014-05-28",
          "2016-08-17",
          "2016-02-15",
          "2016-11-24",
          "2016-04-07",
          "2016-10-12",
          "2013-02-27",
          "2017-03-29",
          "2014-03-23",
          "2017-02-13",
          "2014-03-09",
          "2016-03-31",
          "2014-04-29",
          "2016-06-20",
          "2014-10-24",
          "2016-01-08",
          "2014-03-01",
          "2014-07-22",
          "2013-08-12",
          "2013-08-12",
          "2015-06-17",
          "2014-05-17",
          "2014-04-06",
          "2017-02-13",
          "2015-11-07",
          "2017-04-24",
          "2013-07-15",
          "2014-10-29",
          "2016-11-14",
          "2017-05-10",
          "2016-07-01",
          "2015-05-25",
          "2016-07-14",
          "2014-05-05",
          "2016-11-25",
          "2015-07-02",
          "2017-05-01",
          "2015-04-09",
          "2017-05-01",
          "2015-06-09",
          "2013-11-25",
          "2016-09-27",
          "2015-05-19",
          "2016-02-29",
          "2015-07-17",
          "2017-05-03",
          "2015-03-19",
          "2017-05-29",
          "2015-08-21",
          "2017-05-29",
          "2016-02-09",
          "2017-04-25",
          "2017-03-20",
          "2017-04-27",
          "2015-09-01",
          "2016-02-12",
          "2016-04-08",
          "2016-04-13",
          "2017-06-09",
          "2015-07-16",
          "2015-07-09",
          "2015-12-15",
          "2016-08-18",
          "2013-11-26",
          "2015-11-25",
          "2016-11-24",
          "2015-02-25",
          "2017-05-24",
          "2015-12-17",
          "2015-11-17",
          "2015-08-17",
          "2015-12-03",
          "2016-06-14",
          "2013-11-14",
          "2014-01-22",
          "2015-03-15",
          "2016-02-16",
          "2016-04-22",
          "2016-06-09",
          "2015-04-17",
          "2014-10-23",
          "2016-06-06",
          "2017-03-31",
          "2016-12-21",
          "2016-05-16",
          "2016-04-13",
          "2013-12-13",
          "2017-04-18",
          "2017-05-16",
          "2015-07-10",
          "2017-06-12",
          "2016-07-02",
          "2017-01-24",
          "2013-07-23",
          "2016-03-29",
          "2016-01-13",
          "2017-06-16",
          "2016-01-22",
          "2017-03-30",
          "2017-05-24",
          "2016-12-05",
          "2015-08-17",
          "2016-06-01",
          "2016-07-04",
          "2017-02-14",
          "2014-10-08",
          "2016-10-29",
          "2017-05-23",
          "2016-03-23",
          "2014-01-14",
          "2017-05-23",
          "2017-03-02",
          "2015-02-19",
          "2017-05-29",
          "2017-02-01",
          "2016-06-01",
          "2017-06-06",
          "2016-09-27",
          "2016-07-29",
          "2016-01-04",
          "2014-12-16",
          "2015-07-14",
          "2015-05-15",
          "2014-09-22",
          "2017-05-10",
          "2016-04-13",
          "2016-04-08",
          "2014-09-14",
          "2017-05-05",
          "2016-07-28",
          "2016-07-12",
          "2016-02-11",
          "2015-06-01",
          "2015-09-23",
          "2016-05-24",
          "2014-05-01",
          "2016-04-04",
          "2016-02-15",
          "2014-10-25",
          "2015-09-25",
          "2016-06-29",
          "2017-02-09",
          "2014-11-24",
          "2014-10-14",
          "2017-07-06",
          "2016-05-24",
          "2017-03-13",
          "2014-02-02",
          "2016-04-12",
          "2017-02-06",
          "2015-03-29",
          "2015-03-26",
          "2016-11-08",
          "2016-08-29",
          "2017-04-23",
          "2016-11-24",
          "2016-12-26",
          "2012-11-12",
          "2012-10-02",
          "2016-09-25",
          "2015-10-24",
          "2016-04-13",
          "2016-12-22",
          "2017-01-16",
          "2016-10-12",
          "2015-12-09",
          "2016-09-13",
          "2015-02-13",
          "2016-02-29",
          "2015-12-28",
          "2015-07-06",
          "2016-02-14",
          "2016-07-28",
          "2016-07-20",
          "2016-05-11",
          "2013-07-23",
          "2016-05-25",
          "2012-08-31",
          "2016-09-10",
          "2013-05-16",
          "2017-02-22",
          "2015-08-05",
          "2016-07-05",
          "2016-08-26",
          "2017-02-27",
          "2016-02-03",
          "2017-05-02",
          "2016-11-21",
          "2017-06-12",
          "2016-07-04",
          "2016-05-27",
          "2013-07-23",
          "2016-04-13",
          "2017-03-15",
          "2017-04-19",
          "2017-03-22",
          "2016-12-13",
          "2015-10-10",
          "2014-12-29",
          "2015-08-04",
          "2015-06-09",
          "2016-04-08",
          "2016-10-04",
          "2012-10-07",
          "2015-10-15",
          "2015-10-08",
          "2016-09-21",
          "2017-04-17",
          "2016-09-14",
          "2017-06-12",
          "2017-02-20",
          "2014-06-17",
          "2015-12-04",
          "2017-06-11",
          "2015-08-09",
          "2015-06-02",
          "2013-02-16",
          "2016-06-30",
          "2016-08-13",
          "2016-08-26",
          "2017-05-31",
          "2017-02-17",
          "2015-06-08",
          "2015-04-22",
          "2017-06-13",
          "2015-04-20",
          "2016-12-14",
          "2016-01-22",
          "2017-04-25",
          "2013-07-26",
          "2017-02-07",
          "2016-04-13",
          "2016-08-14",
          "2015-07-08",
          "2016-09-09",
          "2013-08-29",
          "2017-04-19",
          "2015-12-01",
          "2013-12-12",
          "2017-05-19",
          "2016-04-24",
          "2015-08-14",
          "2017-05-24",
          "2013-11-28",
          "2016-11-07",
          "2015-11-26",
          "2016-06-29",
          "2015-11-22",
          "2014-07-03",
          "2014-11-04",
          "2015-07-05",
          "2017-05-01",
          "2015-03-08",
          "2014-09-22",
          "2015-08-13",
          "2016-04-20",
          "2014-05-26",
          "2016-07-18",
          "2012-10-31",
          "2013-09-26",
          "2015-12-08",
          "2016-11-28",
          "2016-12-22",
          "2016-01-22",
          "2016-08-18",
          "2016-10-27",
          "2016-04-13",
          "2016-06-09",
          "2017-03-02",
          "2015-04-01",
          "2013-05-26",
          "2014-11-12",
          "2015-07-24",
          "2015-10-18",
          "2015-05-08",
          "2017-03-30",
          "2015-01-17",
          "2017-06-27",
          "2016-09-06",
          "2015-07-02",
          "2015-01-09",
          "2015-08-25",
          "2016-12-14",
          "2014-09-22",
          "2017-03-30",
          "2016-02-01",
          "2017-01-13",
          "2017-05-02",
          "2016-07-24",
          "2016-05-17",
          "2014-09-21",
          "2015-06-17",
          "2016-01-26",
          "2015-05-28",
          "2017-06-15",
          "2016-12-27",
          "2015-10-19",
          "2017-03-03",
          "2016-02-25",
          "2014-01-23",
          "2015-07-30",
          "2017-04-24",
          "2016-03-29",
          "2016-01-29",
          "2016-10-21",
          "2016-08-29",
          "2016-03-22",
          "2017-07-03",
          "2016-03-10",
          "2015-12-07",
          "2015-02-13",
          "2017-06-11",
          "2014-05-19",
          "2016-02-12",
          "2015-10-19",
          "2014-09-01",
          "2015-03-16",
          "2017-05-01",
          "2017-07-03",
          "2017-05-18",
          "2017-03-11",
          "2015-08-03",
          "2017-05-30",
          "2016-02-27",
          "2016-09-20",
          "2016-11-16",
          "2017-03-21",
          "2014-03-10",
          "2015-04-10",
          "2017-06-22",
          "2015-11-06",
          "2016-12-05",
          "2017-03-22",
          "2016-02-13",
          "2017-04-14",
          "2016-02-23",
          "2017-05-17",
          "2017-03-16",
          "2017-06-28",
          "2016-04-26",
          "2014-09-22",
          "2016-02-25",
          "2017-06-28",
          "2015-05-04",
          "2015-10-19",
          "2016-04-13",
          "2015-10-04",
          "2016-05-12",
          "2015-09-30",
          "2016-11-18",
          "2017-04-18",
          "2016-05-12",
          "2015-09-13",
          "2016-03-22",
          "2014-09-10",
          "2015-06-17",
          "2015-06-01",
          "2016-06-20",
          "2017-05-08",
          "2017-02-24",
          "2014-08-16",
          "2016-05-23",
          "2016-12-16",
          "2014-05-19",
          "2016-04-06",
          "2014-04-22",
          "2016-04-13",
          "2014-04-04",
          "2015-12-06",
          "2014-05-16",
          "2015-09-28",
          "2017-02-02",
          "2016-02-06",
          "2015-07-29",
          "2016-09-29",
          "2016-12-14",
          "2016-04-13",
          "2017-03-24",
          "2017-07-04",
          "2017-04-06",
          "2014-09-22",
          "2017-03-27",
          "2013-12-01",
          "2015-10-23",
          "2015-08-24",
          "2017-07-06",
          "2013-04-23",
          "2017-02-15",
          "2017-07-03",
          "2015-06-08",
          "2017-07-03",
          "2017-05-01",
          "2016-06-27",
          "2016-12-10",
          "2017-06-28",
          "2016-12-15",
          "2016-04-13",
          "2016-01-22",
          "2014-05-16",
          "2017-05-01",
          "2016-05-17",
          "2016-12-24",
          "2016-01-16",
          "2017-05-10",
          "2017-02-07",
          "2016-10-29",
          "2014-05-07",
          "2015-04-10",
          "2016-04-01",
          "2014-08-18",
          "2016-09-23",
          "2014-06-17",
          "2014-06-12",
          "2017-02-03",
          "2016-06-13",
          "2016-09-06",
          "2016-07-08",
          "2016-09-21",
          "2015-03-08",
          "2016-06-14",
          "2016-12-31",
          "2016-12-26",
          "2016-01-19",
          "2017-03-13",
          "2016-05-05",
          "2014-08-18",
          "2017-04-11",
          "2014-08-21",
          "2016-03-24",
          "2016-04-27",
          "2017-05-04",
          "2016-12-27",
          "2014-07-18",
          "2016-09-26",
          "2015-09-20",
          "2017-05-17",
          "2015-03-02",
          "2013-12-05",
          "2013-06-28",
          "2016-11-01",
          "2016-10-18",
          "2016-04-13",
          "2016-04-14",
          "2016-02-26",
          "2015-06-09",
          "2017-05-17",
          "2014-05-14",
          "2014-05-05",
          "2017-06-02",
          "2014-05-09",
          "2017-01-03",
          "2016-08-04",
          "2014-07-20",
          "2015-01-07",
          "2017-03-08",
          "2015-10-22",
          "2015-11-19",
          "2017-04-03",
          "2015-05-20",
          "2016-11-19",
          "2017-04-13",
          "2016-09-22",
          "2015-02-18",
          "2016-06-20",
          "2016-08-26",
          "2017-02-27",
          "2016-08-06",
          "2014-05-09",
          "2014-05-16",
          "2017-01-03",
          "2016-04-27",
          "2014-05-19",
          "2014-05-09",
          "2014-05-07",
          "2016-11-27",
          "2016-04-27",
          "2013-06-03",
          "2014-01-20",
          "2015-01-30",
          "2016-12-19",
          "2016-06-16",
          "2014-05-16",
          "2016-10-22",
          "2016-05-05",
          "2016-12-08",
          "2017-06-22",
          "2015-01-29",
          "2015-08-18",
          "2017-03-23",
          "2017-05-09",
          "2015-03-29",
          "2017-04-06",
          "2017-06-27",
          "2016-04-01",
          "2016-10-16",
          "2016-04-23",
          "2016-05-03",
          "2016-05-26",
          "2013-10-02",
          "2017-06-20",
          "2017-03-21",
          "2016-04-12",
          "2015-10-28",
          "2014-05-16",
          "2016-06-21",
          "2017-03-16",
          "2016-06-26",
          "2016-08-30",
          "2017-04-11",
          "2016-12-14",
          "2017-06-14",
          "2016-07-01",
          "2014-06-16",
          "2015-09-25",
          "2015-11-21",
          "2017-04-20",
          "2017-04-17",
          "2016-05-24",
          "2015-01-22",
          "2014-05-09",
          "2014-05-09",
          "2016-03-29",
          "2013-02-22",
          "2017-05-23",
          "2016-08-29",
          "2014-11-30",
          "2017-04-24",
          "2017-03-16",
          "2017-01-03",
          "2016-08-17",
          "2017-05-15",
          "2015-10-26",
          "2016-07-11",
          "2017-03-06",
          "2015-02-23",
          "2017-04-28",
          "2016-01-07",
          "2017-02-13",
          "2017-06-28",
          "2016-04-06",
          "2017-05-31",
          "2014-05-19",
          "2014-05-19",
          "2014-05-07",
          "2015-12-17",
          "2017-04-10",
          "2017-05-01",
          "2016-06-20",
          "2017-05-05",
          "2015-01-12",
          "2017-05-15",
          "2017-03-29",
          "2016-02-08",
          "2014-06-27",
          "2015-07-22",
          "2015-07-10",
          "2016-11-18",
          "2016-07-10",
          "2015-11-12",
          "2015-08-06",
          "2017-05-18",
          "2014-05-07",
          "2015-07-21",
          "2017-04-12",
          "2014-05-19",
          "2017-04-19",
          "2016-02-22",
          "2017-03-28",
          "2014-05-19",
          "2017-05-01",
          "2015-07-14",
          "2016-12-22",
          "2017-06-21",
          "2017-06-07",
          "2017-02-17",
          "2017-03-31",
          "2014-03-31",
          "2015-08-04",
          "2017-05-31",
          "2017-04-17",
          "2015-11-30",
          "2017-06-16",
          "2015-08-23",
          "2015-11-13",
          "2017-02-03",
          "2017-02-02",
          "2017-01-19",
          "2014-04-30",
          "2017-03-07",
          "2017-06-29",
          "2016-03-29",
          "2017-05-02",
          "2014-05-09",
          "2015-06-11",
          "2014-05-19",
          "2015-06-22",
          "2015-08-04",
          "2016-11-18",
          "2016-02-05",
          "2017-03-31",
          "2017-04-27",
          "2016-02-11",
          "2017-06-29",
          "2017-06-28",
          "2015-11-02",
          "2017-04-06",
          "2017-01-19",
          "2017-06-22",
          "2016-07-18",
          "2017-06-19",
          "2017-01-28",
          "2017-05-29",
          "2016-06-03",
          "2014-04-30",
          "2014-05-19",
          "2017-04-26",
          "2015-01-13",
          "2015-01-09",
          "2015-12-17",
          "2016-10-03",
          "2016-03-09",
          "2014-05-05",
          "2015-10-20",
          "2015-03-23",
          "2017-05-02",
          "2017-05-01",
          "2015-12-22",
          "2017-06-23",
          "2017-06-27",
          "2014-04-02",
          "2014-04-01",
          "2017-03-17",
          "2014-04-15",
          "2017-05-03",
          "2015-09-15",
          "2017-07-04",
          "2015-06-01",
          "2014-09-22",
          "2017-05-03",
          "2016-09-21",
          "2017-06-19",
          "2016-02-18",
          "2017-06-17",
          "2017-05-04",
          "2017-04-17",
          "2014-05-08",
          "2017-02-20",
          "2016-06-20",
          "2017-03-08",
          "2017-03-31",
          "2017-03-24",
          "2014-04-15",
          "2017-02-26",
          "2017-06-23",
          "2017-01-02",
          "2016-05-23",
          "2017-04-06",
          "2016-06-28",
          "2015-09-04",
          "2017-04-28",
          "2017-05-22",
          "2016-04-07",
          "2016-04-07",
          "2014-11-08",
          "2016-04-05",
          "2017-01-18",
          "2016-05-16",
          "2015-03-24",
          "2017-07-04",
          "2017-05-24",
          "2016-01-29",
          "2016-09-02",
          "2016-10-03",
          "2016-09-01",
          "2017-05-17",
          "2017-06-21",
          "2017-05-29",
          "2017-06-02",
          "2016-12-21",
          "2016-06-23",
          "2017-01-23",
          "2017-06-08",
          "2017-01-19",
          "2017-03-07",
          "2017-06-21",
          "2014-04-04",
          "2016-09-13",
          "2016-02-08",
          "2015-11-24",
          "2015-11-24",
          "2014-04-01",
          "2017-02-26",
          "2017-02-08",
          "2017-01-13",
          "2017-05-25",
          "2015-07-07",
          "2017-04-15",
          "2016-10-19",
          "2017-06-23",
          "2017-02-26",
          "2017-04-23",
          "2017-06-29",
          "2017-07-05",
          "2017-06-29",
          "2016-03-17",
          "2016-05-11",
          "2017-06-20",
          "2015-11-17",
          "2017-05-04",
          "2016-12-13",
          "2017-03-27",
          "2017-02-07",
          "2016-02-15",
          "2017-04-12",
          "2017-06-29",
          "2017-07-06",
          "2017-06-29",
          "2016-04-11",
          "2017-03-10",
          "2017-06-20",
          "2016-10-31",
          "2017-06-30",
          "2017-03-10",
          "2017-05-22",
          "2017-05-30",
          "2017-07-05",
          "2016-06-08",
          "2016-01-18",
          "2017-05-17",
          "2014-12-19",
          "2016-10-31",
          "2017-06-19",
          "2017-07-03",
          "2017-03-09",
          "2014-04-01",
          "2016-12-22",
          "2017-05-25",
          "2014-04-04",
          "2014-04-15",
          "2017-06-30",
          "2017-03-08",
          "2014-03-31",
          "2017-03-24",
          "2014-04-15",
          "2017-05-23",
          "2017-07-05",
          "2017-06-28",
          "2017-07-02",
          "2017-04-24",
          "2017-06-29",
          "2017-06-29",
          "2017-07-03",
          "2016-05-16",
          "2017-07-06",
          "2016-12-26",
          "2017-07-05",
          "2017-05-02",
          "2017-07-03",
          "2017-02-02",
          "2017-05-16",
          "2016-12-15",
          "2016-12-22",
          "2017-04-17",
          "2017-07-03",
          "2017-06-29",
          "2017-04-03",
          "2017-02-15",
          "2017-06-28",
          "2016-01-06",
          "2017-05-25",
          "2015-12-17",
          "2017-04-23",
          "2017-07-06",
          "2017-07-03",
          "2017-05-01",
          "2016-07-27",
          "2017-06-28",
          "2017-02-08",
          "2017-06-29",
          "2017-06-28"
         ],
         "xaxis": "x",
         "y": [
          268923,
          161029,
          121584,
          120291,
          114512,
          101154,
          98867,
          84897,
          83737,
          79612,
          75499,
          73783,
          73110,
          72932,
          70773,
          69186,
          65576,
          64128,
          59639,
          59361,
          58208,
          57422,
          56659,
          55332,
          53851,
          51257,
          50855,
          50815,
          48650,
          47886,
          47811,
          47652,
          47062,
          44044,
          43977,
          43285,
          41478,
          40070,
          37141,
          36322,
          36288,
          35267,
          33788,
          33677,
          33205,
          32935,
          32696,
          32260,
          31499,
          31070,
          30531,
          29990,
          29348,
          29167,
          28880,
          28694,
          28125,
          27801,
          26800,
          26742,
          26697,
          26673,
          26541,
          26504,
          25864,
          25854,
          25799,
          25277,
          24978,
          24861,
          24857,
          24687,
          24575,
          24481,
          23764,
          23669,
          23572,
          23412,
          23229,
          22999,
          22623,
          22355,
          22344,
          22257,
          22213,
          21998,
          21730,
          21701,
          21689,
          21682,
          21653,
          21245,
          21147,
          21087,
          20890,
          20652,
          20195,
          20073,
          19909,
          19614,
          19339,
          19210,
          18818,
          18777,
          18496,
          18324,
          18303,
          18170,
          18143,
          18101,
          17895,
          17847,
          17802,
          17784,
          17759,
          17714,
          17671,
          17554,
          17463,
          17334,
          17297,
          17160,
          17113,
          17071,
          16926,
          16900,
          16829,
          16731,
          16590,
          16527,
          16486,
          16409,
          16385,
          16282,
          16212,
          16158,
          15724,
          15715,
          15500,
          15493,
          15462,
          15276,
          15276,
          15187,
          15134,
          15106,
          15092,
          15064,
          14922,
          14842,
          14813,
          14606,
          14560,
          14551,
          14495,
          14440,
          14260,
          14254,
          14118,
          14103,
          14074,
          14026,
          13960,
          13920,
          13882,
          13708,
          13535,
          13457,
          13439,
          13406,
          13242,
          13210,
          13130,
          13016,
          13010,
          12974,
          12953,
          12952,
          12893,
          12882,
          12873,
          12838,
          12815,
          12781,
          12629,
          12563,
          12458,
          12394,
          12368,
          12366,
          12340,
          12336,
          12328,
          12293,
          12217,
          12201,
          12105,
          12103,
          12068,
          12021,
          11958,
          11893,
          11892,
          11847,
          11832,
          11812,
          11758,
          11724,
          11666,
          11643,
          11574,
          11536,
          11533,
          11517,
          11492,
          11441,
          11384,
          11339,
          11285,
          11285,
          11262,
          11170,
          11170,
          11167,
          11167,
          11080,
          11026,
          11026,
          11011,
          10945,
          10917,
          10890,
          10875,
          10874,
          10869,
          10864,
          10780,
          10689,
          10674,
          10670,
          10610,
          10606,
          10605,
          10603,
          10576,
          10540,
          10518,
          10435,
          10394,
          10338,
          10247,
          10179,
          10179,
          10150,
          10149,
          10110,
          10103,
          10100,
          10042,
          10008,
          9995,
          9945,
          9881,
          9847,
          9833,
          9832,
          9831,
          9786,
          9773,
          9762,
          9687,
          9668,
          9607,
          9554,
          9483,
          9464,
          9445,
          9425,
          9421,
          9384,
          9381,
          9375,
          9367,
          9364,
          9359,
          9355,
          9351,
          9349,
          9332,
          9221,
          9193,
          9132,
          9110,
          9109,
          9103,
          9067,
          9056,
          9028,
          9015,
          8985,
          8968,
          8964,
          8901,
          8857,
          8797,
          8786,
          8777,
          8770,
          8768,
          8755,
          8711,
          8711,
          8693,
          8691,
          8625,
          8594,
          8592,
          8577,
          8575,
          8496,
          8462,
          8415,
          8371,
          8337,
          8320,
          8314,
          8240,
          8236,
          8234,
          8217,
          8196,
          8121,
          8113,
          8095,
          8067,
          8059,
          7941,
          7922,
          7905,
          7884,
          7884,
          7867,
          7865,
          7852,
          7827,
          7789,
          7785,
          7750,
          7743,
          7741,
          7720,
          7706,
          7660,
          7517,
          7501,
          7489,
          7489,
          7484,
          7449,
          7449,
          7438,
          7416,
          7407,
          7380,
          7375,
          7368,
          7331,
          7318,
          7304,
          7282,
          7213,
          7211,
          7196,
          7184,
          7183,
          7178,
          7169,
          7159,
          7146,
          7142,
          7140,
          7130,
          7130,
          7090,
          7062,
          7059,
          7057,
          7055,
          7018,
          7017,
          7014,
          6975,
          6967,
          6958,
          6944,
          6937,
          6909,
          6890,
          6858,
          6856,
          6853,
          6851,
          6811,
          6760,
          6754,
          6751,
          6742,
          6648,
          6636,
          6628,
          6612,
          6601,
          6588,
          6565,
          6548,
          6533,
          6527,
          6510,
          6508,
          6497,
          6474,
          6451,
          6437,
          6429,
          6428,
          6420,
          6413,
          6412,
          6402,
          6374,
          6315,
          6293,
          6292,
          6271,
          6219,
          6215,
          6185,
          6162,
          6153,
          6134,
          6134,
          6117,
          6092,
          6082,
          6073,
          6050,
          6050,
          6039,
          6028,
          6024,
          6008,
          6000,
          5983,
          5962,
          5950,
          5931,
          5921,
          5874,
          5850,
          5841,
          5840,
          5830,
          5811,
          5809,
          5800,
          5795,
          5787,
          5786,
          5769,
          5768,
          5739,
          5738,
          5715,
          5685,
          5603,
          5597,
          5572,
          5559,
          5549,
          5547,
          5543,
          5542,
          5533,
          5529,
          5528,
          5495,
          5484,
          5471,
          5456,
          5439,
          5421,
          5407,
          5398,
          5397,
          5387,
          5368,
          5354,
          5351,
          5335,
          5334,
          5332,
          5328,
          5326,
          5324,
          5318,
          5316,
          5301,
          5301,
          5292,
          5279,
          5272,
          5263,
          5228,
          5211,
          5188,
          5181,
          5177,
          5175,
          5172,
          5151,
          5144,
          5143,
          5129,
          5125,
          5117,
          5108,
          5104,
          5099,
          5097,
          5089,
          5086,
          5085,
          5077,
          5077,
          5072,
          5065,
          5057,
          5056,
          5052,
          5050,
          5026,
          5022,
          5014,
          5007,
          5004,
          5000,
          4991,
          4982,
          4967,
          4961,
          4957,
          4931,
          4927,
          4919,
          4905,
          4892,
          4876,
          4872,
          4867,
          4863,
          4855,
          4848,
          4848,
          4839,
          4830,
          4820,
          4797,
          4783,
          4776,
          4770,
          4743,
          4735,
          4733,
          4732,
          4720,
          4714,
          4708,
          4702,
          4695,
          4689,
          4687,
          4675,
          4661,
          4653,
          4645,
          4628,
          4616,
          4607,
          4601,
          4587,
          4569,
          4563,
          4560,
          4557,
          4550,
          4537,
          4530,
          4529,
          4529,
          4503,
          4499,
          4497,
          4480,
          4463,
          4452,
          4449,
          4447,
          4442,
          4410,
          4409,
          4407,
          4405,
          4375,
          4353,
          4333,
          4306,
          4297,
          4294,
          4290,
          4284,
          4269,
          4259,
          4252,
          4248,
          4235,
          4208,
          4198,
          4193,
          4192,
          4187,
          4183,
          4183,
          4158,
          4157,
          4144,
          4138,
          4133,
          4133,
          4128,
          4123,
          4123,
          4117,
          4115,
          4106,
          4103,
          4090,
          4086,
          4080,
          4077,
          4076,
          4061,
          4057,
          4040,
          4034,
          4033,
          4030,
          4028,
          4022,
          4020,
          4011,
          4010,
          4005,
          4001,
          3979,
          3960,
          3937,
          3933,
          3917,
          3903,
          3903,
          3898,
          3894,
          3887,
          3883,
          3877,
          3870,
          3870,
          3854,
          3840,
          3831,
          3812,
          3811,
          3804,
          3801,
          3784,
          3782,
          3775,
          3771,
          3770,
          3766,
          3759,
          3757,
          3757,
          3730,
          3721,
          3704,
          3701,
          3699,
          3697,
          3694,
          3688,
          3667,
          3655,
          3652,
          3632,
          3619,
          3618,
          3607,
          3601,
          3599,
          3590,
          3571,
          3559,
          3555,
          3541,
          3539,
          3525,
          3523,
          3519,
          3512,
          3503,
          3493,
          3492,
          3485,
          3481,
          3481,
          3465,
          3461,
          3444,
          3426,
          3425,
          3420,
          3415,
          3411,
          3403,
          3399,
          3397,
          3392,
          3390,
          3388,
          3381,
          3380,
          3377,
          3372,
          3371,
          3360,
          3360,
          3357,
          3357,
          3348,
          3339,
          3329,
          3325,
          3324,
          3323,
          3312,
          3299,
          3295,
          3283,
          3271,
          3258,
          3255,
          3254,
          3252,
          3251,
          3251,
          3249,
          3227,
          3223,
          3209,
          3206,
          3193,
          3192,
          3190,
          3185,
          3179,
          3177,
          3169,
          3167,
          3160,
          3157,
          3150,
          3143,
          3142,
          3141,
          3137,
          3137,
          3133,
          3131,
          3125,
          3122,
          3119,
          3118,
          3117,
          3108,
          3106,
          3103,
          3094,
          3086,
          3073,
          3056,
          3050,
          3042,
          3035,
          3033,
          3026,
          3015,
          3014,
          3013,
          3012,
          3011,
          3000,
          2996,
          2995,
          2988,
          2987,
          2985,
          2981,
          2971,
          2965,
          2964,
          2955,
          2953,
          2951,
          2946,
          2938,
          2924,
          2919,
          2918,
          2917,
          2914,
          2912,
          2911,
          2911,
          2900,
          2895,
          2893,
          2888,
          2877,
          2875,
          2873,
          2865,
          2863,
          2859,
          2853,
          2837,
          2814,
          2814,
          2804,
          2801,
          2797,
          2795,
          2792,
          2789,
          2788,
          2786,
          2784,
          2784,
          2783,
          2780,
          2769,
          2768,
          2760,
          2760,
          2755,
          2753,
          2749,
          2745,
          2743,
          2740,
          2736,
          2721,
          2715,
          2706,
          2698,
          2697,
          2697,
          2692,
          2692,
          2688,
          2687,
          2686,
          2674,
          2673,
          2669,
          2666,
          2665,
          2660,
          2652,
          2650,
          2650,
          2650,
          2649,
          2643,
          2643,
          2641,
          2638,
          2635,
          2635,
          2634,
          2626,
          2623,
          2618,
          2610,
          2607,
          2606,
          2602,
          2599,
          2596,
          2591,
          2578,
          2577,
          2577,
          2573,
          2571,
          2570,
          2566,
          2565,
          2558,
          2558,
          2555,
          2554,
          2547,
          2543,
          2532,
          2528,
          2526,
          2520,
          2516,
          2510,
          2507,
          2506,
          2498,
          2497,
          2494,
          2493,
          2490,
          2489,
          2489,
          2481,
          2476,
          2474,
          2472,
          2472,
          2470,
          2464,
          2459,
          2451,
          2437,
          2437,
          2430,
          2427,
          2424,
          2421,
          2420,
          2416,
          2415,
          2412,
          2409,
          2402,
          2401,
          2390,
          2389,
          2388,
          2383,
          2382,
          2379,
          2371,
          2362,
          2361,
          2360,
          2358,
          2358,
          2357,
          2355,
          2354,
          2354,
          2353,
          2351,
          2346,
          2346,
          2346,
          2342,
          2342,
          2338,
          2335,
          2325,
          2320,
          2318,
          2317,
          2314,
          2311,
          2310,
          2306,
          2305,
          2299,
          2296,
          2295,
          2293,
          2285,
          2283,
          2281,
          2281,
          2276,
          2273,
          2273,
          2268,
          2267,
          2267,
          2266,
          2252,
          2247,
          2244,
          2243,
          2240,
          2239,
          2238,
          2235,
          2234,
          2230,
          2228,
          2227,
          2225,
          2222,
          2222,
          2215,
          2214,
          2212,
          2204,
          2200,
          2199,
          2197,
          2197,
          2195,
          2189,
          2187,
          2185,
          2185,
          2184,
          2178,
          2177,
          2177,
          2174,
          2166,
          2164,
          2164,
          2164,
          2160,
          2154,
          2153,
          2152,
          2147,
          2146,
          2146,
          2145,
          2144,
          2142,
          2134,
          2134,
          2122,
          2119,
          2115,
          2104,
          2103,
          2102,
          2101,
          2097,
          2097,
          2096,
          2092,
          2091,
          2091,
          2087,
          2086,
          2084,
          2083,
          2081,
          2080,
          2079,
          2076,
          2076,
          2075,
          2074,
          2073,
          2071,
          2067,
          2063,
          2060,
          2058,
          2053,
          2052,
          2051,
          2046,
          2046,
          2045,
          2045,
          2044,
          2044,
          2039,
          2035,
          2031,
          2027,
          2026,
          2025,
          2025,
          2023,
          2015,
          2015,
          2012,
          2007,
          2004,
          2002,
          2002,
          2000,
          2000,
          1995,
          1993,
          1988,
          1987,
          1987,
          1981,
          1976,
          1975,
          1971,
          1967,
          1966,
          1964,
          1951,
          1951,
          1950,
          1949,
          1948,
          1945,
          1942,
          1942,
          1941,
          1936,
          1935,
          1933,
          1926,
          1925,
          1924,
          1924,
          1923,
          1922,
          1916,
          1909,
          1908,
          1905,
          1905,
          1904,
          1902,
          1898,
          1894,
          1892,
          1888,
          1888,
          1882,
          1876,
          1874,
          1873,
          1873,
          1871,
          1870,
          1867,
          1858,
          1853,
          1852,
          1850,
          1849,
          1849,
          1843,
          1842,
          1839,
          1838,
          1832,
          1827,
          1825,
          1825,
          1822,
          1819,
          1818,
          1815,
          1814,
          1812,
          1811,
          1806,
          1802,
          1798,
          1798,
          1797,
          1793,
          1793,
          1789,
          1788,
          1783,
          1782,
          1780,
          1780,
          1780,
          1779,
          1777,
          1777,
          1776,
          1772,
          1772,
          1769,
          1768,
          1766,
          1764,
          1764,
          1763,
          1758,
          1754,
          1754,
          1753,
          1750,
          1749,
          1747,
          1741,
          1741,
          1740,
          1738,
          1737,
          1736,
          1736,
          1735,
          1735,
          1734,
          1732,
          1732,
          1732,
          1731,
          1730,
          1730,
          1730,
          1724,
          1723,
          1723,
          1723,
          1720,
          1720,
          1712,
          1710,
          1705,
          1703,
          1703,
          1703,
          1703,
          1702,
          1701,
          1699,
          1699,
          1697,
          1696,
          1696,
          1688,
          1685,
          1683,
          1680,
          1680,
          1679,
          1678,
          1675,
          1674,
          1673,
          1673,
          1659,
          1658,
          1658,
          1657,
          1655,
          1655,
          1653,
          1649,
          1645,
          1645,
          1643,
          1640,
          1638,
          1634,
          1634,
          1631,
          1628,
          1627,
          1626,
          1626,
          1625,
          1624,
          1618,
          1618,
          1613,
          1611,
          1611,
          1609,
          1606,
          1606,
          1605,
          1605,
          1602,
          1599,
          1594,
          1593,
          1591,
          1589,
          1589,
          1588,
          1586,
          1586,
          1582,
          1580,
          1580,
          1574,
          1573,
          1566,
          1566,
          1564,
          1562,
          1562,
          1560,
          1557,
          1557,
          1554,
          1553,
          1552,
          1552,
          1551,
          1551,
          1550,
          1550,
          1548,
          1548,
          1548,
          1547,
          1544,
          1542,
          1541,
          1540,
          1540,
          1538,
          1537,
          1535,
          1534,
          1534,
          1532,
          1532,
          1531,
          1530,
          1526,
          1526,
          1525,
          1524,
          1522,
          1520,
          1520,
          1519,
          1519,
          1518,
          1517,
          1515,
          1514,
          1513,
          1513,
          1512,
          1509,
          1506,
          1504,
          1504,
          1502,
          1500,
          1498,
          1496,
          1495,
          1494,
          1489,
          1487,
          1480,
          1479,
          1478,
          1477,
          1477,
          1476,
          1474,
          1472,
          1472,
          1469,
          1468,
          1468,
          1463,
          1459,
          1456,
          1454,
          1452,
          1452,
          1449,
          1449,
          1448,
          1447,
          1447,
          1446,
          1444,
          1442,
          1440,
          1440,
          1439,
          1437,
          1437,
          1433,
          1433,
          1433,
          1428,
          1425,
          1424,
          1423,
          1421,
          1420,
          1420,
          1419,
          1418,
          1415,
          1414,
          1410,
          1409,
          1407,
          1406,
          1406,
          1405,
          1404,
          1403,
          1401,
          1399,
          1398,
          1393,
          1393,
          1388,
          1386,
          1385,
          1385,
          1380,
          1374,
          1373,
          1371,
          1369,
          1367,
          1367,
          1367,
          1362,
          1361,
          1360,
          1359,
          1356,
          1355,
          1355,
          1353,
          1352,
          1350,
          1350,
          1348,
          1346,
          1343,
          1343,
          1340,
          1339,
          1338,
          1338,
          1337,
          1337,
          1337,
          1334,
          1332,
          1329,
          1329,
          1327,
          1323,
          1322,
          1322,
          1319,
          1318,
          1318,
          1318,
          1316,
          1315,
          1313,
          1312,
          1311,
          1311,
          1310,
          1309,
          1309,
          1309,
          1305,
          1305,
          1305,
          1303,
          1302,
          1301,
          1299,
          1299,
          1297,
          1296,
          1294,
          1294,
          1292,
          1284,
          1284,
          1284,
          1284,
          1284,
          1282,
          1282,
          1280,
          1279,
          1278,
          1278,
          1276,
          1276,
          1276,
          1276,
          1275,
          1275,
          1274,
          1272,
          1271,
          1271,
          1270,
          1270,
          1269,
          1268,
          1266,
          1266,
          1263,
          1262,
          1260,
          1255,
          1254,
          1252,
          1249,
          1249,
          1249,
          1248,
          1241,
          1240,
          1239,
          1237,
          1237,
          1236,
          1235,
          1235,
          1235,
          1235,
          1229,
          1229,
          1227,
          1224,
          1224,
          1224,
          1224,
          1223,
          1222,
          1220,
          1220,
          1218,
          1216,
          1215,
          1214,
          1213,
          1213,
          1212,
          1209,
          1209,
          1207,
          1204,
          1203,
          1202,
          1202,
          1201,
          1200,
          1199,
          1199,
          1197,
          1197,
          1195,
          1194,
          1193,
          1193,
          1192,
          1189,
          1189,
          1187,
          1186,
          1186,
          1186,
          1185,
          1184,
          1184,
          1182,
          1181,
          1175,
          1174,
          1173,
          1169,
          1169,
          1168,
          1168,
          1168,
          1167,
          1165,
          1160,
          1157,
          1156,
          1156,
          1154,
          1154,
          1152,
          1152,
          1150,
          1150,
          1150,
          1148,
          1147,
          1146,
          1145,
          1143,
          1142,
          1141,
          1137,
          1136,
          1135,
          1134,
          1132,
          1132,
          1132,
          1130,
          1129,
          1128,
          1126,
          1125,
          1125,
          1123,
          1122,
          1122,
          1121,
          1121,
          1120,
          1119,
          1119,
          1117,
          1116,
          1116,
          1115,
          1114,
          1113,
          1113,
          1110,
          1109,
          1105,
          1102,
          1102,
          1101,
          1098,
          1098,
          1097,
          1096,
          1096,
          1096,
          1095,
          1094,
          1094,
          1092,
          1091,
          1090,
          1089,
          1087,
          1087,
          1087,
          1087,
          1086,
          1086,
          1086,
          1085,
          1085,
          1085,
          1081,
          1081,
          1080,
          1080,
          1080,
          1079,
          1079,
          1077,
          1076,
          1076,
          1076,
          1074,
          1071,
          1069,
          1067,
          1064,
          1063,
          1063,
          1062,
          1062,
          1061,
          1060,
          1059,
          1057,
          1057,
          1056,
          1056,
          1055,
          1054,
          1053,
          1052,
          1052,
          1050,
          1049,
          1048,
          1047,
          1047,
          1046,
          1046,
          1046,
          1045,
          1044,
          1043,
          1041,
          1040,
          1040,
          1039,
          1037,
          1036,
          1033,
          1033,
          1033,
          1032,
          1032,
          1031,
          1030,
          1030,
          1030,
          1029,
          1029,
          1029,
          1028,
          1027,
          1026,
          1026,
          1024,
          1023,
          1023,
          1023,
          1020,
          1018,
          1018,
          1018,
          1018,
          1018,
          1017,
          1016,
          1013,
          1013,
          1011,
          1011,
          1010,
          1008,
          1007,
          1006,
          1006,
          1005,
          1004,
          1002,
          1002,
          1002,
          1000,
          1000,
          997,
          993,
          991,
          989,
          988,
          987,
          984,
          978,
          976,
          976,
          975,
          975,
          973,
          973,
          973,
          972,
          970,
          970,
          969,
          968,
          967,
          966,
          965,
          964,
          960,
          959,
          958,
          956,
          954,
          953,
          952,
          952,
          951,
          949,
          948,
          948,
          947,
          946,
          945,
          944,
          944,
          942,
          941,
          940,
          939,
          937,
          937,
          936,
          936,
          934,
          927,
          927,
          926,
          924,
          922,
          920,
          920,
          919,
          918,
          916,
          916,
          915,
          913,
          912,
          912,
          912,
          912,
          911,
          909,
          903,
          901,
          900,
          898,
          898,
          897,
          897,
          896,
          894,
          891,
          888,
          886,
          885,
          885,
          885,
          880,
          878,
          877,
          877,
          876,
          876,
          874,
          871,
          869,
          869,
          869,
          868,
          867,
          867,
          861,
          860,
          859,
          858,
          853,
          853,
          851,
          850,
          850,
          844,
          843,
          842,
          841,
          841,
          838,
          837,
          837,
          835,
          834,
          833,
          832,
          831,
          829,
          828,
          827,
          827,
          827,
          825,
          823,
          821,
          817,
          817,
          817,
          817,
          814,
          813,
          811,
          811,
          810,
          809,
          809,
          807,
          806,
          803,
          802,
          802,
          801,
          800,
          799,
          798,
          797,
          797,
          797,
          796,
          796,
          793,
          791,
          791,
          789,
          788,
          788,
          785,
          785,
          783,
          783,
          781,
          780,
          779,
          778,
          776,
          775,
          775,
          775,
          774,
          774,
          770,
          770,
          770,
          769,
          769,
          768,
          767,
          764,
          755,
          755,
          751,
          750,
          747,
          746,
          746,
          743,
          741,
          740,
          739,
          739,
          739,
          738,
          737,
          736,
          736,
          735,
          734,
          733,
          731,
          727,
          727,
          725,
          723,
          722,
          721,
          721,
          720,
          718,
          718,
          716,
          716,
          715,
          715,
          714,
          713,
          711,
          710,
          709,
          709,
          707,
          707,
          706,
          702,
          701,
          701,
          701,
          694,
          694,
          690,
          690,
          689,
          686,
          685,
          683,
          679,
          677,
          677,
          676,
          670,
          668,
          668,
          668,
          668,
          666,
          663,
          662,
          662,
          661,
          661,
          659,
          659,
          658,
          656,
          655,
          655,
          654,
          653,
          653,
          652,
          651,
          651,
          650,
          649,
          646,
          646,
          644,
          638,
          637,
          636,
          635,
          633,
          633,
          632,
          631,
          631,
          630,
          627,
          627,
          627,
          627,
          623,
          623,
          623,
          621,
          618,
          617,
          616,
          613,
          613,
          613,
          612,
          611,
          611,
          609,
          608,
          607,
          605,
          605,
          605,
          604,
          604,
          602,
          601,
          601,
          600,
          598,
          596,
          595,
          594,
          593,
          592,
          589,
          589,
          586,
          586,
          586,
          584,
          583,
          582,
          578,
          578,
          578,
          578,
          577,
          577,
          576,
          570,
          568,
          567,
          567,
          567,
          564,
          563,
          562,
          560,
          557,
          557,
          556,
          555,
          554,
          553,
          551,
          550,
          550,
          549,
          549,
          547,
          546,
          545,
          545,
          545,
          543,
          543,
          540,
          540,
          540,
          538,
          537,
          534,
          533,
          530,
          528,
          527,
          522,
          521,
          521,
          521,
          520,
          518,
          517,
          515,
          513,
          513,
          512,
          512,
          511,
          510,
          509,
          507,
          507,
          507,
          507,
          507,
          507,
          505,
          505,
          504,
          503,
          502,
          502,
          500,
          500,
          500,
          500,
          496,
          496,
          495,
          494,
          494,
          494,
          492,
          491,
          489,
          489,
          487,
          486,
          486,
          485,
          485,
          484,
          483,
          482,
          481,
          481,
          480,
          480,
          478,
          478,
          478,
          477,
          476,
          475,
          472,
          469,
          467,
          466,
          465,
          464,
          462,
          462,
          462,
          461,
          461,
          460,
          459,
          458,
          458,
          455,
          454,
          454,
          453,
          452,
          452,
          452,
          452,
          450,
          450,
          447,
          447,
          446,
          445,
          442,
          441,
          440,
          438,
          438,
          438,
          437,
          436,
          434,
          431,
          431,
          431,
          430,
          426,
          426,
          426,
          426,
          425,
          424,
          424,
          422,
          422,
          421,
          421,
          420,
          420,
          418,
          418,
          417,
          415,
          414,
          412,
          410,
          409,
          408,
          408,
          408,
          407,
          406,
          406,
          405,
          402,
          402,
          401,
          399,
          397,
          397,
          397,
          396,
          396,
          395,
          395,
          394,
          394,
          394,
          393,
          392,
          390,
          390,
          390,
          390,
          389,
          388,
          387,
          387,
          385,
          384,
          384,
          384,
          384,
          383,
          382,
          382,
          381,
          380,
          380,
          380,
          379,
          379,
          377,
          376,
          376,
          376,
          375,
          375,
          375,
          375,
          373,
          372,
          371,
          368,
          367,
          367,
          366,
          365,
          363,
          362,
          362,
          361,
          361,
          360,
          359,
          359,
          358,
          358,
          357,
          354,
          354,
          353,
          353,
          353,
          353,
          353,
          353,
          349,
          347,
          347,
          346,
          346,
          343,
          343,
          342,
          342,
          342,
          341,
          341,
          338,
          338,
          336,
          335,
          335,
          335,
          334,
          334,
          333,
          333,
          333,
          332,
          331,
          327,
          327,
          327,
          326,
          326,
          326,
          325,
          325,
          325,
          324,
          323,
          322,
          321,
          319,
          319,
          317,
          315,
          315,
          314,
          314,
          314,
          313,
          313,
          312,
          311,
          311,
          308,
          307,
          306,
          306,
          305,
          305,
          305,
          305,
          302,
          301,
          300,
          300,
          300,
          299,
          299,
          298,
          297,
          297,
          297,
          295,
          294,
          294,
          293,
          293,
          293,
          293,
          293,
          292,
          291,
          290,
          289,
          288,
          288,
          287,
          286,
          285,
          284,
          283,
          282,
          280,
          280,
          279,
          276,
          276,
          276,
          274,
          274,
          274,
          273,
          273,
          272,
          272,
          271,
          270,
          270,
          270,
          267,
          267,
          266,
          265,
          265,
          264,
          263,
          262,
          261,
          261,
          261,
          260,
          260,
          259,
          257,
          256,
          256,
          255,
          255,
          254,
          253,
          253,
          252,
          252,
          252,
          251,
          250,
          249,
          249,
          249,
          248,
          247,
          246,
          246,
          245,
          245,
          245,
          244,
          244,
          244,
          241,
          240,
          239,
          239,
          239,
          238,
          238,
          238,
          237,
          237,
          237,
          237,
          236,
          236,
          232,
          232,
          231,
          230,
          229,
          229,
          228,
          228,
          228,
          228,
          228,
          228,
          227,
          227,
          226,
          226,
          226,
          225,
          225,
          225,
          225,
          224,
          223,
          223,
          223,
          222,
          222,
          220,
          219,
          219,
          218,
          217,
          217,
          217,
          217,
          217,
          216,
          215,
          214,
          214,
          214,
          213,
          213,
          212,
          211,
          211,
          211,
          210,
          210,
          209,
          209,
          209,
          208,
          207,
          207,
          207,
          206,
          206,
          206,
          205,
          205,
          205,
          205,
          205,
          204,
          204,
          203,
          201,
          201,
          200,
          198,
          198,
          197,
          197,
          197,
          196,
          194,
          194,
          193,
          193,
          193,
          192,
          190,
          190,
          189,
          189,
          189,
          188,
          188,
          187,
          187,
          186,
          186,
          186,
          185,
          185,
          185,
          184,
          184,
          183,
          183,
          181,
          181,
          180,
          178,
          178,
          177,
          177,
          177,
          176,
          173,
          172,
          172,
          172,
          172,
          171,
          170,
          170,
          169,
          168,
          168,
          168,
          167,
          167,
          166,
          166,
          165,
          165,
          165,
          164,
          164,
          164,
          162,
          159,
          158,
          157,
          156,
          156,
          155,
          155,
          155,
          155,
          155,
          154,
          153,
          153,
          153,
          153,
          152,
          152,
          152,
          152,
          152,
          151,
          151,
          150,
          149,
          149,
          148,
          148,
          147,
          147,
          146,
          145,
          144,
          143,
          142,
          142,
          142,
          140,
          139,
          139,
          139,
          139,
          137,
          137,
          137,
          137,
          136,
          136,
          136,
          135,
          135,
          135,
          135,
          135,
          134,
          134,
          133,
          132,
          132,
          131,
          131,
          130,
          130,
          129,
          129,
          128,
          126,
          126,
          126,
          125,
          124,
          124,
          124,
          124,
          123,
          123,
          122,
          122,
          122,
          122,
          122,
          121,
          120,
          120,
          120,
          120,
          120,
          119,
          119,
          119,
          119,
          119,
          119,
          118,
          117,
          117,
          117,
          117,
          116,
          116,
          116,
          116,
          116,
          115,
          115,
          115,
          115,
          115,
          114,
          114,
          114,
          114,
          114,
          113,
          113,
          113,
          113,
          113,
          112,
          112,
          112,
          112,
          111,
          111,
          111,
          111,
          110,
          110,
          110,
          109,
          108,
          108,
          107,
          106,
          106,
          106,
          106,
          106,
          105,
          105,
          105,
          105,
          105,
          104,
          104,
          104,
          104,
          103,
          103,
          103,
          103,
          103,
          103,
          103,
          102,
          101,
          101,
          100,
          100,
          100,
          99,
          99,
          99,
          98,
          98,
          98,
          98,
          98,
          98,
          97,
          97,
          97,
          96,
          95,
          95,
          95,
          94,
          94,
          94,
          93,
          92,
          92,
          92,
          92,
          92,
          92,
          91,
          91,
          91,
          91,
          91,
          91,
          91,
          91,
          90,
          90,
          90,
          89,
          89,
          89,
          89,
          89,
          88,
          88,
          88,
          87,
          87,
          87,
          87,
          87,
          86,
          86,
          86,
          86,
          86,
          86,
          85,
          85,
          85,
          85,
          85,
          84,
          84,
          83,
          83,
          83,
          83,
          83,
          82,
          82,
          82,
          81,
          81,
          81,
          81,
          81,
          80,
          80,
          80,
          80,
          80,
          80,
          79,
          79,
          79,
          79,
          78,
          78,
          78,
          78,
          78,
          78,
          78,
          77,
          77,
          76,
          76,
          76,
          75,
          75,
          75,
          75,
          74,
          74,
          74,
          74,
          74,
          74,
          73,
          73,
          73,
          72,
          72,
          72,
          72,
          72,
          71,
          71,
          71,
          71,
          70,
          70,
          70,
          70,
          69,
          69,
          69,
          68,
          68,
          68,
          68,
          68,
          67,
          66,
          66,
          66,
          66,
          66,
          65,
          65,
          65,
          65,
          65,
          64,
          64,
          64,
          63,
          62,
          62,
          62,
          62,
          62,
          62,
          61,
          61,
          61,
          61,
          61,
          61,
          61,
          61,
          60,
          59,
          59,
          59,
          59,
          59,
          59,
          58,
          58,
          58,
          58,
          58,
          57,
          57,
          57,
          57,
          57,
          57,
          57,
          57,
          57,
          57,
          57,
          57,
          56,
          56,
          56,
          56,
          56,
          55,
          55,
          55,
          55,
          55,
          55,
          54,
          54,
          54,
          54,
          54,
          53,
          53,
          53,
          52,
          52,
          52,
          52,
          51,
          51,
          51,
          51,
          51,
          50,
          50,
          50,
          50,
          50,
          50,
          50,
          50,
          49,
          49,
          49,
          49,
          48,
          48,
          48,
          48,
          47,
          47,
          47,
          47,
          46,
          46,
          45,
          45,
          45,
          45,
          45,
          45,
          45,
          45,
          45,
          44,
          44,
          44,
          44,
          44,
          44,
          44,
          44,
          44,
          44,
          43,
          43,
          43,
          43,
          43,
          43,
          42,
          42,
          42,
          42,
          42,
          42,
          42,
          42,
          42,
          41,
          41,
          41,
          41,
          41,
          41,
          41,
          41,
          40,
          40,
          40,
          40,
          40,
          39,
          39,
          39,
          38,
          38,
          38,
          38,
          38,
          38,
          38,
          37,
          37,
          37,
          37,
          37,
          37,
          37,
          37,
          36,
          36,
          36,
          36,
          36,
          36,
          36,
          36,
          35,
          35,
          35,
          35,
          35,
          34,
          34,
          34,
          34,
          34,
          33,
          33,
          33,
          33,
          33,
          33,
          33,
          33,
          33,
          33,
          32,
          32,
          32,
          32,
          32,
          32,
          32,
          32,
          32,
          32,
          31,
          31,
          31,
          31,
          31,
          31,
          31,
          31,
          31,
          30,
          30,
          30,
          30,
          30,
          30,
          30,
          30,
          29,
          29,
          29,
          29,
          29,
          29,
          29,
          28,
          28,
          28,
          28,
          28,
          28,
          28,
          28,
          28,
          28,
          28,
          27,
          27,
          27,
          27,
          27,
          27,
          27,
          27,
          27,
          27,
          27,
          26,
          26,
          26,
          26,
          26,
          26,
          26,
          26,
          26,
          26,
          25,
          25,
          25,
          25,
          25,
          25,
          25,
          24,
          24,
          24,
          23,
          23,
          23,
          23,
          23,
          23,
          23,
          23,
          22,
          22,
          22,
          22,
          22,
          22,
          22,
          22,
          22,
          22,
          21,
          21,
          21,
          21,
          21,
          21,
          21,
          21,
          21,
          21,
          21,
          21,
          21,
          20,
          20,
          20,
          20,
          20,
          20,
          20,
          19,
          19,
          19,
          19,
          19,
          19,
          19,
          19,
          19,
          18,
          18,
          18,
          18,
          18,
          18,
          18,
          18,
          18,
          18,
          18,
          18,
          17,
          17,
          17,
          17,
          17,
          17,
          17,
          17,
          17,
          17,
          17,
          17,
          16,
          16,
          16,
          16,
          16,
          16,
          16,
          16,
          16,
          16,
          16,
          16,
          15,
          15,
          15,
          15,
          15,
          15,
          15,
          15,
          14,
          14,
          14,
          14,
          14,
          14,
          14,
          14,
          14,
          14,
          14,
          13,
          13,
          13,
          13,
          13,
          13,
          13,
          13,
          13,
          13,
          13,
          13,
          13,
          13,
          13,
          13,
          13,
          13,
          13,
          12,
          12,
          12,
          12,
          12,
          12,
          12,
          12,
          12,
          12,
          12,
          12,
          12,
          12,
          12,
          12,
          11,
          11,
          11,
          11,
          11,
          11,
          11,
          11,
          11,
          11,
          11,
          11,
          11,
          11,
          11,
          11,
          11,
          11,
          11,
          11,
          11,
          11,
          11,
          10,
          10,
          10,
          10,
          10,
          10,
          10,
          10,
          10,
          10,
          10,
          10,
          10,
          10,
          10,
          10,
          10,
          9,
          9,
          9,
          9,
          9,
          9,
          9,
          9,
          9,
          9,
          9,
          9,
          9,
          9,
          9,
          9,
          9,
          9,
          8,
          8,
          8,
          8,
          8,
          8,
          8,
          8,
          8,
          8,
          8,
          8,
          8,
          8,
          8,
          8,
          8,
          8,
          7,
          7,
          7,
          7,
          7,
          7,
          7,
          7,
          7,
          7,
          7,
          7,
          7,
          7,
          7,
          7,
          7,
          7,
          7,
          7,
          7,
          7,
          7,
          7,
          6,
          6,
          6,
          6,
          6,
          6,
          6,
          6,
          6,
          6,
          6,
          6,
          6,
          6,
          6,
          6,
          6,
          6,
          5,
          5,
          5,
          5,
          5,
          5,
          5,
          5,
          5,
          5,
          5,
          5,
          5,
          5,
          5,
          5,
          5,
          5,
          5,
          5,
          5,
          5,
          5,
          5,
          5,
          5,
          5,
          5,
          4,
          4,
          4,
          4,
          4,
          4,
          4,
          4,
          4,
          4,
          4,
          4,
          4,
          4,
          4,
          4,
          4,
          4,
          4,
          4,
          4,
          4,
          4,
          4,
          4,
          4,
          3,
          3,
          3,
          3,
          3,
          3,
          3,
          3,
          3,
          3,
          3,
          3,
          3,
          3,
          3,
          3,
          3,
          3,
          3,
          3,
          3,
          3,
          3,
          3,
          3,
          3,
          2,
          2,
          2,
          2,
          2,
          2,
          2,
          2,
          2,
          2,
          2,
          2,
          2,
          2,
          2,
          2,
          2,
          2,
          2,
          2,
          2,
          2,
          2,
          2,
          2,
          2,
          2,
          1,
          1,
          1,
          1,
          1,
          1,
          1,
          1,
          1,
          1,
          1,
          1,
          1,
          1,
          1,
          1,
          1,
          1,
          1,
          1,
          1,
          1,
          1,
          1,
          1,
          1,
          1,
          1,
          1,
          1,
          1,
          1,
          1,
          1,
          1,
          1,
          1,
          1,
          1,
          1,
          1,
          1,
          1,
          1,
          1,
          1,
          1,
          1,
          1,
          0,
          0,
          0,
          0,
          0,
          0,
          0,
          0,
          0,
          0,
          0,
          0,
          0,
          0,
          0,
          0,
          0,
          0,
          0,
          0,
          0,
          0,
          0,
          0,
          0,
          0,
          0,
          0,
          0,
          0,
          0,
          0,
          0,
          0,
          0,
          0,
          0,
          0,
          0,
          0,
          0,
          0,
          0,
          0,
          0,
          0,
          0,
          0,
          0,
          0,
          0,
          0,
          0,
          0,
          0,
          0,
          0,
          0,
          0,
          0,
          0,
          0,
          0,
          0,
          0
         ],
         "yaxis": "y"
        }
       ],
       "layout": {
        "barmode": "relative",
        "legend": {
         "tracegroupgap": 0
        },
        "margin": {
         "t": 60
        },
        "template": {
         "data": {
          "bar": [
           {
            "error_x": {
             "color": "#2a3f5f"
            },
            "error_y": {
             "color": "#2a3f5f"
            },
            "marker": {
             "line": {
              "color": "white",
              "width": 0.5
             },
             "pattern": {
              "fillmode": "overlay",
              "size": 10,
              "solidity": 0.2
             }
            },
            "type": "bar"
           }
          ],
          "barpolar": [
           {
            "marker": {
             "line": {
              "color": "white",
              "width": 0.5
             },
             "pattern": {
              "fillmode": "overlay",
              "size": 10,
              "solidity": 0.2
             }
            },
            "type": "barpolar"
           }
          ],
          "carpet": [
           {
            "aaxis": {
             "endlinecolor": "#2a3f5f",
             "gridcolor": "#C8D4E3",
             "linecolor": "#C8D4E3",
             "minorgridcolor": "#C8D4E3",
             "startlinecolor": "#2a3f5f"
            },
            "baxis": {
             "endlinecolor": "#2a3f5f",
             "gridcolor": "#C8D4E3",
             "linecolor": "#C8D4E3",
             "minorgridcolor": "#C8D4E3",
             "startlinecolor": "#2a3f5f"
            },
            "type": "carpet"
           }
          ],
          "choropleth": [
           {
            "colorbar": {
             "outlinewidth": 0,
             "ticks": ""
            },
            "type": "choropleth"
           }
          ],
          "contour": [
           {
            "colorbar": {
             "outlinewidth": 0,
             "ticks": ""
            },
            "colorscale": [
             [
              0,
              "#0d0887"
             ],
             [
              0.1111111111111111,
              "#46039f"
             ],
             [
              0.2222222222222222,
              "#7201a8"
             ],
             [
              0.3333333333333333,
              "#9c179e"
             ],
             [
              0.4444444444444444,
              "#bd3786"
             ],
             [
              0.5555555555555556,
              "#d8576b"
             ],
             [
              0.6666666666666666,
              "#ed7953"
             ],
             [
              0.7777777777777778,
              "#fb9f3a"
             ],
             [
              0.8888888888888888,
              "#fdca26"
             ],
             [
              1,
              "#f0f921"
             ]
            ],
            "type": "contour"
           }
          ],
          "contourcarpet": [
           {
            "colorbar": {
             "outlinewidth": 0,
             "ticks": ""
            },
            "type": "contourcarpet"
           }
          ],
          "heatmap": [
           {
            "colorbar": {
             "outlinewidth": 0,
             "ticks": ""
            },
            "colorscale": [
             [
              0,
              "#0d0887"
             ],
             [
              0.1111111111111111,
              "#46039f"
             ],
             [
              0.2222222222222222,
              "#7201a8"
             ],
             [
              0.3333333333333333,
              "#9c179e"
             ],
             [
              0.4444444444444444,
              "#bd3786"
             ],
             [
              0.5555555555555556,
              "#d8576b"
             ],
             [
              0.6666666666666666,
              "#ed7953"
             ],
             [
              0.7777777777777778,
              "#fb9f3a"
             ],
             [
              0.8888888888888888,
              "#fdca26"
             ],
             [
              1,
              "#f0f921"
             ]
            ],
            "type": "heatmap"
           }
          ],
          "heatmapgl": [
           {
            "colorbar": {
             "outlinewidth": 0,
             "ticks": ""
            },
            "colorscale": [
             [
              0,
              "#0d0887"
             ],
             [
              0.1111111111111111,
              "#46039f"
             ],
             [
              0.2222222222222222,
              "#7201a8"
             ],
             [
              0.3333333333333333,
              "#9c179e"
             ],
             [
              0.4444444444444444,
              "#bd3786"
             ],
             [
              0.5555555555555556,
              "#d8576b"
             ],
             [
              0.6666666666666666,
              "#ed7953"
             ],
             [
              0.7777777777777778,
              "#fb9f3a"
             ],
             [
              0.8888888888888888,
              "#fdca26"
             ],
             [
              1,
              "#f0f921"
             ]
            ],
            "type": "heatmapgl"
           }
          ],
          "histogram": [
           {
            "marker": {
             "pattern": {
              "fillmode": "overlay",
              "size": 10,
              "solidity": 0.2
             }
            },
            "type": "histogram"
           }
          ],
          "histogram2d": [
           {
            "colorbar": {
             "outlinewidth": 0,
             "ticks": ""
            },
            "colorscale": [
             [
              0,
              "#0d0887"
             ],
             [
              0.1111111111111111,
              "#46039f"
             ],
             [
              0.2222222222222222,
              "#7201a8"
             ],
             [
              0.3333333333333333,
              "#9c179e"
             ],
             [
              0.4444444444444444,
              "#bd3786"
             ],
             [
              0.5555555555555556,
              "#d8576b"
             ],
             [
              0.6666666666666666,
              "#ed7953"
             ],
             [
              0.7777777777777778,
              "#fb9f3a"
             ],
             [
              0.8888888888888888,
              "#fdca26"
             ],
             [
              1,
              "#f0f921"
             ]
            ],
            "type": "histogram2d"
           }
          ],
          "histogram2dcontour": [
           {
            "colorbar": {
             "outlinewidth": 0,
             "ticks": ""
            },
            "colorscale": [
             [
              0,
              "#0d0887"
             ],
             [
              0.1111111111111111,
              "#46039f"
             ],
             [
              0.2222222222222222,
              "#7201a8"
             ],
             [
              0.3333333333333333,
              "#9c179e"
             ],
             [
              0.4444444444444444,
              "#bd3786"
             ],
             [
              0.5555555555555556,
              "#d8576b"
             ],
             [
              0.6666666666666666,
              "#ed7953"
             ],
             [
              0.7777777777777778,
              "#fb9f3a"
             ],
             [
              0.8888888888888888,
              "#fdca26"
             ],
             [
              1,
              "#f0f921"
             ]
            ],
            "type": "histogram2dcontour"
           }
          ],
          "mesh3d": [
           {
            "colorbar": {
             "outlinewidth": 0,
             "ticks": ""
            },
            "type": "mesh3d"
           }
          ],
          "parcoords": [
           {
            "line": {
             "colorbar": {
              "outlinewidth": 0,
              "ticks": ""
             }
            },
            "type": "parcoords"
           }
          ],
          "pie": [
           {
            "automargin": true,
            "type": "pie"
           }
          ],
          "scatter": [
           {
            "marker": {
             "colorbar": {
              "outlinewidth": 0,
              "ticks": ""
             }
            },
            "type": "scatter"
           }
          ],
          "scatter3d": [
           {
            "line": {
             "colorbar": {
              "outlinewidth": 0,
              "ticks": ""
             }
            },
            "marker": {
             "colorbar": {
              "outlinewidth": 0,
              "ticks": ""
             }
            },
            "type": "scatter3d"
           }
          ],
          "scattercarpet": [
           {
            "marker": {
             "colorbar": {
              "outlinewidth": 0,
              "ticks": ""
             }
            },
            "type": "scattercarpet"
           }
          ],
          "scattergeo": [
           {
            "marker": {
             "colorbar": {
              "outlinewidth": 0,
              "ticks": ""
             }
            },
            "type": "scattergeo"
           }
          ],
          "scattergl": [
           {
            "marker": {
             "colorbar": {
              "outlinewidth": 0,
              "ticks": ""
             }
            },
            "type": "scattergl"
           }
          ],
          "scattermapbox": [
           {
            "marker": {
             "colorbar": {
              "outlinewidth": 0,
              "ticks": ""
             }
            },
            "type": "scattermapbox"
           }
          ],
          "scatterpolar": [
           {
            "marker": {
             "colorbar": {
              "outlinewidth": 0,
              "ticks": ""
             }
            },
            "type": "scatterpolar"
           }
          ],
          "scatterpolargl": [
           {
            "marker": {
             "colorbar": {
              "outlinewidth": 0,
              "ticks": ""
             }
            },
            "type": "scatterpolargl"
           }
          ],
          "scatterternary": [
           {
            "marker": {
             "colorbar": {
              "outlinewidth": 0,
              "ticks": ""
             }
            },
            "type": "scatterternary"
           }
          ],
          "surface": [
           {
            "colorbar": {
             "outlinewidth": 0,
             "ticks": ""
            },
            "colorscale": [
             [
              0,
              "#0d0887"
             ],
             [
              0.1111111111111111,
              "#46039f"
             ],
             [
              0.2222222222222222,
              "#7201a8"
             ],
             [
              0.3333333333333333,
              "#9c179e"
             ],
             [
              0.4444444444444444,
              "#bd3786"
             ],
             [
              0.5555555555555556,
              "#d8576b"
             ],
             [
              0.6666666666666666,
              "#ed7953"
             ],
             [
              0.7777777777777778,
              "#fb9f3a"
             ],
             [
              0.8888888888888888,
              "#fdca26"
             ],
             [
              1,
              "#f0f921"
             ]
            ],
            "type": "surface"
           }
          ],
          "table": [
           {
            "cells": {
             "fill": {
              "color": "#EBF0F8"
             },
             "line": {
              "color": "white"
             }
            },
            "header": {
             "fill": {
              "color": "#C8D4E3"
             },
             "line": {
              "color": "white"
             }
            },
            "type": "table"
           }
          ]
         },
         "layout": {
          "annotationdefaults": {
           "arrowcolor": "#2a3f5f",
           "arrowhead": 0,
           "arrowwidth": 1
          },
          "autotypenumbers": "strict",
          "coloraxis": {
           "colorbar": {
            "outlinewidth": 0,
            "ticks": ""
           }
          },
          "colorscale": {
           "diverging": [
            [
             0,
             "#8e0152"
            ],
            [
             0.1,
             "#c51b7d"
            ],
            [
             0.2,
             "#de77ae"
            ],
            [
             0.3,
             "#f1b6da"
            ],
            [
             0.4,
             "#fde0ef"
            ],
            [
             0.5,
             "#f7f7f7"
            ],
            [
             0.6,
             "#e6f5d0"
            ],
            [
             0.7,
             "#b8e186"
            ],
            [
             0.8,
             "#7fbc41"
            ],
            [
             0.9,
             "#4d9221"
            ],
            [
             1,
             "#276419"
            ]
           ],
           "sequential": [
            [
             0,
             "#0d0887"
            ],
            [
             0.1111111111111111,
             "#46039f"
            ],
            [
             0.2222222222222222,
             "#7201a8"
            ],
            [
             0.3333333333333333,
             "#9c179e"
            ],
            [
             0.4444444444444444,
             "#bd3786"
            ],
            [
             0.5555555555555556,
             "#d8576b"
            ],
            [
             0.6666666666666666,
             "#ed7953"
            ],
            [
             0.7777777777777778,
             "#fb9f3a"
            ],
            [
             0.8888888888888888,
             "#fdca26"
            ],
            [
             1,
             "#f0f921"
            ]
           ],
           "sequentialminus": [
            [
             0,
             "#0d0887"
            ],
            [
             0.1111111111111111,
             "#46039f"
            ],
            [
             0.2222222222222222,
             "#7201a8"
            ],
            [
             0.3333333333333333,
             "#9c179e"
            ],
            [
             0.4444444444444444,
             "#bd3786"
            ],
            [
             0.5555555555555556,
             "#d8576b"
            ],
            [
             0.6666666666666666,
             "#ed7953"
            ],
            [
             0.7777777777777778,
             "#fb9f3a"
            ],
            [
             0.8888888888888888,
             "#fdca26"
            ],
            [
             1,
             "#f0f921"
            ]
           ]
          },
          "colorway": [
           "#636efa",
           "#EF553B",
           "#00cc96",
           "#ab63fa",
           "#FFA15A",
           "#19d3f3",
           "#FF6692",
           "#B6E880",
           "#FF97FF",
           "#FECB52"
          ],
          "font": {
           "color": "#2a3f5f"
          },
          "geo": {
           "bgcolor": "white",
           "lakecolor": "white",
           "landcolor": "white",
           "showlakes": true,
           "showland": true,
           "subunitcolor": "#C8D4E3"
          },
          "hoverlabel": {
           "align": "left"
          },
          "hovermode": "closest",
          "mapbox": {
           "style": "light"
          },
          "paper_bgcolor": "white",
          "plot_bgcolor": "white",
          "polar": {
           "angularaxis": {
            "gridcolor": "#EBF0F8",
            "linecolor": "#EBF0F8",
            "ticks": ""
           },
           "bgcolor": "white",
           "radialaxis": {
            "gridcolor": "#EBF0F8",
            "linecolor": "#EBF0F8",
            "ticks": ""
           }
          },
          "scene": {
           "xaxis": {
            "backgroundcolor": "white",
            "gridcolor": "#DFE8F3",
            "gridwidth": 2,
            "linecolor": "#EBF0F8",
            "showbackground": true,
            "ticks": "",
            "zerolinecolor": "#EBF0F8"
           },
           "yaxis": {
            "backgroundcolor": "white",
            "gridcolor": "#DFE8F3",
            "gridwidth": 2,
            "linecolor": "#EBF0F8",
            "showbackground": true,
            "ticks": "",
            "zerolinecolor": "#EBF0F8"
           },
           "zaxis": {
            "backgroundcolor": "white",
            "gridcolor": "#DFE8F3",
            "gridwidth": 2,
            "linecolor": "#EBF0F8",
            "showbackground": true,
            "ticks": "",
            "zerolinecolor": "#EBF0F8"
           }
          },
          "shapedefaults": {
           "line": {
            "color": "#2a3f5f"
           }
          },
          "ternary": {
           "aaxis": {
            "gridcolor": "#DFE8F3",
            "linecolor": "#A2B1C6",
            "ticks": ""
           },
           "baxis": {
            "gridcolor": "#DFE8F3",
            "linecolor": "#A2B1C6",
            "ticks": ""
           },
           "bgcolor": "white",
           "caxis": {
            "gridcolor": "#DFE8F3",
            "linecolor": "#A2B1C6",
            "ticks": ""
           }
          },
          "title": {
           "x": 0.05
          },
          "xaxis": {
           "automargin": true,
           "gridcolor": "#EBF0F8",
           "linecolor": "#EBF0F8",
           "ticks": "",
           "title": {
            "standoff": 15
           },
           "zerolinecolor": "#EBF0F8",
           "zerolinewidth": 2
          },
          "yaxis": {
           "automargin": true,
           "gridcolor": "#EBF0F8",
           "linecolor": "#EBF0F8",
           "ticks": "",
           "title": {
            "standoff": 15
           },
           "zerolinecolor": "#EBF0F8",
           "zerolinewidth": 2
          }
         }
        },
        "xaxis": {
         "anchor": "y",
         "domain": [
          0,
          1
         ],
         "title": {
          "text": "Date"
         }
        },
        "yaxis": {
         "anchor": "x",
         "domain": [
          0,
          1
         ],
         "title": {
          "text": "sum of num_subscribers"
         }
        }
       }
      },
      "text/html": [
       "<div>                            <div id=\"7b4b6b9e-b1ae-42a9-b484-8abe375d03f8\" class=\"plotly-graph-div\" style=\"height:525px; width:100%;\"></div>            <script type=\"text/javascript\">                require([\"plotly\"], function(Plotly) {                    window.PLOTLYENV=window.PLOTLYENV || {};                                    if (document.getElementById(\"7b4b6b9e-b1ae-42a9-b484-8abe375d03f8\")) {                    Plotly.newPlot(                        \"7b4b6b9e-b1ae-42a9-b484-8abe375d03f8\",                        [{\"alignmentgroup\":\"True\",\"bingroup\":\"x\",\"histfunc\":\"sum\",\"hovertemplate\":\"Date=%{x}<br>sum of num_subscribers=%{y}<extra></extra>\",\"legendgroup\":\"\",\"marker\":{\"color\":\"#636efa\",\"pattern\":{\"shape\":\"\"}},\"name\":\"\",\"offsetgroup\":\"\",\"orientation\":\"v\",\"showlegend\":false,\"x\":[\"2013-02-14\",\"2013-06-09\",\"2015-11-02\",\"2014-04-08\",\"2016-03-08\",\"2012-06-15\",\"2015-04-13\",\"2013-10-10\",\"2014-07-19\",\"2015-03-12\",\"2014-08-07\",\"2016-02-11\",\"2012-07-27\",\"2013-09-25\",\"2015-03-19\",\"2011-11-19\",\"2013-04-20\",\"2014-11-22\",\"2013-12-09\",\"2014-09-24\",\"2015-08-31\",\"2015-07-27\",\"2013-04-07\",\"2015-09-22\",\"2014-11-30\",\"2013-09-25\",\"2013-12-25\",\"2015-12-28\",\"2013-10-16\",\"2012-06-18\",\"2012-05-09\",\"2013-05-29\",\"2016-01-20\",\"2015-01-22\",\"2015-03-24\",\"2013-01-03\",\"2015-12-30\",\"2016-03-03\",\"2016-05-18\",\"2016-03-01\",\"2016-06-09\",\"2012-04-25\",\"2015-08-20\",\"2015-10-23\",\"2014-06-30\",\"2013-05-29\",\"2016-10-07\",\"2014-09-05\",\"2015-12-29\",\"2012-10-28\",\"2015-06-30\",\"2014-08-10\",\"2016-11-29\",\"2014-05-27\",\"2015-02-14\",\"2016-12-11\",\"2015-09-25\",\"2016-10-14\",\"2014-02-13\",\"2017-01-23\",\"2015-04-09\",\"2011-12-20\",\"2015-05-21\",\"2012-10-21\",\"2012-10-31\",\"2012-04-08\",\"2016-01-03\",\"2015-01-05\",\"2015-10-27\",\"2015-11-26\",\"2014-03-15\",\"2012-10-10\",\"2015-08-26\",\"2016-01-21\",\"2015-10-17\",\"2013-06-23\",\"2016-06-20\",\"2013-04-08\",\"2015-11-09\",\"2013-07-04\",\"2016-06-20\",\"2015-06-23\",\"2013-10-16\",\"2014-11-25\",\"2015-08-11\",\"2016-03-12\",\"2013-10-05\",\"2015-04-28\",\"2016-04-01\",\"2016-03-12\",\"2013-01-07\",\"2016-01-11\",\"2015-01-16\",\"2014-04-14\",\"2015-02-06\",\"2016-05-16\",\"2014-10-27\",\"2016-02-29\",\"2014-02-12\",\"2014-04-23\",\"2014-03-31\",\"2016-08-29\",\"2014-06-03\",\"2015-07-07\",\"2014-10-06\",\"2013-07-09\",\"2016-07-23\",\"2013-08-19\",\"2013-10-04\",\"2015-08-14\",\"2015-12-29\",\"2016-02-24\",\"2014-03-24\",\"2017-02-13\",\"2016-09-26\",\"2015-02-09\",\"2016-11-08\",\"2015-06-01\",\"2015-10-15\",\"2015-02-23\",\"2016-05-02\",\"2014-08-29\",\"2012-11-26\",\"2014-03-01\",\"2016-10-13\",\"2014-12-12\",\"2017-01-19\",\"2015-12-29\",\"2015-10-29\",\"2014-03-26\",\"2014-03-21\",\"2016-06-14\",\"2014-09-02\",\"2016-10-29\",\"2013-07-09\",\"2017-06-07\",\"2016-11-02\",\"2014-12-18\",\"2013-10-16\",\"2014-08-18\",\"2015-09-29\",\"2017-03-16\",\"2016-05-13\",\"2012-09-10\",\"2014-04-14\",\"2015-10-29\",\"2016-08-23\",\"2014-10-23\",\"2015-08-16\",\"2016-12-02\",\"2015-02-23\",\"2014-07-29\",\"2013-06-16\",\"2013-01-31\",\"2014-08-07\",\"2015-08-13\",\"2015-09-25\",\"2015-05-13\",\"2016-03-01\",\"2015-01-19\",\"2013-10-23\",\"2015-10-02\",\"2014-07-26\",\"2016-09-19\",\"2015-08-04\",\"2016-06-23\",\"2016-08-17\",\"2017-04-06\",\"2016-11-01\",\"2015-07-26\",\"2014-06-24\",\"2016-11-30\",\"2016-03-18\",\"2016-03-03\",\"2016-07-12\",\"2015-01-03\",\"2016-09-12\",\"2015-10-21\",\"2016-10-12\",\"2015-11-27\",\"2013-11-11\",\"2016-03-11\",\"2017-02-12\",\"2016-01-27\",\"2015-07-23\",\"2014-04-09\",\"2011-09-09\",\"2015-02-20\",\"2015-11-13\",\"2017-06-23\",\"2017-03-07\",\"2016-04-04\",\"2014-07-04\",\"2015-01-14\",\"2014-04-29\",\"2016-07-06\",\"2013-12-04\",\"2015-09-24\",\"2016-04-05\",\"2016-02-24\",\"2014-10-02\",\"2013-04-25\",\"2015-09-12\",\"2012-10-17\",\"2017-02-24\",\"2015-07-27\",\"2015-07-15\",\"2016-03-04\",\"2016-04-07\",\"2013-08-12\",\"2015-12-14\",\"2016-08-25\",\"2016-02-19\",\"2013-11-09\",\"2016-03-21\",\"2016-06-28\",\"2016-09-19\",\"2015-04-21\",\"2017-02-07\",\"2017-02-07\",\"2015-01-07\",\"2016-02-02\",\"2016-02-02\",\"2014-06-23\",\"2014-06-23\",\"2014-11-20\",\"2014-06-09\",\"2014-06-09\",\"2015-09-20\",\"2016-11-15\",\"2015-06-09\",\"2013-11-01\",\"2012-07-25\",\"2016-01-25\",\"2015-04-29\",\"2016-02-01\",\"2016-01-14\",\"2014-01-21\",\"2016-11-22\",\"2016-03-03\",\"2014-02-12\",\"2014-07-25\",\"2014-10-24\",\"2014-10-12\",\"2015-11-11\",\"2014-04-27\",\"2015-08-11\",\"2016-09-15\",\"2015-08-21\",\"2013-10-23\",\"2014-03-14\",\"2016-09-26\",\"2015-08-14\",\"2015-04-22\",\"2015-05-26\",\"2014-02-03\",\"2016-05-29\",\"2013-02-25\",\"2015-10-22\",\"2016-12-01\",\"2014-02-10\",\"2017-02-17\",\"2013-08-25\",\"2014-12-29\",\"2014-08-16\",\"2017-01-06\",\"2017-03-21\",\"2015-04-15\",\"2016-10-24\",\"2016-11-01\",\"2015-04-24\",\"2015-11-20\",\"2016-10-24\",\"2015-10-28\",\"2016-01-14\",\"2015-12-21\",\"2014-02-19\",\"2016-08-10\",\"2015-08-25\",\"2015-10-22\",\"2014-10-15\",\"2014-01-10\",\"2017-03-21\",\"2015-03-04\",\"2016-10-10\",\"2015-11-02\",\"2017-05-01\",\"2016-03-11\",\"2015-11-18\",\"2014-05-02\",\"2016-03-24\",\"2016-09-12\",\"2014-09-12\",\"2014-10-16\",\"2014-09-22\",\"2017-03-08\",\"2016-02-04\",\"2015-07-28\",\"2014-07-01\",\"2015-03-06\",\"2016-03-03\",\"2017-01-03\",\"2012-11-21\",\"2014-04-27\",\"2015-01-09\",\"2015-10-04\",\"2014-06-17\",\"2015-09-20\",\"2016-12-09\",\"2014-12-19\",\"2015-10-17\",\"2016-09-09\",\"2017-05-02\",\"2015-12-15\",\"2016-04-23\",\"2016-07-04\",\"2013-07-20\",\"2015-08-12\",\"2016-10-10\",\"2016-04-21\",\"2014-02-20\",\"2014-07-19\",\"2014-08-30\",\"2014-12-12\",\"2015-10-14\",\"2015-01-24\",\"2013-11-23\",\"2015-10-09\",\"2015-11-13\",\"2013-09-30\",\"2015-08-18\",\"2016-10-18\",\"2017-05-15\",\"2013-06-09\",\"2015-11-26\",\"2016-07-21\",\"2014-08-11\",\"2017-01-27\",\"2016-06-08\",\"2016-02-02\",\"2015-05-19\",\"2012-05-15\",\"2017-04-07\",\"2015-03-02\",\"2016-09-26\",\"2015-10-01\",\"2014-01-16\",\"2014-07-17\",\"2015-09-10\",\"2016-12-11\",\"2016-03-29\",\"2012-11-30\",\"2014-03-21\",\"2014-04-21\",\"2015-11-09\",\"2015-11-08\",\"2015-10-22\",\"2015-03-04\",\"2014-04-19\",\"2015-06-08\",\"2016-11-28\",\"2015-05-31\",\"2014-03-04\",\"2015-07-30\",\"2016-03-07\",\"2013-09-20\",\"2017-02-13\",\"2014-08-10\",\"2016-03-08\",\"2015-01-03\",\"2016-01-09\",\"2016-02-10\",\"2017-06-06\",\"2016-08-11\",\"2017-01-19\",\"2014-04-12\",\"2016-10-27\",\"2014-06-02\",\"2015-06-25\",\"2016-02-02\",\"2013-08-11\",\"2013-07-25\",\"2015-08-18\",\"2014-02-15\",\"2017-05-28\",\"2017-06-19\",\"2016-11-12\",\"2017-01-24\",\"2015-07-30\",\"2015-04-08\",\"2011-11-29\",\"2015-06-05\",\"2017-05-02\",\"2017-06-02\",\"2017-02-01\",\"2015-03-20\",\"2017-04-27\",\"2015-06-03\",\"2015-11-09\",\"2016-11-29\",\"2015-03-30\",\"2014-01-21\",\"2016-08-05\",\"2013-11-26\",\"2016-02-11\",\"2014-10-02\",\"2016-01-18\",\"2017-05-24\",\"2016-05-26\",\"2013-07-19\",\"2014-12-19\",\"2015-11-21\",\"2014-06-17\",\"2015-08-04\",\"2016-12-01\",\"2013-06-25\",\"2016-05-23\",\"2015-08-11\",\"2015-10-05\",\"2015-06-03\",\"2015-07-15\",\"2014-04-16\",\"2017-04-14\",\"2015-09-23\",\"2017-06-13\",\"2016-06-20\",\"2015-04-28\",\"2017-02-14\",\"2016-06-21\",\"2013-10-16\",\"2014-12-10\",\"2015-11-03\",\"2016-05-30\",\"2013-06-27\",\"2017-02-14\",\"2016-02-05\",\"2016-01-18\",\"2013-08-26\",\"2015-06-14\",\"2016-04-17\",\"2016-12-19\",\"2014-10-31\",\"2016-11-03\",\"2016-11-22\",\"2014-11-24\",\"2014-12-19\",\"2014-05-18\",\"2015-02-25\",\"2015-07-29\",\"2014-04-11\",\"2015-01-24\",\"2015-10-02\",\"2015-10-06\",\"2016-03-08\",\"2014-09-25\",\"2016-05-04\",\"2014-03-11\",\"2014-06-26\",\"2015-05-26\",\"2016-06-14\",\"2015-06-03\",\"2013-07-21\",\"2016-07-12\",\"2016-08-28\",\"2015-07-20\",\"2013-09-27\",\"2017-04-27\",\"2015-01-31\",\"2015-01-22\",\"2015-11-13\",\"2017-03-12\",\"2017-06-28\",\"2015-04-26\",\"2014-08-05\",\"2016-10-02\",\"2013-02-16\",\"2014-03-27\",\"2017-04-18\",\"2012-12-15\",\"2014-10-22\",\"2015-03-03\",\"2017-06-12\",\"2015-02-09\",\"2014-06-18\",\"2015-02-19\",\"2016-02-17\",\"2015-05-18\",\"2015-03-05\",\"2013-08-03\",\"2017-06-13\",\"2015-01-17\",\"2016-01-25\",\"2014-10-08\",\"2017-02-28\",\"2015-01-26\",\"2015-08-05\",\"2015-09-21\",\"2016-05-17\",\"2016-08-06\",\"2014-11-28\",\"2017-03-27\",\"2016-01-24\",\"2017-01-12\",\"2017-02-10\",\"2015-07-16\",\"2016-10-16\",\"2017-01-17\",\"2016-06-21\",\"2016-12-27\",\"2016-10-27\",\"2015-07-28\",\"2016-09-12\",\"2015-09-08\",\"2016-11-14\",\"2015-07-26\",\"2017-01-18\",\"2015-09-21\",\"2016-08-14\",\"2015-05-28\",\"2016-11-06\",\"2017-02-03\",\"2016-07-01\",\"2015-06-07\",\"2016-08-09\",\"2015-07-17\",\"2015-09-14\",\"2015-09-08\",\"2015-01-20\",\"2016-04-09\",\"2015-01-31\",\"2016-08-27\",\"2014-02-13\",\"2015-07-22\",\"2016-10-03\",\"2014-10-21\",\"2015-11-13\",\"2015-02-06\",\"2014-12-13\",\"2014-12-28\",\"2015-02-10\",\"2017-05-17\",\"2016-05-27\",\"2015-08-09\",\"2015-04-13\",\"2015-12-29\",\"2016-07-05\",\"2017-03-29\",\"2015-08-20\",\"2017-02-13\",\"2015-06-20\",\"2014-10-27\",\"2016-05-31\",\"2015-04-26\",\"2016-01-08\",\"2016-10-22\",\"2016-08-04\",\"2014-09-11\",\"2017-01-17\",\"2016-03-30\",\"2015-02-07\",\"2013-03-22\",\"2016-08-02\",\"2017-03-23\",\"2015-11-02\",\"2015-08-18\",\"2015-12-16\",\"2015-10-30\",\"2017-04-20\",\"2017-03-03\",\"2015-07-30\",\"2013-08-09\",\"2016-05-05\",\"2017-05-27\",\"2015-04-24\",\"2016-07-12\",\"2015-07-16\",\"2016-10-06\",\"2013-06-07\",\"2014-05-07\",\"2014-09-23\",\"2017-01-03\",\"2015-03-05\",\"2014-09-01\",\"2014-09-14\",\"2017-02-28\",\"2015-09-28\",\"2016-12-06\",\"2016-05-17\",\"2015-04-02\",\"2015-09-29\",\"2017-04-14\",\"2015-11-26\",\"2015-08-17\",\"2016-01-05\",\"2015-05-20\",\"2015-08-20\",\"2015-08-06\",\"2015-11-26\",\"2015-12-21\",\"2016-02-16\",\"2017-02-14\",\"2015-07-14\",\"2014-12-05\",\"2016-10-13\",\"2014-08-23\",\"2015-07-28\",\"2016-04-19\",\"2016-03-15\",\"2017-01-20\",\"2016-12-20\",\"2015-12-04\",\"2017-05-04\",\"2016-11-15\",\"2015-02-09\",\"2014-10-20\",\"2016-02-07\",\"2015-10-01\",\"2016-03-17\",\"2015-08-26\",\"2015-09-11\",\"2014-05-17\",\"2016-04-11\",\"2014-09-19\",\"2013-08-12\",\"2014-10-16\",\"2015-08-03\",\"2013-10-20\",\"2015-07-30\",\"2015-11-30\",\"2016-02-29\",\"2014-10-12\",\"2015-03-13\",\"2016-02-25\",\"2016-03-01\",\"2016-10-13\",\"2017-03-28\",\"2014-05-19\",\"2015-10-08\",\"2015-02-21\",\"2013-12-04\",\"2014-05-30\",\"2013-04-04\",\"2017-02-22\",\"2016-08-27\",\"2013-11-13\",\"2016-10-12\",\"2015-03-08\",\"2013-10-01\",\"2016-08-18\",\"2014-10-28\",\"2016-03-16\",\"2016-05-09\",\"2013-09-06\",\"2015-09-16\",\"2016-02-15\",\"2016-02-19\",\"2016-06-09\",\"2016-12-15\",\"2015-01-14\",\"2015-08-03\",\"2016-06-13\",\"2015-04-12\",\"2017-05-07\",\"2016-11-09\",\"2016-07-24\",\"2015-12-03\",\"2017-05-09\",\"2016-05-03\",\"2017-06-27\",\"2013-08-17\",\"2015-12-29\",\"2016-05-26\",\"2015-09-07\",\"2016-12-07\",\"2015-09-09\",\"2014-05-20\",\"2016-03-21\",\"2016-01-29\",\"2017-02-21\",\"2015-04-23\",\"2015-06-12\",\"2017-03-30\",\"2015-06-19\",\"2017-01-03\",\"2017-01-02\",\"2017-06-06\",\"2017-05-01\",\"2015-02-13\",\"2015-08-11\",\"2017-03-09\",\"2016-04-18\",\"2015-05-27\",\"2015-05-28\",\"2015-04-10\",\"2017-02-04\",\"2014-06-16\",\"2015-08-28\",\"2016-05-17\",\"2011-07-09\",\"2015-08-28\",\"2017-04-13\",\"2014-12-06\",\"2017-03-30\",\"2016-04-29\",\"2016-07-26\",\"2016-10-26\",\"2014-08-13\",\"2016-02-03\",\"2016-09-03\",\"2016-01-24\",\"2016-01-25\",\"2017-06-19\",\"2017-06-18\",\"2015-04-12\",\"2017-01-26\",\"2017-04-19\",\"2013-11-19\",\"2016-01-10\",\"2015-02-06\",\"2017-03-30\",\"2016-10-27\",\"2017-05-09\",\"2016-12-06\",\"2015-09-15\",\"2016-09-13\",\"2015-01-15\",\"2016-02-23\",\"2015-12-02\",\"2017-01-27\",\"2015-11-25\",\"2015-09-16\",\"2015-03-04\",\"2016-07-01\",\"2013-11-09\",\"2014-09-19\",\"2015-07-27\",\"2015-04-06\",\"2016-10-06\",\"2014-08-23\",\"2016-04-25\",\"2016-02-14\",\"2015-10-14\",\"2016-02-26\",\"2013-09-29\",\"2015-11-12\",\"2015-04-07\",\"2015-03-15\",\"2014-04-18\",\"2017-02-21\",\"2013-02-25\",\"2014-02-17\",\"2017-05-31\",\"2016-02-15\",\"2017-02-03\",\"2017-01-17\",\"2016-06-27\",\"2015-03-04\",\"2016-11-23\",\"2016-09-15\",\"2015-09-20\",\"2016-05-16\",\"2016-06-20\",\"2016-06-07\",\"2016-05-02\",\"2016-07-13\",\"2014-01-31\",\"2015-10-30\",\"2017-06-22\",\"2016-03-30\",\"2016-09-13\",\"2015-11-22\",\"2017-06-30\",\"2015-08-06\",\"2016-02-03\",\"2015-05-08\",\"2017-02-19\",\"2015-04-16\",\"2016-09-26\",\"2014-07-19\",\"2015-03-19\",\"2016-12-08\",\"2015-05-18\",\"2015-11-10\",\"2016-07-29\",\"2017-02-02\",\"2014-09-18\",\"2017-04-12\",\"2016-03-28\",\"2014-11-28\",\"2015-08-09\",\"2013-10-27\",\"2016-11-24\",\"2016-12-20\",\"2015-05-06\",\"2016-08-12\",\"2017-04-15\",\"2016-04-07\",\"2015-07-17\",\"2017-06-20\",\"2017-01-18\",\"2015-04-10\",\"2015-01-27\",\"2016-12-13\",\"2016-06-20\",\"2016-06-05\",\"2012-02-28\",\"2015-06-19\",\"2017-01-03\",\"2015-06-14\",\"2016-09-25\",\"2015-02-23\",\"2015-01-30\",\"2015-03-09\",\"2015-07-01\",\"2015-09-29\",\"2014-12-22\",\"2016-11-29\",\"2016-10-09\",\"2015-03-24\",\"2017-04-29\",\"2016-01-07\",\"2016-10-05\",\"2016-04-15\",\"2016-05-04\",\"2016-05-05\",\"2016-04-06\",\"2015-01-15\",\"2015-07-09\",\"2016-03-14\",\"2015-01-30\",\"2016-06-13\",\"2015-03-04\",\"2015-05-25\",\"2015-11-11\",\"2014-10-19\",\"2015-11-23\",\"2016-08-10\",\"2015-04-13\",\"2016-04-26\",\"2015-10-14\",\"2017-01-10\",\"2017-01-27\",\"2016-04-26\",\"2016-09-25\",\"2017-05-05\",\"2013-10-16\",\"2014-11-18\",\"2016-10-03\",\"2017-02-07\",\"2015-08-16\",\"2014-08-27\",\"2015-05-22\",\"2017-03-09\",\"2015-11-12\",\"2015-07-01\",\"2017-01-24\",\"2015-07-28\",\"2014-08-23\",\"2016-12-22\",\"2017-01-26\",\"2015-06-19\",\"2016-12-20\",\"2015-07-13\",\"2017-02-16\",\"2016-02-08\",\"2015-09-07\",\"2015-12-15\",\"2015-02-19\",\"2016-02-01\",\"2016-04-02\",\"2014-12-29\",\"2013-05-20\",\"2016-05-25\",\"2015-08-14\",\"2013-09-03\",\"2013-04-22\",\"2015-08-13\",\"2016-10-29\",\"2015-09-17\",\"2015-05-13\",\"2017-03-31\",\"2016-02-02\",\"2014-10-03\",\"2012-07-06\",\"2017-04-27\",\"2015-08-10\",\"2016-12-22\",\"2016-06-19\",\"2016-02-02\",\"2015-11-05\",\"2015-03-26\",\"2015-02-24\",\"2017-06-12\",\"2016-02-19\",\"2016-01-07\",\"2017-02-24\",\"2016-02-13\",\"2016-10-13\",\"2016-02-08\",\"2012-04-04\",\"2015-07-01\",\"2015-08-21\",\"2016-03-29\",\"2016-04-20\",\"2015-11-26\",\"2017-05-16\",\"2015-10-28\",\"2016-09-25\",\"2015-10-08\",\"2015-01-26\",\"2017-01-23\",\"2016-06-30\",\"2015-07-03\",\"2015-10-19\",\"2014-03-29\",\"2017-06-29\",\"2016-06-10\",\"2014-08-28\",\"2016-02-14\",\"2016-10-19\",\"2012-09-04\",\"2017-03-09\",\"2016-10-27\",\"2014-02-12\",\"2016-06-28\",\"2014-10-26\",\"2014-12-17\",\"2013-08-12\",\"2015-01-08\",\"2017-03-08\",\"2016-05-30\",\"2015-05-11\",\"2017-03-30\",\"2014-05-29\",\"2016-03-09\",\"2015-01-31\",\"2014-11-10\",\"2017-03-01\",\"2017-01-31\",\"2016-08-22\",\"2015-12-29\",\"2015-07-07\",\"2015-01-22\",\"2015-11-05\",\"2015-09-23\",\"2017-03-07\",\"2012-05-24\",\"2017-05-30\",\"2016-06-07\",\"2016-11-16\",\"2016-10-13\",\"2016-12-15\",\"2016-06-05\",\"2015-11-25\",\"2016-08-27\",\"2016-08-09\",\"2015-02-17\",\"2016-08-30\",\"2015-03-04\",\"2014-10-20\",\"2017-02-22\",\"2016-12-11\",\"2015-11-29\",\"2013-05-29\",\"2015-03-31\",\"2015-07-08\",\"2016-08-06\",\"2016-09-04\",\"2017-01-10\",\"2013-09-24\",\"2016-03-01\",\"2016-03-31\",\"2017-02-21\",\"2013-05-02\",\"2012-11-26\",\"2016-08-12\",\"2014-09-17\",\"2015-01-22\",\"2015-01-21\",\"2016-11-15\",\"2014-10-08\",\"2012-06-26\",\"2016-12-28\",\"2014-10-25\",\"2013-04-17\",\"2015-09-20\",\"2015-02-06\",\"2014-08-24\",\"2014-12-31\",\"2015-05-05\",\"2016-04-21\",\"2014-12-04\",\"2016-10-05\",\"2015-02-05\",\"2015-07-22\",\"2015-07-20\",\"2016-06-16\",\"2016-05-02\",\"2015-01-06\",\"2017-02-25\",\"2015-04-20\",\"2015-04-02\",\"2014-07-04\",\"2015-06-22\",\"2017-05-09\",\"2016-05-24\",\"2015-07-07\",\"2015-01-04\",\"2016-05-24\",\"2015-08-13\",\"2016-06-20\",\"2014-06-30\",\"2016-06-02\",\"2016-05-01\",\"2014-12-03\",\"2015-09-20\",\"2015-12-27\",\"2015-09-29\",\"2016-11-02\",\"2015-10-09\",\"2015-06-22\",\"2016-02-16\",\"2017-06-05\",\"2015-02-07\",\"2015-09-28\",\"2016-04-13\",\"2017-03-23\",\"2013-03-05\",\"2017-02-03\",\"2016-01-24\",\"2016-02-03\",\"2016-02-09\",\"2016-12-21\",\"2016-03-06\",\"2015-05-25\",\"2015-08-03\",\"2015-07-20\",\"2015-09-20\",\"2017-03-30\",\"2016-03-10\",\"2015-07-13\",\"2015-07-07\",\"2016-12-19\",\"2014-10-06\",\"2016-01-08\",\"2015-11-04\",\"2016-11-07\",\"2016-03-10\",\"2015-07-06\",\"2015-07-27\",\"2015-01-13\",\"2017-01-18\",\"2014-05-07\",\"2015-06-16\",\"2017-06-19\",\"2016-03-18\",\"2016-01-24\",\"2015-04-13\",\"2016-07-13\",\"2014-10-03\",\"2015-10-28\",\"2015-11-13\",\"2017-01-19\",\"2015-04-12\",\"2017-02-25\",\"2014-08-18\",\"2016-02-23\",\"2017-06-27\",\"2015-08-24\",\"2015-11-23\",\"2016-02-18\",\"2015-06-08\",\"2016-01-22\",\"2016-12-12\",\"2016-09-28\",\"2016-01-24\",\"2016-03-17\",\"2017-02-28\",\"2015-02-15\",\"2016-03-22\",\"2017-02-26\",\"2015-04-20\",\"2017-03-08\",\"2015-02-25\",\"2015-10-01\",\"2015-04-26\",\"2017-03-30\",\"2016-01-28\",\"2014-07-05\",\"2014-10-01\",\"2016-09-09\",\"2013-03-15\",\"2016-03-18\",\"2014-07-05\",\"2016-08-25\",\"2015-04-12\",\"2015-02-05\",\"2017-05-09\",\"2015-12-29\",\"2016-10-16\",\"2014-04-21\",\"2017-04-18\",\"2017-03-09\",\"2016-05-02\",\"2015-04-13\",\"2015-08-13\",\"2017-03-08\",\"2017-03-08\",\"2017-03-17\",\"2016-02-18\",\"2017-02-22\",\"2015-04-21\",\"2015-07-16\",\"2014-12-11\",\"2015-04-13\",\"2016-11-01\",\"2016-06-06\",\"2016-06-15\",\"2017-05-31\",\"2016-02-01\",\"2016-03-21\",\"2014-11-25\",\"2017-01-20\",\"2015-12-03\",\"2016-11-15\",\"2016-09-27\",\"2016-01-12\",\"2012-06-02\",\"2015-10-13\",\"2016-09-18\",\"2015-09-15\",\"2015-08-24\",\"2015-12-17\",\"2017-05-02\",\"2015-08-24\",\"2014-12-22\",\"2014-03-07\",\"2017-05-19\",\"2014-09-09\",\"2015-07-24\",\"2017-04-27\",\"2015-07-16\",\"2016-02-25\",\"2015-03-24\",\"2016-01-21\",\"2016-12-05\",\"2015-02-08\",\"2017-04-28\",\"2015-02-05\",\"2016-12-09\",\"2015-03-10\",\"2017-03-21\",\"2016-11-17\",\"2016-07-28\",\"2016-06-15\",\"2014-11-14\",\"2015-12-17\",\"2015-07-20\",\"2016-04-27\",\"2016-03-16\",\"2016-07-12\",\"2013-10-20\",\"2016-03-30\",\"2016-10-28\",\"2013-12-08\",\"2016-12-03\",\"2015-07-12\",\"2016-12-28\",\"2015-06-01\",\"2016-08-23\",\"2014-12-20\",\"2016-10-04\",\"2013-12-12\",\"2016-06-20\",\"2016-08-30\",\"2014-07-17\",\"2017-03-08\",\"2016-11-18\",\"2015-03-05\",\"2017-06-05\",\"2016-09-21\",\"2014-07-17\",\"2015-06-17\",\"2016-03-02\",\"2016-04-27\",\"2015-03-18\",\"2015-06-19\",\"2017-06-21\",\"2017-05-11\",\"2015-01-27\",\"2015-11-17\",\"2012-10-03\",\"2017-03-03\",\"2017-02-07\",\"2016-10-25\",\"2015-02-02\",\"2017-04-05\",\"2015-02-12\",\"2015-11-17\",\"2017-05-18\",\"2014-08-28\",\"2017-01-20\",\"2014-12-17\",\"2015-07-08\",\"2015-10-28\",\"2016-01-08\",\"2015-12-30\",\"2015-06-03\",\"2015-02-24\",\"2016-07-13\",\"2014-10-21\",\"2017-02-24\",\"2012-05-21\",\"2014-11-25\",\"2016-06-30\",\"2017-02-21\",\"2015-07-19\",\"2015-06-23\",\"2016-08-29\",\"2017-05-20\",\"2014-10-05\",\"2015-07-21\",\"2015-05-22\",\"2016-06-02\",\"2014-11-12\",\"2017-01-23\",\"2016-08-30\",\"2017-05-28\",\"2016-09-14\",\"2017-06-06\",\"2015-10-16\",\"2015-11-19\",\"2015-12-08\",\"2014-07-24\",\"2016-01-27\",\"2016-05-05\",\"2016-02-29\",\"2016-10-05\",\"2016-02-18\",\"2015-12-14\",\"2014-10-29\",\"2017-02-23\",\"2016-02-08\",\"2016-05-15\",\"2016-07-04\",\"2016-12-16\",\"2016-01-18\",\"2016-02-04\",\"2014-11-04\",\"2016-09-19\",\"2015-06-23\",\"2016-02-01\",\"2015-07-07\",\"2016-07-13\",\"2016-07-08\",\"2016-03-25\",\"2014-06-23\",\"2016-04-28\",\"2016-05-08\",\"2016-01-27\",\"2016-11-26\",\"2015-09-17\",\"2016-02-03\",\"2017-03-15\",\"2017-01-25\",\"2017-05-09\",\"2015-08-10\",\"2013-03-25\",\"2016-01-01\",\"2015-09-08\",\"2016-04-01\",\"2016-01-17\",\"2015-08-06\",\"2016-05-03\",\"2017-05-17\",\"2016-05-23\",\"2016-09-07\",\"2015-07-01\",\"2015-11-01\",\"2016-06-28\",\"2016-09-13\",\"2012-10-01\",\"2015-11-23\",\"2015-01-13\",\"2016-05-23\",\"2016-06-15\",\"2016-11-15\",\"2016-08-29\",\"2016-03-14\",\"2016-05-13\",\"2017-06-19\",\"2016-04-14\",\"2016-11-07\",\"2014-03-11\",\"2015-10-13\",\"2013-12-13\",\"2016-09-07\",\"2017-06-11\",\"2015-02-13\",\"2017-05-07\",\"2016-02-28\",\"2017-04-18\",\"2017-04-12\",\"2017-02-08\",\"2014-06-27\",\"2015-03-03\",\"2015-05-14\",\"2013-04-17\",\"2016-03-04\",\"2014-06-13\",\"2015-09-07\",\"2017-05-02\",\"2015-02-21\",\"2015-02-17\",\"2015-04-20\",\"2015-10-14\",\"2013-10-09\",\"2016-09-28\",\"2016-10-10\",\"2016-08-31\",\"2015-06-02\",\"2014-09-16\",\"2016-02-02\",\"2015-04-12\",\"2014-10-21\",\"2015-11-04\",\"2015-12-07\",\"2014-09-22\",\"2015-05-15\",\"2015-07-26\",\"2016-08-23\",\"2015-09-24\",\"2013-12-19\",\"2016-07-14\",\"2017-06-23\",\"2015-04-20\",\"2016-10-29\",\"2015-05-21\",\"2016-02-21\",\"2017-02-06\",\"2017-03-13\",\"2016-06-03\",\"2015-03-02\",\"2016-05-03\",\"2014-07-30\",\"2014-04-24\",\"2016-11-20\",\"2015-11-12\",\"2015-05-26\",\"2016-10-12\",\"2016-07-07\",\"2017-05-30\",\"2016-08-08\",\"2017-02-18\",\"2013-07-28\",\"2017-05-15\",\"2015-11-03\",\"2015-02-17\",\"2014-06-06\",\"2016-08-22\",\"2017-03-23\",\"2015-06-21\",\"2015-08-04\",\"2015-09-14\",\"2015-09-23\",\"2016-11-25\",\"2013-10-15\",\"2016-01-05\",\"2016-10-03\",\"2014-09-09\",\"2015-06-22\",\"2016-12-27\",\"2016-12-28\",\"2015-11-29\",\"2015-07-01\",\"2017-03-08\",\"2016-03-21\",\"2015-04-30\",\"2015-01-26\",\"2017-04-24\",\"2017-06-26\",\"2016-01-04\",\"2015-10-20\",\"2017-02-08\",\"2016-03-31\",\"2016-08-04\",\"2015-03-24\",\"2015-08-18\",\"2012-06-18\",\"2016-10-17\",\"2016-07-06\",\"2015-11-09\",\"2017-04-01\",\"2015-01-08\",\"2016-10-24\",\"2013-06-06\",\"2015-06-16\",\"2015-11-06\",\"2015-10-29\",\"2014-12-09\",\"2016-07-25\",\"2015-01-23\",\"2015-11-03\",\"2015-03-10\",\"2016-04-06\",\"2017-03-09\",\"2016-08-08\",\"2015-10-22\",\"2016-01-19\",\"2016-05-09\",\"2015-10-06\",\"2016-09-12\",\"2014-12-28\",\"2016-06-19\",\"2015-11-10\",\"2016-09-04\",\"2016-04-28\",\"2014-11-05\",\"2015-03-22\",\"2017-06-27\",\"2015-05-14\",\"2016-04-15\",\"2016-12-21\",\"2015-09-07\",\"2016-12-15\",\"2017-01-18\",\"2015-06-12\",\"2014-11-13\",\"2015-06-01\",\"2016-09-12\",\"2017-01-19\",\"2015-10-19\",\"2014-12-18\",\"2015-09-29\",\"2015-09-29\",\"2016-01-06\",\"2015-09-12\",\"2016-06-22\",\"2016-10-18\",\"2016-01-14\",\"2015-11-18\",\"2017-01-16\",\"2016-03-06\",\"2017-04-24\",\"2015-08-06\",\"2016-02-22\",\"2014-02-06\",\"2016-10-04\",\"2017-01-25\",\"2017-02-01\",\"2017-02-23\",\"2015-07-14\",\"2017-03-30\",\"2016-11-01\",\"2017-04-24\",\"2015-01-04\",\"2014-08-29\",\"2016-10-12\",\"2017-05-03\",\"2017-05-05\",\"2017-03-14\",\"2015-07-19\",\"2017-01-18\",\"2015-11-11\",\"2013-03-02\",\"2017-05-14\",\"2016-01-18\",\"2015-10-16\",\"2014-01-05\",\"2014-12-06\",\"2016-07-28\",\"2017-02-05\",\"2015-03-29\",\"2016-10-11\",\"2016-03-11\",\"2015-07-22\",\"2016-08-09\",\"2015-03-22\",\"2015-04-13\",\"2016-08-24\",\"2015-09-21\",\"2015-11-18\",\"2016-01-11\",\"2015-08-07\",\"2016-01-15\",\"2015-05-22\",\"2017-01-10\",\"2015-06-01\",\"2015-03-13\",\"2015-11-11\",\"2015-04-19\",\"2016-08-31\",\"2015-08-18\",\"2015-06-19\",\"2016-01-13\",\"2017-04-11\",\"2016-08-11\",\"2015-01-29\",\"2013-10-13\",\"2016-05-17\",\"2014-12-31\",\"2013-08-28\",\"2016-03-10\",\"2014-11-18\",\"2015-10-13\",\"2015-10-26\",\"2013-11-28\",\"2016-01-29\",\"2016-05-01\",\"2016-12-28\",\"2014-05-09\",\"2015-10-21\",\"2016-11-03\",\"2015-07-02\",\"2015-07-08\",\"2017-04-05\",\"2016-12-13\",\"2015-04-06\",\"2015-10-12\",\"2015-05-27\",\"2016-09-12\",\"2014-12-22\",\"2014-01-09\",\"2015-09-22\",\"2017-05-01\",\"2017-01-16\",\"2016-04-28\",\"2015-11-10\",\"2013-11-21\",\"2015-05-15\",\"2015-07-14\",\"2015-05-07\",\"2014-10-01\",\"2015-01-27\",\"2014-12-11\",\"2017-06-29\",\"2016-11-14\",\"2013-03-01\",\"2014-01-28\",\"2015-12-06\",\"2016-09-10\",\"2016-01-15\",\"2017-05-23\",\"2016-09-19\",\"2016-02-04\",\"2015-06-05\",\"2016-01-06\",\"2013-06-10\",\"2015-07-07\",\"2015-01-23\",\"2016-11-08\",\"2015-12-12\",\"2016-10-25\",\"2015-07-10\",\"2016-09-28\",\"2015-04-20\",\"2016-03-23\",\"2017-03-07\",\"2015-10-07\",\"2015-06-05\",\"2016-08-26\",\"2015-06-11\",\"2016-06-15\",\"2013-05-29\",\"2016-10-07\",\"2014-03-03\",\"2017-03-13\",\"2017-01-24\",\"2016-03-29\",\"2016-08-19\",\"2015-04-05\",\"2016-10-30\",\"2015-10-12\",\"2016-04-29\",\"2015-03-23\",\"2017-05-11\",\"2016-10-04\",\"2013-02-18\",\"2016-01-01\",\"2016-09-18\",\"2017-05-24\",\"2015-01-12\",\"2017-05-02\",\"2015-06-16\",\"2014-06-05\",\"2014-02-21\",\"2015-02-19\",\"2016-04-01\",\"2016-03-03\",\"2016-02-21\",\"2015-11-13\",\"2016-05-11\",\"2016-02-02\",\"2014-11-28\",\"2015-07-28\",\"2014-03-12\",\"2017-06-29\",\"2013-01-15\",\"2016-12-23\",\"2015-12-29\",\"2015-09-10\",\"2015-08-20\",\"2015-09-05\",\"2014-04-09\",\"2015-01-25\",\"2014-01-24\",\"2017-05-28\",\"2014-12-10\",\"2015-10-25\",\"2015-10-21\",\"2017-05-30\",\"2016-01-28\",\"2013-12-10\",\"2016-09-21\",\"2017-01-26\",\"2016-01-10\",\"2015-10-14\",\"2015-05-25\",\"2017-05-01\",\"2016-12-07\",\"2016-04-06\",\"2016-09-06\",\"2015-02-12\",\"2015-05-01\",\"2015-05-28\",\"2016-02-23\",\"2016-11-29\",\"2015-11-24\",\"2014-12-03\",\"2015-07-08\",\"2015-07-20\",\"2015-05-06\",\"2016-07-29\",\"2016-11-10\",\"2012-10-24\",\"2017-02-23\",\"2016-04-07\",\"2016-01-28\",\"2016-05-23\",\"2016-11-24\",\"2017-03-02\",\"2017-05-08\",\"2017-04-27\",\"2017-01-23\",\"2016-05-23\",\"2016-02-10\",\"2017-06-08\",\"2013-09-03\",\"2014-04-07\",\"2016-05-26\",\"2017-04-11\",\"2017-02-03\",\"2017-04-02\",\"2017-02-06\",\"2016-05-03\",\"2015-02-11\",\"2016-01-29\",\"2014-12-24\",\"2016-01-27\",\"2015-11-13\",\"2015-10-14\",\"2014-11-08\",\"2013-06-07\",\"2017-02-09\",\"2015-10-29\",\"2016-07-28\",\"2016-04-23\",\"2016-03-30\",\"2016-07-05\",\"2016-12-20\",\"2015-06-19\",\"2016-01-13\",\"2016-11-07\",\"2015-09-15\",\"2015-04-27\",\"2017-03-23\",\"2016-11-22\",\"2016-02-05\",\"2016-12-19\",\"2016-08-29\",\"2013-07-17\",\"2017-02-03\",\"2015-01-29\",\"2017-02-10\",\"2016-11-29\",\"2015-10-12\",\"2015-02-26\",\"2015-08-21\",\"2015-05-26\",\"2016-08-19\",\"2015-11-11\",\"2017-05-22\",\"2016-11-04\",\"2014-01-13\",\"2016-03-29\",\"2016-07-25\",\"2016-12-14\",\"2015-02-07\",\"2015-07-20\",\"2014-12-15\",\"2015-07-31\",\"2016-09-26\",\"2015-03-02\",\"2015-11-22\",\"2016-04-21\",\"2016-08-29\",\"2017-01-11\",\"2015-10-09\",\"2017-02-09\",\"2014-07-11\",\"2014-06-10\",\"2017-03-10\",\"2017-05-17\",\"2016-03-11\",\"2016-07-23\",\"2016-01-27\",\"2015-11-06\",\"2017-01-26\",\"2014-04-24\",\"2016-04-15\",\"2016-02-21\",\"2013-05-19\",\"2017-04-24\",\"2015-12-17\",\"2016-11-23\",\"2017-06-11\",\"2017-05-29\",\"2016-06-14\",\"2016-05-06\",\"2015-12-29\",\"2016-02-21\",\"2016-10-07\",\"2017-01-11\",\"2017-02-22\",\"2016-04-18\",\"2014-10-01\",\"2017-06-08\",\"2017-05-12\",\"2017-03-03\",\"2017-06-01\",\"2015-11-30\",\"2016-09-26\",\"2016-05-04\",\"2016-03-17\",\"2016-07-18\",\"2015-06-12\",\"2017-06-27\",\"2016-04-04\",\"2016-10-21\",\"2016-03-22\",\"2017-02-08\",\"2015-07-01\",\"2016-08-02\",\"2015-07-07\",\"2015-10-26\",\"2016-10-30\",\"2016-12-15\",\"2013-02-15\",\"2016-03-17\",\"2016-03-29\",\"2014-03-27\",\"2017-05-19\",\"2017-05-02\",\"2016-05-12\",\"2016-04-12\",\"2016-01-27\",\"2017-06-22\",\"2016-09-03\",\"2015-11-09\",\"2016-08-19\",\"2016-09-01\",\"2016-09-19\",\"2015-07-10\",\"2016-02-26\",\"2017-06-27\",\"2016-11-07\",\"2017-01-19\",\"2015-07-29\",\"2017-04-24\",\"2016-08-17\",\"2015-02-23\",\"2016-03-02\",\"2016-01-29\",\"2015-11-03\",\"2014-07-14\",\"2016-12-08\",\"2015-09-30\",\"2015-08-09\",\"2016-02-01\",\"2016-06-21\",\"2016-11-14\",\"2016-03-20\",\"2015-01-20\",\"2017-06-04\",\"2013-02-27\",\"2016-03-20\",\"2014-03-21\",\"2017-06-28\",\"2016-04-08\",\"2016-02-26\",\"2017-01-12\",\"2016-07-11\",\"2015-01-20\",\"2015-08-27\",\"2015-08-07\",\"2017-03-22\",\"2014-12-10\",\"2015-02-13\",\"2017-03-27\",\"2016-09-13\",\"2015-09-14\",\"2016-11-22\",\"2017-06-20\",\"2016-09-02\",\"2017-02-18\",\"2014-06-25\",\"2016-02-05\",\"2017-03-06\",\"2017-02-21\",\"2017-02-10\",\"2016-07-18\",\"2016-09-27\",\"2016-09-12\",\"2017-04-11\",\"2015-02-02\",\"2015-09-01\",\"2017-05-02\",\"2012-06-14\",\"2017-06-29\",\"2014-03-08\",\"2016-09-26\",\"2016-01-12\",\"2015-02-20\",\"2015-11-11\",\"2016-02-22\",\"2014-12-11\",\"2017-04-13\",\"2016-05-18\",\"2016-10-18\",\"2015-07-14\",\"2017-01-11\",\"2015-07-16\",\"2015-06-05\",\"2017-06-23\",\"2016-09-26\",\"2014-09-28\",\"2016-08-12\",\"2014-09-27\",\"2017-06-15\",\"2017-01-13\",\"2016-05-24\",\"2017-02-20\",\"2014-07-12\",\"2014-11-06\",\"2016-10-17\",\"2015-02-02\",\"2015-09-13\",\"2016-06-27\",\"2015-01-07\",\"2016-03-10\",\"2016-09-27\",\"2016-09-27\",\"2015-01-01\",\"2015-06-12\",\"2015-06-11\",\"2014-12-27\",\"2015-06-16\",\"2016-04-24\",\"2015-03-17\",\"2015-08-31\",\"2015-12-15\",\"2016-09-19\",\"2013-09-24\",\"2016-05-04\",\"2016-04-25\",\"2017-03-31\",\"2017-06-08\",\"2016-11-06\",\"2016-03-08\",\"2016-04-20\",\"2016-04-12\",\"2017-02-21\",\"2015-07-12\",\"2015-03-19\",\"2016-10-11\",\"2015-12-01\",\"2016-07-29\",\"2016-06-06\",\"2015-03-16\",\"2016-10-03\",\"2015-07-22\",\"2015-11-10\",\"2016-11-03\",\"2016-12-07\",\"2014-04-14\",\"2013-09-15\",\"2015-04-27\",\"2015-07-14\",\"2017-04-24\",\"2017-04-18\",\"2016-08-22\",\"2015-12-11\",\"2015-10-14\",\"2017-05-28\",\"2016-03-02\",\"2013-11-18\",\"2015-10-09\",\"2015-01-09\",\"2015-10-05\",\"2016-03-16\",\"2015-08-27\",\"2016-08-25\",\"2016-10-30\",\"2017-06-06\",\"2015-06-14\",\"2014-10-08\",\"2016-11-22\",\"2016-11-25\",\"2015-03-22\",\"2016-05-11\",\"2017-05-22\",\"2016-05-30\",\"2016-04-06\",\"2016-08-10\",\"2016-05-31\",\"2013-12-24\",\"2016-09-13\",\"2016-07-25\",\"2017-03-02\",\"2016-02-08\",\"2014-01-19\",\"2014-03-03\",\"2013-11-01\",\"2014-12-14\",\"2016-09-15\",\"2017-04-18\",\"2016-07-28\",\"2017-06-09\",\"2016-10-28\",\"2015-02-26\",\"2013-03-08\",\"2017-04-04\",\"2015-08-05\",\"2016-06-03\",\"2016-04-02\",\"2013-03-12\",\"2015-04-08\",\"2015-11-08\",\"2014-01-28\",\"2016-09-27\",\"2016-05-06\",\"2015-11-02\",\"2016-03-14\",\"2014-08-21\",\"2016-07-22\",\"2016-09-29\",\"2016-01-25\",\"2016-09-27\",\"2015-05-14\",\"2016-05-05\",\"2015-11-10\",\"2015-11-10\",\"2015-11-17\",\"2017-06-06\",\"2016-01-03\",\"2016-12-02\",\"2016-08-19\",\"2014-12-23\",\"2014-03-11\",\"2012-10-13\",\"2013-03-03\",\"2014-04-01\",\"2016-03-20\",\"2015-09-17\",\"2016-12-06\",\"2017-06-20\",\"2015-04-24\",\"2013-03-08\",\"2017-04-26\",\"2015-03-31\",\"2015-11-11\",\"2015-08-16\",\"2016-03-28\",\"2014-10-28\",\"2016-06-29\",\"2017-05-18\",\"2015-01-31\",\"2016-09-14\",\"2014-11-21\",\"2016-11-10\",\"2015-11-06\",\"2014-12-09\",\"2016-09-19\",\"2016-08-08\",\"2017-04-17\",\"2014-09-02\",\"2014-12-08\",\"2015-07-10\",\"2014-10-29\",\"2016-03-08\",\"2016-05-04\",\"2016-11-03\",\"2015-06-19\",\"2014-06-23\",\"2015-09-04\",\"2014-03-11\",\"2016-03-25\",\"2014-05-08\",\"2016-08-22\",\"2016-01-25\",\"2016-05-16\",\"2015-03-06\",\"2016-05-30\",\"2017-05-28\",\"2016-12-18\",\"2017-02-03\",\"2016-02-04\",\"2013-07-11\",\"2015-06-08\",\"2017-02-07\",\"2016-04-28\",\"2015-03-12\",\"2015-04-16\",\"2017-06-24\",\"2016-05-09\",\"2016-02-07\",\"2017-05-02\",\"2016-07-18\",\"2016-03-02\",\"2017-06-02\",\"2016-05-30\",\"2017-04-28\",\"2017-04-25\",\"2016-06-26\",\"2017-01-17\",\"2014-11-08\",\"2017-01-16\",\"2015-11-06\",\"2016-08-08\",\"2013-02-07\",\"2017-05-01\",\"2013-05-11\",\"2015-09-13\",\"2015-09-02\",\"2015-06-17\",\"2016-01-14\",\"2015-07-27\",\"2016-03-22\",\"2016-11-08\",\"2015-10-15\",\"2015-10-04\",\"2015-04-08\",\"2015-04-17\",\"2015-12-01\",\"2016-09-01\",\"2015-12-10\",\"2015-09-23\",\"2015-10-17\",\"2017-03-27\",\"2013-02-19\",\"2013-10-18\",\"2014-12-06\",\"2015-10-29\",\"2015-08-16\",\"2016-05-23\",\"2015-08-18\",\"2016-10-17\",\"2014-02-25\",\"2016-06-06\",\"2017-06-07\",\"2013-02-24\",\"2016-01-12\",\"2014-11-21\",\"2013-03-05\",\"2015-07-28\",\"2016-10-10\",\"2016-05-20\",\"2015-05-20\",\"2017-04-11\",\"2016-12-28\",\"2016-07-11\",\"2016-11-27\",\"2015-09-02\",\"2014-11-07\",\"2017-05-01\",\"2015-02-09\",\"2014-11-26\",\"2015-08-11\",\"2014-02-10\",\"2016-04-19\",\"2017-01-02\",\"2015-11-11\",\"2015-03-23\",\"2017-02-13\",\"2016-05-16\",\"2017-01-23\",\"2014-12-18\",\"2017-01-27\",\"2017-01-11\",\"2016-11-17\",\"2014-05-19\",\"2016-05-11\",\"2016-03-31\",\"2014-07-09\",\"2014-02-11\",\"2017-03-21\",\"2016-11-17\",\"2016-08-29\",\"2016-12-22\",\"2014-05-01\",\"2016-08-11\",\"2014-06-28\",\"2016-03-18\",\"2017-01-04\",\"2015-03-31\",\"2014-01-27\",\"2015-11-29\",\"2015-01-10\",\"2016-07-13\",\"2015-09-27\",\"2016-12-28\",\"2016-12-14\",\"2015-08-31\",\"2016-04-12\",\"2016-01-14\",\"2016-10-17\",\"2014-08-25\",\"2016-03-20\",\"2014-03-12\",\"2015-07-24\",\"2016-06-21\",\"2017-04-15\",\"2015-11-12\",\"2013-03-02\",\"2017-04-27\",\"2015-11-13\",\"2016-08-23\",\"2015-02-17\",\"2017-05-04\",\"2015-01-27\",\"2014-11-15\",\"2016-08-11\",\"2017-04-04\",\"2016-02-24\",\"2014-11-30\",\"2015-05-01\",\"2015-06-08\",\"2014-06-30\",\"2015-11-01\",\"2015-12-30\",\"2016-10-06\",\"2014-11-03\",\"2014-11-04\",\"2016-11-28\",\"2015-08-13\",\"2015-06-24\",\"2014-09-19\",\"2015-04-28\",\"2016-03-08\",\"2014-11-19\",\"2016-09-02\",\"2015-03-26\",\"2016-05-17\",\"2016-12-03\",\"2017-03-23\",\"2015-04-26\",\"2016-12-31\",\"2017-05-27\",\"2015-01-01\",\"2014-12-29\",\"2015-11-09\",\"2015-04-26\",\"2014-12-19\",\"2015-08-01\",\"2014-03-11\",\"2015-12-10\",\"2015-05-04\",\"2016-08-10\",\"2016-03-07\",\"2017-03-30\",\"2015-10-26\",\"2017-05-01\",\"2016-08-08\",\"2017-02-18\",\"2015-09-23\",\"2015-03-19\",\"2014-03-11\",\"2017-03-14\",\"2015-11-06\",\"2017-04-26\",\"2015-04-08\",\"2015-01-05\",\"2014-12-27\",\"2015-08-12\",\"2016-09-15\",\"2017-05-01\",\"2015-02-06\",\"2016-01-10\",\"2016-11-01\",\"2016-02-21\",\"2015-03-05\",\"2015-09-28\",\"2016-11-23\",\"2017-04-20\",\"2016-09-12\",\"2015-09-03\",\"2014-05-17\",\"2017-05-02\",\"2015-07-16\",\"2015-02-25\",\"2015-12-09\",\"2014-10-29\",\"2013-02-17\",\"2015-06-12\",\"2017-05-03\",\"2015-07-22\",\"2013-02-24\",\"2015-01-09\",\"2017-03-14\",\"2016-08-29\",\"2017-05-14\",\"2014-11-25\",\"2016-03-04\",\"2016-04-14\",\"2016-07-25\",\"2016-08-05\",\"2016-11-24\",\"2016-06-13\",\"2016-07-28\",\"2015-12-30\",\"2015-05-18\",\"2016-06-15\",\"2016-11-10\",\"2014-04-29\",\"2016-02-12\",\"2016-04-26\",\"2015-11-19\",\"2016-06-07\",\"2016-01-04\",\"2016-11-21\",\"2016-11-12\",\"2017-04-04\",\"2017-02-19\",\"2017-02-19\",\"2016-05-27\",\"2014-03-11\",\"2015-01-16\",\"2016-09-20\",\"2015-10-16\",\"2016-06-08\",\"2015-03-05\",\"2017-05-08\",\"2016-07-21\",\"2015-07-23\",\"2014-11-19\",\"2016-07-21\",\"2017-03-03\",\"2016-12-01\",\"2015-11-23\",\"2014-11-11\",\"2013-10-10\",\"2016-08-22\",\"2016-04-12\",\"2017-02-23\",\"2017-04-28\",\"2016-04-05\",\"2016-08-10\",\"2013-12-13\",\"2014-03-04\",\"2016-04-11\",\"2016-08-02\",\"2015-03-04\",\"2013-07-23\",\"2016-08-19\",\"2015-11-23\",\"2014-03-12\",\"2015-08-27\",\"2016-04-07\",\"2017-02-19\",\"2015-11-05\",\"2016-12-20\",\"2016-02-08\",\"2014-03-13\",\"2017-02-06\",\"2015-09-15\",\"2016-12-19\",\"2016-02-22\",\"2015-07-23\",\"2017-04-04\",\"2017-06-13\",\"2016-11-05\",\"2013-08-05\",\"2017-04-25\",\"2013-05-13\",\"2015-11-10\",\"2013-06-10\",\"2017-06-15\",\"2016-09-12\",\"2015-08-27\",\"2015-11-11\",\"2016-10-10\",\"2015-04-20\",\"2015-08-31\",\"2017-02-23\",\"2015-04-15\",\"2017-06-26\",\"2016-06-10\",\"2016-08-18\",\"2014-01-30\",\"2017-02-12\",\"2014-03-17\",\"2014-03-13\",\"2017-07-02\",\"2017-03-12\",\"2015-09-12\",\"2015-11-03\",\"2014-04-23\",\"2012-04-23\",\"2016-09-06\",\"2017-04-25\",\"2017-06-21\",\"2013-10-09\",\"2016-01-24\",\"2014-08-13\",\"2012-06-01\",\"2017-01-09\",\"2016-11-12\",\"2017-01-05\",\"2016-07-04\",\"2015-12-18\",\"2015-11-16\",\"2015-11-18\",\"2017-05-03\",\"2015-11-11\",\"2016-05-03\",\"2016-01-04\",\"2016-03-18\",\"2015-12-29\",\"2014-06-23\",\"2015-06-25\",\"2015-10-25\",\"2016-12-01\",\"2016-02-03\",\"2017-05-29\",\"2013-08-21\",\"2015-01-30\",\"2017-06-21\",\"2015-11-20\",\"2017-07-06\",\"2014-11-24\",\"2015-07-16\",\"2013-06-07\",\"2015-10-25\",\"2016-06-17\",\"2016-01-10\",\"2017-03-08\",\"2017-05-30\",\"2016-10-25\",\"2012-12-24\",\"2015-12-16\",\"2015-11-27\",\"2016-05-13\",\"2016-07-07\",\"2017-05-01\",\"2015-07-14\",\"2014-05-28\",\"2013-07-06\",\"2015-11-16\",\"2016-10-26\",\"2017-05-02\",\"2015-03-27\",\"2017-02-22\",\"2017-07-03\",\"2016-09-12\",\"2015-11-18\",\"2017-02-23\",\"2016-03-04\",\"2017-03-01\",\"2014-11-01\",\"2016-07-21\",\"2013-08-05\",\"2016-10-24\",\"2016-11-17\",\"2015-08-07\",\"2016-01-22\",\"2015-08-11\",\"2016-04-21\",\"2014-12-19\",\"2016-06-27\",\"2015-07-05\",\"2016-11-28\",\"2014-12-18\",\"2016-07-01\",\"2016-03-08\",\"2014-02-11\",\"2017-05-01\",\"2017-03-10\",\"2014-11-28\",\"2015-06-05\",\"2016-02-26\",\"2015-04-16\",\"2016-03-10\",\"2015-01-29\",\"2016-07-10\",\"2017-02-09\",\"2016-08-11\",\"2015-09-04\",\"2016-07-14\",\"2015-11-12\",\"2015-12-06\",\"2016-02-11\",\"2013-10-07\",\"2014-01-17\",\"2016-04-25\",\"2015-02-12\",\"2017-04-28\",\"2017-02-23\",\"2016-04-11\",\"2015-08-17\",\"2016-11-15\",\"2014-03-22\",\"2014-03-24\",\"2015-10-28\",\"2016-01-06\",\"2016-10-25\",\"2014-10-29\",\"2016-01-25\",\"2016-01-27\",\"2014-11-11\",\"2015-10-26\",\"2016-05-30\",\"2015-01-27\",\"2016-04-01\",\"2016-02-10\",\"2015-11-10\",\"2017-04-25\",\"2014-05-12\",\"2015-10-15\",\"2016-08-30\",\"2014-04-04\",\"2014-12-17\",\"2015-10-26\",\"2014-01-16\",\"2015-08-30\",\"2016-03-15\",\"2016-12-22\",\"2017-02-20\",\"2017-07-03\",\"2014-12-17\",\"2015-08-14\",\"2016-10-22\",\"2015-01-02\",\"2013-02-18\",\"2013-07-19\",\"2016-04-27\",\"2015-10-08\",\"2017-01-09\",\"2016-04-10\",\"2014-05-07\",\"2014-11-06\",\"2013-12-26\",\"2016-11-11\",\"2015-09-23\",\"2016-02-14\",\"2014-01-16\",\"2017-01-27\",\"2016-03-06\",\"2016-10-12\",\"2015-11-12\",\"2015-05-12\",\"2016-12-12\",\"2017-05-23\",\"2017-03-10\",\"2016-02-19\",\"2016-08-17\",\"2016-11-30\",\"2013-09-05\",\"2015-06-02\",\"2016-06-14\",\"2016-06-20\",\"2015-03-09\",\"2015-08-21\",\"2016-03-03\",\"2015-11-02\",\"2015-08-11\",\"2016-10-28\",\"2013-11-26\",\"2017-06-29\",\"2014-04-30\",\"2015-06-16\",\"2015-11-09\",\"2016-12-09\",\"2016-02-16\",\"2016-03-14\",\"2014-04-25\",\"2014-02-19\",\"2015-03-03\",\"2016-03-14\",\"2016-07-18\",\"2013-10-08\",\"2015-04-17\",\"2014-01-31\",\"2016-10-12\",\"2016-05-18\",\"2015-01-01\",\"2014-09-20\",\"2015-03-04\",\"2017-05-01\",\"2014-04-16\",\"2017-05-26\",\"2017-07-03\",\"2014-06-30\",\"2014-05-13\",\"2017-05-22\",\"2015-07-14\",\"2016-05-11\",\"2016-10-03\",\"2015-05-26\",\"2013-08-05\",\"2015-09-23\",\"2016-12-05\",\"2015-04-15\",\"2014-09-03\",\"2014-03-19\",\"2016-03-30\",\"2016-04-25\",\"2016-12-22\",\"2017-05-02\",\"2016-12-14\",\"2017-01-03\",\"2016-02-17\",\"2015-11-11\",\"2017-01-01\",\"2013-05-13\",\"2013-12-31\",\"2017-05-28\",\"2017-02-06\",\"2014-12-24\",\"2015-01-08\",\"2016-11-01\",\"2016-09-19\",\"2014-03-18\",\"2016-05-27\",\"2016-08-18\",\"2015-03-19\",\"2015-10-26\",\"2016-01-18\",\"2014-06-02\",\"2015-10-08\",\"2015-12-30\",\"2013-03-06\",\"2017-02-09\",\"2014-09-22\",\"2014-10-10\",\"2016-07-13\",\"2014-03-07\",\"2016-06-10\",\"2016-09-22\",\"2016-04-29\",\"2014-01-27\",\"2016-05-18\",\"2015-09-15\",\"2016-03-12\",\"2017-03-13\",\"2015-09-07\",\"2015-04-15\",\"2016-11-20\",\"2014-02-11\",\"2016-10-29\",\"2014-06-21\",\"2015-10-02\",\"2017-04-18\",\"2016-11-11\",\"2014-07-24\",\"2016-02-12\",\"2016-02-13\",\"2016-12-22\",\"2017-03-28\",\"2015-04-15\",\"2015-01-22\",\"2016-10-18\",\"2016-01-28\",\"2015-12-10\",\"2016-08-18\",\"2014-12-17\",\"2014-03-12\",\"2015-12-22\",\"2017-03-06\",\"2017-06-09\",\"2016-01-10\",\"2015-08-07\",\"2014-02-27\",\"2014-12-19\",\"2017-03-07\",\"2016-12-14\",\"2016-09-30\",\"2016-02-05\",\"2016-12-01\",\"2015-11-05\",\"2017-05-24\",\"2016-10-25\",\"2014-03-26\",\"2015-04-15\",\"2017-03-31\",\"2015-09-21\",\"2014-06-25\",\"2014-11-20\",\"2016-04-26\",\"2016-02-13\",\"2016-07-15\",\"2016-08-06\",\"2015-04-15\",\"2015-08-13\",\"2016-06-07\",\"2015-04-15\",\"2016-05-02\",\"2016-04-13\",\"2014-12-30\",\"2017-05-24\",\"2014-03-11\",\"2017-01-13\",\"2014-02-24\",\"2013-10-21\",\"2013-01-09\",\"2014-11-05\",\"2017-01-23\",\"2014-10-24\",\"2014-06-11\",\"2016-06-10\",\"2015-04-24\",\"2017-04-28\",\"2016-08-09\",\"2013-08-21\",\"2015-04-15\",\"2016-07-20\",\"2016-09-25\",\"2014-03-02\",\"2016-02-17\",\"2014-07-28\",\"2014-01-14\",\"2015-09-22\",\"2016-04-28\",\"2017-05-26\",\"2016-12-19\",\"2016-02-17\",\"2013-08-05\",\"2016-08-16\",\"2015-11-12\",\"2015-09-10\",\"2017-02-13\",\"2016-05-16\",\"2013-08-05\",\"2016-03-03\",\"2015-04-08\",\"2015-02-26\",\"2017-02-07\",\"2016-10-09\",\"2016-02-29\",\"2014-10-16\",\"2017-01-20\",\"2016-07-22\",\"2015-03-08\",\"2015-01-01\",\"2013-11-15\",\"2014-03-17\",\"2013-08-12\",\"2014-01-30\",\"2016-03-08\",\"2015-12-18\",\"2013-10-03\",\"2015-10-30\",\"2017-04-05\",\"2014-06-30\",\"2016-07-07\",\"2015-06-26\",\"2013-01-24\",\"2013-08-12\",\"2016-06-09\",\"2013-05-29\",\"2016-06-13\",\"2016-11-10\",\"2015-03-29\",\"2015-12-07\",\"2014-11-18\",\"2016-05-16\",\"2016-04-01\",\"2016-03-24\",\"2014-06-08\",\"2015-06-07\",\"2014-11-08\",\"2016-02-17\",\"2016-03-15\",\"2016-12-29\",\"2015-04-06\",\"2015-11-23\",\"2014-09-15\",\"2015-11-03\",\"2015-09-07\",\"2013-07-30\",\"2016-12-29\",\"2016-03-18\",\"2016-11-27\",\"2017-05-04\",\"2014-02-05\",\"2013-08-12\",\"2016-10-18\",\"2017-03-29\",\"2014-12-17\",\"2013-05-24\",\"2015-03-02\",\"2016-02-16\",\"2015-09-22\",\"2017-02-16\",\"2015-10-18\",\"2015-11-14\",\"2015-11-12\",\"2014-11-18\",\"2015-05-25\",\"2015-11-06\",\"2015-04-16\",\"2017-04-24\",\"2016-07-26\",\"2015-07-21\",\"2017-06-15\",\"2015-10-12\",\"2016-04-08\",\"2012-01-26\",\"2013-10-02\",\"2015-02-26\",\"2015-03-23\",\"2017-02-18\",\"2015-10-02\",\"2013-06-19\",\"2014-03-06\",\"2016-11-21\",\"2016-02-14\",\"2016-11-03\",\"2013-07-23\",\"2014-08-28\",\"2015-08-10\",\"2014-03-25\",\"2015-06-26\",\"2017-02-06\",\"2014-03-16\",\"2014-10-01\",\"2015-04-27\",\"2016-10-18\",\"2016-07-07\",\"2017-05-25\",\"2016-06-29\",\"2015-01-03\",\"2015-04-21\",\"2016-01-12\",\"2015-09-15\",\"2016-01-18\",\"2016-02-22\",\"2015-08-16\",\"2013-12-11\",\"2016-04-13\",\"2015-10-07\",\"2017-03-01\",\"2016-06-09\",\"2016-05-27\",\"2013-08-12\",\"2014-07-21\",\"2017-06-02\",\"2015-08-19\",\"2015-08-04\",\"2016-06-28\",\"2015-04-16\",\"2017-05-09\",\"2015-04-20\",\"2016-02-24\",\"2015-11-28\",\"2016-02-15\",\"2015-01-21\",\"2017-06-13\",\"2012-05-04\",\"2015-06-03\",\"2017-04-24\",\"2014-07-31\",\"2015-07-07\",\"2017-02-17\",\"2017-06-30\",\"2017-02-20\",\"2014-10-30\",\"2017-05-31\",\"2015-09-17\",\"2015-12-14\",\"2017-06-27\",\"2016-11-24\",\"2016-08-10\",\"2017-05-25\",\"2016-11-20\",\"2017-01-02\",\"2015-07-23\",\"2015-03-26\",\"2015-04-06\",\"2015-07-06\",\"2014-03-16\",\"2015-01-01\",\"2016-12-13\",\"2016-02-13\",\"2015-12-09\",\"2017-01-03\",\"2017-04-19\",\"2016-07-05\",\"2016-03-10\",\"2016-07-25\",\"2016-04-08\",\"2016-04-13\",\"2017-02-02\",\"2014-08-08\",\"2017-05-23\",\"2015-01-08\",\"2016-08-17\",\"2014-11-05\",\"2016-04-22\",\"2014-01-27\",\"2015-05-01\",\"2014-10-02\",\"2015-02-18\",\"2017-04-18\",\"2013-07-23\",\"2015-01-30\",\"2017-05-12\",\"2015-11-01\",\"2015-08-28\",\"2014-01-29\",\"2016-06-21\",\"2015-04-16\",\"2016-12-29\",\"2016-10-11\",\"2016-06-26\",\"2016-12-26\",\"2016-02-10\",\"2017-04-06\",\"2016-07-09\",\"2017-05-04\",\"2015-09-24\",\"2015-07-26\",\"2016-07-02\",\"2013-10-24\",\"2014-06-17\",\"2013-10-26\",\"2015-09-01\",\"2017-01-23\",\"2017-04-20\",\"2015-08-21\",\"2015-02-13\",\"2016-10-03\",\"2013-07-24\",\"2016-08-18\",\"2016-08-21\",\"2016-03-31\",\"2012-10-31\",\"2014-08-02\",\"2016-04-13\",\"2015-05-12\",\"2014-09-19\",\"2017-04-17\",\"2014-03-10\",\"2015-07-19\",\"2016-03-12\",\"2016-02-17\",\"2017-03-14\",\"2015-07-10\",\"2017-05-02\",\"2015-09-10\",\"2016-01-12\",\"2015-08-19\",\"2016-01-21\",\"2015-10-16\",\"2016-07-29\",\"2014-03-17\",\"2014-12-08\",\"2016-08-11\",\"2015-06-16\",\"2014-02-25\",\"2016-06-23\",\"2014-09-05\",\"2015-05-24\",\"2014-01-16\",\"2016-07-18\",\"2013-11-18\",\"2013-09-29\",\"2014-03-06\",\"2016-01-11\",\"2012-06-27\",\"2015-10-13\",\"2017-04-26\",\"2016-04-13\",\"2016-06-02\",\"2016-04-27\",\"2013-10-16\",\"2015-11-01\",\"2014-05-28\",\"2016-08-17\",\"2016-02-15\",\"2016-11-24\",\"2016-04-07\",\"2016-10-12\",\"2013-02-27\",\"2017-03-29\",\"2014-03-23\",\"2017-02-13\",\"2014-03-09\",\"2016-03-31\",\"2014-04-29\",\"2016-06-20\",\"2014-10-24\",\"2016-01-08\",\"2014-03-01\",\"2014-07-22\",\"2013-08-12\",\"2013-08-12\",\"2015-06-17\",\"2014-05-17\",\"2014-04-06\",\"2017-02-13\",\"2015-11-07\",\"2017-04-24\",\"2013-07-15\",\"2014-10-29\",\"2016-11-14\",\"2017-05-10\",\"2016-07-01\",\"2015-05-25\",\"2016-07-14\",\"2014-05-05\",\"2016-11-25\",\"2015-07-02\",\"2017-05-01\",\"2015-04-09\",\"2017-05-01\",\"2015-06-09\",\"2013-11-25\",\"2016-09-27\",\"2015-05-19\",\"2016-02-29\",\"2015-07-17\",\"2017-05-03\",\"2015-03-19\",\"2017-05-29\",\"2015-08-21\",\"2017-05-29\",\"2016-02-09\",\"2017-04-25\",\"2017-03-20\",\"2017-04-27\",\"2015-09-01\",\"2016-02-12\",\"2016-04-08\",\"2016-04-13\",\"2017-06-09\",\"2015-07-16\",\"2015-07-09\",\"2015-12-15\",\"2016-08-18\",\"2013-11-26\",\"2015-11-25\",\"2016-11-24\",\"2015-02-25\",\"2017-05-24\",\"2015-12-17\",\"2015-11-17\",\"2015-08-17\",\"2015-12-03\",\"2016-06-14\",\"2013-11-14\",\"2014-01-22\",\"2015-03-15\",\"2016-02-16\",\"2016-04-22\",\"2016-06-09\",\"2015-04-17\",\"2014-10-23\",\"2016-06-06\",\"2017-03-31\",\"2016-12-21\",\"2016-05-16\",\"2016-04-13\",\"2013-12-13\",\"2017-04-18\",\"2017-05-16\",\"2015-07-10\",\"2017-06-12\",\"2016-07-02\",\"2017-01-24\",\"2013-07-23\",\"2016-03-29\",\"2016-01-13\",\"2017-06-16\",\"2016-01-22\",\"2017-03-30\",\"2017-05-24\",\"2016-12-05\",\"2015-08-17\",\"2016-06-01\",\"2016-07-04\",\"2017-02-14\",\"2014-10-08\",\"2016-10-29\",\"2017-05-23\",\"2016-03-23\",\"2014-01-14\",\"2017-05-23\",\"2017-03-02\",\"2015-02-19\",\"2017-05-29\",\"2017-02-01\",\"2016-06-01\",\"2017-06-06\",\"2016-09-27\",\"2016-07-29\",\"2016-01-04\",\"2014-12-16\",\"2015-07-14\",\"2015-05-15\",\"2014-09-22\",\"2017-05-10\",\"2016-04-13\",\"2016-04-08\",\"2014-09-14\",\"2017-05-05\",\"2016-07-28\",\"2016-07-12\",\"2016-02-11\",\"2015-06-01\",\"2015-09-23\",\"2016-05-24\",\"2014-05-01\",\"2016-04-04\",\"2016-02-15\",\"2014-10-25\",\"2015-09-25\",\"2016-06-29\",\"2017-02-09\",\"2014-11-24\",\"2014-10-14\",\"2017-07-06\",\"2016-05-24\",\"2017-03-13\",\"2014-02-02\",\"2016-04-12\",\"2017-02-06\",\"2015-03-29\",\"2015-03-26\",\"2016-11-08\",\"2016-08-29\",\"2017-04-23\",\"2016-11-24\",\"2016-12-26\",\"2012-11-12\",\"2012-10-02\",\"2016-09-25\",\"2015-10-24\",\"2016-04-13\",\"2016-12-22\",\"2017-01-16\",\"2016-10-12\",\"2015-12-09\",\"2016-09-13\",\"2015-02-13\",\"2016-02-29\",\"2015-12-28\",\"2015-07-06\",\"2016-02-14\",\"2016-07-28\",\"2016-07-20\",\"2016-05-11\",\"2013-07-23\",\"2016-05-25\",\"2012-08-31\",\"2016-09-10\",\"2013-05-16\",\"2017-02-22\",\"2015-08-05\",\"2016-07-05\",\"2016-08-26\",\"2017-02-27\",\"2016-02-03\",\"2017-05-02\",\"2016-11-21\",\"2017-06-12\",\"2016-07-04\",\"2016-05-27\",\"2013-07-23\",\"2016-04-13\",\"2017-03-15\",\"2017-04-19\",\"2017-03-22\",\"2016-12-13\",\"2015-10-10\",\"2014-12-29\",\"2015-08-04\",\"2015-06-09\",\"2016-04-08\",\"2016-10-04\",\"2012-10-07\",\"2015-10-15\",\"2015-10-08\",\"2016-09-21\",\"2017-04-17\",\"2016-09-14\",\"2017-06-12\",\"2017-02-20\",\"2014-06-17\",\"2015-12-04\",\"2017-06-11\",\"2015-08-09\",\"2015-06-02\",\"2013-02-16\",\"2016-06-30\",\"2016-08-13\",\"2016-08-26\",\"2017-05-31\",\"2017-02-17\",\"2015-06-08\",\"2015-04-22\",\"2017-06-13\",\"2015-04-20\",\"2016-12-14\",\"2016-01-22\",\"2017-04-25\",\"2013-07-26\",\"2017-02-07\",\"2016-04-13\",\"2016-08-14\",\"2015-07-08\",\"2016-09-09\",\"2013-08-29\",\"2017-04-19\",\"2015-12-01\",\"2013-12-12\",\"2017-05-19\",\"2016-04-24\",\"2015-08-14\",\"2017-05-24\",\"2013-11-28\",\"2016-11-07\",\"2015-11-26\",\"2016-06-29\",\"2015-11-22\",\"2014-07-03\",\"2014-11-04\",\"2015-07-05\",\"2017-05-01\",\"2015-03-08\",\"2014-09-22\",\"2015-08-13\",\"2016-04-20\",\"2014-05-26\",\"2016-07-18\",\"2012-10-31\",\"2013-09-26\",\"2015-12-08\",\"2016-11-28\",\"2016-12-22\",\"2016-01-22\",\"2016-08-18\",\"2016-10-27\",\"2016-04-13\",\"2016-06-09\",\"2017-03-02\",\"2015-04-01\",\"2013-05-26\",\"2014-11-12\",\"2015-07-24\",\"2015-10-18\",\"2015-05-08\",\"2017-03-30\",\"2015-01-17\",\"2017-06-27\",\"2016-09-06\",\"2015-07-02\",\"2015-01-09\",\"2015-08-25\",\"2016-12-14\",\"2014-09-22\",\"2017-03-30\",\"2016-02-01\",\"2017-01-13\",\"2017-05-02\",\"2016-07-24\",\"2016-05-17\",\"2014-09-21\",\"2015-06-17\",\"2016-01-26\",\"2015-05-28\",\"2017-06-15\",\"2016-12-27\",\"2015-10-19\",\"2017-03-03\",\"2016-02-25\",\"2014-01-23\",\"2015-07-30\",\"2017-04-24\",\"2016-03-29\",\"2016-01-29\",\"2016-10-21\",\"2016-08-29\",\"2016-03-22\",\"2017-07-03\",\"2016-03-10\",\"2015-12-07\",\"2015-02-13\",\"2017-06-11\",\"2014-05-19\",\"2016-02-12\",\"2015-10-19\",\"2014-09-01\",\"2015-03-16\",\"2017-05-01\",\"2017-07-03\",\"2017-05-18\",\"2017-03-11\",\"2015-08-03\",\"2017-05-30\",\"2016-02-27\",\"2016-09-20\",\"2016-11-16\",\"2017-03-21\",\"2014-03-10\",\"2015-04-10\",\"2017-06-22\",\"2015-11-06\",\"2016-12-05\",\"2017-03-22\",\"2016-02-13\",\"2017-04-14\",\"2016-02-23\",\"2017-05-17\",\"2017-03-16\",\"2017-06-28\",\"2016-04-26\",\"2014-09-22\",\"2016-02-25\",\"2017-06-28\",\"2015-05-04\",\"2015-10-19\",\"2016-04-13\",\"2015-10-04\",\"2016-05-12\",\"2015-09-30\",\"2016-11-18\",\"2017-04-18\",\"2016-05-12\",\"2015-09-13\",\"2016-03-22\",\"2014-09-10\",\"2015-06-17\",\"2015-06-01\",\"2016-06-20\",\"2017-05-08\",\"2017-02-24\",\"2014-08-16\",\"2016-05-23\",\"2016-12-16\",\"2014-05-19\",\"2016-04-06\",\"2014-04-22\",\"2016-04-13\",\"2014-04-04\",\"2015-12-06\",\"2014-05-16\",\"2015-09-28\",\"2017-02-02\",\"2016-02-06\",\"2015-07-29\",\"2016-09-29\",\"2016-12-14\",\"2016-04-13\",\"2017-03-24\",\"2017-07-04\",\"2017-04-06\",\"2014-09-22\",\"2017-03-27\",\"2013-12-01\",\"2015-10-23\",\"2015-08-24\",\"2017-07-06\",\"2013-04-23\",\"2017-02-15\",\"2017-07-03\",\"2015-06-08\",\"2017-07-03\",\"2017-05-01\",\"2016-06-27\",\"2016-12-10\",\"2017-06-28\",\"2016-12-15\",\"2016-04-13\",\"2016-01-22\",\"2014-05-16\",\"2017-05-01\",\"2016-05-17\",\"2016-12-24\",\"2016-01-16\",\"2017-05-10\",\"2017-02-07\",\"2016-10-29\",\"2014-05-07\",\"2015-04-10\",\"2016-04-01\",\"2014-08-18\",\"2016-09-23\",\"2014-06-17\",\"2014-06-12\",\"2017-02-03\",\"2016-06-13\",\"2016-09-06\",\"2016-07-08\",\"2016-09-21\",\"2015-03-08\",\"2016-06-14\",\"2016-12-31\",\"2016-12-26\",\"2016-01-19\",\"2017-03-13\",\"2016-05-05\",\"2014-08-18\",\"2017-04-11\",\"2014-08-21\",\"2016-03-24\",\"2016-04-27\",\"2017-05-04\",\"2016-12-27\",\"2014-07-18\",\"2016-09-26\",\"2015-09-20\",\"2017-05-17\",\"2015-03-02\",\"2013-12-05\",\"2013-06-28\",\"2016-11-01\",\"2016-10-18\",\"2016-04-13\",\"2016-04-14\",\"2016-02-26\",\"2015-06-09\",\"2017-05-17\",\"2014-05-14\",\"2014-05-05\",\"2017-06-02\",\"2014-05-09\",\"2017-01-03\",\"2016-08-04\",\"2014-07-20\",\"2015-01-07\",\"2017-03-08\",\"2015-10-22\",\"2015-11-19\",\"2017-04-03\",\"2015-05-20\",\"2016-11-19\",\"2017-04-13\",\"2016-09-22\",\"2015-02-18\",\"2016-06-20\",\"2016-08-26\",\"2017-02-27\",\"2016-08-06\",\"2014-05-09\",\"2014-05-16\",\"2017-01-03\",\"2016-04-27\",\"2014-05-19\",\"2014-05-09\",\"2014-05-07\",\"2016-11-27\",\"2016-04-27\",\"2013-06-03\",\"2014-01-20\",\"2015-01-30\",\"2016-12-19\",\"2016-06-16\",\"2014-05-16\",\"2016-10-22\",\"2016-05-05\",\"2016-12-08\",\"2017-06-22\",\"2015-01-29\",\"2015-08-18\",\"2017-03-23\",\"2017-05-09\",\"2015-03-29\",\"2017-04-06\",\"2017-06-27\",\"2016-04-01\",\"2016-10-16\",\"2016-04-23\",\"2016-05-03\",\"2016-05-26\",\"2013-10-02\",\"2017-06-20\",\"2017-03-21\",\"2016-04-12\",\"2015-10-28\",\"2014-05-16\",\"2016-06-21\",\"2017-03-16\",\"2016-06-26\",\"2016-08-30\",\"2017-04-11\",\"2016-12-14\",\"2017-06-14\",\"2016-07-01\",\"2014-06-16\",\"2015-09-25\",\"2015-11-21\",\"2017-04-20\",\"2017-04-17\",\"2016-05-24\",\"2015-01-22\",\"2014-05-09\",\"2014-05-09\",\"2016-03-29\",\"2013-02-22\",\"2017-05-23\",\"2016-08-29\",\"2014-11-30\",\"2017-04-24\",\"2017-03-16\",\"2017-01-03\",\"2016-08-17\",\"2017-05-15\",\"2015-10-26\",\"2016-07-11\",\"2017-03-06\",\"2015-02-23\",\"2017-04-28\",\"2016-01-07\",\"2017-02-13\",\"2017-06-28\",\"2016-04-06\",\"2017-05-31\",\"2014-05-19\",\"2014-05-19\",\"2014-05-07\",\"2015-12-17\",\"2017-04-10\",\"2017-05-01\",\"2016-06-20\",\"2017-05-05\",\"2015-01-12\",\"2017-05-15\",\"2017-03-29\",\"2016-02-08\",\"2014-06-27\",\"2015-07-22\",\"2015-07-10\",\"2016-11-18\",\"2016-07-10\",\"2015-11-12\",\"2015-08-06\",\"2017-05-18\",\"2014-05-07\",\"2015-07-21\",\"2017-04-12\",\"2014-05-19\",\"2017-04-19\",\"2016-02-22\",\"2017-03-28\",\"2014-05-19\",\"2017-05-01\",\"2015-07-14\",\"2016-12-22\",\"2017-06-21\",\"2017-06-07\",\"2017-02-17\",\"2017-03-31\",\"2014-03-31\",\"2015-08-04\",\"2017-05-31\",\"2017-04-17\",\"2015-11-30\",\"2017-06-16\",\"2015-08-23\",\"2015-11-13\",\"2017-02-03\",\"2017-02-02\",\"2017-01-19\",\"2014-04-30\",\"2017-03-07\",\"2017-06-29\",\"2016-03-29\",\"2017-05-02\",\"2014-05-09\",\"2015-06-11\",\"2014-05-19\",\"2015-06-22\",\"2015-08-04\",\"2016-11-18\",\"2016-02-05\",\"2017-03-31\",\"2017-04-27\",\"2016-02-11\",\"2017-06-29\",\"2017-06-28\",\"2015-11-02\",\"2017-04-06\",\"2017-01-19\",\"2017-06-22\",\"2016-07-18\",\"2017-06-19\",\"2017-01-28\",\"2017-05-29\",\"2016-06-03\",\"2014-04-30\",\"2014-05-19\",\"2017-04-26\",\"2015-01-13\",\"2015-01-09\",\"2015-12-17\",\"2016-10-03\",\"2016-03-09\",\"2014-05-05\",\"2015-10-20\",\"2015-03-23\",\"2017-05-02\",\"2017-05-01\",\"2015-12-22\",\"2017-06-23\",\"2017-06-27\",\"2014-04-02\",\"2014-04-01\",\"2017-03-17\",\"2014-04-15\",\"2017-05-03\",\"2015-09-15\",\"2017-07-04\",\"2015-06-01\",\"2014-09-22\",\"2017-05-03\",\"2016-09-21\",\"2017-06-19\",\"2016-02-18\",\"2017-06-17\",\"2017-05-04\",\"2017-04-17\",\"2014-05-08\",\"2017-02-20\",\"2016-06-20\",\"2017-03-08\",\"2017-03-31\",\"2017-03-24\",\"2014-04-15\",\"2017-02-26\",\"2017-06-23\",\"2017-01-02\",\"2016-05-23\",\"2017-04-06\",\"2016-06-28\",\"2015-09-04\",\"2017-04-28\",\"2017-05-22\",\"2016-04-07\",\"2016-04-07\",\"2014-11-08\",\"2016-04-05\",\"2017-01-18\",\"2016-05-16\",\"2015-03-24\",\"2017-07-04\",\"2017-05-24\",\"2016-01-29\",\"2016-09-02\",\"2016-10-03\",\"2016-09-01\",\"2017-05-17\",\"2017-06-21\",\"2017-05-29\",\"2017-06-02\",\"2016-12-21\",\"2016-06-23\",\"2017-01-23\",\"2017-06-08\",\"2017-01-19\",\"2017-03-07\",\"2017-06-21\",\"2014-04-04\",\"2016-09-13\",\"2016-02-08\",\"2015-11-24\",\"2015-11-24\",\"2014-04-01\",\"2017-02-26\",\"2017-02-08\",\"2017-01-13\",\"2017-05-25\",\"2015-07-07\",\"2017-04-15\",\"2016-10-19\",\"2017-06-23\",\"2017-02-26\",\"2017-04-23\",\"2017-06-29\",\"2017-07-05\",\"2017-06-29\",\"2016-03-17\",\"2016-05-11\",\"2017-06-20\",\"2015-11-17\",\"2017-05-04\",\"2016-12-13\",\"2017-03-27\",\"2017-02-07\",\"2016-02-15\",\"2017-04-12\",\"2017-06-29\",\"2017-07-06\",\"2017-06-29\",\"2016-04-11\",\"2017-03-10\",\"2017-06-20\",\"2016-10-31\",\"2017-06-30\",\"2017-03-10\",\"2017-05-22\",\"2017-05-30\",\"2017-07-05\",\"2016-06-08\",\"2016-01-18\",\"2017-05-17\",\"2014-12-19\",\"2016-10-31\",\"2017-06-19\",\"2017-07-03\",\"2017-03-09\",\"2014-04-01\",\"2016-12-22\",\"2017-05-25\",\"2014-04-04\",\"2014-04-15\",\"2017-06-30\",\"2017-03-08\",\"2014-03-31\",\"2017-03-24\",\"2014-04-15\",\"2017-05-23\",\"2017-07-05\",\"2017-06-28\",\"2017-07-02\",\"2017-04-24\",\"2017-06-29\",\"2017-06-29\",\"2017-07-03\",\"2016-05-16\",\"2017-07-06\",\"2016-12-26\",\"2017-07-05\",\"2017-05-02\",\"2017-07-03\",\"2017-02-02\",\"2017-05-16\",\"2016-12-15\",\"2016-12-22\",\"2017-04-17\",\"2017-07-03\",\"2017-06-29\",\"2017-04-03\",\"2017-02-15\",\"2017-06-28\",\"2016-01-06\",\"2017-05-25\",\"2015-12-17\",\"2017-04-23\",\"2017-07-06\",\"2017-07-03\",\"2017-05-01\",\"2016-07-27\",\"2017-06-28\",\"2017-02-08\",\"2017-06-29\",\"2017-06-28\"],\"xaxis\":\"x\",\"y\":[268923,161029,121584,120291,114512,101154,98867,84897,83737,79612,75499,73783,73110,72932,70773,69186,65576,64128,59639,59361,58208,57422,56659,55332,53851,51257,50855,50815,48650,47886,47811,47652,47062,44044,43977,43285,41478,40070,37141,36322,36288,35267,33788,33677,33205,32935,32696,32260,31499,31070,30531,29990,29348,29167,28880,28694,28125,27801,26800,26742,26697,26673,26541,26504,25864,25854,25799,25277,24978,24861,24857,24687,24575,24481,23764,23669,23572,23412,23229,22999,22623,22355,22344,22257,22213,21998,21730,21701,21689,21682,21653,21245,21147,21087,20890,20652,20195,20073,19909,19614,19339,19210,18818,18777,18496,18324,18303,18170,18143,18101,17895,17847,17802,17784,17759,17714,17671,17554,17463,17334,17297,17160,17113,17071,16926,16900,16829,16731,16590,16527,16486,16409,16385,16282,16212,16158,15724,15715,15500,15493,15462,15276,15276,15187,15134,15106,15092,15064,14922,14842,14813,14606,14560,14551,14495,14440,14260,14254,14118,14103,14074,14026,13960,13920,13882,13708,13535,13457,13439,13406,13242,13210,13130,13016,13010,12974,12953,12952,12893,12882,12873,12838,12815,12781,12629,12563,12458,12394,12368,12366,12340,12336,12328,12293,12217,12201,12105,12103,12068,12021,11958,11893,11892,11847,11832,11812,11758,11724,11666,11643,11574,11536,11533,11517,11492,11441,11384,11339,11285,11285,11262,11170,11170,11167,11167,11080,11026,11026,11011,10945,10917,10890,10875,10874,10869,10864,10780,10689,10674,10670,10610,10606,10605,10603,10576,10540,10518,10435,10394,10338,10247,10179,10179,10150,10149,10110,10103,10100,10042,10008,9995,9945,9881,9847,9833,9832,9831,9786,9773,9762,9687,9668,9607,9554,9483,9464,9445,9425,9421,9384,9381,9375,9367,9364,9359,9355,9351,9349,9332,9221,9193,9132,9110,9109,9103,9067,9056,9028,9015,8985,8968,8964,8901,8857,8797,8786,8777,8770,8768,8755,8711,8711,8693,8691,8625,8594,8592,8577,8575,8496,8462,8415,8371,8337,8320,8314,8240,8236,8234,8217,8196,8121,8113,8095,8067,8059,7941,7922,7905,7884,7884,7867,7865,7852,7827,7789,7785,7750,7743,7741,7720,7706,7660,7517,7501,7489,7489,7484,7449,7449,7438,7416,7407,7380,7375,7368,7331,7318,7304,7282,7213,7211,7196,7184,7183,7178,7169,7159,7146,7142,7140,7130,7130,7090,7062,7059,7057,7055,7018,7017,7014,6975,6967,6958,6944,6937,6909,6890,6858,6856,6853,6851,6811,6760,6754,6751,6742,6648,6636,6628,6612,6601,6588,6565,6548,6533,6527,6510,6508,6497,6474,6451,6437,6429,6428,6420,6413,6412,6402,6374,6315,6293,6292,6271,6219,6215,6185,6162,6153,6134,6134,6117,6092,6082,6073,6050,6050,6039,6028,6024,6008,6000,5983,5962,5950,5931,5921,5874,5850,5841,5840,5830,5811,5809,5800,5795,5787,5786,5769,5768,5739,5738,5715,5685,5603,5597,5572,5559,5549,5547,5543,5542,5533,5529,5528,5495,5484,5471,5456,5439,5421,5407,5398,5397,5387,5368,5354,5351,5335,5334,5332,5328,5326,5324,5318,5316,5301,5301,5292,5279,5272,5263,5228,5211,5188,5181,5177,5175,5172,5151,5144,5143,5129,5125,5117,5108,5104,5099,5097,5089,5086,5085,5077,5077,5072,5065,5057,5056,5052,5050,5026,5022,5014,5007,5004,5000,4991,4982,4967,4961,4957,4931,4927,4919,4905,4892,4876,4872,4867,4863,4855,4848,4848,4839,4830,4820,4797,4783,4776,4770,4743,4735,4733,4732,4720,4714,4708,4702,4695,4689,4687,4675,4661,4653,4645,4628,4616,4607,4601,4587,4569,4563,4560,4557,4550,4537,4530,4529,4529,4503,4499,4497,4480,4463,4452,4449,4447,4442,4410,4409,4407,4405,4375,4353,4333,4306,4297,4294,4290,4284,4269,4259,4252,4248,4235,4208,4198,4193,4192,4187,4183,4183,4158,4157,4144,4138,4133,4133,4128,4123,4123,4117,4115,4106,4103,4090,4086,4080,4077,4076,4061,4057,4040,4034,4033,4030,4028,4022,4020,4011,4010,4005,4001,3979,3960,3937,3933,3917,3903,3903,3898,3894,3887,3883,3877,3870,3870,3854,3840,3831,3812,3811,3804,3801,3784,3782,3775,3771,3770,3766,3759,3757,3757,3730,3721,3704,3701,3699,3697,3694,3688,3667,3655,3652,3632,3619,3618,3607,3601,3599,3590,3571,3559,3555,3541,3539,3525,3523,3519,3512,3503,3493,3492,3485,3481,3481,3465,3461,3444,3426,3425,3420,3415,3411,3403,3399,3397,3392,3390,3388,3381,3380,3377,3372,3371,3360,3360,3357,3357,3348,3339,3329,3325,3324,3323,3312,3299,3295,3283,3271,3258,3255,3254,3252,3251,3251,3249,3227,3223,3209,3206,3193,3192,3190,3185,3179,3177,3169,3167,3160,3157,3150,3143,3142,3141,3137,3137,3133,3131,3125,3122,3119,3118,3117,3108,3106,3103,3094,3086,3073,3056,3050,3042,3035,3033,3026,3015,3014,3013,3012,3011,3000,2996,2995,2988,2987,2985,2981,2971,2965,2964,2955,2953,2951,2946,2938,2924,2919,2918,2917,2914,2912,2911,2911,2900,2895,2893,2888,2877,2875,2873,2865,2863,2859,2853,2837,2814,2814,2804,2801,2797,2795,2792,2789,2788,2786,2784,2784,2783,2780,2769,2768,2760,2760,2755,2753,2749,2745,2743,2740,2736,2721,2715,2706,2698,2697,2697,2692,2692,2688,2687,2686,2674,2673,2669,2666,2665,2660,2652,2650,2650,2650,2649,2643,2643,2641,2638,2635,2635,2634,2626,2623,2618,2610,2607,2606,2602,2599,2596,2591,2578,2577,2577,2573,2571,2570,2566,2565,2558,2558,2555,2554,2547,2543,2532,2528,2526,2520,2516,2510,2507,2506,2498,2497,2494,2493,2490,2489,2489,2481,2476,2474,2472,2472,2470,2464,2459,2451,2437,2437,2430,2427,2424,2421,2420,2416,2415,2412,2409,2402,2401,2390,2389,2388,2383,2382,2379,2371,2362,2361,2360,2358,2358,2357,2355,2354,2354,2353,2351,2346,2346,2346,2342,2342,2338,2335,2325,2320,2318,2317,2314,2311,2310,2306,2305,2299,2296,2295,2293,2285,2283,2281,2281,2276,2273,2273,2268,2267,2267,2266,2252,2247,2244,2243,2240,2239,2238,2235,2234,2230,2228,2227,2225,2222,2222,2215,2214,2212,2204,2200,2199,2197,2197,2195,2189,2187,2185,2185,2184,2178,2177,2177,2174,2166,2164,2164,2164,2160,2154,2153,2152,2147,2146,2146,2145,2144,2142,2134,2134,2122,2119,2115,2104,2103,2102,2101,2097,2097,2096,2092,2091,2091,2087,2086,2084,2083,2081,2080,2079,2076,2076,2075,2074,2073,2071,2067,2063,2060,2058,2053,2052,2051,2046,2046,2045,2045,2044,2044,2039,2035,2031,2027,2026,2025,2025,2023,2015,2015,2012,2007,2004,2002,2002,2000,2000,1995,1993,1988,1987,1987,1981,1976,1975,1971,1967,1966,1964,1951,1951,1950,1949,1948,1945,1942,1942,1941,1936,1935,1933,1926,1925,1924,1924,1923,1922,1916,1909,1908,1905,1905,1904,1902,1898,1894,1892,1888,1888,1882,1876,1874,1873,1873,1871,1870,1867,1858,1853,1852,1850,1849,1849,1843,1842,1839,1838,1832,1827,1825,1825,1822,1819,1818,1815,1814,1812,1811,1806,1802,1798,1798,1797,1793,1793,1789,1788,1783,1782,1780,1780,1780,1779,1777,1777,1776,1772,1772,1769,1768,1766,1764,1764,1763,1758,1754,1754,1753,1750,1749,1747,1741,1741,1740,1738,1737,1736,1736,1735,1735,1734,1732,1732,1732,1731,1730,1730,1730,1724,1723,1723,1723,1720,1720,1712,1710,1705,1703,1703,1703,1703,1702,1701,1699,1699,1697,1696,1696,1688,1685,1683,1680,1680,1679,1678,1675,1674,1673,1673,1659,1658,1658,1657,1655,1655,1653,1649,1645,1645,1643,1640,1638,1634,1634,1631,1628,1627,1626,1626,1625,1624,1618,1618,1613,1611,1611,1609,1606,1606,1605,1605,1602,1599,1594,1593,1591,1589,1589,1588,1586,1586,1582,1580,1580,1574,1573,1566,1566,1564,1562,1562,1560,1557,1557,1554,1553,1552,1552,1551,1551,1550,1550,1548,1548,1548,1547,1544,1542,1541,1540,1540,1538,1537,1535,1534,1534,1532,1532,1531,1530,1526,1526,1525,1524,1522,1520,1520,1519,1519,1518,1517,1515,1514,1513,1513,1512,1509,1506,1504,1504,1502,1500,1498,1496,1495,1494,1489,1487,1480,1479,1478,1477,1477,1476,1474,1472,1472,1469,1468,1468,1463,1459,1456,1454,1452,1452,1449,1449,1448,1447,1447,1446,1444,1442,1440,1440,1439,1437,1437,1433,1433,1433,1428,1425,1424,1423,1421,1420,1420,1419,1418,1415,1414,1410,1409,1407,1406,1406,1405,1404,1403,1401,1399,1398,1393,1393,1388,1386,1385,1385,1380,1374,1373,1371,1369,1367,1367,1367,1362,1361,1360,1359,1356,1355,1355,1353,1352,1350,1350,1348,1346,1343,1343,1340,1339,1338,1338,1337,1337,1337,1334,1332,1329,1329,1327,1323,1322,1322,1319,1318,1318,1318,1316,1315,1313,1312,1311,1311,1310,1309,1309,1309,1305,1305,1305,1303,1302,1301,1299,1299,1297,1296,1294,1294,1292,1284,1284,1284,1284,1284,1282,1282,1280,1279,1278,1278,1276,1276,1276,1276,1275,1275,1274,1272,1271,1271,1270,1270,1269,1268,1266,1266,1263,1262,1260,1255,1254,1252,1249,1249,1249,1248,1241,1240,1239,1237,1237,1236,1235,1235,1235,1235,1229,1229,1227,1224,1224,1224,1224,1223,1222,1220,1220,1218,1216,1215,1214,1213,1213,1212,1209,1209,1207,1204,1203,1202,1202,1201,1200,1199,1199,1197,1197,1195,1194,1193,1193,1192,1189,1189,1187,1186,1186,1186,1185,1184,1184,1182,1181,1175,1174,1173,1169,1169,1168,1168,1168,1167,1165,1160,1157,1156,1156,1154,1154,1152,1152,1150,1150,1150,1148,1147,1146,1145,1143,1142,1141,1137,1136,1135,1134,1132,1132,1132,1130,1129,1128,1126,1125,1125,1123,1122,1122,1121,1121,1120,1119,1119,1117,1116,1116,1115,1114,1113,1113,1110,1109,1105,1102,1102,1101,1098,1098,1097,1096,1096,1096,1095,1094,1094,1092,1091,1090,1089,1087,1087,1087,1087,1086,1086,1086,1085,1085,1085,1081,1081,1080,1080,1080,1079,1079,1077,1076,1076,1076,1074,1071,1069,1067,1064,1063,1063,1062,1062,1061,1060,1059,1057,1057,1056,1056,1055,1054,1053,1052,1052,1050,1049,1048,1047,1047,1046,1046,1046,1045,1044,1043,1041,1040,1040,1039,1037,1036,1033,1033,1033,1032,1032,1031,1030,1030,1030,1029,1029,1029,1028,1027,1026,1026,1024,1023,1023,1023,1020,1018,1018,1018,1018,1018,1017,1016,1013,1013,1011,1011,1010,1008,1007,1006,1006,1005,1004,1002,1002,1002,1000,1000,997,993,991,989,988,987,984,978,976,976,975,975,973,973,973,972,970,970,969,968,967,966,965,964,960,959,958,956,954,953,952,952,951,949,948,948,947,946,945,944,944,942,941,940,939,937,937,936,936,934,927,927,926,924,922,920,920,919,918,916,916,915,913,912,912,912,912,911,909,903,901,900,898,898,897,897,896,894,891,888,886,885,885,885,880,878,877,877,876,876,874,871,869,869,869,868,867,867,861,860,859,858,853,853,851,850,850,844,843,842,841,841,838,837,837,835,834,833,832,831,829,828,827,827,827,825,823,821,817,817,817,817,814,813,811,811,810,809,809,807,806,803,802,802,801,800,799,798,797,797,797,796,796,793,791,791,789,788,788,785,785,783,783,781,780,779,778,776,775,775,775,774,774,770,770,770,769,769,768,767,764,755,755,751,750,747,746,746,743,741,740,739,739,739,738,737,736,736,735,734,733,731,727,727,725,723,722,721,721,720,718,718,716,716,715,715,714,713,711,710,709,709,707,707,706,702,701,701,701,694,694,690,690,689,686,685,683,679,677,677,676,670,668,668,668,668,666,663,662,662,661,661,659,659,658,656,655,655,654,653,653,652,651,651,650,649,646,646,644,638,637,636,635,633,633,632,631,631,630,627,627,627,627,623,623,623,621,618,617,616,613,613,613,612,611,611,609,608,607,605,605,605,604,604,602,601,601,600,598,596,595,594,593,592,589,589,586,586,586,584,583,582,578,578,578,578,577,577,576,570,568,567,567,567,564,563,562,560,557,557,556,555,554,553,551,550,550,549,549,547,546,545,545,545,543,543,540,540,540,538,537,534,533,530,528,527,522,521,521,521,520,518,517,515,513,513,512,512,511,510,509,507,507,507,507,507,507,505,505,504,503,502,502,500,500,500,500,496,496,495,494,494,494,492,491,489,489,487,486,486,485,485,484,483,482,481,481,480,480,478,478,478,477,476,475,472,469,467,466,465,464,462,462,462,461,461,460,459,458,458,455,454,454,453,452,452,452,452,450,450,447,447,446,445,442,441,440,438,438,438,437,436,434,431,431,431,430,426,426,426,426,425,424,424,422,422,421,421,420,420,418,418,417,415,414,412,410,409,408,408,408,407,406,406,405,402,402,401,399,397,397,397,396,396,395,395,394,394,394,393,392,390,390,390,390,389,388,387,387,385,384,384,384,384,383,382,382,381,380,380,380,379,379,377,376,376,376,375,375,375,375,373,372,371,368,367,367,366,365,363,362,362,361,361,360,359,359,358,358,357,354,354,353,353,353,353,353,353,349,347,347,346,346,343,343,342,342,342,341,341,338,338,336,335,335,335,334,334,333,333,333,332,331,327,327,327,326,326,326,325,325,325,324,323,322,321,319,319,317,315,315,314,314,314,313,313,312,311,311,308,307,306,306,305,305,305,305,302,301,300,300,300,299,299,298,297,297,297,295,294,294,293,293,293,293,293,292,291,290,289,288,288,287,286,285,284,283,282,280,280,279,276,276,276,274,274,274,273,273,272,272,271,270,270,270,267,267,266,265,265,264,263,262,261,261,261,260,260,259,257,256,256,255,255,254,253,253,252,252,252,251,250,249,249,249,248,247,246,246,245,245,245,244,244,244,241,240,239,239,239,238,238,238,237,237,237,237,236,236,232,232,231,230,229,229,228,228,228,228,228,228,227,227,226,226,226,225,225,225,225,224,223,223,223,222,222,220,219,219,218,217,217,217,217,217,216,215,214,214,214,213,213,212,211,211,211,210,210,209,209,209,208,207,207,207,206,206,206,205,205,205,205,205,204,204,203,201,201,200,198,198,197,197,197,196,194,194,193,193,193,192,190,190,189,189,189,188,188,187,187,186,186,186,185,185,185,184,184,183,183,181,181,180,178,178,177,177,177,176,173,172,172,172,172,171,170,170,169,168,168,168,167,167,166,166,165,165,165,164,164,164,162,159,158,157,156,156,155,155,155,155,155,154,153,153,153,153,152,152,152,152,152,151,151,150,149,149,148,148,147,147,146,145,144,143,142,142,142,140,139,139,139,139,137,137,137,137,136,136,136,135,135,135,135,135,134,134,133,132,132,131,131,130,130,129,129,128,126,126,126,125,124,124,124,124,123,123,122,122,122,122,122,121,120,120,120,120,120,119,119,119,119,119,119,118,117,117,117,117,116,116,116,116,116,115,115,115,115,115,114,114,114,114,114,113,113,113,113,113,112,112,112,112,111,111,111,111,110,110,110,109,108,108,107,106,106,106,106,106,105,105,105,105,105,104,104,104,104,103,103,103,103,103,103,103,102,101,101,100,100,100,99,99,99,98,98,98,98,98,98,97,97,97,96,95,95,95,94,94,94,93,92,92,92,92,92,92,91,91,91,91,91,91,91,91,90,90,90,89,89,89,89,89,88,88,88,87,87,87,87,87,86,86,86,86,86,86,85,85,85,85,85,84,84,83,83,83,83,83,82,82,82,81,81,81,81,81,80,80,80,80,80,80,79,79,79,79,78,78,78,78,78,78,78,77,77,76,76,76,75,75,75,75,74,74,74,74,74,74,73,73,73,72,72,72,72,72,71,71,71,71,70,70,70,70,69,69,69,68,68,68,68,68,67,66,66,66,66,66,65,65,65,65,65,64,64,64,63,62,62,62,62,62,62,61,61,61,61,61,61,61,61,60,59,59,59,59,59,59,58,58,58,58,58,57,57,57,57,57,57,57,57,57,57,57,57,56,56,56,56,56,55,55,55,55,55,55,54,54,54,54,54,53,53,53,52,52,52,52,51,51,51,51,51,50,50,50,50,50,50,50,50,49,49,49,49,48,48,48,48,47,47,47,47,46,46,45,45,45,45,45,45,45,45,45,44,44,44,44,44,44,44,44,44,44,43,43,43,43,43,43,42,42,42,42,42,42,42,42,42,41,41,41,41,41,41,41,41,40,40,40,40,40,39,39,39,38,38,38,38,38,38,38,37,37,37,37,37,37,37,37,36,36,36,36,36,36,36,36,35,35,35,35,35,34,34,34,34,34,33,33,33,33,33,33,33,33,33,33,32,32,32,32,32,32,32,32,32,32,31,31,31,31,31,31,31,31,31,30,30,30,30,30,30,30,30,29,29,29,29,29,29,29,28,28,28,28,28,28,28,28,28,28,28,27,27,27,27,27,27,27,27,27,27,27,26,26,26,26,26,26,26,26,26,26,25,25,25,25,25,25,25,24,24,24,23,23,23,23,23,23,23,23,22,22,22,22,22,22,22,22,22,22,21,21,21,21,21,21,21,21,21,21,21,21,21,20,20,20,20,20,20,20,19,19,19,19,19,19,19,19,19,18,18,18,18,18,18,18,18,18,18,18,18,17,17,17,17,17,17,17,17,17,17,17,17,16,16,16,16,16,16,16,16,16,16,16,16,15,15,15,15,15,15,15,15,14,14,14,14,14,14,14,14,14,14,14,13,13,13,13,13,13,13,13,13,13,13,13,13,13,13,13,13,13,13,12,12,12,12,12,12,12,12,12,12,12,12,12,12,12,12,11,11,11,11,11,11,11,11,11,11,11,11,11,11,11,11,11,11,11,11,11,11,11,10,10,10,10,10,10,10,10,10,10,10,10,10,10,10,10,10,9,9,9,9,9,9,9,9,9,9,9,9,9,9,9,9,9,9,8,8,8,8,8,8,8,8,8,8,8,8,8,8,8,8,8,8,7,7,7,7,7,7,7,7,7,7,7,7,7,7,7,7,7,7,7,7,7,7,7,7,6,6,6,6,6,6,6,6,6,6,6,6,6,6,6,6,6,6,5,5,5,5,5,5,5,5,5,5,5,5,5,5,5,5,5,5,5,5,5,5,5,5,5,5,5,5,4,4,4,4,4,4,4,4,4,4,4,4,4,4,4,4,4,4,4,4,4,4,4,4,4,4,3,3,3,3,3,3,3,3,3,3,3,3,3,3,3,3,3,3,3,3,3,3,3,3,3,3,2,2,2,2,2,2,2,2,2,2,2,2,2,2,2,2,2,2,2,2,2,2,2,2,2,2,2,1,1,1,1,1,1,1,1,1,1,1,1,1,1,1,1,1,1,1,1,1,1,1,1,1,1,1,1,1,1,1,1,1,1,1,1,1,1,1,1,1,1,1,1,1,1,1,1,1,0,0,0,0,0,0,0,0,0,0,0,0,0,0,0,0,0,0,0,0,0,0,0,0,0,0,0,0,0,0,0,0,0,0,0,0,0,0,0,0,0,0,0,0,0,0,0,0,0,0,0,0,0,0,0,0,0,0,0,0,0,0,0,0,0],\"yaxis\":\"y\",\"type\":\"histogram\"}],                        {\"template\":{\"data\":{\"barpolar\":[{\"marker\":{\"line\":{\"color\":\"white\",\"width\":0.5},\"pattern\":{\"fillmode\":\"overlay\",\"size\":10,\"solidity\":0.2}},\"type\":\"barpolar\"}],\"bar\":[{\"error_x\":{\"color\":\"#2a3f5f\"},\"error_y\":{\"color\":\"#2a3f5f\"},\"marker\":{\"line\":{\"color\":\"white\",\"width\":0.5},\"pattern\":{\"fillmode\":\"overlay\",\"size\":10,\"solidity\":0.2}},\"type\":\"bar\"}],\"carpet\":[{\"aaxis\":{\"endlinecolor\":\"#2a3f5f\",\"gridcolor\":\"#C8D4E3\",\"linecolor\":\"#C8D4E3\",\"minorgridcolor\":\"#C8D4E3\",\"startlinecolor\":\"#2a3f5f\"},\"baxis\":{\"endlinecolor\":\"#2a3f5f\",\"gridcolor\":\"#C8D4E3\",\"linecolor\":\"#C8D4E3\",\"minorgridcolor\":\"#C8D4E3\",\"startlinecolor\":\"#2a3f5f\"},\"type\":\"carpet\"}],\"choropleth\":[{\"colorbar\":{\"outlinewidth\":0,\"ticks\":\"\"},\"type\":\"choropleth\"}],\"contourcarpet\":[{\"colorbar\":{\"outlinewidth\":0,\"ticks\":\"\"},\"type\":\"contourcarpet\"}],\"contour\":[{\"colorbar\":{\"outlinewidth\":0,\"ticks\":\"\"},\"colorscale\":[[0.0,\"#0d0887\"],[0.1111111111111111,\"#46039f\"],[0.2222222222222222,\"#7201a8\"],[0.3333333333333333,\"#9c179e\"],[0.4444444444444444,\"#bd3786\"],[0.5555555555555556,\"#d8576b\"],[0.6666666666666666,\"#ed7953\"],[0.7777777777777778,\"#fb9f3a\"],[0.8888888888888888,\"#fdca26\"],[1.0,\"#f0f921\"]],\"type\":\"contour\"}],\"heatmapgl\":[{\"colorbar\":{\"outlinewidth\":0,\"ticks\":\"\"},\"colorscale\":[[0.0,\"#0d0887\"],[0.1111111111111111,\"#46039f\"],[0.2222222222222222,\"#7201a8\"],[0.3333333333333333,\"#9c179e\"],[0.4444444444444444,\"#bd3786\"],[0.5555555555555556,\"#d8576b\"],[0.6666666666666666,\"#ed7953\"],[0.7777777777777778,\"#fb9f3a\"],[0.8888888888888888,\"#fdca26\"],[1.0,\"#f0f921\"]],\"type\":\"heatmapgl\"}],\"heatmap\":[{\"colorbar\":{\"outlinewidth\":0,\"ticks\":\"\"},\"colorscale\":[[0.0,\"#0d0887\"],[0.1111111111111111,\"#46039f\"],[0.2222222222222222,\"#7201a8\"],[0.3333333333333333,\"#9c179e\"],[0.4444444444444444,\"#bd3786\"],[0.5555555555555556,\"#d8576b\"],[0.6666666666666666,\"#ed7953\"],[0.7777777777777778,\"#fb9f3a\"],[0.8888888888888888,\"#fdca26\"],[1.0,\"#f0f921\"]],\"type\":\"heatmap\"}],\"histogram2dcontour\":[{\"colorbar\":{\"outlinewidth\":0,\"ticks\":\"\"},\"colorscale\":[[0.0,\"#0d0887\"],[0.1111111111111111,\"#46039f\"],[0.2222222222222222,\"#7201a8\"],[0.3333333333333333,\"#9c179e\"],[0.4444444444444444,\"#bd3786\"],[0.5555555555555556,\"#d8576b\"],[0.6666666666666666,\"#ed7953\"],[0.7777777777777778,\"#fb9f3a\"],[0.8888888888888888,\"#fdca26\"],[1.0,\"#f0f921\"]],\"type\":\"histogram2dcontour\"}],\"histogram2d\":[{\"colorbar\":{\"outlinewidth\":0,\"ticks\":\"\"},\"colorscale\":[[0.0,\"#0d0887\"],[0.1111111111111111,\"#46039f\"],[0.2222222222222222,\"#7201a8\"],[0.3333333333333333,\"#9c179e\"],[0.4444444444444444,\"#bd3786\"],[0.5555555555555556,\"#d8576b\"],[0.6666666666666666,\"#ed7953\"],[0.7777777777777778,\"#fb9f3a\"],[0.8888888888888888,\"#fdca26\"],[1.0,\"#f0f921\"]],\"type\":\"histogram2d\"}],\"histogram\":[{\"marker\":{\"pattern\":{\"fillmode\":\"overlay\",\"size\":10,\"solidity\":0.2}},\"type\":\"histogram\"}],\"mesh3d\":[{\"colorbar\":{\"outlinewidth\":0,\"ticks\":\"\"},\"type\":\"mesh3d\"}],\"parcoords\":[{\"line\":{\"colorbar\":{\"outlinewidth\":0,\"ticks\":\"\"}},\"type\":\"parcoords\"}],\"pie\":[{\"automargin\":true,\"type\":\"pie\"}],\"scatter3d\":[{\"line\":{\"colorbar\":{\"outlinewidth\":0,\"ticks\":\"\"}},\"marker\":{\"colorbar\":{\"outlinewidth\":0,\"ticks\":\"\"}},\"type\":\"scatter3d\"}],\"scattercarpet\":[{\"marker\":{\"colorbar\":{\"outlinewidth\":0,\"ticks\":\"\"}},\"type\":\"scattercarpet\"}],\"scattergeo\":[{\"marker\":{\"colorbar\":{\"outlinewidth\":0,\"ticks\":\"\"}},\"type\":\"scattergeo\"}],\"scattergl\":[{\"marker\":{\"colorbar\":{\"outlinewidth\":0,\"ticks\":\"\"}},\"type\":\"scattergl\"}],\"scattermapbox\":[{\"marker\":{\"colorbar\":{\"outlinewidth\":0,\"ticks\":\"\"}},\"type\":\"scattermapbox\"}],\"scatterpolargl\":[{\"marker\":{\"colorbar\":{\"outlinewidth\":0,\"ticks\":\"\"}},\"type\":\"scatterpolargl\"}],\"scatterpolar\":[{\"marker\":{\"colorbar\":{\"outlinewidth\":0,\"ticks\":\"\"}},\"type\":\"scatterpolar\"}],\"scatter\":[{\"marker\":{\"colorbar\":{\"outlinewidth\":0,\"ticks\":\"\"}},\"type\":\"scatter\"}],\"scatterternary\":[{\"marker\":{\"colorbar\":{\"outlinewidth\":0,\"ticks\":\"\"}},\"type\":\"scatterternary\"}],\"surface\":[{\"colorbar\":{\"outlinewidth\":0,\"ticks\":\"\"},\"colorscale\":[[0.0,\"#0d0887\"],[0.1111111111111111,\"#46039f\"],[0.2222222222222222,\"#7201a8\"],[0.3333333333333333,\"#9c179e\"],[0.4444444444444444,\"#bd3786\"],[0.5555555555555556,\"#d8576b\"],[0.6666666666666666,\"#ed7953\"],[0.7777777777777778,\"#fb9f3a\"],[0.8888888888888888,\"#fdca26\"],[1.0,\"#f0f921\"]],\"type\":\"surface\"}],\"table\":[{\"cells\":{\"fill\":{\"color\":\"#EBF0F8\"},\"line\":{\"color\":\"white\"}},\"header\":{\"fill\":{\"color\":\"#C8D4E3\"},\"line\":{\"color\":\"white\"}},\"type\":\"table\"}]},\"layout\":{\"annotationdefaults\":{\"arrowcolor\":\"#2a3f5f\",\"arrowhead\":0,\"arrowwidth\":1},\"autotypenumbers\":\"strict\",\"coloraxis\":{\"colorbar\":{\"outlinewidth\":0,\"ticks\":\"\"}},\"colorscale\":{\"diverging\":[[0,\"#8e0152\"],[0.1,\"#c51b7d\"],[0.2,\"#de77ae\"],[0.3,\"#f1b6da\"],[0.4,\"#fde0ef\"],[0.5,\"#f7f7f7\"],[0.6,\"#e6f5d0\"],[0.7,\"#b8e186\"],[0.8,\"#7fbc41\"],[0.9,\"#4d9221\"],[1,\"#276419\"]],\"sequential\":[[0.0,\"#0d0887\"],[0.1111111111111111,\"#46039f\"],[0.2222222222222222,\"#7201a8\"],[0.3333333333333333,\"#9c179e\"],[0.4444444444444444,\"#bd3786\"],[0.5555555555555556,\"#d8576b\"],[0.6666666666666666,\"#ed7953\"],[0.7777777777777778,\"#fb9f3a\"],[0.8888888888888888,\"#fdca26\"],[1.0,\"#f0f921\"]],\"sequentialminus\":[[0.0,\"#0d0887\"],[0.1111111111111111,\"#46039f\"],[0.2222222222222222,\"#7201a8\"],[0.3333333333333333,\"#9c179e\"],[0.4444444444444444,\"#bd3786\"],[0.5555555555555556,\"#d8576b\"],[0.6666666666666666,\"#ed7953\"],[0.7777777777777778,\"#fb9f3a\"],[0.8888888888888888,\"#fdca26\"],[1.0,\"#f0f921\"]]},\"colorway\":[\"#636efa\",\"#EF553B\",\"#00cc96\",\"#ab63fa\",\"#FFA15A\",\"#19d3f3\",\"#FF6692\",\"#B6E880\",\"#FF97FF\",\"#FECB52\"],\"font\":{\"color\":\"#2a3f5f\"},\"geo\":{\"bgcolor\":\"white\",\"lakecolor\":\"white\",\"landcolor\":\"white\",\"showlakes\":true,\"showland\":true,\"subunitcolor\":\"#C8D4E3\"},\"hoverlabel\":{\"align\":\"left\"},\"hovermode\":\"closest\",\"mapbox\":{\"style\":\"light\"},\"paper_bgcolor\":\"white\",\"plot_bgcolor\":\"white\",\"polar\":{\"angularaxis\":{\"gridcolor\":\"#EBF0F8\",\"linecolor\":\"#EBF0F8\",\"ticks\":\"\"},\"bgcolor\":\"white\",\"radialaxis\":{\"gridcolor\":\"#EBF0F8\",\"linecolor\":\"#EBF0F8\",\"ticks\":\"\"}},\"scene\":{\"xaxis\":{\"backgroundcolor\":\"white\",\"gridcolor\":\"#DFE8F3\",\"gridwidth\":2,\"linecolor\":\"#EBF0F8\",\"showbackground\":true,\"ticks\":\"\",\"zerolinecolor\":\"#EBF0F8\"},\"yaxis\":{\"backgroundcolor\":\"white\",\"gridcolor\":\"#DFE8F3\",\"gridwidth\":2,\"linecolor\":\"#EBF0F8\",\"showbackground\":true,\"ticks\":\"\",\"zerolinecolor\":\"#EBF0F8\"},\"zaxis\":{\"backgroundcolor\":\"white\",\"gridcolor\":\"#DFE8F3\",\"gridwidth\":2,\"linecolor\":\"#EBF0F8\",\"showbackground\":true,\"ticks\":\"\",\"zerolinecolor\":\"#EBF0F8\"}},\"shapedefaults\":{\"line\":{\"color\":\"#2a3f5f\"}},\"ternary\":{\"aaxis\":{\"gridcolor\":\"#DFE8F3\",\"linecolor\":\"#A2B1C6\",\"ticks\":\"\"},\"baxis\":{\"gridcolor\":\"#DFE8F3\",\"linecolor\":\"#A2B1C6\",\"ticks\":\"\"},\"bgcolor\":\"white\",\"caxis\":{\"gridcolor\":\"#DFE8F3\",\"linecolor\":\"#A2B1C6\",\"ticks\":\"\"}},\"title\":{\"x\":0.05},\"xaxis\":{\"automargin\":true,\"gridcolor\":\"#EBF0F8\",\"linecolor\":\"#EBF0F8\",\"ticks\":\"\",\"title\":{\"standoff\":15},\"zerolinecolor\":\"#EBF0F8\",\"zerolinewidth\":2},\"yaxis\":{\"automargin\":true,\"gridcolor\":\"#EBF0F8\",\"linecolor\":\"#EBF0F8\",\"ticks\":\"\",\"title\":{\"standoff\":15},\"zerolinecolor\":\"#EBF0F8\",\"zerolinewidth\":2}}},\"xaxis\":{\"anchor\":\"y\",\"domain\":[0.0,1.0],\"title\":{\"text\":\"Date\"}},\"yaxis\":{\"anchor\":\"x\",\"domain\":[0.0,1.0],\"title\":{\"text\":\"sum of num_subscribers\"}},\"legend\":{\"tracegroupgap\":0},\"margin\":{\"t\":60},\"barmode\":\"relative\"},                        {\"responsive\": true}                    ).then(function(){\n",
       "                            \n",
       "var gd = document.getElementById('7b4b6b9e-b1ae-42a9-b484-8abe375d03f8');\n",
       "var x = new MutationObserver(function (mutations, observer) {{\n",
       "        var display = window.getComputedStyle(gd).display;\n",
       "        if (!display || display === 'none') {{\n",
       "            console.log([gd, 'removed!']);\n",
       "            Plotly.purge(gd);\n",
       "            observer.disconnect();\n",
       "        }}\n",
       "}});\n",
       "\n",
       "// Listen for the removal of the full notebook cells\n",
       "var notebookContainer = gd.closest('#notebook-container');\n",
       "if (notebookContainer) {{\n",
       "    x.observe(notebookContainer, {childList: true});\n",
       "}}\n",
       "\n",
       "// Listen for the clearing of the current output cell\n",
       "var outputEl = gd.closest('.output');\n",
       "if (outputEl) {{\n",
       "    x.observe(outputEl, {childList: true});\n",
       "}}\n",
       "\n",
       "                        })                };                });            </script>        </div>"
      ]
     },
     "metadata": {},
     "output_type": "display_data"
    }
   ],
   "source": [
    "fig = px.histogram(date_subs, x='Date',y='num_subscribers',template='plotly_white')\n",
    "fig.show()"
   ]
  },
  {
   "cell_type": "markdown",
   "id": "db189b22",
   "metadata": {},
   "source": [
    "### 6. High rating  course"
   ]
  },
  {
   "cell_type": "code",
   "execution_count": 111,
   "id": "de984398",
   "metadata": {},
   "outputs": [
    {
     "data": {
      "text/html": [
       "<div>\n",
       "<style scoped>\n",
       "    .dataframe tbody tr th:only-of-type {\n",
       "        vertical-align: middle;\n",
       "    }\n",
       "\n",
       "    .dataframe tbody tr th {\n",
       "        vertical-align: top;\n",
       "    }\n",
       "\n",
       "    .dataframe thead th {\n",
       "        text-align: right;\n",
       "    }\n",
       "</style>\n",
       "<table border=\"1\" class=\"dataframe\">\n",
       "  <thead>\n",
       "    <tr style=\"text-align: right;\">\n",
       "      <th></th>\n",
       "      <th>course_title</th>\n",
       "      <th>rating</th>\n",
       "      <th>num_subscribers</th>\n",
       "      <th>Free/Paid</th>\n",
       "    </tr>\n",
       "  </thead>\n",
       "  <tbody>\n",
       "    <tr>\n",
       "      <th>1746</th>\n",
       "      <td>Forex Trading: Your Complete Guide to Get Star...</td>\n",
       "      <td>1.0</td>\n",
       "      <td>1026</td>\n",
       "      <td>Paid</td>\n",
       "    </tr>\n",
       "    <tr>\n",
       "      <th>1818</th>\n",
       "      <td>#5 Piano Hand Coordination: Piano Runs in 2 Be...</td>\n",
       "      <td>1.0</td>\n",
       "      <td>940</td>\n",
       "      <td>Paid</td>\n",
       "    </tr>\n",
       "    <tr>\n",
       "      <th>1184</th>\n",
       "      <td>JQuery DOM and Ajax Concept Explained for Begi...</td>\n",
       "      <td>1.0</td>\n",
       "      <td>1812</td>\n",
       "      <td>Paid</td>\n",
       "    </tr>\n",
       "    <tr>\n",
       "      <th>2801</th>\n",
       "      <td>Learn 3 - All Time A R Rahman Hits on Carnatic...</td>\n",
       "      <td>1.0</td>\n",
       "      <td>98</td>\n",
       "      <td>Paid</td>\n",
       "    </tr>\n",
       "    <tr>\n",
       "      <th>2603</th>\n",
       "      <td>How to Build WordPress Themes: A Web Designer'...</td>\n",
       "      <td>1.0</td>\n",
       "      <td>183</td>\n",
       "      <td>Paid</td>\n",
       "    </tr>\n",
       "    <tr>\n",
       "      <th>2620</th>\n",
       "      <td>Django by Example</td>\n",
       "      <td>1.0</td>\n",
       "      <td>170</td>\n",
       "      <td>Paid</td>\n",
       "    </tr>\n",
       "    <tr>\n",
       "      <th>266</th>\n",
       "      <td>The Complete PHP Bootcamp Course With Video Sh...</td>\n",
       "      <td>1.0</td>\n",
       "      <td>9831</td>\n",
       "      <td>Paid</td>\n",
       "    </tr>\n",
       "    <tr>\n",
       "      <th>2649</th>\n",
       "      <td>Learn How To Play 25 Classic Hip Hop Songs</td>\n",
       "      <td>1.0</td>\n",
       "      <td>153</td>\n",
       "      <td>Paid</td>\n",
       "    </tr>\n",
       "    <tr>\n",
       "      <th>3490</th>\n",
       "      <td>Aprende a tocar el clarinete.</td>\n",
       "      <td>1.0</td>\n",
       "      <td>4</td>\n",
       "      <td>Paid</td>\n",
       "    </tr>\n",
       "    <tr>\n",
       "      <th>2033</th>\n",
       "      <td>Building a ASP.NET MVC 5 Membership Website</td>\n",
       "      <td>1.0</td>\n",
       "      <td>654</td>\n",
       "      <td>Paid</td>\n",
       "    </tr>\n",
       "  </tbody>\n",
       "</table>\n",
       "</div>"
      ],
      "text/plain": [
       "                                           course_title  rating  \\\n",
       "1746  Forex Trading: Your Complete Guide to Get Star...     1.0   \n",
       "1818  #5 Piano Hand Coordination: Piano Runs in 2 Be...     1.0   \n",
       "1184  JQuery DOM and Ajax Concept Explained for Begi...     1.0   \n",
       "2801  Learn 3 - All Time A R Rahman Hits on Carnatic...     1.0   \n",
       "2603  How to Build WordPress Themes: A Web Designer'...     1.0   \n",
       "2620                                  Django by Example     1.0   \n",
       "266   The Complete PHP Bootcamp Course With Video Sh...     1.0   \n",
       "2649         Learn How To Play 25 Classic Hip Hop Songs     1.0   \n",
       "3490                      Aprende a tocar el clarinete.     1.0   \n",
       "2033        Building a ASP.NET MVC 5 Membership Website     1.0   \n",
       "\n",
       "      num_subscribers Free/Paid  \n",
       "1746             1026      Paid  \n",
       "1818              940      Paid  \n",
       "1184             1812      Paid  \n",
       "2801               98      Paid  \n",
       "2603              183      Paid  \n",
       "2620              170      Paid  \n",
       "266              9831      Paid  \n",
       "2649              153      Paid  \n",
       "3490                4      Paid  \n",
       "2033              654      Paid  "
      ]
     },
     "execution_count": 111,
     "metadata": {},
     "output_type": "execute_result"
    }
   ],
   "source": [
    "high_rating = data[['course_title','rating','num_subscribers','Free/Paid']].sort_values(by='rating',ascending=False)\n",
    "high_rating[:10]"
   ]
  },
  {
   "cell_type": "code",
   "execution_count": 115,
   "id": "76851cf7",
   "metadata": {
    "scrolled": true
   },
   "outputs": [
    {
     "data": {
      "text/html": [
       "<div>\n",
       "<style scoped>\n",
       "    .dataframe tbody tr th:only-of-type {\n",
       "        vertical-align: middle;\n",
       "    }\n",
       "\n",
       "    .dataframe tbody tr th {\n",
       "        vertical-align: top;\n",
       "    }\n",
       "\n",
       "    .dataframe thead th {\n",
       "        text-align: right;\n",
       "    }\n",
       "</style>\n",
       "<table border=\"1\" class=\"dataframe\">\n",
       "  <thead>\n",
       "    <tr style=\"text-align: right;\">\n",
       "      <th></th>\n",
       "      <th>course_title</th>\n",
       "      <th>rating</th>\n",
       "      <th>num_subscribers</th>\n",
       "      <th>Free/Paid</th>\n",
       "    </tr>\n",
       "  </thead>\n",
       "  <tbody>\n",
       "    <tr>\n",
       "      <th>0</th>\n",
       "      <td>Learn HTML5 Programming From Scratch</td>\n",
       "      <td>0.82</td>\n",
       "      <td>268923</td>\n",
       "      <td>Free</td>\n",
       "    </tr>\n",
       "    <tr>\n",
       "      <th>1</th>\n",
       "      <td>Coding for Entrepreneurs Basic</td>\n",
       "      <td>0.69</td>\n",
       "      <td>161029</td>\n",
       "      <td>Free</td>\n",
       "    </tr>\n",
       "    <tr>\n",
       "      <th>2</th>\n",
       "      <td>The Web Developer Bootcamp</td>\n",
       "      <td>0.89</td>\n",
       "      <td>121584</td>\n",
       "      <td>Paid</td>\n",
       "    </tr>\n",
       "    <tr>\n",
       "      <th>3</th>\n",
       "      <td>Build Your First Website in 1 Week with HTML5 ...</td>\n",
       "      <td>0.78</td>\n",
       "      <td>120291</td>\n",
       "      <td>Free</td>\n",
       "    </tr>\n",
       "    <tr>\n",
       "      <th>4</th>\n",
       "      <td>The Complete Web Developer Course 2.0</td>\n",
       "      <td>0.55</td>\n",
       "      <td>114512</td>\n",
       "      <td>Paid</td>\n",
       "    </tr>\n",
       "    <tr>\n",
       "      <th>5</th>\n",
       "      <td>Free Beginner Electric Guitar Lessons</td>\n",
       "      <td>0.88</td>\n",
       "      <td>101154</td>\n",
       "      <td>Free</td>\n",
       "    </tr>\n",
       "    <tr>\n",
       "      <th>6</th>\n",
       "      <td>Web Design for Web Developers: Build Beautiful...</td>\n",
       "      <td>0.82</td>\n",
       "      <td>98867</td>\n",
       "      <td>Free</td>\n",
       "    </tr>\n",
       "    <tr>\n",
       "      <th>7</th>\n",
       "      <td>Learn Javascript &amp; JQuery From Scratch</td>\n",
       "      <td>0.79</td>\n",
       "      <td>84897</td>\n",
       "      <td>Paid</td>\n",
       "    </tr>\n",
       "    <tr>\n",
       "      <th>8</th>\n",
       "      <td>Practical PHP: Master the Basics and Code Dyna...</td>\n",
       "      <td>0.85</td>\n",
       "      <td>83737</td>\n",
       "      <td>Free</td>\n",
       "    </tr>\n",
       "    <tr>\n",
       "      <th>9</th>\n",
       "      <td>JavaScript: Understanding the Weird Parts</td>\n",
       "      <td>0.69</td>\n",
       "      <td>79612</td>\n",
       "      <td>Paid</td>\n",
       "    </tr>\n",
       "  </tbody>\n",
       "</table>\n",
       "</div>"
      ],
      "text/plain": [
       "                                        course_title  rating  num_subscribers  \\\n",
       "0               Learn HTML5 Programming From Scratch    0.82           268923   \n",
       "1                     Coding for Entrepreneurs Basic    0.69           161029   \n",
       "2                         The Web Developer Bootcamp    0.89           121584   \n",
       "3  Build Your First Website in 1 Week with HTML5 ...    0.78           120291   \n",
       "4              The Complete Web Developer Course 2.0    0.55           114512   \n",
       "5              Free Beginner Electric Guitar Lessons    0.88           101154   \n",
       "6  Web Design for Web Developers: Build Beautiful...    0.82            98867   \n",
       "7             Learn Javascript & JQuery From Scratch    0.79            84897   \n",
       "8  Practical PHP: Master the Basics and Code Dyna...    0.85            83737   \n",
       "9          JavaScript: Understanding the Weird Parts    0.69            79612   \n",
       "\n",
       "  Free/Paid  \n",
       "0      Free  \n",
       "1      Free  \n",
       "2      Paid  \n",
       "3      Free  \n",
       "4      Paid  \n",
       "5      Free  \n",
       "6      Free  \n",
       "7      Paid  \n",
       "8      Free  \n",
       "9      Paid  "
      ]
     },
     "execution_count": 115,
     "metadata": {},
     "output_type": "execute_result"
    }
   ],
   "source": [
    "high_rating.sort_values(by='num_subscribers', ascending=False)[:10]"
   ]
  },
  {
   "cell_type": "markdown",
   "id": "ff0a42d0",
   "metadata": {},
   "source": [
    "### 7. Total number of free and paid courses"
   ]
  },
  {
   "cell_type": "code",
   "execution_count": 119,
   "id": "4faa558c",
   "metadata": {},
   "outputs": [
    {
     "data": {
      "text/plain": [
       "Free/Paid\n",
       "Free     311\n",
       "Paid    3365\n",
       "Name: course_title, dtype: int64"
      ]
     },
     "execution_count": 119,
     "metadata": {},
     "output_type": "execute_result"
    }
   ],
   "source": [
    "num_FP = data.groupby(by='Free/Paid').course_title.count()\n",
    "num_FP"
   ]
  },
  {
   "cell_type": "code",
   "execution_count": 123,
   "id": "1d06f428",
   "metadata": {},
   "outputs": [
    {
     "data": {
      "application/vnd.plotly.v1+json": {
       "config": {
        "plotlyServerURL": "https://plot.ly"
       },
       "data": [
        {
         "domain": {
          "x": [
           0,
           1
          ],
          "y": [
           0,
           1
          ]
         },
         "hole": 0.6,
         "hovertemplate": "Free/Paid=%{label}<br>value=%{value}<extra></extra>",
         "labels": [
          "Free",
          "Paid"
         ],
         "legendgroup": "",
         "name": "",
         "showlegend": true,
         "type": "pie",
         "values": [
          311,
          3365
         ]
        }
       ],
       "layout": {
        "legend": {
         "tracegroupgap": 0
        },
        "margin": {
         "t": 60
        },
        "template": {
         "data": {
          "bar": [
           {
            "error_x": {
             "color": "#2a3f5f"
            },
            "error_y": {
             "color": "#2a3f5f"
            },
            "marker": {
             "line": {
              "color": "#E5ECF6",
              "width": 0.5
             },
             "pattern": {
              "fillmode": "overlay",
              "size": 10,
              "solidity": 0.2
             }
            },
            "type": "bar"
           }
          ],
          "barpolar": [
           {
            "marker": {
             "line": {
              "color": "#E5ECF6",
              "width": 0.5
             },
             "pattern": {
              "fillmode": "overlay",
              "size": 10,
              "solidity": 0.2
             }
            },
            "type": "barpolar"
           }
          ],
          "carpet": [
           {
            "aaxis": {
             "endlinecolor": "#2a3f5f",
             "gridcolor": "white",
             "linecolor": "white",
             "minorgridcolor": "white",
             "startlinecolor": "#2a3f5f"
            },
            "baxis": {
             "endlinecolor": "#2a3f5f",
             "gridcolor": "white",
             "linecolor": "white",
             "minorgridcolor": "white",
             "startlinecolor": "#2a3f5f"
            },
            "type": "carpet"
           }
          ],
          "choropleth": [
           {
            "colorbar": {
             "outlinewidth": 0,
             "ticks": ""
            },
            "type": "choropleth"
           }
          ],
          "contour": [
           {
            "colorbar": {
             "outlinewidth": 0,
             "ticks": ""
            },
            "colorscale": [
             [
              0,
              "#0d0887"
             ],
             [
              0.1111111111111111,
              "#46039f"
             ],
             [
              0.2222222222222222,
              "#7201a8"
             ],
             [
              0.3333333333333333,
              "#9c179e"
             ],
             [
              0.4444444444444444,
              "#bd3786"
             ],
             [
              0.5555555555555556,
              "#d8576b"
             ],
             [
              0.6666666666666666,
              "#ed7953"
             ],
             [
              0.7777777777777778,
              "#fb9f3a"
             ],
             [
              0.8888888888888888,
              "#fdca26"
             ],
             [
              1,
              "#f0f921"
             ]
            ],
            "type": "contour"
           }
          ],
          "contourcarpet": [
           {
            "colorbar": {
             "outlinewidth": 0,
             "ticks": ""
            },
            "type": "contourcarpet"
           }
          ],
          "heatmap": [
           {
            "colorbar": {
             "outlinewidth": 0,
             "ticks": ""
            },
            "colorscale": [
             [
              0,
              "#0d0887"
             ],
             [
              0.1111111111111111,
              "#46039f"
             ],
             [
              0.2222222222222222,
              "#7201a8"
             ],
             [
              0.3333333333333333,
              "#9c179e"
             ],
             [
              0.4444444444444444,
              "#bd3786"
             ],
             [
              0.5555555555555556,
              "#d8576b"
             ],
             [
              0.6666666666666666,
              "#ed7953"
             ],
             [
              0.7777777777777778,
              "#fb9f3a"
             ],
             [
              0.8888888888888888,
              "#fdca26"
             ],
             [
              1,
              "#f0f921"
             ]
            ],
            "type": "heatmap"
           }
          ],
          "heatmapgl": [
           {
            "colorbar": {
             "outlinewidth": 0,
             "ticks": ""
            },
            "colorscale": [
             [
              0,
              "#0d0887"
             ],
             [
              0.1111111111111111,
              "#46039f"
             ],
             [
              0.2222222222222222,
              "#7201a8"
             ],
             [
              0.3333333333333333,
              "#9c179e"
             ],
             [
              0.4444444444444444,
              "#bd3786"
             ],
             [
              0.5555555555555556,
              "#d8576b"
             ],
             [
              0.6666666666666666,
              "#ed7953"
             ],
             [
              0.7777777777777778,
              "#fb9f3a"
             ],
             [
              0.8888888888888888,
              "#fdca26"
             ],
             [
              1,
              "#f0f921"
             ]
            ],
            "type": "heatmapgl"
           }
          ],
          "histogram": [
           {
            "marker": {
             "pattern": {
              "fillmode": "overlay",
              "size": 10,
              "solidity": 0.2
             }
            },
            "type": "histogram"
           }
          ],
          "histogram2d": [
           {
            "colorbar": {
             "outlinewidth": 0,
             "ticks": ""
            },
            "colorscale": [
             [
              0,
              "#0d0887"
             ],
             [
              0.1111111111111111,
              "#46039f"
             ],
             [
              0.2222222222222222,
              "#7201a8"
             ],
             [
              0.3333333333333333,
              "#9c179e"
             ],
             [
              0.4444444444444444,
              "#bd3786"
             ],
             [
              0.5555555555555556,
              "#d8576b"
             ],
             [
              0.6666666666666666,
              "#ed7953"
             ],
             [
              0.7777777777777778,
              "#fb9f3a"
             ],
             [
              0.8888888888888888,
              "#fdca26"
             ],
             [
              1,
              "#f0f921"
             ]
            ],
            "type": "histogram2d"
           }
          ],
          "histogram2dcontour": [
           {
            "colorbar": {
             "outlinewidth": 0,
             "ticks": ""
            },
            "colorscale": [
             [
              0,
              "#0d0887"
             ],
             [
              0.1111111111111111,
              "#46039f"
             ],
             [
              0.2222222222222222,
              "#7201a8"
             ],
             [
              0.3333333333333333,
              "#9c179e"
             ],
             [
              0.4444444444444444,
              "#bd3786"
             ],
             [
              0.5555555555555556,
              "#d8576b"
             ],
             [
              0.6666666666666666,
              "#ed7953"
             ],
             [
              0.7777777777777778,
              "#fb9f3a"
             ],
             [
              0.8888888888888888,
              "#fdca26"
             ],
             [
              1,
              "#f0f921"
             ]
            ],
            "type": "histogram2dcontour"
           }
          ],
          "mesh3d": [
           {
            "colorbar": {
             "outlinewidth": 0,
             "ticks": ""
            },
            "type": "mesh3d"
           }
          ],
          "parcoords": [
           {
            "line": {
             "colorbar": {
              "outlinewidth": 0,
              "ticks": ""
             }
            },
            "type": "parcoords"
           }
          ],
          "pie": [
           {
            "automargin": true,
            "type": "pie"
           }
          ],
          "scatter": [
           {
            "marker": {
             "colorbar": {
              "outlinewidth": 0,
              "ticks": ""
             }
            },
            "type": "scatter"
           }
          ],
          "scatter3d": [
           {
            "line": {
             "colorbar": {
              "outlinewidth": 0,
              "ticks": ""
             }
            },
            "marker": {
             "colorbar": {
              "outlinewidth": 0,
              "ticks": ""
             }
            },
            "type": "scatter3d"
           }
          ],
          "scattercarpet": [
           {
            "marker": {
             "colorbar": {
              "outlinewidth": 0,
              "ticks": ""
             }
            },
            "type": "scattercarpet"
           }
          ],
          "scattergeo": [
           {
            "marker": {
             "colorbar": {
              "outlinewidth": 0,
              "ticks": ""
             }
            },
            "type": "scattergeo"
           }
          ],
          "scattergl": [
           {
            "marker": {
             "colorbar": {
              "outlinewidth": 0,
              "ticks": ""
             }
            },
            "type": "scattergl"
           }
          ],
          "scattermapbox": [
           {
            "marker": {
             "colorbar": {
              "outlinewidth": 0,
              "ticks": ""
             }
            },
            "type": "scattermapbox"
           }
          ],
          "scatterpolar": [
           {
            "marker": {
             "colorbar": {
              "outlinewidth": 0,
              "ticks": ""
             }
            },
            "type": "scatterpolar"
           }
          ],
          "scatterpolargl": [
           {
            "marker": {
             "colorbar": {
              "outlinewidth": 0,
              "ticks": ""
             }
            },
            "type": "scatterpolargl"
           }
          ],
          "scatterternary": [
           {
            "marker": {
             "colorbar": {
              "outlinewidth": 0,
              "ticks": ""
             }
            },
            "type": "scatterternary"
           }
          ],
          "surface": [
           {
            "colorbar": {
             "outlinewidth": 0,
             "ticks": ""
            },
            "colorscale": [
             [
              0,
              "#0d0887"
             ],
             [
              0.1111111111111111,
              "#46039f"
             ],
             [
              0.2222222222222222,
              "#7201a8"
             ],
             [
              0.3333333333333333,
              "#9c179e"
             ],
             [
              0.4444444444444444,
              "#bd3786"
             ],
             [
              0.5555555555555556,
              "#d8576b"
             ],
             [
              0.6666666666666666,
              "#ed7953"
             ],
             [
              0.7777777777777778,
              "#fb9f3a"
             ],
             [
              0.8888888888888888,
              "#fdca26"
             ],
             [
              1,
              "#f0f921"
             ]
            ],
            "type": "surface"
           }
          ],
          "table": [
           {
            "cells": {
             "fill": {
              "color": "#EBF0F8"
             },
             "line": {
              "color": "white"
             }
            },
            "header": {
             "fill": {
              "color": "#C8D4E3"
             },
             "line": {
              "color": "white"
             }
            },
            "type": "table"
           }
          ]
         },
         "layout": {
          "annotationdefaults": {
           "arrowcolor": "#2a3f5f",
           "arrowhead": 0,
           "arrowwidth": 1
          },
          "autotypenumbers": "strict",
          "coloraxis": {
           "colorbar": {
            "outlinewidth": 0,
            "ticks": ""
           }
          },
          "colorscale": {
           "diverging": [
            [
             0,
             "#8e0152"
            ],
            [
             0.1,
             "#c51b7d"
            ],
            [
             0.2,
             "#de77ae"
            ],
            [
             0.3,
             "#f1b6da"
            ],
            [
             0.4,
             "#fde0ef"
            ],
            [
             0.5,
             "#f7f7f7"
            ],
            [
             0.6,
             "#e6f5d0"
            ],
            [
             0.7,
             "#b8e186"
            ],
            [
             0.8,
             "#7fbc41"
            ],
            [
             0.9,
             "#4d9221"
            ],
            [
             1,
             "#276419"
            ]
           ],
           "sequential": [
            [
             0,
             "#0d0887"
            ],
            [
             0.1111111111111111,
             "#46039f"
            ],
            [
             0.2222222222222222,
             "#7201a8"
            ],
            [
             0.3333333333333333,
             "#9c179e"
            ],
            [
             0.4444444444444444,
             "#bd3786"
            ],
            [
             0.5555555555555556,
             "#d8576b"
            ],
            [
             0.6666666666666666,
             "#ed7953"
            ],
            [
             0.7777777777777778,
             "#fb9f3a"
            ],
            [
             0.8888888888888888,
             "#fdca26"
            ],
            [
             1,
             "#f0f921"
            ]
           ],
           "sequentialminus": [
            [
             0,
             "#0d0887"
            ],
            [
             0.1111111111111111,
             "#46039f"
            ],
            [
             0.2222222222222222,
             "#7201a8"
            ],
            [
             0.3333333333333333,
             "#9c179e"
            ],
            [
             0.4444444444444444,
             "#bd3786"
            ],
            [
             0.5555555555555556,
             "#d8576b"
            ],
            [
             0.6666666666666666,
             "#ed7953"
            ],
            [
             0.7777777777777778,
             "#fb9f3a"
            ],
            [
             0.8888888888888888,
             "#fdca26"
            ],
            [
             1,
             "#f0f921"
            ]
           ]
          },
          "colorway": [
           "#636efa",
           "#EF553B",
           "#00cc96",
           "#ab63fa",
           "#FFA15A",
           "#19d3f3",
           "#FF6692",
           "#B6E880",
           "#FF97FF",
           "#FECB52"
          ],
          "font": {
           "color": "#2a3f5f"
          },
          "geo": {
           "bgcolor": "white",
           "lakecolor": "white",
           "landcolor": "#E5ECF6",
           "showlakes": true,
           "showland": true,
           "subunitcolor": "white"
          },
          "hoverlabel": {
           "align": "left"
          },
          "hovermode": "closest",
          "mapbox": {
           "style": "light"
          },
          "paper_bgcolor": "white",
          "plot_bgcolor": "#E5ECF6",
          "polar": {
           "angularaxis": {
            "gridcolor": "white",
            "linecolor": "white",
            "ticks": ""
           },
           "bgcolor": "#E5ECF6",
           "radialaxis": {
            "gridcolor": "white",
            "linecolor": "white",
            "ticks": ""
           }
          },
          "scene": {
           "xaxis": {
            "backgroundcolor": "#E5ECF6",
            "gridcolor": "white",
            "gridwidth": 2,
            "linecolor": "white",
            "showbackground": true,
            "ticks": "",
            "zerolinecolor": "white"
           },
           "yaxis": {
            "backgroundcolor": "#E5ECF6",
            "gridcolor": "white",
            "gridwidth": 2,
            "linecolor": "white",
            "showbackground": true,
            "ticks": "",
            "zerolinecolor": "white"
           },
           "zaxis": {
            "backgroundcolor": "#E5ECF6",
            "gridcolor": "white",
            "gridwidth": 2,
            "linecolor": "white",
            "showbackground": true,
            "ticks": "",
            "zerolinecolor": "white"
           }
          },
          "shapedefaults": {
           "line": {
            "color": "#2a3f5f"
           }
          },
          "ternary": {
           "aaxis": {
            "gridcolor": "white",
            "linecolor": "white",
            "ticks": ""
           },
           "baxis": {
            "gridcolor": "white",
            "linecolor": "white",
            "ticks": ""
           },
           "bgcolor": "#E5ECF6",
           "caxis": {
            "gridcolor": "white",
            "linecolor": "white",
            "ticks": ""
           }
          },
          "title": {
           "x": 0.05
          },
          "xaxis": {
           "automargin": true,
           "gridcolor": "white",
           "linecolor": "white",
           "ticks": "",
           "title": {
            "standoff": 15
           },
           "zerolinecolor": "white",
           "zerolinewidth": 2
          },
          "yaxis": {
           "automargin": true,
           "gridcolor": "white",
           "linecolor": "white",
           "ticks": "",
           "title": {
            "standoff": 15
           },
           "zerolinecolor": "white",
           "zerolinewidth": 2
          }
         }
        }
       }
      },
      "text/html": [
       "<div>                            <div id=\"eecc022a-6b62-485d-9fee-f84697af2fc5\" class=\"plotly-graph-div\" style=\"height:525px; width:100%;\"></div>            <script type=\"text/javascript\">                require([\"plotly\"], function(Plotly) {                    window.PLOTLYENV=window.PLOTLYENV || {};                                    if (document.getElementById(\"eecc022a-6b62-485d-9fee-f84697af2fc5\")) {                    Plotly.newPlot(                        \"eecc022a-6b62-485d-9fee-f84697af2fc5\",                        [{\"domain\":{\"x\":[0.0,1.0],\"y\":[0.0,1.0]},\"hole\":0.6,\"hovertemplate\":\"Free/Paid=%{label}<br>value=%{value}<extra></extra>\",\"labels\":[\"Free\",\"Paid\"],\"legendgroup\":\"\",\"name\":\"\",\"showlegend\":true,\"values\":[311,3365],\"type\":\"pie\"}],                        {\"template\":{\"data\":{\"bar\":[{\"error_x\":{\"color\":\"#2a3f5f\"},\"error_y\":{\"color\":\"#2a3f5f\"},\"marker\":{\"line\":{\"color\":\"#E5ECF6\",\"width\":0.5},\"pattern\":{\"fillmode\":\"overlay\",\"size\":10,\"solidity\":0.2}},\"type\":\"bar\"}],\"barpolar\":[{\"marker\":{\"line\":{\"color\":\"#E5ECF6\",\"width\":0.5},\"pattern\":{\"fillmode\":\"overlay\",\"size\":10,\"solidity\":0.2}},\"type\":\"barpolar\"}],\"carpet\":[{\"aaxis\":{\"endlinecolor\":\"#2a3f5f\",\"gridcolor\":\"white\",\"linecolor\":\"white\",\"minorgridcolor\":\"white\",\"startlinecolor\":\"#2a3f5f\"},\"baxis\":{\"endlinecolor\":\"#2a3f5f\",\"gridcolor\":\"white\",\"linecolor\":\"white\",\"minorgridcolor\":\"white\",\"startlinecolor\":\"#2a3f5f\"},\"type\":\"carpet\"}],\"choropleth\":[{\"colorbar\":{\"outlinewidth\":0,\"ticks\":\"\"},\"type\":\"choropleth\"}],\"contour\":[{\"colorbar\":{\"outlinewidth\":0,\"ticks\":\"\"},\"colorscale\":[[0.0,\"#0d0887\"],[0.1111111111111111,\"#46039f\"],[0.2222222222222222,\"#7201a8\"],[0.3333333333333333,\"#9c179e\"],[0.4444444444444444,\"#bd3786\"],[0.5555555555555556,\"#d8576b\"],[0.6666666666666666,\"#ed7953\"],[0.7777777777777778,\"#fb9f3a\"],[0.8888888888888888,\"#fdca26\"],[1.0,\"#f0f921\"]],\"type\":\"contour\"}],\"contourcarpet\":[{\"colorbar\":{\"outlinewidth\":0,\"ticks\":\"\"},\"type\":\"contourcarpet\"}],\"heatmap\":[{\"colorbar\":{\"outlinewidth\":0,\"ticks\":\"\"},\"colorscale\":[[0.0,\"#0d0887\"],[0.1111111111111111,\"#46039f\"],[0.2222222222222222,\"#7201a8\"],[0.3333333333333333,\"#9c179e\"],[0.4444444444444444,\"#bd3786\"],[0.5555555555555556,\"#d8576b\"],[0.6666666666666666,\"#ed7953\"],[0.7777777777777778,\"#fb9f3a\"],[0.8888888888888888,\"#fdca26\"],[1.0,\"#f0f921\"]],\"type\":\"heatmap\"}],\"heatmapgl\":[{\"colorbar\":{\"outlinewidth\":0,\"ticks\":\"\"},\"colorscale\":[[0.0,\"#0d0887\"],[0.1111111111111111,\"#46039f\"],[0.2222222222222222,\"#7201a8\"],[0.3333333333333333,\"#9c179e\"],[0.4444444444444444,\"#bd3786\"],[0.5555555555555556,\"#d8576b\"],[0.6666666666666666,\"#ed7953\"],[0.7777777777777778,\"#fb9f3a\"],[0.8888888888888888,\"#fdca26\"],[1.0,\"#f0f921\"]],\"type\":\"heatmapgl\"}],\"histogram\":[{\"marker\":{\"pattern\":{\"fillmode\":\"overlay\",\"size\":10,\"solidity\":0.2}},\"type\":\"histogram\"}],\"histogram2d\":[{\"colorbar\":{\"outlinewidth\":0,\"ticks\":\"\"},\"colorscale\":[[0.0,\"#0d0887\"],[0.1111111111111111,\"#46039f\"],[0.2222222222222222,\"#7201a8\"],[0.3333333333333333,\"#9c179e\"],[0.4444444444444444,\"#bd3786\"],[0.5555555555555556,\"#d8576b\"],[0.6666666666666666,\"#ed7953\"],[0.7777777777777778,\"#fb9f3a\"],[0.8888888888888888,\"#fdca26\"],[1.0,\"#f0f921\"]],\"type\":\"histogram2d\"}],\"histogram2dcontour\":[{\"colorbar\":{\"outlinewidth\":0,\"ticks\":\"\"},\"colorscale\":[[0.0,\"#0d0887\"],[0.1111111111111111,\"#46039f\"],[0.2222222222222222,\"#7201a8\"],[0.3333333333333333,\"#9c179e\"],[0.4444444444444444,\"#bd3786\"],[0.5555555555555556,\"#d8576b\"],[0.6666666666666666,\"#ed7953\"],[0.7777777777777778,\"#fb9f3a\"],[0.8888888888888888,\"#fdca26\"],[1.0,\"#f0f921\"]],\"type\":\"histogram2dcontour\"}],\"mesh3d\":[{\"colorbar\":{\"outlinewidth\":0,\"ticks\":\"\"},\"type\":\"mesh3d\"}],\"parcoords\":[{\"line\":{\"colorbar\":{\"outlinewidth\":0,\"ticks\":\"\"}},\"type\":\"parcoords\"}],\"pie\":[{\"automargin\":true,\"type\":\"pie\"}],\"scatter\":[{\"marker\":{\"colorbar\":{\"outlinewidth\":0,\"ticks\":\"\"}},\"type\":\"scatter\"}],\"scatter3d\":[{\"line\":{\"colorbar\":{\"outlinewidth\":0,\"ticks\":\"\"}},\"marker\":{\"colorbar\":{\"outlinewidth\":0,\"ticks\":\"\"}},\"type\":\"scatter3d\"}],\"scattercarpet\":[{\"marker\":{\"colorbar\":{\"outlinewidth\":0,\"ticks\":\"\"}},\"type\":\"scattercarpet\"}],\"scattergeo\":[{\"marker\":{\"colorbar\":{\"outlinewidth\":0,\"ticks\":\"\"}},\"type\":\"scattergeo\"}],\"scattergl\":[{\"marker\":{\"colorbar\":{\"outlinewidth\":0,\"ticks\":\"\"}},\"type\":\"scattergl\"}],\"scattermapbox\":[{\"marker\":{\"colorbar\":{\"outlinewidth\":0,\"ticks\":\"\"}},\"type\":\"scattermapbox\"}],\"scatterpolar\":[{\"marker\":{\"colorbar\":{\"outlinewidth\":0,\"ticks\":\"\"}},\"type\":\"scatterpolar\"}],\"scatterpolargl\":[{\"marker\":{\"colorbar\":{\"outlinewidth\":0,\"ticks\":\"\"}},\"type\":\"scatterpolargl\"}],\"scatterternary\":[{\"marker\":{\"colorbar\":{\"outlinewidth\":0,\"ticks\":\"\"}},\"type\":\"scatterternary\"}],\"surface\":[{\"colorbar\":{\"outlinewidth\":0,\"ticks\":\"\"},\"colorscale\":[[0.0,\"#0d0887\"],[0.1111111111111111,\"#46039f\"],[0.2222222222222222,\"#7201a8\"],[0.3333333333333333,\"#9c179e\"],[0.4444444444444444,\"#bd3786\"],[0.5555555555555556,\"#d8576b\"],[0.6666666666666666,\"#ed7953\"],[0.7777777777777778,\"#fb9f3a\"],[0.8888888888888888,\"#fdca26\"],[1.0,\"#f0f921\"]],\"type\":\"surface\"}],\"table\":[{\"cells\":{\"fill\":{\"color\":\"#EBF0F8\"},\"line\":{\"color\":\"white\"}},\"header\":{\"fill\":{\"color\":\"#C8D4E3\"},\"line\":{\"color\":\"white\"}},\"type\":\"table\"}]},\"layout\":{\"annotationdefaults\":{\"arrowcolor\":\"#2a3f5f\",\"arrowhead\":0,\"arrowwidth\":1},\"autotypenumbers\":\"strict\",\"coloraxis\":{\"colorbar\":{\"outlinewidth\":0,\"ticks\":\"\"}},\"colorscale\":{\"diverging\":[[0,\"#8e0152\"],[0.1,\"#c51b7d\"],[0.2,\"#de77ae\"],[0.3,\"#f1b6da\"],[0.4,\"#fde0ef\"],[0.5,\"#f7f7f7\"],[0.6,\"#e6f5d0\"],[0.7,\"#b8e186\"],[0.8,\"#7fbc41\"],[0.9,\"#4d9221\"],[1,\"#276419\"]],\"sequential\":[[0.0,\"#0d0887\"],[0.1111111111111111,\"#46039f\"],[0.2222222222222222,\"#7201a8\"],[0.3333333333333333,\"#9c179e\"],[0.4444444444444444,\"#bd3786\"],[0.5555555555555556,\"#d8576b\"],[0.6666666666666666,\"#ed7953\"],[0.7777777777777778,\"#fb9f3a\"],[0.8888888888888888,\"#fdca26\"],[1.0,\"#f0f921\"]],\"sequentialminus\":[[0.0,\"#0d0887\"],[0.1111111111111111,\"#46039f\"],[0.2222222222222222,\"#7201a8\"],[0.3333333333333333,\"#9c179e\"],[0.4444444444444444,\"#bd3786\"],[0.5555555555555556,\"#d8576b\"],[0.6666666666666666,\"#ed7953\"],[0.7777777777777778,\"#fb9f3a\"],[0.8888888888888888,\"#fdca26\"],[1.0,\"#f0f921\"]]},\"colorway\":[\"#636efa\",\"#EF553B\",\"#00cc96\",\"#ab63fa\",\"#FFA15A\",\"#19d3f3\",\"#FF6692\",\"#B6E880\",\"#FF97FF\",\"#FECB52\"],\"font\":{\"color\":\"#2a3f5f\"},\"geo\":{\"bgcolor\":\"white\",\"lakecolor\":\"white\",\"landcolor\":\"#E5ECF6\",\"showlakes\":true,\"showland\":true,\"subunitcolor\":\"white\"},\"hoverlabel\":{\"align\":\"left\"},\"hovermode\":\"closest\",\"mapbox\":{\"style\":\"light\"},\"paper_bgcolor\":\"white\",\"plot_bgcolor\":\"#E5ECF6\",\"polar\":{\"angularaxis\":{\"gridcolor\":\"white\",\"linecolor\":\"white\",\"ticks\":\"\"},\"bgcolor\":\"#E5ECF6\",\"radialaxis\":{\"gridcolor\":\"white\",\"linecolor\":\"white\",\"ticks\":\"\"}},\"scene\":{\"xaxis\":{\"backgroundcolor\":\"#E5ECF6\",\"gridcolor\":\"white\",\"gridwidth\":2,\"linecolor\":\"white\",\"showbackground\":true,\"ticks\":\"\",\"zerolinecolor\":\"white\"},\"yaxis\":{\"backgroundcolor\":\"#E5ECF6\",\"gridcolor\":\"white\",\"gridwidth\":2,\"linecolor\":\"white\",\"showbackground\":true,\"ticks\":\"\",\"zerolinecolor\":\"white\"},\"zaxis\":{\"backgroundcolor\":\"#E5ECF6\",\"gridcolor\":\"white\",\"gridwidth\":2,\"linecolor\":\"white\",\"showbackground\":true,\"ticks\":\"\",\"zerolinecolor\":\"white\"}},\"shapedefaults\":{\"line\":{\"color\":\"#2a3f5f\"}},\"ternary\":{\"aaxis\":{\"gridcolor\":\"white\",\"linecolor\":\"white\",\"ticks\":\"\"},\"baxis\":{\"gridcolor\":\"white\",\"linecolor\":\"white\",\"ticks\":\"\"},\"bgcolor\":\"#E5ECF6\",\"caxis\":{\"gridcolor\":\"white\",\"linecolor\":\"white\",\"ticks\":\"\"}},\"title\":{\"x\":0.05},\"xaxis\":{\"automargin\":true,\"gridcolor\":\"white\",\"linecolor\":\"white\",\"ticks\":\"\",\"title\":{\"standoff\":15},\"zerolinecolor\":\"white\",\"zerolinewidth\":2},\"yaxis\":{\"automargin\":true,\"gridcolor\":\"white\",\"linecolor\":\"white\",\"ticks\":\"\",\"title\":{\"standoff\":15},\"zerolinecolor\":\"white\",\"zerolinewidth\":2}}},\"legend\":{\"tracegroupgap\":0},\"margin\":{\"t\":60}},                        {\"responsive\": true}                    ).then(function(){\n",
       "                            \n",
       "var gd = document.getElementById('eecc022a-6b62-485d-9fee-f84697af2fc5');\n",
       "var x = new MutationObserver(function (mutations, observer) {{\n",
       "        var display = window.getComputedStyle(gd).display;\n",
       "        if (!display || display === 'none') {{\n",
       "            console.log([gd, 'removed!']);\n",
       "            Plotly.purge(gd);\n",
       "            observer.disconnect();\n",
       "        }}\n",
       "}});\n",
       "\n",
       "// Listen for the removal of the full notebook cells\n",
       "var notebookContainer = gd.closest('#notebook-container');\n",
       "if (notebookContainer) {{\n",
       "    x.observe(notebookContainer, {childList: true});\n",
       "}}\n",
       "\n",
       "// Listen for the clearing of the current output cell\n",
       "var outputEl = gd.closest('.output');\n",
       "if (outputEl) {{\n",
       "    x.observe(outputEl, {childList: true});\n",
       "}}\n",
       "\n",
       "                        })                };                });            </script>        </div>"
      ]
     },
     "metadata": {},
     "output_type": "display_data"
    }
   ],
   "source": [
    "fig = px.pie(num_FP, values=num_FP.values,names=num_FP.index,hole=0.6)\n",
    "fig.show()"
   ]
  },
  {
   "cell_type": "markdown",
   "id": "2ff1a7cc",
   "metadata": {},
   "source": [
    "### 8. Subject that generate more income"
   ]
  },
  {
   "cell_type": "code",
   "execution_count": 126,
   "id": "042445ae",
   "metadata": {},
   "outputs": [
    {
     "data": {
      "text/plain": [
       "subject\n",
       "Business Finance       81815\n",
       "Graphic Design         34850\n",
       "Musical Instruments    33700\n",
       "Web Development        92675\n",
       "Name: price, dtype: int64"
      ]
     },
     "execution_count": 126,
     "metadata": {},
     "output_type": "execute_result"
    }
   ],
   "source": [
    "sub_income = data.groupby(by='subject').price.sum()\n",
    "sub_income"
   ]
  },
  {
   "cell_type": "code",
   "execution_count": 134,
   "id": "e030ce87",
   "metadata": {},
   "outputs": [
    {
     "data": {
      "application/vnd.plotly.v1+json": {
       "config": {
        "plotlyServerURL": "https://plot.ly"
       },
       "data": [
        {
         "alignmentgroup": "True",
         "hovertemplate": "subject=%{x}<br>value=%{y}<br>color=%{marker.color}<extra></extra>",
         "legendgroup": "",
         "marker": {
          "color": [
           81815,
           34850,
           33700,
           92675
          ],
          "coloraxis": "coloraxis",
          "pattern": {
           "shape": ""
          }
         },
         "name": "",
         "offsetgroup": "",
         "orientation": "v",
         "showlegend": false,
         "textposition": "auto",
         "type": "bar",
         "x": [
          "Business Finance",
          "Graphic Design",
          "Musical Instruments",
          "Web Development"
         ],
         "xaxis": "x",
         "y": [
          81815,
          34850,
          33700,
          92675
         ],
         "yaxis": "y"
        }
       ],
       "layout": {
        "barmode": "relative",
        "coloraxis": {
         "colorbar": {
          "title": {
           "text": "color"
          }
         },
         "colorscale": [
          [
           0,
           "#0d0887"
          ],
          [
           0.1111111111111111,
           "#46039f"
          ],
          [
           0.2222222222222222,
           "#7201a8"
          ],
          [
           0.3333333333333333,
           "#9c179e"
          ],
          [
           0.4444444444444444,
           "#bd3786"
          ],
          [
           0.5555555555555556,
           "#d8576b"
          ],
          [
           0.6666666666666666,
           "#ed7953"
          ],
          [
           0.7777777777777778,
           "#fb9f3a"
          ],
          [
           0.8888888888888888,
           "#fdca26"
          ],
          [
           1,
           "#f0f921"
          ]
         ]
        },
        "legend": {
         "tracegroupgap": 0
        },
        "margin": {
         "t": 60
        },
        "template": {
         "data": {
          "bar": [
           {
            "error_x": {
             "color": "#2a3f5f"
            },
            "error_y": {
             "color": "#2a3f5f"
            },
            "marker": {
             "line": {
              "color": "white",
              "width": 0.5
             },
             "pattern": {
              "fillmode": "overlay",
              "size": 10,
              "solidity": 0.2
             }
            },
            "type": "bar"
           }
          ],
          "barpolar": [
           {
            "marker": {
             "line": {
              "color": "white",
              "width": 0.5
             },
             "pattern": {
              "fillmode": "overlay",
              "size": 10,
              "solidity": 0.2
             }
            },
            "type": "barpolar"
           }
          ],
          "carpet": [
           {
            "aaxis": {
             "endlinecolor": "#2a3f5f",
             "gridcolor": "#C8D4E3",
             "linecolor": "#C8D4E3",
             "minorgridcolor": "#C8D4E3",
             "startlinecolor": "#2a3f5f"
            },
            "baxis": {
             "endlinecolor": "#2a3f5f",
             "gridcolor": "#C8D4E3",
             "linecolor": "#C8D4E3",
             "minorgridcolor": "#C8D4E3",
             "startlinecolor": "#2a3f5f"
            },
            "type": "carpet"
           }
          ],
          "choropleth": [
           {
            "colorbar": {
             "outlinewidth": 0,
             "ticks": ""
            },
            "type": "choropleth"
           }
          ],
          "contour": [
           {
            "colorbar": {
             "outlinewidth": 0,
             "ticks": ""
            },
            "colorscale": [
             [
              0,
              "#0d0887"
             ],
             [
              0.1111111111111111,
              "#46039f"
             ],
             [
              0.2222222222222222,
              "#7201a8"
             ],
             [
              0.3333333333333333,
              "#9c179e"
             ],
             [
              0.4444444444444444,
              "#bd3786"
             ],
             [
              0.5555555555555556,
              "#d8576b"
             ],
             [
              0.6666666666666666,
              "#ed7953"
             ],
             [
              0.7777777777777778,
              "#fb9f3a"
             ],
             [
              0.8888888888888888,
              "#fdca26"
             ],
             [
              1,
              "#f0f921"
             ]
            ],
            "type": "contour"
           }
          ],
          "contourcarpet": [
           {
            "colorbar": {
             "outlinewidth": 0,
             "ticks": ""
            },
            "type": "contourcarpet"
           }
          ],
          "heatmap": [
           {
            "colorbar": {
             "outlinewidth": 0,
             "ticks": ""
            },
            "colorscale": [
             [
              0,
              "#0d0887"
             ],
             [
              0.1111111111111111,
              "#46039f"
             ],
             [
              0.2222222222222222,
              "#7201a8"
             ],
             [
              0.3333333333333333,
              "#9c179e"
             ],
             [
              0.4444444444444444,
              "#bd3786"
             ],
             [
              0.5555555555555556,
              "#d8576b"
             ],
             [
              0.6666666666666666,
              "#ed7953"
             ],
             [
              0.7777777777777778,
              "#fb9f3a"
             ],
             [
              0.8888888888888888,
              "#fdca26"
             ],
             [
              1,
              "#f0f921"
             ]
            ],
            "type": "heatmap"
           }
          ],
          "heatmapgl": [
           {
            "colorbar": {
             "outlinewidth": 0,
             "ticks": ""
            },
            "colorscale": [
             [
              0,
              "#0d0887"
             ],
             [
              0.1111111111111111,
              "#46039f"
             ],
             [
              0.2222222222222222,
              "#7201a8"
             ],
             [
              0.3333333333333333,
              "#9c179e"
             ],
             [
              0.4444444444444444,
              "#bd3786"
             ],
             [
              0.5555555555555556,
              "#d8576b"
             ],
             [
              0.6666666666666666,
              "#ed7953"
             ],
             [
              0.7777777777777778,
              "#fb9f3a"
             ],
             [
              0.8888888888888888,
              "#fdca26"
             ],
             [
              1,
              "#f0f921"
             ]
            ],
            "type": "heatmapgl"
           }
          ],
          "histogram": [
           {
            "marker": {
             "pattern": {
              "fillmode": "overlay",
              "size": 10,
              "solidity": 0.2
             }
            },
            "type": "histogram"
           }
          ],
          "histogram2d": [
           {
            "colorbar": {
             "outlinewidth": 0,
             "ticks": ""
            },
            "colorscale": [
             [
              0,
              "#0d0887"
             ],
             [
              0.1111111111111111,
              "#46039f"
             ],
             [
              0.2222222222222222,
              "#7201a8"
             ],
             [
              0.3333333333333333,
              "#9c179e"
             ],
             [
              0.4444444444444444,
              "#bd3786"
             ],
             [
              0.5555555555555556,
              "#d8576b"
             ],
             [
              0.6666666666666666,
              "#ed7953"
             ],
             [
              0.7777777777777778,
              "#fb9f3a"
             ],
             [
              0.8888888888888888,
              "#fdca26"
             ],
             [
              1,
              "#f0f921"
             ]
            ],
            "type": "histogram2d"
           }
          ],
          "histogram2dcontour": [
           {
            "colorbar": {
             "outlinewidth": 0,
             "ticks": ""
            },
            "colorscale": [
             [
              0,
              "#0d0887"
             ],
             [
              0.1111111111111111,
              "#46039f"
             ],
             [
              0.2222222222222222,
              "#7201a8"
             ],
             [
              0.3333333333333333,
              "#9c179e"
             ],
             [
              0.4444444444444444,
              "#bd3786"
             ],
             [
              0.5555555555555556,
              "#d8576b"
             ],
             [
              0.6666666666666666,
              "#ed7953"
             ],
             [
              0.7777777777777778,
              "#fb9f3a"
             ],
             [
              0.8888888888888888,
              "#fdca26"
             ],
             [
              1,
              "#f0f921"
             ]
            ],
            "type": "histogram2dcontour"
           }
          ],
          "mesh3d": [
           {
            "colorbar": {
             "outlinewidth": 0,
             "ticks": ""
            },
            "type": "mesh3d"
           }
          ],
          "parcoords": [
           {
            "line": {
             "colorbar": {
              "outlinewidth": 0,
              "ticks": ""
             }
            },
            "type": "parcoords"
           }
          ],
          "pie": [
           {
            "automargin": true,
            "type": "pie"
           }
          ],
          "scatter": [
           {
            "marker": {
             "colorbar": {
              "outlinewidth": 0,
              "ticks": ""
             }
            },
            "type": "scatter"
           }
          ],
          "scatter3d": [
           {
            "line": {
             "colorbar": {
              "outlinewidth": 0,
              "ticks": ""
             }
            },
            "marker": {
             "colorbar": {
              "outlinewidth": 0,
              "ticks": ""
             }
            },
            "type": "scatter3d"
           }
          ],
          "scattercarpet": [
           {
            "marker": {
             "colorbar": {
              "outlinewidth": 0,
              "ticks": ""
             }
            },
            "type": "scattercarpet"
           }
          ],
          "scattergeo": [
           {
            "marker": {
             "colorbar": {
              "outlinewidth": 0,
              "ticks": ""
             }
            },
            "type": "scattergeo"
           }
          ],
          "scattergl": [
           {
            "marker": {
             "colorbar": {
              "outlinewidth": 0,
              "ticks": ""
             }
            },
            "type": "scattergl"
           }
          ],
          "scattermapbox": [
           {
            "marker": {
             "colorbar": {
              "outlinewidth": 0,
              "ticks": ""
             }
            },
            "type": "scattermapbox"
           }
          ],
          "scatterpolar": [
           {
            "marker": {
             "colorbar": {
              "outlinewidth": 0,
              "ticks": ""
             }
            },
            "type": "scatterpolar"
           }
          ],
          "scatterpolargl": [
           {
            "marker": {
             "colorbar": {
              "outlinewidth": 0,
              "ticks": ""
             }
            },
            "type": "scatterpolargl"
           }
          ],
          "scatterternary": [
           {
            "marker": {
             "colorbar": {
              "outlinewidth": 0,
              "ticks": ""
             }
            },
            "type": "scatterternary"
           }
          ],
          "surface": [
           {
            "colorbar": {
             "outlinewidth": 0,
             "ticks": ""
            },
            "colorscale": [
             [
              0,
              "#0d0887"
             ],
             [
              0.1111111111111111,
              "#46039f"
             ],
             [
              0.2222222222222222,
              "#7201a8"
             ],
             [
              0.3333333333333333,
              "#9c179e"
             ],
             [
              0.4444444444444444,
              "#bd3786"
             ],
             [
              0.5555555555555556,
              "#d8576b"
             ],
             [
              0.6666666666666666,
              "#ed7953"
             ],
             [
              0.7777777777777778,
              "#fb9f3a"
             ],
             [
              0.8888888888888888,
              "#fdca26"
             ],
             [
              1,
              "#f0f921"
             ]
            ],
            "type": "surface"
           }
          ],
          "table": [
           {
            "cells": {
             "fill": {
              "color": "#EBF0F8"
             },
             "line": {
              "color": "white"
             }
            },
            "header": {
             "fill": {
              "color": "#C8D4E3"
             },
             "line": {
              "color": "white"
             }
            },
            "type": "table"
           }
          ]
         },
         "layout": {
          "annotationdefaults": {
           "arrowcolor": "#2a3f5f",
           "arrowhead": 0,
           "arrowwidth": 1
          },
          "autotypenumbers": "strict",
          "coloraxis": {
           "colorbar": {
            "outlinewidth": 0,
            "ticks": ""
           }
          },
          "colorscale": {
           "diverging": [
            [
             0,
             "#8e0152"
            ],
            [
             0.1,
             "#c51b7d"
            ],
            [
             0.2,
             "#de77ae"
            ],
            [
             0.3,
             "#f1b6da"
            ],
            [
             0.4,
             "#fde0ef"
            ],
            [
             0.5,
             "#f7f7f7"
            ],
            [
             0.6,
             "#e6f5d0"
            ],
            [
             0.7,
             "#b8e186"
            ],
            [
             0.8,
             "#7fbc41"
            ],
            [
             0.9,
             "#4d9221"
            ],
            [
             1,
             "#276419"
            ]
           ],
           "sequential": [
            [
             0,
             "#0d0887"
            ],
            [
             0.1111111111111111,
             "#46039f"
            ],
            [
             0.2222222222222222,
             "#7201a8"
            ],
            [
             0.3333333333333333,
             "#9c179e"
            ],
            [
             0.4444444444444444,
             "#bd3786"
            ],
            [
             0.5555555555555556,
             "#d8576b"
            ],
            [
             0.6666666666666666,
             "#ed7953"
            ],
            [
             0.7777777777777778,
             "#fb9f3a"
            ],
            [
             0.8888888888888888,
             "#fdca26"
            ],
            [
             1,
             "#f0f921"
            ]
           ],
           "sequentialminus": [
            [
             0,
             "#0d0887"
            ],
            [
             0.1111111111111111,
             "#46039f"
            ],
            [
             0.2222222222222222,
             "#7201a8"
            ],
            [
             0.3333333333333333,
             "#9c179e"
            ],
            [
             0.4444444444444444,
             "#bd3786"
            ],
            [
             0.5555555555555556,
             "#d8576b"
            ],
            [
             0.6666666666666666,
             "#ed7953"
            ],
            [
             0.7777777777777778,
             "#fb9f3a"
            ],
            [
             0.8888888888888888,
             "#fdca26"
            ],
            [
             1,
             "#f0f921"
            ]
           ]
          },
          "colorway": [
           "#636efa",
           "#EF553B",
           "#00cc96",
           "#ab63fa",
           "#FFA15A",
           "#19d3f3",
           "#FF6692",
           "#B6E880",
           "#FF97FF",
           "#FECB52"
          ],
          "font": {
           "color": "#2a3f5f"
          },
          "geo": {
           "bgcolor": "white",
           "lakecolor": "white",
           "landcolor": "white",
           "showlakes": true,
           "showland": true,
           "subunitcolor": "#C8D4E3"
          },
          "hoverlabel": {
           "align": "left"
          },
          "hovermode": "closest",
          "mapbox": {
           "style": "light"
          },
          "paper_bgcolor": "white",
          "plot_bgcolor": "white",
          "polar": {
           "angularaxis": {
            "gridcolor": "#EBF0F8",
            "linecolor": "#EBF0F8",
            "ticks": ""
           },
           "bgcolor": "white",
           "radialaxis": {
            "gridcolor": "#EBF0F8",
            "linecolor": "#EBF0F8",
            "ticks": ""
           }
          },
          "scene": {
           "xaxis": {
            "backgroundcolor": "white",
            "gridcolor": "#DFE8F3",
            "gridwidth": 2,
            "linecolor": "#EBF0F8",
            "showbackground": true,
            "ticks": "",
            "zerolinecolor": "#EBF0F8"
           },
           "yaxis": {
            "backgroundcolor": "white",
            "gridcolor": "#DFE8F3",
            "gridwidth": 2,
            "linecolor": "#EBF0F8",
            "showbackground": true,
            "ticks": "",
            "zerolinecolor": "#EBF0F8"
           },
           "zaxis": {
            "backgroundcolor": "white",
            "gridcolor": "#DFE8F3",
            "gridwidth": 2,
            "linecolor": "#EBF0F8",
            "showbackground": true,
            "ticks": "",
            "zerolinecolor": "#EBF0F8"
           }
          },
          "shapedefaults": {
           "line": {
            "color": "#2a3f5f"
           }
          },
          "ternary": {
           "aaxis": {
            "gridcolor": "#DFE8F3",
            "linecolor": "#A2B1C6",
            "ticks": ""
           },
           "baxis": {
            "gridcolor": "#DFE8F3",
            "linecolor": "#A2B1C6",
            "ticks": ""
           },
           "bgcolor": "white",
           "caxis": {
            "gridcolor": "#DFE8F3",
            "linecolor": "#A2B1C6",
            "ticks": ""
           }
          },
          "title": {
           "x": 0.05
          },
          "xaxis": {
           "automargin": true,
           "gridcolor": "#EBF0F8",
           "linecolor": "#EBF0F8",
           "ticks": "",
           "title": {
            "standoff": 15
           },
           "zerolinecolor": "#EBF0F8",
           "zerolinewidth": 2
          },
          "yaxis": {
           "automargin": true,
           "gridcolor": "#EBF0F8",
           "linecolor": "#EBF0F8",
           "ticks": "",
           "title": {
            "standoff": 15
           },
           "zerolinecolor": "#EBF0F8",
           "zerolinewidth": 2
          }
         }
        },
        "xaxis": {
         "anchor": "y",
         "domain": [
          0,
          1
         ],
         "title": {
          "text": "subject"
         }
        },
        "yaxis": {
         "anchor": "x",
         "domain": [
          0,
          1
         ],
         "title": {
          "text": "value"
         }
        }
       }
      },
      "text/html": [
       "<div>                            <div id=\"3d4c43a4-1679-4144-877b-2267bd744b1d\" class=\"plotly-graph-div\" style=\"height:525px; width:100%;\"></div>            <script type=\"text/javascript\">                require([\"plotly\"], function(Plotly) {                    window.PLOTLYENV=window.PLOTLYENV || {};                                    if (document.getElementById(\"3d4c43a4-1679-4144-877b-2267bd744b1d\")) {                    Plotly.newPlot(                        \"3d4c43a4-1679-4144-877b-2267bd744b1d\",                        [{\"alignmentgroup\":\"True\",\"hovertemplate\":\"subject=%{x}<br>value=%{y}<br>color=%{marker.color}<extra></extra>\",\"legendgroup\":\"\",\"marker\":{\"color\":[81815,34850,33700,92675],\"coloraxis\":\"coloraxis\",\"pattern\":{\"shape\":\"\"}},\"name\":\"\",\"offsetgroup\":\"\",\"orientation\":\"v\",\"showlegend\":false,\"textposition\":\"auto\",\"x\":[\"Business Finance\",\"Graphic Design\",\"Musical Instruments\",\"Web Development\"],\"xaxis\":\"x\",\"y\":[81815,34850,33700,92675],\"yaxis\":\"y\",\"type\":\"bar\"}],                        {\"template\":{\"data\":{\"barpolar\":[{\"marker\":{\"line\":{\"color\":\"white\",\"width\":0.5},\"pattern\":{\"fillmode\":\"overlay\",\"size\":10,\"solidity\":0.2}},\"type\":\"barpolar\"}],\"bar\":[{\"error_x\":{\"color\":\"#2a3f5f\"},\"error_y\":{\"color\":\"#2a3f5f\"},\"marker\":{\"line\":{\"color\":\"white\",\"width\":0.5},\"pattern\":{\"fillmode\":\"overlay\",\"size\":10,\"solidity\":0.2}},\"type\":\"bar\"}],\"carpet\":[{\"aaxis\":{\"endlinecolor\":\"#2a3f5f\",\"gridcolor\":\"#C8D4E3\",\"linecolor\":\"#C8D4E3\",\"minorgridcolor\":\"#C8D4E3\",\"startlinecolor\":\"#2a3f5f\"},\"baxis\":{\"endlinecolor\":\"#2a3f5f\",\"gridcolor\":\"#C8D4E3\",\"linecolor\":\"#C8D4E3\",\"minorgridcolor\":\"#C8D4E3\",\"startlinecolor\":\"#2a3f5f\"},\"type\":\"carpet\"}],\"choropleth\":[{\"colorbar\":{\"outlinewidth\":0,\"ticks\":\"\"},\"type\":\"choropleth\"}],\"contourcarpet\":[{\"colorbar\":{\"outlinewidth\":0,\"ticks\":\"\"},\"type\":\"contourcarpet\"}],\"contour\":[{\"colorbar\":{\"outlinewidth\":0,\"ticks\":\"\"},\"colorscale\":[[0.0,\"#0d0887\"],[0.1111111111111111,\"#46039f\"],[0.2222222222222222,\"#7201a8\"],[0.3333333333333333,\"#9c179e\"],[0.4444444444444444,\"#bd3786\"],[0.5555555555555556,\"#d8576b\"],[0.6666666666666666,\"#ed7953\"],[0.7777777777777778,\"#fb9f3a\"],[0.8888888888888888,\"#fdca26\"],[1.0,\"#f0f921\"]],\"type\":\"contour\"}],\"heatmapgl\":[{\"colorbar\":{\"outlinewidth\":0,\"ticks\":\"\"},\"colorscale\":[[0.0,\"#0d0887\"],[0.1111111111111111,\"#46039f\"],[0.2222222222222222,\"#7201a8\"],[0.3333333333333333,\"#9c179e\"],[0.4444444444444444,\"#bd3786\"],[0.5555555555555556,\"#d8576b\"],[0.6666666666666666,\"#ed7953\"],[0.7777777777777778,\"#fb9f3a\"],[0.8888888888888888,\"#fdca26\"],[1.0,\"#f0f921\"]],\"type\":\"heatmapgl\"}],\"heatmap\":[{\"colorbar\":{\"outlinewidth\":0,\"ticks\":\"\"},\"colorscale\":[[0.0,\"#0d0887\"],[0.1111111111111111,\"#46039f\"],[0.2222222222222222,\"#7201a8\"],[0.3333333333333333,\"#9c179e\"],[0.4444444444444444,\"#bd3786\"],[0.5555555555555556,\"#d8576b\"],[0.6666666666666666,\"#ed7953\"],[0.7777777777777778,\"#fb9f3a\"],[0.8888888888888888,\"#fdca26\"],[1.0,\"#f0f921\"]],\"type\":\"heatmap\"}],\"histogram2dcontour\":[{\"colorbar\":{\"outlinewidth\":0,\"ticks\":\"\"},\"colorscale\":[[0.0,\"#0d0887\"],[0.1111111111111111,\"#46039f\"],[0.2222222222222222,\"#7201a8\"],[0.3333333333333333,\"#9c179e\"],[0.4444444444444444,\"#bd3786\"],[0.5555555555555556,\"#d8576b\"],[0.6666666666666666,\"#ed7953\"],[0.7777777777777778,\"#fb9f3a\"],[0.8888888888888888,\"#fdca26\"],[1.0,\"#f0f921\"]],\"type\":\"histogram2dcontour\"}],\"histogram2d\":[{\"colorbar\":{\"outlinewidth\":0,\"ticks\":\"\"},\"colorscale\":[[0.0,\"#0d0887\"],[0.1111111111111111,\"#46039f\"],[0.2222222222222222,\"#7201a8\"],[0.3333333333333333,\"#9c179e\"],[0.4444444444444444,\"#bd3786\"],[0.5555555555555556,\"#d8576b\"],[0.6666666666666666,\"#ed7953\"],[0.7777777777777778,\"#fb9f3a\"],[0.8888888888888888,\"#fdca26\"],[1.0,\"#f0f921\"]],\"type\":\"histogram2d\"}],\"histogram\":[{\"marker\":{\"pattern\":{\"fillmode\":\"overlay\",\"size\":10,\"solidity\":0.2}},\"type\":\"histogram\"}],\"mesh3d\":[{\"colorbar\":{\"outlinewidth\":0,\"ticks\":\"\"},\"type\":\"mesh3d\"}],\"parcoords\":[{\"line\":{\"colorbar\":{\"outlinewidth\":0,\"ticks\":\"\"}},\"type\":\"parcoords\"}],\"pie\":[{\"automargin\":true,\"type\":\"pie\"}],\"scatter3d\":[{\"line\":{\"colorbar\":{\"outlinewidth\":0,\"ticks\":\"\"}},\"marker\":{\"colorbar\":{\"outlinewidth\":0,\"ticks\":\"\"}},\"type\":\"scatter3d\"}],\"scattercarpet\":[{\"marker\":{\"colorbar\":{\"outlinewidth\":0,\"ticks\":\"\"}},\"type\":\"scattercarpet\"}],\"scattergeo\":[{\"marker\":{\"colorbar\":{\"outlinewidth\":0,\"ticks\":\"\"}},\"type\":\"scattergeo\"}],\"scattergl\":[{\"marker\":{\"colorbar\":{\"outlinewidth\":0,\"ticks\":\"\"}},\"type\":\"scattergl\"}],\"scattermapbox\":[{\"marker\":{\"colorbar\":{\"outlinewidth\":0,\"ticks\":\"\"}},\"type\":\"scattermapbox\"}],\"scatterpolargl\":[{\"marker\":{\"colorbar\":{\"outlinewidth\":0,\"ticks\":\"\"}},\"type\":\"scatterpolargl\"}],\"scatterpolar\":[{\"marker\":{\"colorbar\":{\"outlinewidth\":0,\"ticks\":\"\"}},\"type\":\"scatterpolar\"}],\"scatter\":[{\"marker\":{\"colorbar\":{\"outlinewidth\":0,\"ticks\":\"\"}},\"type\":\"scatter\"}],\"scatterternary\":[{\"marker\":{\"colorbar\":{\"outlinewidth\":0,\"ticks\":\"\"}},\"type\":\"scatterternary\"}],\"surface\":[{\"colorbar\":{\"outlinewidth\":0,\"ticks\":\"\"},\"colorscale\":[[0.0,\"#0d0887\"],[0.1111111111111111,\"#46039f\"],[0.2222222222222222,\"#7201a8\"],[0.3333333333333333,\"#9c179e\"],[0.4444444444444444,\"#bd3786\"],[0.5555555555555556,\"#d8576b\"],[0.6666666666666666,\"#ed7953\"],[0.7777777777777778,\"#fb9f3a\"],[0.8888888888888888,\"#fdca26\"],[1.0,\"#f0f921\"]],\"type\":\"surface\"}],\"table\":[{\"cells\":{\"fill\":{\"color\":\"#EBF0F8\"},\"line\":{\"color\":\"white\"}},\"header\":{\"fill\":{\"color\":\"#C8D4E3\"},\"line\":{\"color\":\"white\"}},\"type\":\"table\"}]},\"layout\":{\"annotationdefaults\":{\"arrowcolor\":\"#2a3f5f\",\"arrowhead\":0,\"arrowwidth\":1},\"autotypenumbers\":\"strict\",\"coloraxis\":{\"colorbar\":{\"outlinewidth\":0,\"ticks\":\"\"}},\"colorscale\":{\"diverging\":[[0,\"#8e0152\"],[0.1,\"#c51b7d\"],[0.2,\"#de77ae\"],[0.3,\"#f1b6da\"],[0.4,\"#fde0ef\"],[0.5,\"#f7f7f7\"],[0.6,\"#e6f5d0\"],[0.7,\"#b8e186\"],[0.8,\"#7fbc41\"],[0.9,\"#4d9221\"],[1,\"#276419\"]],\"sequential\":[[0.0,\"#0d0887\"],[0.1111111111111111,\"#46039f\"],[0.2222222222222222,\"#7201a8\"],[0.3333333333333333,\"#9c179e\"],[0.4444444444444444,\"#bd3786\"],[0.5555555555555556,\"#d8576b\"],[0.6666666666666666,\"#ed7953\"],[0.7777777777777778,\"#fb9f3a\"],[0.8888888888888888,\"#fdca26\"],[1.0,\"#f0f921\"]],\"sequentialminus\":[[0.0,\"#0d0887\"],[0.1111111111111111,\"#46039f\"],[0.2222222222222222,\"#7201a8\"],[0.3333333333333333,\"#9c179e\"],[0.4444444444444444,\"#bd3786\"],[0.5555555555555556,\"#d8576b\"],[0.6666666666666666,\"#ed7953\"],[0.7777777777777778,\"#fb9f3a\"],[0.8888888888888888,\"#fdca26\"],[1.0,\"#f0f921\"]]},\"colorway\":[\"#636efa\",\"#EF553B\",\"#00cc96\",\"#ab63fa\",\"#FFA15A\",\"#19d3f3\",\"#FF6692\",\"#B6E880\",\"#FF97FF\",\"#FECB52\"],\"font\":{\"color\":\"#2a3f5f\"},\"geo\":{\"bgcolor\":\"white\",\"lakecolor\":\"white\",\"landcolor\":\"white\",\"showlakes\":true,\"showland\":true,\"subunitcolor\":\"#C8D4E3\"},\"hoverlabel\":{\"align\":\"left\"},\"hovermode\":\"closest\",\"mapbox\":{\"style\":\"light\"},\"paper_bgcolor\":\"white\",\"plot_bgcolor\":\"white\",\"polar\":{\"angularaxis\":{\"gridcolor\":\"#EBF0F8\",\"linecolor\":\"#EBF0F8\",\"ticks\":\"\"},\"bgcolor\":\"white\",\"radialaxis\":{\"gridcolor\":\"#EBF0F8\",\"linecolor\":\"#EBF0F8\",\"ticks\":\"\"}},\"scene\":{\"xaxis\":{\"backgroundcolor\":\"white\",\"gridcolor\":\"#DFE8F3\",\"gridwidth\":2,\"linecolor\":\"#EBF0F8\",\"showbackground\":true,\"ticks\":\"\",\"zerolinecolor\":\"#EBF0F8\"},\"yaxis\":{\"backgroundcolor\":\"white\",\"gridcolor\":\"#DFE8F3\",\"gridwidth\":2,\"linecolor\":\"#EBF0F8\",\"showbackground\":true,\"ticks\":\"\",\"zerolinecolor\":\"#EBF0F8\"},\"zaxis\":{\"backgroundcolor\":\"white\",\"gridcolor\":\"#DFE8F3\",\"gridwidth\":2,\"linecolor\":\"#EBF0F8\",\"showbackground\":true,\"ticks\":\"\",\"zerolinecolor\":\"#EBF0F8\"}},\"shapedefaults\":{\"line\":{\"color\":\"#2a3f5f\"}},\"ternary\":{\"aaxis\":{\"gridcolor\":\"#DFE8F3\",\"linecolor\":\"#A2B1C6\",\"ticks\":\"\"},\"baxis\":{\"gridcolor\":\"#DFE8F3\",\"linecolor\":\"#A2B1C6\",\"ticks\":\"\"},\"bgcolor\":\"white\",\"caxis\":{\"gridcolor\":\"#DFE8F3\",\"linecolor\":\"#A2B1C6\",\"ticks\":\"\"}},\"title\":{\"x\":0.05},\"xaxis\":{\"automargin\":true,\"gridcolor\":\"#EBF0F8\",\"linecolor\":\"#EBF0F8\",\"ticks\":\"\",\"title\":{\"standoff\":15},\"zerolinecolor\":\"#EBF0F8\",\"zerolinewidth\":2},\"yaxis\":{\"automargin\":true,\"gridcolor\":\"#EBF0F8\",\"linecolor\":\"#EBF0F8\",\"ticks\":\"\",\"title\":{\"standoff\":15},\"zerolinecolor\":\"#EBF0F8\",\"zerolinewidth\":2}}},\"xaxis\":{\"anchor\":\"y\",\"domain\":[0.0,1.0],\"title\":{\"text\":\"subject\"}},\"yaxis\":{\"anchor\":\"x\",\"domain\":[0.0,1.0],\"title\":{\"text\":\"value\"}},\"coloraxis\":{\"colorbar\":{\"title\":{\"text\":\"color\"}},\"colorscale\":[[0.0,\"#0d0887\"],[0.1111111111111111,\"#46039f\"],[0.2222222222222222,\"#7201a8\"],[0.3333333333333333,\"#9c179e\"],[0.4444444444444444,\"#bd3786\"],[0.5555555555555556,\"#d8576b\"],[0.6666666666666666,\"#ed7953\"],[0.7777777777777778,\"#fb9f3a\"],[0.8888888888888888,\"#fdca26\"],[1.0,\"#f0f921\"]]},\"legend\":{\"tracegroupgap\":0},\"margin\":{\"t\":60},\"barmode\":\"relative\"},                        {\"responsive\": true}                    ).then(function(){\n",
       "                            \n",
       "var gd = document.getElementById('3d4c43a4-1679-4144-877b-2267bd744b1d');\n",
       "var x = new MutationObserver(function (mutations, observer) {{\n",
       "        var display = window.getComputedStyle(gd).display;\n",
       "        if (!display || display === 'none') {{\n",
       "            console.log([gd, 'removed!']);\n",
       "            Plotly.purge(gd);\n",
       "            observer.disconnect();\n",
       "        }}\n",
       "}});\n",
       "\n",
       "// Listen for the removal of the full notebook cells\n",
       "var notebookContainer = gd.closest('#notebook-container');\n",
       "if (notebookContainer) {{\n",
       "    x.observe(notebookContainer, {childList: true});\n",
       "}}\n",
       "\n",
       "// Listen for the clearing of the current output cell\n",
       "var outputEl = gd.closest('.output');\n",
       "if (outputEl) {{\n",
       "    x.observe(outputEl, {childList: true});\n",
       "}}\n",
       "\n",
       "                        })                };                });            </script>        </div>"
      ]
     },
     "metadata": {},
     "output_type": "display_data"
    }
   ],
   "source": [
    "fig = px.bar(sub_income, template='plotly_white', color= sub_income.values)\n",
    "fig.show()"
   ]
  },
  {
   "cell_type": "markdown",
   "id": "d4c193bc",
   "metadata": {},
   "source": [
    "### 9. Highest paid course"
   ]
  },
  {
   "cell_type": "code",
   "execution_count": 138,
   "id": "cd579e9b",
   "metadata": {},
   "outputs": [
    {
     "data": {
      "text/html": [
       "<div>\n",
       "<style scoped>\n",
       "    .dataframe tbody tr th:only-of-type {\n",
       "        vertical-align: middle;\n",
       "    }\n",
       "\n",
       "    .dataframe tbody tr th {\n",
       "        vertical-align: top;\n",
       "    }\n",
       "\n",
       "    .dataframe thead th {\n",
       "        text-align: right;\n",
       "    }\n",
       "</style>\n",
       "<table border=\"1\" class=\"dataframe\">\n",
       "  <thead>\n",
       "    <tr style=\"text-align: right;\">\n",
       "      <th></th>\n",
       "      <th>course_title</th>\n",
       "      <th>price</th>\n",
       "    </tr>\n",
       "  </thead>\n",
       "  <tbody>\n",
       "    <tr>\n",
       "      <th>2822</th>\n",
       "      <td>Learning Path: React: Make Stunning React Webs...</td>\n",
       "      <td>200</td>\n",
       "    </tr>\n",
       "    <tr>\n",
       "      <th>1592</th>\n",
       "      <td>Mastering Futures Options for Beginners - Your...</td>\n",
       "      <td>200</td>\n",
       "    </tr>\n",
       "    <tr>\n",
       "      <th>1599</th>\n",
       "      <td>Invest Like a Pro!</td>\n",
       "      <td>200</td>\n",
       "    </tr>\n",
       "    <tr>\n",
       "      <th>1616</th>\n",
       "      <td>Make Tech circles in Adobe Photoshop and Illus...</td>\n",
       "      <td>200</td>\n",
       "    </tr>\n",
       "    <tr>\n",
       "      <th>1632</th>\n",
       "      <td>Parse Server: From Front End to Full Stack</td>\n",
       "      <td>200</td>\n",
       "    </tr>\n",
       "    <tr>\n",
       "      <th>1637</th>\n",
       "      <td>Trading Robot Forex Programs in Your Sleep in ...</td>\n",
       "      <td>200</td>\n",
       "    </tr>\n",
       "    <tr>\n",
       "      <th>377</th>\n",
       "      <td>Get Started With Penny Stocks -Step by Step Gu...</td>\n",
       "      <td>200</td>\n",
       "    </tr>\n",
       "    <tr>\n",
       "      <th>375</th>\n",
       "      <td>Quicklessons Piano Course - Learn to Play Pian...</td>\n",
       "      <td>200</td>\n",
       "    </tr>\n",
       "    <tr>\n",
       "      <th>3527</th>\n",
       "      <td>会声会影深度教学</td>\n",
       "      <td>200</td>\n",
       "    </tr>\n",
       "    <tr>\n",
       "      <th>1644</th>\n",
       "      <td>Complete Guide to Front-End Web Development an...</td>\n",
       "      <td>200</td>\n",
       "    </tr>\n",
       "  </tbody>\n",
       "</table>\n",
       "</div>"
      ],
      "text/plain": [
       "                                           course_title  price\n",
       "2822  Learning Path: React: Make Stunning React Webs...    200\n",
       "1592  Mastering Futures Options for Beginners - Your...    200\n",
       "1599                                 Invest Like a Pro!    200\n",
       "1616  Make Tech circles in Adobe Photoshop and Illus...    200\n",
       "1632         Parse Server: From Front End to Full Stack    200\n",
       "1637  Trading Robot Forex Programs in Your Sleep in ...    200\n",
       "377   Get Started With Penny Stocks -Step by Step Gu...    200\n",
       "375   Quicklessons Piano Course - Learn to Play Pian...    200\n",
       "3527                                           会声会影深度教学    200\n",
       "1644  Complete Guide to Front-End Web Development an...    200"
      ]
     },
     "execution_count": 138,
     "metadata": {},
     "output_type": "execute_result"
    }
   ],
   "source": [
    "data[['course_title','price']].sort_values(by='price',ascending=False)[:10]"
   ]
  },
  {
   "cell_type": "markdown",
   "id": "3942ec26",
   "metadata": {},
   "source": [
    "## Prepare the dataset for machine learning\n",
    "### using Decision Tree"
   ]
  },
  {
   "cell_type": "code",
   "execution_count": 139,
   "id": "1357cd77",
   "metadata": {},
   "outputs": [
    {
     "data": {
      "text/html": [
       "<div>\n",
       "<style scoped>\n",
       "    .dataframe tbody tr th:only-of-type {\n",
       "        vertical-align: middle;\n",
       "    }\n",
       "\n",
       "    .dataframe tbody tr th {\n",
       "        vertical-align: top;\n",
       "    }\n",
       "\n",
       "    .dataframe thead th {\n",
       "        text-align: right;\n",
       "    }\n",
       "</style>\n",
       "<table border=\"1\" class=\"dataframe\">\n",
       "  <thead>\n",
       "    <tr style=\"text-align: right;\">\n",
       "      <th></th>\n",
       "      <th>course_id</th>\n",
       "      <th>course_title</th>\n",
       "      <th>price</th>\n",
       "      <th>num_subscribers</th>\n",
       "      <th>num_reviews</th>\n",
       "      <th>num_lectures</th>\n",
       "      <th>level</th>\n",
       "      <th>rating</th>\n",
       "      <th>content_duration</th>\n",
       "      <th>published_timestamp</th>\n",
       "      <th>subject</th>\n",
       "      <th>Date</th>\n",
       "      <th>Free/Paid</th>\n",
       "    </tr>\n",
       "  </thead>\n",
       "  <tbody>\n",
       "    <tr>\n",
       "      <th>0</th>\n",
       "      <td>41295</td>\n",
       "      <td>Learn HTML5 Programming From Scratch</td>\n",
       "      <td>0</td>\n",
       "      <td>268923</td>\n",
       "      <td>8629</td>\n",
       "      <td>45</td>\n",
       "      <td>Beginner Level</td>\n",
       "      <td>0.82</td>\n",
       "      <td>10.5</td>\n",
       "      <td>2013-02-14T07:03:41Z</td>\n",
       "      <td>Web Development</td>\n",
       "      <td>2013-02-14</td>\n",
       "      <td>Free</td>\n",
       "    </tr>\n",
       "    <tr>\n",
       "      <th>1</th>\n",
       "      <td>59014</td>\n",
       "      <td>Coding for Entrepreneurs Basic</td>\n",
       "      <td>0</td>\n",
       "      <td>161029</td>\n",
       "      <td>279</td>\n",
       "      <td>27</td>\n",
       "      <td>Expert Level</td>\n",
       "      <td>0.69</td>\n",
       "      <td>3.5</td>\n",
       "      <td>2013-06-09T15:51:55Z</td>\n",
       "      <td>Web Development</td>\n",
       "      <td>2013-06-09</td>\n",
       "      <td>Free</td>\n",
       "    </tr>\n",
       "    <tr>\n",
       "      <th>2</th>\n",
       "      <td>625204</td>\n",
       "      <td>The Web Developer Bootcamp</td>\n",
       "      <td>200</td>\n",
       "      <td>121584</td>\n",
       "      <td>27445</td>\n",
       "      <td>342</td>\n",
       "      <td>Beginner Level</td>\n",
       "      <td>0.89</td>\n",
       "      <td>43.0</td>\n",
       "      <td>2015-11-02T21:13:27Z</td>\n",
       "      <td>Web Development</td>\n",
       "      <td>2015-11-02</td>\n",
       "      <td>Paid</td>\n",
       "    </tr>\n",
       "    <tr>\n",
       "      <th>3</th>\n",
       "      <td>173548</td>\n",
       "      <td>Build Your First Website in 1 Week with HTML5 ...</td>\n",
       "      <td>0</td>\n",
       "      <td>120291</td>\n",
       "      <td>5924</td>\n",
       "      <td>30</td>\n",
       "      <td>All Levels</td>\n",
       "      <td>0.78</td>\n",
       "      <td>3.0</td>\n",
       "      <td>2014-04-08T16:21:30Z</td>\n",
       "      <td>Web Development</td>\n",
       "      <td>2014-04-08</td>\n",
       "      <td>Free</td>\n",
       "    </tr>\n",
       "    <tr>\n",
       "      <th>4</th>\n",
       "      <td>764164</td>\n",
       "      <td>The Complete Web Developer Course 2.0</td>\n",
       "      <td>200</td>\n",
       "      <td>114512</td>\n",
       "      <td>22412</td>\n",
       "      <td>304</td>\n",
       "      <td>Beginner Level</td>\n",
       "      <td>0.55</td>\n",
       "      <td>30.5</td>\n",
       "      <td>2016-03-08T22:28:36Z</td>\n",
       "      <td>Web Development</td>\n",
       "      <td>2016-03-08</td>\n",
       "      <td>Paid</td>\n",
       "    </tr>\n",
       "  </tbody>\n",
       "</table>\n",
       "</div>"
      ],
      "text/plain": [
       "   course_id                                       course_title  price  \\\n",
       "0      41295               Learn HTML5 Programming From Scratch      0   \n",
       "1      59014                     Coding for Entrepreneurs Basic      0   \n",
       "2     625204                         The Web Developer Bootcamp    200   \n",
       "3     173548  Build Your First Website in 1 Week with HTML5 ...      0   \n",
       "4     764164              The Complete Web Developer Course 2.0    200   \n",
       "\n",
       "   num_subscribers  num_reviews  num_lectures           level  rating  \\\n",
       "0           268923         8629            45  Beginner Level    0.82   \n",
       "1           161029          279            27    Expert Level    0.69   \n",
       "2           121584        27445           342  Beginner Level    0.89   \n",
       "3           120291         5924            30      All Levels    0.78   \n",
       "4           114512        22412           304  Beginner Level    0.55   \n",
       "\n",
       "   content_duration   published_timestamp          subject        Date  \\\n",
       "0              10.5  2013-02-14T07:03:41Z  Web Development  2013-02-14   \n",
       "1               3.5  2013-06-09T15:51:55Z  Web Development  2013-06-09   \n",
       "2              43.0  2015-11-02T21:13:27Z  Web Development  2015-11-02   \n",
       "3               3.0  2014-04-08T16:21:30Z  Web Development  2014-04-08   \n",
       "4              30.5  2016-03-08T22:28:36Z  Web Development  2016-03-08   \n",
       "\n",
       "  Free/Paid  \n",
       "0      Free  \n",
       "1      Free  \n",
       "2      Paid  \n",
       "3      Free  \n",
       "4      Paid  "
      ]
     },
     "execution_count": 139,
     "metadata": {},
     "output_type": "execute_result"
    }
   ],
   "source": [
    "data.head()"
   ]
  },
  {
   "cell_type": "code",
   "execution_count": 140,
   "id": "2ed0c9fb",
   "metadata": {},
   "outputs": [],
   "source": [
    "# Drop published_timestamp\n",
    "data.drop('published_timestamp',axis=1, inplace=True)"
   ]
  },
  {
   "cell_type": "code",
   "execution_count": 143,
   "id": "222863ae",
   "metadata": {},
   "outputs": [],
   "source": [
    "#drop course_id\n",
    "data.drop('course_id', axis=1, inplace=True)"
   ]
  },
  {
   "cell_type": "code",
   "execution_count": 144,
   "id": "e537efd3",
   "metadata": {},
   "outputs": [
    {
     "data": {
      "text/html": [
       "<div>\n",
       "<style scoped>\n",
       "    .dataframe tbody tr th:only-of-type {\n",
       "        vertical-align: middle;\n",
       "    }\n",
       "\n",
       "    .dataframe tbody tr th {\n",
       "        vertical-align: top;\n",
       "    }\n",
       "\n",
       "    .dataframe thead th {\n",
       "        text-align: right;\n",
       "    }\n",
       "</style>\n",
       "<table border=\"1\" class=\"dataframe\">\n",
       "  <thead>\n",
       "    <tr style=\"text-align: right;\">\n",
       "      <th></th>\n",
       "      <th>course_title</th>\n",
       "      <th>price</th>\n",
       "      <th>num_subscribers</th>\n",
       "      <th>num_reviews</th>\n",
       "      <th>num_lectures</th>\n",
       "      <th>level</th>\n",
       "      <th>rating</th>\n",
       "      <th>content_duration</th>\n",
       "      <th>subject</th>\n",
       "      <th>Date</th>\n",
       "      <th>Free/Paid</th>\n",
       "    </tr>\n",
       "  </thead>\n",
       "  <tbody>\n",
       "    <tr>\n",
       "      <th>0</th>\n",
       "      <td>Learn HTML5 Programming From Scratch</td>\n",
       "      <td>0</td>\n",
       "      <td>268923</td>\n",
       "      <td>8629</td>\n",
       "      <td>45</td>\n",
       "      <td>Beginner Level</td>\n",
       "      <td>0.82</td>\n",
       "      <td>10.5</td>\n",
       "      <td>Web Development</td>\n",
       "      <td>2013-02-14</td>\n",
       "      <td>Free</td>\n",
       "    </tr>\n",
       "    <tr>\n",
       "      <th>1</th>\n",
       "      <td>Coding for Entrepreneurs Basic</td>\n",
       "      <td>0</td>\n",
       "      <td>161029</td>\n",
       "      <td>279</td>\n",
       "      <td>27</td>\n",
       "      <td>Expert Level</td>\n",
       "      <td>0.69</td>\n",
       "      <td>3.5</td>\n",
       "      <td>Web Development</td>\n",
       "      <td>2013-06-09</td>\n",
       "      <td>Free</td>\n",
       "    </tr>\n",
       "    <tr>\n",
       "      <th>2</th>\n",
       "      <td>The Web Developer Bootcamp</td>\n",
       "      <td>200</td>\n",
       "      <td>121584</td>\n",
       "      <td>27445</td>\n",
       "      <td>342</td>\n",
       "      <td>Beginner Level</td>\n",
       "      <td>0.89</td>\n",
       "      <td>43.0</td>\n",
       "      <td>Web Development</td>\n",
       "      <td>2015-11-02</td>\n",
       "      <td>Paid</td>\n",
       "    </tr>\n",
       "    <tr>\n",
       "      <th>3</th>\n",
       "      <td>Build Your First Website in 1 Week with HTML5 ...</td>\n",
       "      <td>0</td>\n",
       "      <td>120291</td>\n",
       "      <td>5924</td>\n",
       "      <td>30</td>\n",
       "      <td>All Levels</td>\n",
       "      <td>0.78</td>\n",
       "      <td>3.0</td>\n",
       "      <td>Web Development</td>\n",
       "      <td>2014-04-08</td>\n",
       "      <td>Free</td>\n",
       "    </tr>\n",
       "    <tr>\n",
       "      <th>4</th>\n",
       "      <td>The Complete Web Developer Course 2.0</td>\n",
       "      <td>200</td>\n",
       "      <td>114512</td>\n",
       "      <td>22412</td>\n",
       "      <td>304</td>\n",
       "      <td>Beginner Level</td>\n",
       "      <td>0.55</td>\n",
       "      <td>30.5</td>\n",
       "      <td>Web Development</td>\n",
       "      <td>2016-03-08</td>\n",
       "      <td>Paid</td>\n",
       "    </tr>\n",
       "  </tbody>\n",
       "</table>\n",
       "</div>"
      ],
      "text/plain": [
       "                                        course_title  price  num_subscribers  \\\n",
       "0               Learn HTML5 Programming From Scratch      0           268923   \n",
       "1                     Coding for Entrepreneurs Basic      0           161029   \n",
       "2                         The Web Developer Bootcamp    200           121584   \n",
       "3  Build Your First Website in 1 Week with HTML5 ...      0           120291   \n",
       "4              The Complete Web Developer Course 2.0    200           114512   \n",
       "\n",
       "   num_reviews  num_lectures           level  rating  content_duration  \\\n",
       "0         8629            45  Beginner Level    0.82              10.5   \n",
       "1          279            27    Expert Level    0.69               3.5   \n",
       "2        27445           342  Beginner Level    0.89              43.0   \n",
       "3         5924            30      All Levels    0.78               3.0   \n",
       "4        22412           304  Beginner Level    0.55              30.5   \n",
       "\n",
       "           subject        Date Free/Paid  \n",
       "0  Web Development  2013-02-14      Free  \n",
       "1  Web Development  2013-06-09      Free  \n",
       "2  Web Development  2015-11-02      Paid  \n",
       "3  Web Development  2014-04-08      Free  \n",
       "4  Web Development  2016-03-08      Paid  "
      ]
     },
     "execution_count": 144,
     "metadata": {},
     "output_type": "execute_result"
    }
   ],
   "source": [
    "data.head()"
   ]
  },
  {
   "cell_type": "code",
   "execution_count": 146,
   "id": "a4d268ca",
   "metadata": {},
   "outputs": [],
   "source": [
    "# convert the categorical data into numerical\n",
    "data['course_code'] =data['course_title'].astype(\"category\").cat.codes \n"
   ]
  },
  {
   "cell_type": "code",
   "execution_count": 147,
   "id": "d6f998b3",
   "metadata": {},
   "outputs": [],
   "source": [
    "data['level_code'] = data[\"level\"].astype(\"category\").cat.codes\n",
    "data['subject_code'] = data[\"subject\"].astype(\"category\").cat.codes"
   ]
  },
  {
   "cell_type": "code",
   "execution_count": 156,
   "id": "8602c45c",
   "metadata": {},
   "outputs": [],
   "source": [
    "data['F_P_code']= data[\"Free/Paid\"].astype(\"category\").cat.codes"
   ]
  },
  {
   "cell_type": "code",
   "execution_count": 157,
   "id": "76dd669e",
   "metadata": {},
   "outputs": [
    {
     "data": {
      "text/html": [
       "<div>\n",
       "<style scoped>\n",
       "    .dataframe tbody tr th:only-of-type {\n",
       "        vertical-align: middle;\n",
       "    }\n",
       "\n",
       "    .dataframe tbody tr th {\n",
       "        vertical-align: top;\n",
       "    }\n",
       "\n",
       "    .dataframe thead th {\n",
       "        text-align: right;\n",
       "    }\n",
       "</style>\n",
       "<table border=\"1\" class=\"dataframe\">\n",
       "  <thead>\n",
       "    <tr style=\"text-align: right;\">\n",
       "      <th></th>\n",
       "      <th>course_title</th>\n",
       "      <th>price</th>\n",
       "      <th>num_subscribers</th>\n",
       "      <th>num_reviews</th>\n",
       "      <th>num_lectures</th>\n",
       "      <th>level</th>\n",
       "      <th>rating</th>\n",
       "      <th>content_duration</th>\n",
       "      <th>subject</th>\n",
       "      <th>Date</th>\n",
       "      <th>Free/Paid</th>\n",
       "      <th>course_code</th>\n",
       "      <th>level_code</th>\n",
       "      <th>subject_code</th>\n",
       "      <th>F_P_code</th>\n",
       "    </tr>\n",
       "  </thead>\n",
       "  <tbody>\n",
       "    <tr>\n",
       "      <th>0</th>\n",
       "      <td>Learn HTML5 Programming From Scratch</td>\n",
       "      <td>0</td>\n",
       "      <td>268923</td>\n",
       "      <td>8629</td>\n",
       "      <td>45</td>\n",
       "      <td>Beginner Level</td>\n",
       "      <td>0.82</td>\n",
       "      <td>10.5</td>\n",
       "      <td>Web Development</td>\n",
       "      <td>2013-02-14</td>\n",
       "      <td>Free</td>\n",
       "      <td>2108</td>\n",
       "      <td>1</td>\n",
       "      <td>3</td>\n",
       "      <td>0</td>\n",
       "    </tr>\n",
       "    <tr>\n",
       "      <th>1</th>\n",
       "      <td>Coding for Entrepreneurs Basic</td>\n",
       "      <td>0</td>\n",
       "      <td>161029</td>\n",
       "      <td>279</td>\n",
       "      <td>27</td>\n",
       "      <td>Expert Level</td>\n",
       "      <td>0.69</td>\n",
       "      <td>3.5</td>\n",
       "      <td>Web Development</td>\n",
       "      <td>2013-06-09</td>\n",
       "      <td>Free</td>\n",
       "      <td>755</td>\n",
       "      <td>2</td>\n",
       "      <td>3</td>\n",
       "      <td>0</td>\n",
       "    </tr>\n",
       "    <tr>\n",
       "      <th>2</th>\n",
       "      <td>The Web Developer Bootcamp</td>\n",
       "      <td>200</td>\n",
       "      <td>121584</td>\n",
       "      <td>27445</td>\n",
       "      <td>342</td>\n",
       "      <td>Beginner Level</td>\n",
       "      <td>0.89</td>\n",
       "      <td>43.0</td>\n",
       "      <td>Web Development</td>\n",
       "      <td>2015-11-02</td>\n",
       "      <td>Paid</td>\n",
       "      <td>3296</td>\n",
       "      <td>1</td>\n",
       "      <td>3</td>\n",
       "      <td>1</td>\n",
       "    </tr>\n",
       "    <tr>\n",
       "      <th>3</th>\n",
       "      <td>Build Your First Website in 1 Week with HTML5 ...</td>\n",
       "      <td>0</td>\n",
       "      <td>120291</td>\n",
       "      <td>5924</td>\n",
       "      <td>30</td>\n",
       "      <td>All Levels</td>\n",
       "      <td>0.78</td>\n",
       "      <td>3.0</td>\n",
       "      <td>Web Development</td>\n",
       "      <td>2014-04-08</td>\n",
       "      <td>Free</td>\n",
       "      <td>590</td>\n",
       "      <td>0</td>\n",
       "      <td>3</td>\n",
       "      <td>0</td>\n",
       "    </tr>\n",
       "    <tr>\n",
       "      <th>4</th>\n",
       "      <td>The Complete Web Developer Course 2.0</td>\n",
       "      <td>200</td>\n",
       "      <td>114512</td>\n",
       "      <td>22412</td>\n",
       "      <td>304</td>\n",
       "      <td>Beginner Level</td>\n",
       "      <td>0.55</td>\n",
       "      <td>30.5</td>\n",
       "      <td>Web Development</td>\n",
       "      <td>2016-03-08</td>\n",
       "      <td>Paid</td>\n",
       "      <td>3227</td>\n",
       "      <td>1</td>\n",
       "      <td>3</td>\n",
       "      <td>1</td>\n",
       "    </tr>\n",
       "  </tbody>\n",
       "</table>\n",
       "</div>"
      ],
      "text/plain": [
       "                                        course_title  price  num_subscribers  \\\n",
       "0               Learn HTML5 Programming From Scratch      0           268923   \n",
       "1                     Coding for Entrepreneurs Basic      0           161029   \n",
       "2                         The Web Developer Bootcamp    200           121584   \n",
       "3  Build Your First Website in 1 Week with HTML5 ...      0           120291   \n",
       "4              The Complete Web Developer Course 2.0    200           114512   \n",
       "\n",
       "   num_reviews  num_lectures           level  rating  content_duration  \\\n",
       "0         8629            45  Beginner Level    0.82              10.5   \n",
       "1          279            27    Expert Level    0.69               3.5   \n",
       "2        27445           342  Beginner Level    0.89              43.0   \n",
       "3         5924            30      All Levels    0.78               3.0   \n",
       "4        22412           304  Beginner Level    0.55              30.5   \n",
       "\n",
       "           subject        Date Free/Paid  course_code  level_code  \\\n",
       "0  Web Development  2013-02-14      Free         2108           1   \n",
       "1  Web Development  2013-06-09      Free          755           2   \n",
       "2  Web Development  2015-11-02      Paid         3296           1   \n",
       "3  Web Development  2014-04-08      Free          590           0   \n",
       "4  Web Development  2016-03-08      Paid         3227           1   \n",
       "\n",
       "   subject_code  F_P_code  \n",
       "0             3         0  \n",
       "1             3         0  \n",
       "2             3         1  \n",
       "3             3         0  \n",
       "4             3         1  "
      ]
     },
     "execution_count": 157,
     "metadata": {},
     "output_type": "execute_result"
    }
   ],
   "source": [
    "data.head()"
   ]
  },
  {
   "cell_type": "code",
   "execution_count": 158,
   "id": "dc406703",
   "metadata": {},
   "outputs": [],
   "source": [
    "## Lets check correlation between variables\n",
    "data_corr = data.corr()"
   ]
  },
  {
   "cell_type": "code",
   "execution_count": 159,
   "id": "33bca94d",
   "metadata": {},
   "outputs": [
    {
     "data": {
      "text/plain": [
       "<AxesSubplot:>"
      ]
     },
     "execution_count": 159,
     "metadata": {},
     "output_type": "execute_result"
    },
    {
     "data": {
      "image/png": "[encoded data removed]",
      "text/plain": [
       "<Figure size 864x432 with 2 Axes>"
      ]
     },
     "metadata": {
      "needs_background": "light"
     },
     "output_type": "display_data"
    }
   ],
   "source": [
    "import seaborn as sns\n",
    "plt.figure(figsize=(12,6))\n",
    "sns.heatmap(data_corr, annot=True)"
   ]
  },
  {
   "cell_type": "markdown",
   "id": "de57dcb3",
   "metadata": {},
   "source": [
    "### Import Machine Learning libraries"
   ]
  },
  {
   "cell_type": "code",
   "execution_count": 160,
   "id": "291b218f",
   "metadata": {},
   "outputs": [],
   "source": [
    "from sklearn import tree\n",
    "from sklearn.tree import DecisionTreeClassifier\n",
    "from sklearn.model_selection import train_test_split"
   ]
  },
  {
   "cell_type": "code",
   "execution_count": 162,
   "id": "8efcdab9",
   "metadata": {},
   "outputs": [],
   "source": [
    "# set the dataset into Feature and Target sets\n",
    "x= data[['price','num_subscribers','num_reviews','num_lectures','rating','content_duration','course_code','level_code','subject_code']]\n",
    "y = data[['Free/Paid']]"
   ]
  },
  {
   "cell_type": "code",
   "execution_count": 165,
   "id": "1418850b",
   "metadata": {},
   "outputs": [
    {
     "name": "stdout",
     "output_type": "stream",
     "text": [
      "(3676, 9)\n",
      "(3676, 1)\n"
     ]
    }
   ],
   "source": [
    "print(x.shape)\n",
    "print(y.shape)"
   ]
  },
  {
   "cell_type": "code",
   "execution_count": 166,
   "id": "3a550f32",
   "metadata": {},
   "outputs": [
    {
     "name": "stdout",
     "output_type": "stream",
     "text": [
      "(2757, 9)\n",
      "(2757, 1)\n"
     ]
    }
   ],
   "source": [
    "# Sp;it X and Y into train and test sets\n",
    "x_train, x_test, y_train,y_test= train_test_split(x, y, test_size= 0.25, random_state =100)\n",
    "\n",
    "print(x_train.shape)\n",
    "print(y_train.shape)"
   ]
  },
  {
   "cell_type": "code",
   "execution_count": 167,
   "id": "b719197c",
   "metadata": {},
   "outputs": [
    {
     "name": "stdout",
     "output_type": "stream",
     "text": [
      "(919, 9)\n",
      "(919, 1)\n"
     ]
    }
   ],
   "source": [
    "print(x_test.shape)\n",
    "print(y_test.shape)"
   ]
  },
  {
   "cell_type": "code",
   "execution_count": 168,
   "id": "ca73230b",
   "metadata": {},
   "outputs": [],
   "source": [
    "# Function to perform training with Entropy\n",
    "clf_entropy = DecisionTreeClassifier(criterion='entropy', max_depth = 3, min_samples_leaf = 5, random_state=100)"
   ]
  },
  {
   "cell_type": "code",
   "execution_count": 169,
   "id": "e9b0430e",
   "metadata": {},
   "outputs": [
    {
     "data": {
      "text/plain": [
       "DecisionTreeClassifier(criterion='entropy', max_depth=3, min_samples_leaf=5,\n",
       "                       random_state=100)"
      ]
     },
     "execution_count": 169,
     "metadata": {},
     "output_type": "execute_result"
    }
   ],
   "source": [
    "# Train the model\n",
    "clf_entropy.fit(x_train,y_train)"
   ]
  },
  {
   "cell_type": "code",
   "execution_count": 172,
   "id": "043ebab2",
   "metadata": {},
   "outputs": [],
   "source": [
    "# Predict the target y\n",
    "y_pred = clf_entropy.predict(x_test)"
   ]
  },
  {
   "cell_type": "markdown",
   "id": "df4e3611",
   "metadata": {},
   "source": [
    "### Check accuracy of model"
   ]
  },
  {
   "cell_type": "code",
   "execution_count": 174,
   "id": "349be712",
   "metadata": {},
   "outputs": [],
   "source": [
    "from sklearn.metrics import accuracy_score"
   ]
  },
  {
   "cell_type": "code",
   "execution_count": 176,
   "id": "70f220cc",
   "metadata": {},
   "outputs": [
    {
     "data": {
      "text/plain": [
       "100.0"
      ]
     },
     "execution_count": 176,
     "metadata": {},
     "output_type": "execute_result"
    }
   ],
   "source": [
    "score = accuracy_score(y_test,y_pred)\n",
    "score*100"
   ]
  },
  {
   "cell_type": "markdown",
   "id": "e43c0880",
   "metadata": {},
   "source": [
    "## Accuracy of the model is 100%"
   ]
  },
  {
   "cell_type": "code",
   "execution_count": 189,
   "id": "07c79159",
   "metadata": {},
   "outputs": [
    {
     "data": {
      "text/html": [
       "<div>\n",
       "<style scoped>\n",
       "    .dataframe tbody tr th:only-of-type {\n",
       "        vertical-align: middle;\n",
       "    }\n",
       "\n",
       "    .dataframe tbody tr th {\n",
       "        vertical-align: top;\n",
       "    }\n",
       "\n",
       "    .dataframe thead th {\n",
       "        text-align: right;\n",
       "    }\n",
       "</style>\n",
       "<table border=\"1\" class=\"dataframe\">\n",
       "  <thead>\n",
       "    <tr style=\"text-align: right;\">\n",
       "      <th></th>\n",
       "      <th>Free/Paid</th>\n",
       "    </tr>\n",
       "  </thead>\n",
       "  <tbody>\n",
       "    <tr>\n",
       "      <th>2730</th>\n",
       "      <td>Paid</td>\n",
       "    </tr>\n",
       "    <tr>\n",
       "      <th>385</th>\n",
       "      <td>Paid</td>\n",
       "    </tr>\n",
       "    <tr>\n",
       "      <th>1238</th>\n",
       "      <td>Paid</td>\n",
       "    </tr>\n",
       "    <tr>\n",
       "      <th>1470</th>\n",
       "      <td>Paid</td>\n",
       "    </tr>\n",
       "    <tr>\n",
       "      <th>799</th>\n",
       "      <td>Paid</td>\n",
       "    </tr>\n",
       "    <tr>\n",
       "      <th>2620</th>\n",
       "      <td>Paid</td>\n",
       "    </tr>\n",
       "    <tr>\n",
       "      <th>2144</th>\n",
       "      <td>Paid</td>\n",
       "    </tr>\n",
       "    <tr>\n",
       "      <th>3420</th>\n",
       "      <td>Paid</td>\n",
       "    </tr>\n",
       "    <tr>\n",
       "      <th>3334</th>\n",
       "      <td>Paid</td>\n",
       "    </tr>\n",
       "    <tr>\n",
       "      <th>2708</th>\n",
       "      <td>Paid</td>\n",
       "    </tr>\n",
       "  </tbody>\n",
       "</table>\n",
       "</div>"
      ],
      "text/plain": [
       "     Free/Paid\n",
       "2730      Paid\n",
       "385       Paid\n",
       "1238      Paid\n",
       "1470      Paid\n",
       "799       Paid\n",
       "2620      Paid\n",
       "2144      Paid\n",
       "3420      Paid\n",
       "3334      Paid\n",
       "2708      Paid"
      ]
     },
     "execution_count": 189,
     "metadata": {},
     "output_type": "execute_result"
    }
   ],
   "source": [
    "y_test[:10]"
   ]
  },
  {
   "cell_type": "code",
   "execution_count": 180,
   "id": "6bcd8009",
   "metadata": {},
   "outputs": [
    {
     "data": {
      "text/plain": [
       "array(['Paid', 'Paid', 'Paid', 'Paid', 'Paid', 'Paid', 'Paid', 'Paid',\n",
       "       'Paid', 'Paid'], dtype=object)"
      ]
     },
     "execution_count": 180,
     "metadata": {},
     "output_type": "execute_result"
    }
   ],
   "source": [
    "y_pred[:10]"
   ]
  },
  {
   "cell_type": "code",
   "execution_count": 188,
   "id": "39ae7e9e",
   "metadata": {},
   "outputs": [
    {
     "data": {
      "text/html": [
       "<div>\n",
       "<style scoped>\n",
       "    .dataframe tbody tr th:only-of-type {\n",
       "        vertical-align: middle;\n",
       "    }\n",
       "\n",
       "    .dataframe tbody tr th {\n",
       "        vertical-align: top;\n",
       "    }\n",
       "\n",
       "    .dataframe thead th {\n",
       "        text-align: right;\n",
       "    }\n",
       "</style>\n",
       "<table border=\"1\" class=\"dataframe\">\n",
       "  <thead>\n",
       "    <tr style=\"text-align: right;\">\n",
       "      <th>col_0</th>\n",
       "      <th>(F, r, e, e, /, P, a, i, d)</th>\n",
       "    </tr>\n",
       "    <tr>\n",
       "      <th>row_0</th>\n",
       "      <th></th>\n",
       "    </tr>\n",
       "  </thead>\n",
       "  <tbody>\n",
       "    <tr>\n",
       "      <th>Free</th>\n",
       "      <td>84</td>\n",
       "    </tr>\n",
       "    <tr>\n",
       "      <th>Paid</th>\n",
       "      <td>835</td>\n",
       "    </tr>\n",
       "  </tbody>\n",
       "</table>\n",
       "</div>"
      ],
      "text/plain": [
       "col_0  (F, r, e, e, /, P, a, i, d)\n",
       "row_0                             \n",
       "Free                            84\n",
       "Paid                           835"
      ]
     },
     "execution_count": 188,
     "metadata": {},
     "output_type": "execute_result"
    }
   ],
   "source": [
    "pd.crosstab(y_pred, y_test)"
   ]
  },
  {
   "cell_type": "code",
   "execution_count": 248,
   "id": "31177d39",
   "metadata": {},
   "outputs": [],
   "source": [
    "import re\n",
    "def clean_title(title):\n",
    "    return re.sub(\"[^a-zA-Z0-9]\",\"\", title)"
   ]
  },
  {
   "cell_type": "code",
   "execution_count": 249,
   "id": "c82bffd4",
   "metadata": {},
   "outputs": [],
   "source": [
    "data[\"clean_title\"] = data[\"course_title\"].apply(clean_title)"
   ]
  },
  {
   "cell_type": "code",
   "execution_count": 250,
   "id": "f4296ac9",
   "metadata": {},
   "outputs": [
    {
     "data": {
      "text/html": [
       "<div>\n",
       "<style scoped>\n",
       "    .dataframe tbody tr th:only-of-type {\n",
       "        vertical-align: middle;\n",
       "    }\n",
       "\n",
       "    .dataframe tbody tr th {\n",
       "        vertical-align: top;\n",
       "    }\n",
       "\n",
       "    .dataframe thead th {\n",
       "        text-align: right;\n",
       "    }\n",
       "</style>\n",
       "<table border=\"1\" class=\"dataframe\">\n",
       "  <thead>\n",
       "    <tr style=\"text-align: right;\">\n",
       "      <th></th>\n",
       "      <th>course_id</th>\n",
       "      <th>course_title</th>\n",
       "      <th>url</th>\n",
       "      <th>price</th>\n",
       "      <th>num_subscribers</th>\n",
       "      <th>num_reviews</th>\n",
       "      <th>num_lectures</th>\n",
       "      <th>level</th>\n",
       "      <th>rating</th>\n",
       "      <th>content_duration</th>\n",
       "      <th>published_timestamp</th>\n",
       "      <th>subject</th>\n",
       "      <th>Date</th>\n",
       "      <th>Free/Paid</th>\n",
       "      <th>clean_title</th>\n",
       "    </tr>\n",
       "  </thead>\n",
       "  <tbody>\n",
       "    <tr>\n",
       "      <th>0</th>\n",
       "      <td>41295</td>\n",
       "      <td>Learn HTML5 Programming From Scratch</td>\n",
       "      <td>https://www.udemy.com/learn-html5-programming-...</td>\n",
       "      <td>0</td>\n",
       "      <td>268923</td>\n",
       "      <td>8629</td>\n",
       "      <td>45</td>\n",
       "      <td>Beginner Level</td>\n",
       "      <td>0.82</td>\n",
       "      <td>10.5</td>\n",
       "      <td>2013-02-14T07:03:41Z</td>\n",
       "      <td>Web Development</td>\n",
       "      <td>2013-02-14</td>\n",
       "      <td>Free</td>\n",
       "      <td>LearnHTML5ProgrammingFromScratch</td>\n",
       "    </tr>\n",
       "    <tr>\n",
       "      <th>1</th>\n",
       "      <td>59014</td>\n",
       "      <td>Coding for Entrepreneurs Basic</td>\n",
       "      <td>https://www.udemy.com/coding-for-entrepreneurs...</td>\n",
       "      <td>0</td>\n",
       "      <td>161029</td>\n",
       "      <td>279</td>\n",
       "      <td>27</td>\n",
       "      <td>Expert Level</td>\n",
       "      <td>0.69</td>\n",
       "      <td>3.5</td>\n",
       "      <td>2013-06-09T15:51:55Z</td>\n",
       "      <td>Web Development</td>\n",
       "      <td>2013-06-09</td>\n",
       "      <td>Free</td>\n",
       "      <td>CodingforEntrepreneursBasic</td>\n",
       "    </tr>\n",
       "    <tr>\n",
       "      <th>2</th>\n",
       "      <td>625204</td>\n",
       "      <td>The Web Developer Bootcamp</td>\n",
       "      <td>https://www.udemy.com/the-web-developer-bootcamp/</td>\n",
       "      <td>200</td>\n",
       "      <td>121584</td>\n",
       "      <td>27445</td>\n",
       "      <td>342</td>\n",
       "      <td>Beginner Level</td>\n",
       "      <td>0.89</td>\n",
       "      <td>43.0</td>\n",
       "      <td>2015-11-02T21:13:27Z</td>\n",
       "      <td>Web Development</td>\n",
       "      <td>2015-11-02</td>\n",
       "      <td>Paid</td>\n",
       "      <td>TheWebDeveloperBootcamp</td>\n",
       "    </tr>\n",
       "    <tr>\n",
       "      <th>3</th>\n",
       "      <td>173548</td>\n",
       "      <td>Build Your First Website in 1 Week with HTML5 ...</td>\n",
       "      <td>https://www.udemy.com/build-your-first-website...</td>\n",
       "      <td>0</td>\n",
       "      <td>120291</td>\n",
       "      <td>5924</td>\n",
       "      <td>30</td>\n",
       "      <td>All Levels</td>\n",
       "      <td>0.78</td>\n",
       "      <td>3.0</td>\n",
       "      <td>2014-04-08T16:21:30Z</td>\n",
       "      <td>Web Development</td>\n",
       "      <td>2014-04-08</td>\n",
       "      <td>Free</td>\n",
       "      <td>BuildYourFirstWebsitein1WeekwithHTML5andCSS3</td>\n",
       "    </tr>\n",
       "    <tr>\n",
       "      <th>4</th>\n",
       "      <td>764164</td>\n",
       "      <td>The Complete Web Developer Course 2.0</td>\n",
       "      <td>https://www.udemy.com/the-complete-web-develop...</td>\n",
       "      <td>200</td>\n",
       "      <td>114512</td>\n",
       "      <td>22412</td>\n",
       "      <td>304</td>\n",
       "      <td>Beginner Level</td>\n",
       "      <td>0.55</td>\n",
       "      <td>30.5</td>\n",
       "      <td>2016-03-08T22:28:36Z</td>\n",
       "      <td>Web Development</td>\n",
       "      <td>2016-03-08</td>\n",
       "      <td>Paid</td>\n",
       "      <td>TheCompleteWebDeveloperCourse20</td>\n",
       "    </tr>\n",
       "  </tbody>\n",
       "</table>\n",
       "</div>"
      ],
      "text/plain": [
       "   course_id                                       course_title  \\\n",
       "0      41295               Learn HTML5 Programming From Scratch   \n",
       "1      59014                     Coding for Entrepreneurs Basic   \n",
       "2     625204                         The Web Developer Bootcamp   \n",
       "3     173548  Build Your First Website in 1 Week with HTML5 ...   \n",
       "4     764164              The Complete Web Developer Course 2.0   \n",
       "\n",
       "                                                 url  price  num_subscribers  \\\n",
       "0  https://www.udemy.com/learn-html5-programming-...      0           268923   \n",
       "1  https://www.udemy.com/coding-for-entrepreneurs...      0           161029   \n",
       "2  https://www.udemy.com/the-web-developer-bootcamp/    200           121584   \n",
       "3  https://www.udemy.com/build-your-first-website...      0           120291   \n",
       "4  https://www.udemy.com/the-complete-web-develop...    200           114512   \n",
       "\n",
       "   num_reviews  num_lectures           level  rating  content_duration  \\\n",
       "0         8629            45  Beginner Level    0.82              10.5   \n",
       "1          279            27    Expert Level    0.69               3.5   \n",
       "2        27445           342  Beginner Level    0.89              43.0   \n",
       "3         5924            30      All Levels    0.78               3.0   \n",
       "4        22412           304  Beginner Level    0.55              30.5   \n",
       "\n",
       "    published_timestamp          subject        Date Free/Paid  \\\n",
       "0  2013-02-14T07:03:41Z  Web Development  2013-02-14      Free   \n",
       "1  2013-06-09T15:51:55Z  Web Development  2013-06-09      Free   \n",
       "2  2015-11-02T21:13:27Z  Web Development  2015-11-02      Paid   \n",
       "3  2014-04-08T16:21:30Z  Web Development  2014-04-08      Free   \n",
       "4  2016-03-08T22:28:36Z  Web Development  2016-03-08      Paid   \n",
       "\n",
       "                                    clean_title  \n",
       "0              LearnHTML5ProgrammingFromScratch  \n",
       "1                   CodingforEntrepreneursBasic  \n",
       "2                       TheWebDeveloperBootcamp  \n",
       "3  BuildYourFirstWebsitein1WeekwithHTML5andCSS3  \n",
       "4               TheCompleteWebDeveloperCourse20  "
      ]
     },
     "execution_count": 250,
     "metadata": {},
     "output_type": "execute_result"
    }
   ],
   "source": [
    "data.head()"
   ]
  },
  {
   "cell_type": "markdown",
   "id": "cc95c84b",
   "metadata": {},
   "source": [
    "## Building Search Engine"
   ]
  },
  {
   "cell_type": "code",
   "execution_count": 243,
   "id": "6697c1c9",
   "metadata": {},
   "outputs": [],
   "source": [
    "from sklearn.feature_extraction.text import TfidfVectorizer\n",
    "\n",
    "vectorizer = TfidfVectorizer(ngram_range=(1,2))\n",
    "tfidf = vectorizer.fit_transform(data[\"course_title\"])"
   ]
  },
  {
   "cell_type": "code",
   "execution_count": 244,
   "id": "d42bb562",
   "metadata": {},
   "outputs": [],
   "source": [
    "from sklearn.metrics.pairwise import cosine_similarity\n"
   ]
  },
  {
   "cell_type": "code",
   "execution_count": 251,
   "id": "83294007",
   "metadata": {},
   "outputs": [],
   "source": [
    "#search function\n",
    "def search(title):\n",
    "    title= clean_title(title)\n",
    "    query_vec = vectorizer.transform([title])\n",
    "    similarity = cosine_similarity(query_vec, tfidf).flatten()\n",
    "    indices = np.argpartition(similarity, -5)[-5:]\n",
    "    results = data.iloc[indices][::-1]\n",
    "    return results"
   ]
  },
  {
   "cell_type": "code",
   "execution_count": 252,
   "id": "cd574633",
   "metadata": {},
   "outputs": [
    {
     "data": {
      "application/vnd.jupyter.widget-view+json": {
       "model_id": "24e2fdd9a57447c6b7416fe28a4625dd",
       "version_major": 2,
       "version_minor": 0
      },
      "text/plain": [
       "Text(value='Learn HTML', description='Course Title:')"
      ]
     },
     "metadata": {},
     "output_type": "display_data"
    },
    {
     "data": {
      "application/vnd.jupyter.widget-view+json": {
       "model_id": "1d8c11541f794916be3e1ebec027c355",
       "version_major": 2,
       "version_minor": 0
      },
      "text/plain": [
       "Output()"
      ]
     },
     "metadata": {},
     "output_type": "display_data"
    }
   ],
   "source": [
    "import ipywidgets as widgets\n",
    "from IPython.display import display\n",
    "\n",
    "course_input = widgets.Text(\n",
    "    value=\"Learn HTML\",\n",
    "    description = \"Course Title:\",\n",
    "    disabled = False\n",
    ")\n",
    "\n",
    "course_list = widgets.Output()\n",
    "\n",
    "def on_type(val):\n",
    "    with course_list:\n",
    "        course_list.clear_output()\n",
    "        title = val[\"new\"]\n",
    "        if len(title)>5:\n",
    "            display(search(title))\n",
    "        \n",
    "course_input.observe(on_type, names='value')\n",
    "\n",
    "display(course_input, course_list)"
   ]
  },
  {
   "cell_type": "code",
   "execution_count": null,
   "id": "3af67707",
   "metadata": {},
   "outputs": [],
   "source": []
  }
 ],
 "metadata": {
  "kernelspec": {
   "display_name": "Python 3 (ipykernel)",
   "language": "python",
   "name": "python3"
  },
  "language_info": {
   "codemirror_mode": {
    "name": "ipython",
    "version": 3
   },
   "file_extension": ".py",
   "mimetype": "text/x-python",
   "name": "python",
   "nbconvert_exporter": "python",
   "pygments_lexer": "ipython3",
   "version": "3.9.12"
  }
 },
 "nbformat": 4,
 "nbformat_minor": 5
}
