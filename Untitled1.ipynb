{
 "cells": [
  {
   "cell_type": "code",
   "execution_count": 1,
   "id": "6f65c158",
   "metadata": {},
   "outputs": [],
   "source": [
    "import numpy as np"
   ]
  },
  {
   "cell_type": "code",
   "execution_count": 2,
   "id": "6e9cc981",
   "metadata": {},
   "outputs": [],
   "source": [
    "a = np.array([1,4,5])"
   ]
  },
  {
   "cell_type": "code",
   "execution_count": 3,
   "id": "288df69f",
   "metadata": {},
   "outputs": [
    {
     "data": {
      "text/plain": [
       "array([1, 4, 5])"
      ]
     },
     "execution_count": 3,
     "metadata": {},
     "output_type": "execute_result"
    }
   ],
   "source": [
    "a"
   ]
  },
  {
   "cell_type": "code",
   "execution_count": 4,
   "id": "30b72078",
   "metadata": {},
   "outputs": [],
   "source": [
    "m1 = np.array([[5,12,3],[2,6,0]])"
   ]
  },
  {
   "cell_type": "code",
   "execution_count": 5,
   "id": "104ed131",
   "metadata": {},
   "outputs": [
    {
     "data": {
      "text/plain": [
       "array([[ 5, 12,  3],\n",
       "       [ 2,  6,  0]])"
      ]
     },
     "execution_count": 5,
     "metadata": {},
     "output_type": "execute_result"
    }
   ],
   "source": [
    "m1"
   ]
  },
  {
   "cell_type": "code",
   "execution_count": 6,
   "id": "da1080da",
   "metadata": {},
   "outputs": [
    {
     "data": {
      "text/plain": [
       "array([[9, 3, 2],\n",
       "       [3, 1, 1]])"
      ]
     },
     "execution_count": 6,
     "metadata": {},
     "output_type": "execute_result"
    }
   ],
   "source": [
    "m2 = np.array([[9,3,2],[3,1,1]])\n",
    "m2"
   ]
  },
  {
   "cell_type": "code",
   "execution_count": 7,
   "id": "668185a6",
   "metadata": {},
   "outputs": [],
   "source": [
    "tensor = np.array([m1,m2])"
   ]
  },
  {
   "cell_type": "code",
   "execution_count": 8,
   "id": "b4ab0215",
   "metadata": {},
   "outputs": [
    {
     "data": {
      "text/plain": [
       "array([[[ 5, 12,  3],\n",
       "        [ 2,  6,  0]],\n",
       "\n",
       "       [[ 9,  3,  2],\n",
       "        [ 3,  1,  1]]])"
      ]
     },
     "execution_count": 8,
     "metadata": {},
     "output_type": "execute_result"
    }
   ],
   "source": [
    "tensor"
   ]
  },
  {
   "cell_type": "code",
   "execution_count": 9,
   "id": "c803fb75",
   "metadata": {},
   "outputs": [
    {
     "data": {
      "text/plain": [
       "(2, 2, 3)"
      ]
     },
     "execution_count": 9,
     "metadata": {},
     "output_type": "execute_result"
    }
   ],
   "source": [
    "tensor.shape"
   ]
  },
  {
   "cell_type": "code",
   "execution_count": 10,
   "id": "9ca9d127",
   "metadata": {},
   "outputs": [
    {
     "data": {
      "text/plain": [
       "array([[14, 15,  5],\n",
       "       [ 5,  7,  1]])"
      ]
     },
     "execution_count": 10,
     "metadata": {},
     "output_type": "execute_result"
    }
   ],
   "source": [
    "m1 + m2"
   ]
  },
  {
   "cell_type": "code",
   "execution_count": 11,
   "id": "dbab7044",
   "metadata": {},
   "outputs": [
    {
     "data": {
      "text/plain": [
       "array([[-4,  9,  1],\n",
       "       [-1,  5, -1]])"
      ]
     },
     "execution_count": 11,
     "metadata": {},
     "output_type": "execute_result"
    }
   ],
   "source": [
    "m1 - m2"
   ]
  },
  {
   "cell_type": "code",
   "execution_count": 12,
   "id": "facbce20",
   "metadata": {},
   "outputs": [],
   "source": [
    "v1 = np.array([1,3,5,3,2])\n",
    "v2 = np.array([1,4,8,6,2])\n"
   ]
  },
  {
   "cell_type": "code",
   "execution_count": 13,
   "id": "94893e7f",
   "metadata": {},
   "outputs": [
    {
     "data": {
      "text/plain": [
       "array([1, 3, 5, 3, 2])"
      ]
     },
     "execution_count": 13,
     "metadata": {},
     "output_type": "execute_result"
    }
   ],
   "source": [
    "v1"
   ]
  },
  {
   "cell_type": "code",
   "execution_count": 14,
   "id": "a13199ba",
   "metadata": {},
   "outputs": [
    {
     "data": {
      "text/plain": [
       "array([ 2,  7, 13,  9,  4])"
      ]
     },
     "execution_count": 14,
     "metadata": {},
     "output_type": "execute_result"
    }
   ],
   "source": [
    "v1+v2"
   ]
  },
  {
   "cell_type": "code",
   "execution_count": 15,
   "id": "1c9a8c46",
   "metadata": {},
   "outputs": [
    {
     "data": {
      "text/plain": [
       "array([1, 3, 5, 4])"
      ]
     },
     "execution_count": 15,
     "metadata": {},
     "output_type": "execute_result"
    }
   ],
   "source": [
    "x = np.array([1,3,5,4])\n",
    "x"
   ]
  },
  {
   "cell_type": "code",
   "execution_count": 30,
   "id": "cb1bf2cd",
   "metadata": {},
   "outputs": [],
   "source": [
    "x_reschape = x.reshape(1,4)"
   ]
  },
  {
   "cell_type": "code",
   "execution_count": 32,
   "id": "936a08ce",
   "metadata": {},
   "outputs": [
    {
     "data": {
      "text/plain": [
       "array([[1],\n",
       "       [3],\n",
       "       [5],\n",
       "       [4]])"
      ]
     },
     "execution_count": 32,
     "metadata": {},
     "output_type": "execute_result"
    }
   ],
   "source": [
    "x_reschape.T"
   ]
  },
  {
   "cell_type": "code",
   "execution_count": 26,
   "id": "65748278",
   "metadata": {},
   "outputs": [
    {
     "data": {
      "text/plain": [
       "array([[2, 4, 5],\n",
       "       [1, 5, 7]])"
      ]
     },
     "execution_count": 26,
     "metadata": {},
     "output_type": "execute_result"
    }
   ],
   "source": [
    "A = np.array([[2,4,5],[1,5,7]])\n",
    "A"
   ]
  },
  {
   "cell_type": "code",
   "execution_count": 27,
   "id": "d283ca1e",
   "metadata": {},
   "outputs": [
    {
     "data": {
      "text/plain": [
       "array([[2, 1],\n",
       "       [4, 5],\n",
       "       [5, 7]])"
      ]
     },
     "execution_count": 27,
     "metadata": {},
     "output_type": "execute_result"
    }
   ],
   "source": [
    "A.T"
   ]
  },
  {
   "cell_type": "code",
   "execution_count": 34,
   "id": "a871cd55",
   "metadata": {},
   "outputs": [],
   "source": [
    "u = np.array([2,4,5])\n",
    "v = np.array([25,7,2])"
   ]
  },
  {
   "cell_type": "code",
   "execution_count": 35,
   "id": "5d9e1706",
   "metadata": {},
   "outputs": [
    {
     "data": {
      "text/plain": [
       "88"
      ]
     },
     "execution_count": 35,
     "metadata": {},
     "output_type": "execute_result"
    }
   ],
   "source": [
    "np.dot(u,v)"
   ]
  },
  {
   "cell_type": "code",
   "execution_count": 36,
   "id": "0650ce9e",
   "metadata": {},
   "outputs": [
    {
     "data": {
      "text/plain": [
       "array([[ 6, 12, 15],\n",
       "       [ 3, 15, 21]])"
      ]
     },
     "execution_count": 36,
     "metadata": {},
     "output_type": "execute_result"
    }
   ],
   "source": [
    "3*A"
   ]
  },
  {
   "cell_type": "code",
   "execution_count": 37,
   "id": "dc14f922",
   "metadata": {},
   "outputs": [],
   "source": [
    "a = np.array([[1,1,1],[1,1,0],[1,1,1],[0,1,1],[1,0,1],[0,1,1],[1,0,0]])"
   ]
  },
  {
   "cell_type": "code",
   "execution_count": 38,
   "id": "7e0499ff",
   "metadata": {},
   "outputs": [
    {
     "data": {
      "text/plain": [
       "array([[1, 1, 1],\n",
       "       [1, 1, 0],\n",
       "       [1, 1, 1],\n",
       "       [0, 1, 1],\n",
       "       [1, 0, 1],\n",
       "       [0, 1, 1],\n",
       "       [1, 0, 0]])"
      ]
     },
     "execution_count": 38,
     "metadata": {},
     "output_type": "execute_result"
    }
   ],
   "source": [
    "a"
   ]
  },
  {
   "cell_type": "code",
   "execution_count": 42,
   "id": "867135c2",
   "metadata": {},
   "outputs": [],
   "source": [
    "b = np.array([[7.52],[14.83],[12.91]])"
   ]
  },
  {
   "cell_type": "code",
   "execution_count": 43,
   "id": "5ff63d1f",
   "metadata": {},
   "outputs": [
    {
     "data": {
      "text/plain": [
       "array([[ 7.52],\n",
       "       [14.83],\n",
       "       [12.91]])"
      ]
     },
     "execution_count": 43,
     "metadata": {},
     "output_type": "execute_result"
    }
   ],
   "source": [
    "b"
   ]
  },
  {
   "cell_type": "code",
   "execution_count": null,
   "id": "79d230fa",
   "metadata": {},
   "outputs": [],
   "source": []
  },
  {
   "cell_type": "code",
   "execution_count": 44,
   "id": "85f2d396",
   "metadata": {},
   "outputs": [
    {
     "data": {
      "text/plain": [
       "array([[ 7.52, 14.83, 12.91]])"
      ]
     },
     "execution_count": 44,
     "metadata": {},
     "output_type": "execute_result"
    }
   ],
   "source": [
    "b.T"
   ]
  },
  {
   "cell_type": "code",
   "execution_count": 58,
   "id": "6a6a52cf",
   "metadata": {},
   "outputs": [
    {
     "data": {
      "text/plain": [
       "array([[35.26],\n",
       "       [22.35],\n",
       "       [35.26],\n",
       "       [27.74],\n",
       "       [20.43],\n",
       "       [27.74],\n",
       "       [ 7.52]])"
      ]
     },
     "execution_count": 58,
     "metadata": {},
     "output_type": "execute_result"
    }
   ],
   "source": [
    "dot=np.dot(a,b)\n",
    "dot"
   ]
  },
  {
   "cell_type": "code",
   "execution_count": 48,
   "id": "9734bb32",
   "metadata": {},
   "outputs": [],
   "source": [
    "discount = np.array([[1,0,0],[0,1,0],[0,0,0.8]])"
   ]
  },
  {
   "cell_type": "code",
   "execution_count": 49,
   "id": "fa8043f7",
   "metadata": {},
   "outputs": [
    {
     "data": {
      "text/plain": [
       "array([[1. , 0. , 0. ],\n",
       "       [0. , 1. , 0. ],\n",
       "       [0. , 0. , 0.8]])"
      ]
     },
     "execution_count": 49,
     "metadata": {},
     "output_type": "execute_result"
    }
   ],
   "source": [
    "discount"
   ]
  },
  {
   "cell_type": "code",
   "execution_count": 51,
   "id": "c8fa36b3",
   "metadata": {},
   "outputs": [],
   "source": [
    "c=np.dot(discount,b)"
   ]
  },
  {
   "cell_type": "code",
   "execution_count": 52,
   "id": "2cc8e005",
   "metadata": {},
   "outputs": [
    {
     "data": {
      "text/plain": [
       "array([[ 7.52 ],\n",
       "       [14.83 ],\n",
       "       [10.328]])"
      ]
     },
     "execution_count": 52,
     "metadata": {},
     "output_type": "execute_result"
    }
   ],
   "source": [
    "c"
   ]
  },
  {
   "cell_type": "code",
   "execution_count": 53,
   "id": "711e5b39",
   "metadata": {},
   "outputs": [],
   "source": [
    "dot_ = np.dot(a,c)"
   ]
  },
  {
   "cell_type": "code",
   "execution_count": 56,
   "id": "343ccbba",
   "metadata": {},
   "outputs": [
    {
     "data": {
      "text/plain": [
       "16.609999999999985"
      ]
     },
     "execution_count": 56,
     "metadata": {},
     "output_type": "execute_result"
    }
   ],
   "source": [
    "180-dot_.sum()"
   ]
  },
  {
   "cell_type": "code",
   "execution_count": 59,
   "id": "bee6c6e9",
   "metadata": {},
   "outputs": [],
   "source": [
    "g = np.array([[[1,2,3],[4,5,6]],[[1,1,1],[2,2,2]]])\n",
    "h = np.array([[[1,2],[4,5]],[[1,1],[2,2]]])"
   ]
  },
  {
   "cell_type": "code",
   "execution_count": 60,
   "id": "163e0ae9",
   "metadata": {},
   "outputs": [
    {
     "data": {
      "text/plain": [
       "array([[[1, 2, 3],\n",
       "        [4, 5, 6]],\n",
       "\n",
       "       [[1, 1, 1],\n",
       "        [2, 2, 2]]])"
      ]
     },
     "execution_count": 60,
     "metadata": {},
     "output_type": "execute_result"
    }
   ],
   "source": [
    "g"
   ]
  },
  {
   "cell_type": "code",
   "execution_count": 61,
   "id": "559f8fe3",
   "metadata": {},
   "outputs": [
    {
     "data": {
      "text/plain": [
       "array([[[1, 2],\n",
       "        [4, 5]],\n",
       "\n",
       "       [[1, 1],\n",
       "        [2, 2]]])"
      ]
     },
     "execution_count": 61,
     "metadata": {},
     "output_type": "execute_result"
    }
   ],
   "source": [
    "h"
   ]
  },
  {
   "cell_type": "code",
   "execution_count": 62,
   "id": "c8919f31",
   "metadata": {},
   "outputs": [
    {
     "ename": "ValueError",
     "evalue": "operands could not be broadcast together with shapes (2,2,3) (2,2,2) ",
     "output_type": "error",
     "traceback": [
      "\u001b[1;31m---------------------------------------------------------------------------\u001b[0m",
      "\u001b[1;31mValueError\u001b[0m                                Traceback (most recent call last)",
      "Input \u001b[1;32mIn [62]\u001b[0m, in \u001b[0;36m<cell line: 1>\u001b[1;34m()\u001b[0m\n\u001b[1;32m----> 1\u001b[0m \u001b[43mg\u001b[49m\u001b[38;5;241;43m+\u001b[39;49m\u001b[43mh\u001b[49m\n",
      "\u001b[1;31mValueError\u001b[0m: operands could not be broadcast together with shapes (2,2,3) (2,2,2) "
     ]
    }
   ],
   "source": [
    "g+h"
   ]
  },
  {
   "cell_type": "code",
   "execution_count": 66,
   "id": "54140d1b",
   "metadata": {},
   "outputs": [],
   "source": [
    "J = np.array([[5,21,6],[11,8,62]])\n",
    "K= np.array([[4,5],[6,7],[10,3]])"
   ]
  },
  {
   "cell_type": "code",
   "execution_count": 67,
   "id": "71b8bf33",
   "metadata": {},
   "outputs": [
    {
     "data": {
      "text/plain": [
       "array([[206, 190],\n",
       "       [712, 297]])"
      ]
     },
     "execution_count": 67,
     "metadata": {},
     "output_type": "execute_result"
    }
   ],
   "source": [
    "np.dot(J,K)"
   ]
  },
  {
   "cell_type": "code",
   "execution_count": 69,
   "id": "9f0818bf",
   "metadata": {},
   "outputs": [],
   "source": [
    "a=np.array([[2],[3]])\n",
    "b=np.array([[-2],[-3]])"
   ]
  },
  {
   "cell_type": "code",
   "execution_count": 70,
   "id": "e0e8c12d",
   "metadata": {},
   "outputs": [
    {
     "data": {
      "text/plain": [
       "array([[2],\n",
       "       [3]])"
      ]
     },
     "execution_count": 70,
     "metadata": {},
     "output_type": "execute_result"
    }
   ],
   "source": [
    "a"
   ]
  },
  {
   "cell_type": "code",
   "execution_count": 71,
   "id": "1c89d524",
   "metadata": {},
   "outputs": [
    {
     "data": {
      "text/plain": [
       "(2, 3)"
      ]
     },
     "execution_count": 71,
     "metadata": {},
     "output_type": "execute_result"
    }
   ],
   "source": [
    "J.shape"
   ]
  },
  {
   "cell_type": "code",
   "execution_count": 72,
   "id": "a4a12d5e",
   "metadata": {},
   "outputs": [],
   "source": [
    "s= np.array([ [[1,2],[3,4]],[[5,6],[7,8]],[[9,10],[11,12]]])\n",
    "m = np.array([ [[-2,-2],[3,14]],[[15,-2],[7,8]],[[29,10],[21,32]]])"
   ]
  },
  {
   "cell_type": "code",
   "execution_count": 73,
   "id": "950eaef2",
   "metadata": {},
   "outputs": [
    {
     "data": {
      "text/plain": [
       "array([[16,  0],\n",
       "       [10, 12]])"
      ]
     },
     "execution_count": 73,
     "metadata": {},
     "output_type": "execute_result"
    }
   ],
   "source": [
    "s[0]+m[1]"
   ]
  },
  {
   "cell_type": "code",
   "execution_count": 75,
   "id": "7b12983a",
   "metadata": {},
   "outputs": [
    {
     "data": {
      "text/plain": [
       "array([[ 1,  0, -1],\n",
       "       [ 5,  4,  3]])"
      ]
     },
     "execution_count": 75,
     "metadata": {},
     "output_type": "execute_result"
    }
   ],
   "source": [
    "f= np.array([[1,0,-1],[5,4,3]])\n",
    "f"
   ]
  },
  {
   "cell_type": "code",
   "execution_count": 76,
   "id": "83119e53",
   "metadata": {},
   "outputs": [
    {
     "data": {
      "text/plain": [
       "array([[1, 0, 2],\n",
       "       [0, 0, 2],\n",
       "       [1, 0, 2]])"
      ]
     },
     "execution_count": 76,
     "metadata": {},
     "output_type": "execute_result"
    }
   ],
   "source": [
    "d = np.array([[1,0,2],[0,0,2],[1,0,2]])\n",
    "d"
   ]
  },
  {
   "cell_type": "code",
   "execution_count": 78,
   "id": "94767ef2",
   "metadata": {},
   "outputs": [
    {
     "ename": "ValueError",
     "evalue": "operands could not be broadcast together with shapes (3,2,2) (3,3) ",
     "output_type": "error",
     "traceback": [
      "\u001b[1;31m---------------------------------------------------------------------------\u001b[0m",
      "\u001b[1;31mValueError\u001b[0m                                Traceback (most recent call last)",
      "Input \u001b[1;32mIn [78]\u001b[0m, in \u001b[0;36m<cell line: 1>\u001b[1;34m()\u001b[0m\n\u001b[1;32m----> 1\u001b[0m \u001b[43ms\u001b[49m\u001b[38;5;241;43m*\u001b[39;49m\u001b[43md\u001b[49m\n",
      "\u001b[1;31mValueError\u001b[0m: operands could not be broadcast together with shapes (3,2,2) (3,3) "
     ]
    }
   ],
   "source": [
    "s*d"
   ]
  },
  {
   "cell_type": "code",
   "execution_count": 89,
   "id": "f19e3074",
   "metadata": {},
   "outputs": [
    {
     "data": {
      "text/plain": [
       "array([[1, 1, 4],\n",
       "       [1, 0, 2],\n",
       "       [4, 2, 5]])"
      ]
     },
     "execution_count": 89,
     "metadata": {},
     "output_type": "execute_result"
    }
   ],
   "source": [
    "A = np.array([[1,1,4],[1,0,2],[4,2,5]])\n",
    "A"
   ]
  },
  {
   "cell_type": "code",
   "execution_count": 92,
   "id": "6cf95400",
   "metadata": {},
   "outputs": [
    {
     "data": {
      "text/plain": [
       "array([[ 1,  1, 16],\n",
       "       [ 1,  0,  4],\n",
       "       [16,  4, 25]])"
      ]
     },
     "execution_count": 92,
     "metadata": {},
     "output_type": "execute_result"
    }
   ],
   "source": [
    "A*A.T"
   ]
  },
  {
   "cell_type": "code",
   "execution_count": 82,
   "id": "ce01f88f",
   "metadata": {},
   "outputs": [],
   "source": [
    "f_ = np.array([[4,1,1],[2,0,1],[5,2,4]])"
   ]
  },
  {
   "cell_type": "code",
   "execution_count": 83,
   "id": "8c513c05",
   "metadata": {},
   "outputs": [
    {
     "data": {
      "text/plain": [
       "array([[4, 1, 1],\n",
       "       [2, 0, 1],\n",
       "       [5, 2, 4]])"
      ]
     },
     "execution_count": 83,
     "metadata": {},
     "output_type": "execute_result"
    }
   ],
   "source": [
    "f_"
   ]
  },
  {
   "cell_type": "code",
   "execution_count": 84,
   "id": "5c7a1882",
   "metadata": {},
   "outputs": [
    {
     "data": {
      "text/plain": [
       "array([[ 4,  1,  4],\n",
       "       [ 2,  0,  2],\n",
       "       [20,  4, 20]])"
      ]
     },
     "execution_count": 84,
     "metadata": {},
     "output_type": "execute_result"
    }
   ],
   "source": [
    "A*f_"
   ]
  },
  {
   "cell_type": "code",
   "execution_count": 85,
   "id": "b33b753f",
   "metadata": {},
   "outputs": [
    {
     "data": {
      "text/plain": [
       "array([[-9, -5],\n",
       "       [-4,  2]])"
      ]
     },
     "execution_count": 85,
     "metadata": {},
     "output_type": "execute_result"
    }
   ],
   "source": [
    "a_1 = np.array([[1,3],[5,7]])\n",
    "b_1 = np.array([[10,8],[9,5]])\n",
    "a_1-b_11"
   ]
  },
  {
   "cell_type": "code",
   "execution_count": 90,
   "id": "8ee93b2d",
   "metadata": {},
   "outputs": [
    {
     "data": {
      "text/plain": [
       "numpy.ndarray"
      ]
     },
     "execution_count": 90,
     "metadata": {},
     "output_type": "execute_result"
    }
   ],
   "source": [
    "type(f_)"
   ]
  },
  {
   "cell_type": "code",
   "execution_count": 91,
   "id": "c6339150",
   "metadata": {},
   "outputs": [
    {
     "data": {
      "text/plain": [
       "numpy.ndarray"
      ]
     },
     "execution_count": 91,
     "metadata": {},
     "output_type": "execute_result"
    }
   ],
   "source": [
    "type(a)"
   ]
  },
  {
   "cell_type": "code",
   "execution_count": null,
   "id": "b671dbaf",
   "metadata": {},
   "outputs": [],
   "source": []
  }
 ],
 "metadata": {
  "kernelspec": {
   "display_name": "Python 3 (ipykernel)",
   "language": "python",
   "name": "python3"
  },
  "language_info": {
   "codemirror_mode": {
    "name": "ipython",
    "version": 3
   },
   "file_extension": ".py",
   "mimetype": "text/x-python",
   "name": "python",
   "nbconvert_exporter": "python",
   "pygments_lexer": "ipython3",
   "version": "3.9.12"
  }
 },
 "nbformat": 4,
 "nbformat_minor": 5
}
