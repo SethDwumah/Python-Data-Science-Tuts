{
 "cells": [
  {
   "cell_type": "markdown",
   "id": "974ea112",
   "metadata": {},
   "source": [
    "# Learning Python\n"
   ]
  },
  {
   "cell_type": "markdown",
   "id": "3c8a887c",
   "metadata": {},
   "source": [
    "## 1. Basics"
   ]
  },
  {
   "cell_type": "code",
   "execution_count": 2,
   "id": "37887656",
   "metadata": {},
   "outputs": [
    {
     "name": "stdout",
     "output_type": "stream",
     "text": [
      "What is your first name?Seth\n",
      "Hello Seth\n"
     ]
    }
   ],
   "source": [
    "# Challenge 1 -- Ask for the users first name\n",
    "name=input(\"What is your first name?\")\n",
    "print(\"Hello \" + name)"
   ]
  },
  {
   "cell_type": "code",
   "execution_count": 3,
   "id": "a9a9278f",
   "metadata": {},
   "outputs": [
    {
     "name": "stdout",
     "output_type": "stream",
     "text": [
      "What is your full name?Dwumah Seth\n",
      "Hello Dwumah Seth\n"
     ]
    }
   ],
   "source": [
    "# Challenge 2 ask for users full name\n",
    "full_name= input(\"What is your full name?\")\n",
    "print(\"Hello \"+ full_name)"
   ]
  },
  {
   "cell_type": "code",
   "execution_count": 16,
   "id": "11c177cd",
   "metadata": {},
   "outputs": [
    {
     "name": "stdout",
     "output_type": "stream",
     "text": [
      "What do you call a bear with no teeth?\n",
      " A gummy bear \n"
     ]
    }
   ],
   "source": [
    "# Challenge 3\n",
    "print(\"What do you call a bear with no teeth?\\n A gummy bear \")"
   ]
  },
  {
   "cell_type": "code",
   "execution_count": 20,
   "id": "3d0b2ba2",
   "metadata": {
    "scrolled": true
   },
   "outputs": [
    {
     "name": "stdout",
     "output_type": "stream",
     "text": [
      "Enter first number: 1\n",
      "Enter second number: 2\n",
      "The total is  3\n"
     ]
    }
   ],
   "source": [
    "# Challenge 4\n",
    "num1= int(input(\"Enter first number: \"))\n",
    "num2= int(input(\"Enter second number: \"))\n",
    "total= num1+ num2\n",
    "print(\"The total is \",  total)"
   ]
  },
  {
   "cell_type": "code",
   "execution_count": 22,
   "id": "a36ab4a9",
   "metadata": {},
   "outputs": [
    {
     "name": "stdout",
     "output_type": "stream",
     "text": [
      "Enter first number: 2\n",
      "Enter second number: 43\n",
      "Enter third number: 1\n",
      "The answer is  45\n"
     ]
    }
   ],
   "source": [
    "# Challenge 5\n",
    "n1 = int(input(\"Enter first number: \"))\n",
    "n2= int(input(\"Enter second number: \"))\n",
    "n3= int(input(\"Enter third number: \"))\n",
    "answer = (n1 + n2)*n3\n",
    "print(\"The answer is \", answer)"
   ]
  },
  {
   "cell_type": "code",
   "execution_count": 23,
   "id": "c71beef4",
   "metadata": {},
   "outputs": [
    {
     "name": "stdout",
     "output_type": "stream",
     "text": [
      "How many slice of pizza did you started with? 10\n",
      "How many slices are left? 3\n",
      "7 slices of pizza are left\n"
     ]
    }
   ],
   "source": [
    "# Challenge 6\n",
    "slice_no= int(input(\"How many slice of pizza did you started with? \"))\n",
    "remain =int(input(\"How many slices are left? \"))\n",
    "slice_left= slice_no - remain\n",
    "print(slice_left, \"slices of pizza are left\")"
   ]
  },
  {
   "cell_type": "code",
   "execution_count": 25,
   "id": "44b356d9",
   "metadata": {},
   "outputs": [
    {
     "name": "stdout",
     "output_type": "stream",
     "text": [
      "Please, what's your name? TEsla\n",
      "How old are you? 23\n",
      "TEsla next birthday you will be  24\n"
     ]
    }
   ],
   "source": [
    "# Challenge 7\n",
    "name= input(\"Please, what's your name? \")\n",
    "age= int(input(\"How old are you? \"))\n",
    "new_age =age + 1\n",
    "print(name,\"next birthday you will be \",new_age)\n"
   ]
  },
  {
   "cell_type": "code",
   "execution_count": 27,
   "id": "691b3681",
   "metadata": {},
   "outputs": [
    {
     "name": "stdout",
     "output_type": "stream",
     "text": [
      "What is the price of the bill? 323546\n",
      "How many diners were there? 24\n",
      "Each person will pay $ 13481.083333333334\n"
     ]
    }
   ],
   "source": [
    "# Challenge 8\n",
    "bill= int(input(\"What is the price of the bill? \"))\n",
    "diners= int(input(\"How many diners were there? \"))\n",
    "amnt= bill/diners\n",
    "print(\"Each person will pay $\",amnt)"
   ]
  },
  {
   "cell_type": "code",
   "execution_count": 31,
   "id": "45a5c0e9",
   "metadata": {},
   "outputs": [
    {
     "name": "stdout",
     "output_type": "stream",
     "text": [
      "How many days are you spending on campus? 16\n",
      "You will spend  2.2857142857142856  weeks, 16  days, 384  hours, 23040 minutes and 1382400 seconds\n"
     ]
    }
   ],
   "source": [
    "days= int(input(\"How many days are you spending on campus? \"))\n",
    "weeks = days/7\n",
    "hours= days*24\n",
    "minutes= hours*60\n",
    "seconds= minutes*60\n",
    "print(\"You will spend \",weeks,\" weeks,\",days,\" days,\",hours,\" hours,\",minutes,\"minutes and\",seconds, \"seconds\")"
   ]
  },
  {
   "cell_type": "code",
   "execution_count": 32,
   "id": "e0e73d3d",
   "metadata": {},
   "outputs": [
    {
     "name": "stdout",
     "output_type": "stream",
     "text": [
      "Enter weight in kilograms: 1234\n",
      "1234 kg is equal to 2719.7360000000003 pounds\n"
     ]
    }
   ],
   "source": [
    "# Challenge 10\n",
    "kg= int(input(\"Enter weight in kilograms: \"))\n",
    "pounds = 2.204*kg\n",
    "print(kg,\"kg is equal to\",pounds,\"pounds\")"
   ]
  },
  {
   "cell_type": "code",
   "execution_count": null,
   "id": "43124bbf",
   "metadata": {},
   "outputs": [],
   "source": []
  },
  {
   "cell_type": "code",
   "execution_count": null,
   "id": "9c6e38d5",
   "metadata": {},
   "outputs": [],
   "source": []
  },
  {
   "cell_type": "code",
   "execution_count": null,
   "id": "89c78019",
   "metadata": {},
   "outputs": [],
   "source": []
  },
  {
   "cell_type": "code",
   "execution_count": null,
   "id": "9694ff9c",
   "metadata": {},
   "outputs": [],
   "source": []
  },
  {
   "cell_type": "code",
   "execution_count": null,
   "id": "f47dd892",
   "metadata": {},
   "outputs": [],
   "source": []
  },
  {
   "cell_type": "code",
   "execution_count": null,
   "id": "acb49c6e",
   "metadata": {},
   "outputs": [],
   "source": []
  },
  {
   "cell_type": "code",
   "execution_count": null,
   "id": "ffae9a9e",
   "metadata": {},
   "outputs": [],
   "source": []
  },
  {
   "cell_type": "code",
   "execution_count": null,
   "id": "f2da7233",
   "metadata": {},
   "outputs": [],
   "source": []
  },
  {
   "cell_type": "code",
   "execution_count": null,
   "id": "b18bf03a",
   "metadata": {},
   "outputs": [],
   "source": []
  },
  {
   "cell_type": "code",
   "execution_count": null,
   "id": "d7a330e1",
   "metadata": {},
   "outputs": [],
   "source": []
  },
  {
   "cell_type": "code",
   "execution_count": null,
   "id": "3440dbbb",
   "metadata": {},
   "outputs": [],
   "source": []
  },
  {
   "cell_type": "code",
   "execution_count": null,
   "id": "046a93c7",
   "metadata": {},
   "outputs": [],
   "source": []
  },
  {
   "cell_type": "code",
   "execution_count": null,
   "id": "fd983214",
   "metadata": {},
   "outputs": [],
   "source": []
  },
  {
   "cell_type": "code",
   "execution_count": null,
   "id": "1c3f8ece",
   "metadata": {},
   "outputs": [],
   "source": []
  },
  {
   "cell_type": "code",
   "execution_count": null,
   "id": "221e5f7f",
   "metadata": {},
   "outputs": [],
   "source": []
  },
  {
   "cell_type": "code",
   "execution_count": null,
   "id": "e297495c",
   "metadata": {},
   "outputs": [],
   "source": []
  },
  {
   "cell_type": "code",
   "execution_count": null,
   "id": "0b863449",
   "metadata": {},
   "outputs": [],
   "source": []
  }
 ],
 "metadata": {
  "kernelspec": {
   "display_name": "Python 3 (ipykernel)",
   "language": "python",
   "name": "python3"
  },
  "language_info": {
   "codemirror_mode": {
    "name": "ipython",
    "version": 3
   },
   "file_extension": ".py",
   "mimetype": "text/x-python",
   "name": "python",
   "nbconvert_exporter": "python",
   "pygments_lexer": "ipython3",
   "version": "3.9.12"
  }
 },
 "nbformat": 4,
 "nbformat_minor": 5
}
