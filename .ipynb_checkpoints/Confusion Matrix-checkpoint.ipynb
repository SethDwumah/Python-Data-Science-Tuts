{
 "cells": [
  {
   "cell_type": "code",
   "execution_count": 4,
   "id": "e9ba5b94",
   "metadata": {},
   "outputs": [],
   "source": [
    "%matplotlib inline\n",
    "import numpy as np\n",
    "import pandas as pd\n",
    "import seaborn as sns\n",
    "import matplotlib.pyplot as plt\n",
    "from sklearn import metrics"
   ]
  },
  {
   "cell_type": "code",
   "execution_count": 7,
   "id": "056a8757",
   "metadata": {},
   "outputs": [],
   "source": [
    "from sklearn.model_selection import train_test_split\n",
    "from sklearn.preprocessing import StandardScaler\n",
    "from sklearn.linear_model import LogisticRegression\n",
    "from sklearn.metrics import accuracy_score\n",
    "from sklearn.metrics import confusion_matrix\n",
    "from sklearn.metrics import classification_report"
   ]
  },
  {
   "cell_type": "code",
   "execution_count": 5,
   "id": "5b737cce",
   "metadata": {},
   "outputs": [],
   "source": [
    "cancer= pd.read_csv(\"C:\\\\Users\\\\Administrator\\\\Desktop\\\\data\\\\cancer.csv\")"
   ]
  },
  {
   "cell_type": "code",
   "execution_count": 6,
   "id": "cdea567f",
   "metadata": {
    "scrolled": true
   },
   "outputs": [
    {
     "data": {
      "text/html": [
       "<div>\n",
       "<style scoped>\n",
       "    .dataframe tbody tr th:only-of-type {\n",
       "        vertical-align: middle;\n",
       "    }\n",
       "\n",
       "    .dataframe tbody tr th {\n",
       "        vertical-align: top;\n",
       "    }\n",
       "\n",
       "    .dataframe thead th {\n",
       "        text-align: right;\n",
       "    }\n",
       "</style>\n",
       "<table border=\"1\" class=\"dataframe\">\n",
       "  <thead>\n",
       "    <tr style=\"text-align: right;\">\n",
       "      <th></th>\n",
       "      <th>Id</th>\n",
       "      <th>Diagnosis</th>\n",
       "      <th>Radius (mean)</th>\n",
       "      <th>Texture (mean)</th>\n",
       "      <th>Perimeter (mean)</th>\n",
       "      <th>Area (mean)</th>\n",
       "      <th>Smoothness (mean)</th>\n",
       "      <th>Compactness (mean)</th>\n",
       "      <th>Concavity (mean)</th>\n",
       "      <th>Concave points (mean)</th>\n",
       "      <th>...</th>\n",
       "      <th>Radius (worst)</th>\n",
       "      <th>Texture (worst)</th>\n",
       "      <th>Perimeter (worst)</th>\n",
       "      <th>Area (worst)</th>\n",
       "      <th>Smoothness (worst)</th>\n",
       "      <th>Compactness (worst)</th>\n",
       "      <th>Concavity (worst)</th>\n",
       "      <th>Concave points (worst)</th>\n",
       "      <th>Symmetry (worst)</th>\n",
       "      <th>Fractal dimension (worst)</th>\n",
       "    </tr>\n",
       "  </thead>\n",
       "  <tbody>\n",
       "    <tr>\n",
       "      <th>0</th>\n",
       "      <td>8510426</td>\n",
       "      <td>B</td>\n",
       "      <td>13.540</td>\n",
       "      <td>14.36</td>\n",
       "      <td>87.46</td>\n",
       "      <td>566.3</td>\n",
       "      <td>0.09779</td>\n",
       "      <td>0.08129</td>\n",
       "      <td>0.06664</td>\n",
       "      <td>0.047810</td>\n",
       "      <td>...</td>\n",
       "      <td>15.110</td>\n",
       "      <td>19.26</td>\n",
       "      <td>99.70</td>\n",
       "      <td>711.2</td>\n",
       "      <td>0.14400</td>\n",
       "      <td>0.17730</td>\n",
       "      <td>0.23900</td>\n",
       "      <td>0.12880</td>\n",
       "      <td>0.2977</td>\n",
       "      <td>0.07259</td>\n",
       "    </tr>\n",
       "    <tr>\n",
       "      <th>1</th>\n",
       "      <td>8510653</td>\n",
       "      <td>B</td>\n",
       "      <td>13.080</td>\n",
       "      <td>15.71</td>\n",
       "      <td>85.63</td>\n",
       "      <td>520.0</td>\n",
       "      <td>0.10750</td>\n",
       "      <td>0.12700</td>\n",
       "      <td>0.04568</td>\n",
       "      <td>0.031100</td>\n",
       "      <td>...</td>\n",
       "      <td>14.500</td>\n",
       "      <td>20.49</td>\n",
       "      <td>96.09</td>\n",
       "      <td>630.5</td>\n",
       "      <td>0.13120</td>\n",
       "      <td>0.27760</td>\n",
       "      <td>0.18900</td>\n",
       "      <td>0.07283</td>\n",
       "      <td>0.3184</td>\n",
       "      <td>0.08183</td>\n",
       "    </tr>\n",
       "    <tr>\n",
       "      <th>2</th>\n",
       "      <td>8510824</td>\n",
       "      <td>B</td>\n",
       "      <td>9.504</td>\n",
       "      <td>12.44</td>\n",
       "      <td>60.34</td>\n",
       "      <td>273.9</td>\n",
       "      <td>0.10240</td>\n",
       "      <td>0.06492</td>\n",
       "      <td>0.02956</td>\n",
       "      <td>0.020760</td>\n",
       "      <td>...</td>\n",
       "      <td>10.230</td>\n",
       "      <td>15.66</td>\n",
       "      <td>65.13</td>\n",
       "      <td>314.9</td>\n",
       "      <td>0.13240</td>\n",
       "      <td>0.11480</td>\n",
       "      <td>0.08867</td>\n",
       "      <td>0.06227</td>\n",
       "      <td>0.2450</td>\n",
       "      <td>0.07773</td>\n",
       "    </tr>\n",
       "    <tr>\n",
       "      <th>3</th>\n",
       "      <td>854941</td>\n",
       "      <td>B</td>\n",
       "      <td>13.030</td>\n",
       "      <td>18.42</td>\n",
       "      <td>82.61</td>\n",
       "      <td>523.8</td>\n",
       "      <td>0.08983</td>\n",
       "      <td>0.03766</td>\n",
       "      <td>0.02562</td>\n",
       "      <td>0.029230</td>\n",
       "      <td>...</td>\n",
       "      <td>13.300</td>\n",
       "      <td>22.81</td>\n",
       "      <td>84.46</td>\n",
       "      <td>545.9</td>\n",
       "      <td>0.09701</td>\n",
       "      <td>0.04619</td>\n",
       "      <td>0.04833</td>\n",
       "      <td>0.05013</td>\n",
       "      <td>0.1987</td>\n",
       "      <td>0.06169</td>\n",
       "    </tr>\n",
       "    <tr>\n",
       "      <th>4</th>\n",
       "      <td>85713702</td>\n",
       "      <td>B</td>\n",
       "      <td>8.196</td>\n",
       "      <td>16.84</td>\n",
       "      <td>51.71</td>\n",
       "      <td>201.9</td>\n",
       "      <td>0.08600</td>\n",
       "      <td>0.05943</td>\n",
       "      <td>0.01588</td>\n",
       "      <td>0.005917</td>\n",
       "      <td>...</td>\n",
       "      <td>8.964</td>\n",
       "      <td>21.96</td>\n",
       "      <td>57.26</td>\n",
       "      <td>242.2</td>\n",
       "      <td>0.12970</td>\n",
       "      <td>0.13570</td>\n",
       "      <td>0.06880</td>\n",
       "      <td>0.02564</td>\n",
       "      <td>0.3105</td>\n",
       "      <td>0.07409</td>\n",
       "    </tr>\n",
       "  </tbody>\n",
       "</table>\n",
       "<p>5 rows × 32 columns</p>\n",
       "</div>"
      ],
      "text/plain": [
       "         Id Diagnosis  Radius (mean)  Texture (mean)  Perimeter (mean)  \\\n",
       "0   8510426         B         13.540           14.36             87.46   \n",
       "1   8510653         B         13.080           15.71             85.63   \n",
       "2   8510824         B          9.504           12.44             60.34   \n",
       "3    854941         B         13.030           18.42             82.61   \n",
       "4  85713702         B          8.196           16.84             51.71   \n",
       "\n",
       "   Area (mean)  Smoothness (mean)  Compactness (mean)  Concavity (mean)  \\\n",
       "0        566.3            0.09779             0.08129           0.06664   \n",
       "1        520.0            0.10750             0.12700           0.04568   \n",
       "2        273.9            0.10240             0.06492           0.02956   \n",
       "3        523.8            0.08983             0.03766           0.02562   \n",
       "4        201.9            0.08600             0.05943           0.01588   \n",
       "\n",
       "   Concave points (mean)  ...  Radius (worst)  Texture (worst)  \\\n",
       "0               0.047810  ...          15.110            19.26   \n",
       "1               0.031100  ...          14.500            20.49   \n",
       "2               0.020760  ...          10.230            15.66   \n",
       "3               0.029230  ...          13.300            22.81   \n",
       "4               0.005917  ...           8.964            21.96   \n",
       "\n",
       "   Perimeter (worst)  Area (worst)  Smoothness (worst)  Compactness (worst)  \\\n",
       "0              99.70         711.2             0.14400              0.17730   \n",
       "1              96.09         630.5             0.13120              0.27760   \n",
       "2              65.13         314.9             0.13240              0.11480   \n",
       "3              84.46         545.9             0.09701              0.04619   \n",
       "4              57.26         242.2             0.12970              0.13570   \n",
       "\n",
       "   Concavity (worst)  Concave points (worst)  Symmetry (worst)  \\\n",
       "0            0.23900                 0.12880            0.2977   \n",
       "1            0.18900                 0.07283            0.3184   \n",
       "2            0.08867                 0.06227            0.2450   \n",
       "3            0.04833                 0.05013            0.1987   \n",
       "4            0.06880                 0.02564            0.3105   \n",
       "\n",
       "   Fractal dimension (worst)  \n",
       "0                    0.07259  \n",
       "1                    0.08183  \n",
       "2                    0.07773  \n",
       "3                    0.06169  \n",
       "4                    0.07409  \n",
       "\n",
       "[5 rows x 32 columns]"
      ]
     },
     "execution_count": 6,
     "metadata": {},
     "output_type": "execute_result"
    }
   ],
   "source": [
    "cancer.head()"
   ]
  },
  {
   "cell_type": "markdown",
   "id": "5ebc573d",
   "metadata": {},
   "source": [
    "### Convert Diagnosis to number, that will be our target"
   ]
  },
  {
   "cell_type": "code",
   "execution_count": 8,
   "id": "fa2f53cb",
   "metadata": {},
   "outputs": [],
   "source": [
    "# for Diagnosis\n",
    "# B= Benign\n",
    "# M= Malignant\n",
    "# B -0, M -1\n",
    "d= {'B':0, 'M':1}\n",
    "\n",
    "cancer['Diagnosis']= cancer['Diagnosis'].map(d)"
   ]
  },
  {
   "cell_type": "code",
   "execution_count": 10,
   "id": "ab3a0364",
   "metadata": {},
   "outputs": [
    {
     "data": {
      "text/html": [
       "<div>\n",
       "<style scoped>\n",
       "    .dataframe tbody tr th:only-of-type {\n",
       "        vertical-align: middle;\n",
       "    }\n",
       "\n",
       "    .dataframe tbody tr th {\n",
       "        vertical-align: top;\n",
       "    }\n",
       "\n",
       "    .dataframe thead th {\n",
       "        text-align: right;\n",
       "    }\n",
       "</style>\n",
       "<table border=\"1\" class=\"dataframe\">\n",
       "  <thead>\n",
       "    <tr style=\"text-align: right;\">\n",
       "      <th></th>\n",
       "      <th>Id</th>\n",
       "      <th>Diagnosis</th>\n",
       "      <th>Radius (mean)</th>\n",
       "      <th>Texture (mean)</th>\n",
       "      <th>Perimeter (mean)</th>\n",
       "      <th>Area (mean)</th>\n",
       "      <th>Smoothness (mean)</th>\n",
       "      <th>Compactness (mean)</th>\n",
       "      <th>Concavity (mean)</th>\n",
       "      <th>Concave points (mean)</th>\n",
       "      <th>...</th>\n",
       "      <th>Radius (worst)</th>\n",
       "      <th>Texture (worst)</th>\n",
       "      <th>Perimeter (worst)</th>\n",
       "      <th>Area (worst)</th>\n",
       "      <th>Smoothness (worst)</th>\n",
       "      <th>Compactness (worst)</th>\n",
       "      <th>Concavity (worst)</th>\n",
       "      <th>Concave points (worst)</th>\n",
       "      <th>Symmetry (worst)</th>\n",
       "      <th>Fractal dimension (worst)</th>\n",
       "    </tr>\n",
       "  </thead>\n",
       "  <tbody>\n",
       "    <tr>\n",
       "      <th>0</th>\n",
       "      <td>8510426</td>\n",
       "      <td>0</td>\n",
       "      <td>13.54</td>\n",
       "      <td>14.36</td>\n",
       "      <td>87.46</td>\n",
       "      <td>566.3</td>\n",
       "      <td>0.09779</td>\n",
       "      <td>0.08129</td>\n",
       "      <td>0.06664</td>\n",
       "      <td>0.04781</td>\n",
       "      <td>...</td>\n",
       "      <td>15.11</td>\n",
       "      <td>19.26</td>\n",
       "      <td>99.7</td>\n",
       "      <td>711.2</td>\n",
       "      <td>0.144</td>\n",
       "      <td>0.1773</td>\n",
       "      <td>0.239</td>\n",
       "      <td>0.1288</td>\n",
       "      <td>0.2977</td>\n",
       "      <td>0.07259</td>\n",
       "    </tr>\n",
       "  </tbody>\n",
       "</table>\n",
       "<p>1 rows × 32 columns</p>\n",
       "</div>"
      ],
      "text/plain": [
       "        Id  Diagnosis  Radius (mean)  Texture (mean)  Perimeter (mean)  \\\n",
       "0  8510426          0          13.54           14.36             87.46   \n",
       "\n",
       "   Area (mean)  Smoothness (mean)  Compactness (mean)  Concavity (mean)  \\\n",
       "0        566.3            0.09779             0.08129           0.06664   \n",
       "\n",
       "   Concave points (mean)  ...  Radius (worst)  Texture (worst)  \\\n",
       "0                0.04781  ...           15.11            19.26   \n",
       "\n",
       "   Perimeter (worst)  Area (worst)  Smoothness (worst)  Compactness (worst)  \\\n",
       "0               99.7         711.2               0.144               0.1773   \n",
       "\n",
       "   Concavity (worst)  Concave points (worst)  Symmetry (worst)  \\\n",
       "0              0.239                  0.1288            0.2977   \n",
       "\n",
       "   Fractal dimension (worst)  \n",
       "0                    0.07259  \n",
       "\n",
       "[1 rows x 32 columns]"
      ]
     },
     "execution_count": 10,
     "metadata": {},
     "output_type": "execute_result"
    }
   ],
   "source": [
    "cancer.head(1)"
   ]
  },
  {
   "cell_type": "code",
   "execution_count": 11,
   "id": "fb6bceeb",
   "metadata": {},
   "outputs": [
    {
     "name": "stdout",
     "output_type": "stream",
     "text": [
      "<class 'pandas.core.frame.DataFrame'>\n",
      "RangeIndex: 569 entries, 0 to 568\n",
      "Data columns (total 32 columns):\n",
      " #   Column                     Non-Null Count  Dtype  \n",
      "---  ------                     --------------  -----  \n",
      " 0   Id                         569 non-null    int64  \n",
      " 1   Diagnosis                  569 non-null    int64  \n",
      " 2   Radius (mean)              569 non-null    float64\n",
      " 3   Texture (mean)             569 non-null    float64\n",
      " 4   Perimeter (mean)           569 non-null    float64\n",
      " 5   Area (mean)                569 non-null    float64\n",
      " 6   Smoothness (mean)          569 non-null    float64\n",
      " 7   Compactness (mean)         569 non-null    float64\n",
      " 8   Concavity (mean)           569 non-null    float64\n",
      " 9   Concave points (mean)      569 non-null    float64\n",
      " 10  Symmetry (mean)            569 non-null    float64\n",
      " 11  Fractal dimension (mean)   569 non-null    float64\n",
      " 12  Radius (se)                569 non-null    float64\n",
      " 13  Texture (se)               569 non-null    float64\n",
      " 14  Perimeter (se)             569 non-null    float64\n",
      " 15  Area (se)                  569 non-null    float64\n",
      " 16  Smoothness (se)            569 non-null    float64\n",
      " 17  Compactness (se)           569 non-null    float64\n",
      " 18  Concavity (se)             569 non-null    float64\n",
      " 19  Concave points (se)        569 non-null    float64\n",
      " 20  Symmetry (se)              569 non-null    float64\n",
      " 21  Fractal dimension (se)     569 non-null    float64\n",
      " 22  Radius (worst)             569 non-null    float64\n",
      " 23  Texture (worst)            569 non-null    float64\n",
      " 24  Perimeter (worst)          569 non-null    float64\n",
      " 25  Area (worst)               569 non-null    float64\n",
      " 26  Smoothness (worst)         569 non-null    float64\n",
      " 27  Compactness (worst)        569 non-null    float64\n",
      " 28  Concavity (worst)          569 non-null    float64\n",
      " 29  Concave points (worst)     569 non-null    float64\n",
      " 30  Symmetry (worst)           569 non-null    float64\n",
      " 31  Fractal dimension (worst)  569 non-null    float64\n",
      "dtypes: float64(30), int64(2)\n",
      "memory usage: 142.4 KB\n"
     ]
    }
   ],
   "source": [
    "cancer.info()"
   ]
  },
  {
   "cell_type": "markdown",
   "id": "5a6b6c87",
   "metadata": {},
   "source": [
    "### Split the dataset to train and test set\n"
   ]
  },
  {
   "cell_type": "code",
   "execution_count": 14,
   "id": "4f08067a",
   "metadata": {},
   "outputs": [
    {
     "name": "stdout",
     "output_type": "stream",
     "text": [
      "(569, 31)\n",
      "******************************\n",
      "(569,)\n"
     ]
    }
   ],
   "source": [
    "x = cancer.drop('Diagnosis',axis=1)\n",
    "y= cancer['Diagnosis']\n",
    "print(x.shape)\n",
    "print('*' * 30)\n",
    "print(y.shape)"
   ]
  },
  {
   "cell_type": "code",
   "execution_count": 16,
   "id": "17125874",
   "metadata": {},
   "outputs": [],
   "source": [
    "x_train, x_test, y_train, y_test = train_test_split(x,y, test_size=0.2, random_state=42)\n"
   ]
  },
  {
   "cell_type": "code",
   "execution_count": 17,
   "id": "d63e7958",
   "metadata": {},
   "outputs": [
    {
     "name": "stdout",
     "output_type": "stream",
     "text": [
      "(455, 31)\n",
      "(455,)\n",
      "(114, 31)\n",
      "(114,)\n"
     ]
    }
   ],
   "source": [
    "print(x_train.shape)\n",
    "print(y_train.shape)\n",
    "print(x_test.shape)\n",
    "print(y_test.shape)"
   ]
  },
  {
   "cell_type": "markdown",
   "id": "94544ab3",
   "metadata": {},
   "source": [
    "### Use standard scaler to scale the features for preprocessing"
   ]
  },
  {
   "cell_type": "code",
   "execution_count": 18,
   "id": "9ce07602",
   "metadata": {},
   "outputs": [],
   "source": [
    "scaler = StandardScaler()\n",
    "scale = scaler.fit(x_train)\n",
    "x_train = scale.transform(x_train)\n",
    "x_test = scale.transform(x_test)"
   ]
  },
  {
   "cell_type": "markdown",
   "id": "f5c137f0",
   "metadata": {},
   "source": [
    "### Creating a Logistic Regression model\n"
   ]
  },
  {
   "cell_type": "code",
   "execution_count": 20,
   "id": "df18c053",
   "metadata": {},
   "outputs": [
    {
     "data": {
      "text/plain": [
       "LogisticRegression()"
      ]
     },
     "execution_count": 20,
     "metadata": {},
     "output_type": "execute_result"
    }
   ],
   "source": [
    "lr = LogisticRegression()\n",
    "lr.fit(x_train,y_train)"
   ]
  },
  {
   "cell_type": "markdown",
   "id": "d57cce1a",
   "metadata": {},
   "source": [
    "### Predict the target"
   ]
  },
  {
   "cell_type": "code",
   "execution_count": 24,
   "id": "122681eb",
   "metadata": {},
   "outputs": [],
   "source": [
    "y_pred= lr.predict(x_test)"
   ]
  },
  {
   "cell_type": "code",
   "execution_count": 27,
   "id": "543cd09a",
   "metadata": {},
   "outputs": [
    {
     "name": "stdout",
     "output_type": "stream",
     "text": [
      "[0 0 0 1 1 1 1 0 0 1 1 0 0 0 1 0 1 1 0 1 1 1 0 1 0 0 1 1 1 0 1 0 1 1 0 0 0\n",
      " 0 0 0 0 0 1 0 0 0 1 1 1 0 0 0 0 1 0 1 0 0 0 0 0 0 1 1 0 0 0 0 0 0 0 0 1 0\n",
      " 1 1 0 0 0 1 0 0 0 0 0 0 0 0 1 0 0 1 1 1 0 0 1 0 0 1 0 0 0 1 1 1 0 1 0 1 0\n",
      " 0 1 0]\n"
     ]
    }
   ],
   "source": [
    "print(y_pred)"
   ]
  },
  {
   "cell_type": "code",
   "execution_count": 28,
   "id": "c4457fa7",
   "metadata": {},
   "outputs": [
    {
     "data": {
      "text/plain": [
       "204    0\n",
       "70     0\n",
       "131    0\n",
       "431    1\n",
       "540    1\n",
       "      ..\n",
       "486    1\n",
       "75     0\n",
       "249    0\n",
       "238    0\n",
       "265    0\n",
       "Name: Diagnosis, Length: 114, dtype: int64"
      ]
     },
     "execution_count": 28,
     "metadata": {},
     "output_type": "execute_result"
    }
   ],
   "source": [
    "y_test"
   ]
  },
  {
   "cell_type": "markdown",
   "id": "bc233f09",
   "metadata": {},
   "source": [
    "### Check the accuracy of the model"
   ]
  },
  {
   "cell_type": "code",
   "execution_count": 31,
   "id": "e2c8d0ee",
   "metadata": {},
   "outputs": [
    {
     "data": {
      "text/plain": [
       "0.9649122807017544"
      ]
     },
     "execution_count": 31,
     "metadata": {},
     "output_type": "execute_result"
    }
   ],
   "source": [
    "score = accuracy_score(y_test,y_pred)\n",
    "score"
   ]
  },
  {
   "cell_type": "markdown",
   "id": "05abb2ab",
   "metadata": {},
   "source": [
    "### Creating a Confusion matrix"
   ]
  },
  {
   "cell_type": "code",
   "execution_count": 32,
   "id": "f937440a",
   "metadata": {},
   "outputs": [
    {
     "data": {
      "text/plain": [
       "array([[69,  2],\n",
       "       [ 2, 41]], dtype=int64)"
      ]
     },
     "execution_count": 32,
     "metadata": {},
     "output_type": "execute_result"
    }
   ],
   "source": [
    "confusion_matrix(y_test,y_pred)"
   ]
  },
  {
   "cell_type": "code",
   "execution_count": 33,
   "id": "e90ef71a",
   "metadata": {},
   "outputs": [
    {
     "data": {
      "text/plain": [
       "(69, 2, 2, 41)"
      ]
     },
     "execution_count": 33,
     "metadata": {},
     "output_type": "execute_result"
    }
   ],
   "source": [
    "# Extracting TP, TN, FP,FN\n",
    "tn,fp,fn,tp= confusion_matrix(y_test, y_pred).ravel()\n",
    "(tn,fp,fn,tp)"
   ]
  },
  {
   "cell_type": "code",
   "execution_count": 34,
   "id": "e3d43cd0",
   "metadata": {},
   "outputs": [
    {
     "name": "stdout",
     "output_type": "stream",
     "text": [
      "[[69  2]\n",
      " [ 2 41]]\n"
     ]
    }
   ],
   "source": [
    "cm = metrics.confusion_matrix(y_test, y_pred)\n",
    "print(cm)"
   ]
  },
  {
   "cell_type": "code",
   "execution_count": 35,
   "id": "10602f82",
   "metadata": {},
   "outputs": [
    {
     "name": "stdout",
     "output_type": "stream",
     "text": [
      "Classification Report : \n",
      "               precision    recall  f1-score   support\n",
      "\n",
      "           0       0.97      0.97      0.97        71\n",
      "           1       0.95      0.95      0.95        43\n",
      "\n",
      "    accuracy                           0.96       114\n",
      "   macro avg       0.96      0.96      0.96       114\n",
      "weighted avg       0.96      0.96      0.96       114\n",
      "\n"
     ]
    }
   ],
   "source": [
    "# Classification Report\n",
    "\n",
    "# Confusion matrix metrics\n",
    "\n",
    "matrix = classification_report(y_test,y_pred)\n",
    "print('Classification Report : \\n', matrix)"
   ]
  },
  {
   "cell_type": "code",
   "execution_count": 40,
   "id": "6162273e",
   "metadata": {
    "scrolled": false
   },
   "outputs": [
    {
     "data": {
      "image/png": "[encoded data removed]",
      "text/plain": [
       "<Figure size 576x216 with 2 Axes>"
      ]
     },
     "metadata": {
      "needs_background": "light"
     },
     "output_type": "display_data"
    }
   ],
   "source": [
    "plt.figure(figsize=(8,3))\n",
    "sns.heatmap(cm, annot=True, linewidths= '.5', cmap = 'ocean')\n",
    "plt.xlabel('Predicted', fontsize=18)\n",
    "plt.ylabel('Actual', fontsize=18)\n",
    "tilt = 'Accuracy Score : {0}'.format(score)\n",
    "plt.title(tilt, size=20)\n",
    "plt.show()"
   ]
  },
  {
   "cell_type": "code",
   "execution_count": null,
   "id": "df57d8aa",
   "metadata": {},
   "outputs": [],
   "source": []
  }
 ],
 "metadata": {
  "kernelspec": {
   "display_name": "Python 3 (ipykernel)",
   "language": "python",
   "name": "python3"
  },
  "language_info": {
   "codemirror_mode": {
    "name": "ipython",
    "version": 3
   },
   "file_extension": ".py",
   "mimetype": "text/x-python",
   "name": "python",
   "nbconvert_exporter": "python",
   "pygments_lexer": "ipython3",
   "version": "3.9.12"
  }
 },
 "nbformat": 4,
 "nbformat_minor": 5
}
