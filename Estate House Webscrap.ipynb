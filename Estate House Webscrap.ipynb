{
 "cells": [
  {
   "cell_type": "code",
   "execution_count": 17,
   "id": "06ea4f66",
   "metadata": {},
   "outputs": [],
   "source": [
    "import requests\n",
    "from bs4 import BeautifulSoup\n",
    "import pandas as pd\n",
    "from csv import writer"
   ]
  },
  {
   "cell_type": "code",
   "execution_count": 4,
   "id": "3230e3dd",
   "metadata": {},
   "outputs": [],
   "source": [
    "url = \"https://www.pararius.com/apartments/amsterdam\""
   ]
  },
  {
   "cell_type": "code",
   "execution_count": 5,
   "id": "257a36c3",
   "metadata": {},
   "outputs": [],
   "source": [
    "page = requests.get(url)"
   ]
  },
  {
   "cell_type": "code",
   "execution_count": 6,
   "id": "97033cb5",
   "metadata": {},
   "outputs": [],
   "source": [
    "soup = BeautifulSoup(page.content, 'html.parser')"
   ]
  },
  {
   "cell_type": "code",
   "execution_count": 9,
   "id": "a976b3bf",
   "metadata": {},
   "outputs": [],
   "source": [
    "#print (soup)"
   ]
  },
  {
   "cell_type": "code",
   "execution_count": 10,
   "id": "3223452c",
   "metadata": {},
   "outputs": [],
   "source": [
    "lists = soup.find_all('section', class_ = \"listing-search-item\")"
   ]
  },
  {
   "cell_type": "code",
   "execution_count": 12,
   "id": "b19097b8",
   "metadata": {},
   "outputs": [],
   "source": [
    "#lists"
   ]
  },
  {
   "cell_type": "code",
   "execution_count": 20,
   "id": "24e3e21e",
   "metadata": {},
   "outputs": [],
   "source": [
    "with open('housing.csv','w',encoding='utf8', newline='') as f:\n",
    "    thewriter = writer(f)\n",
    "    header = ['Title', 'Location','Price','Area','Number_of_rooms']\n",
    "    thewriter.writerow(header)\n",
    "    for list in lists:\n",
    "        title = list.find('a', class_ = \"listing-search-item__link--title\").text.replace('\\n', '')\n",
    "        location = list.find('div', class_ = \"listing-search-item__sub-title\").text.replace('\\n', '')\n",
    "        price = list.find('div', class_ = \"listing-search-item__price\").text.replace('\\n', '')\n",
    "        area = list.find('li', class_ = \"illustrated-features__item illustrated-features__item--surface-area\").text.replace('\\n', '')\n",
    "        number_of_rooms = list.find('li', class_ = \"illustrated-features__item illustrated-features__item--number-of-rooms\").text.replace('\\n', '')\n",
    "    \n",
    "        info = [title, location,price,area, number_of_rooms]\n",
    "        thewriter.writerow(info)"
   ]
  },
  {
   "cell_type": "markdown",
   "id": "3b516521",
   "metadata": {},
   "source": [
    "# Webscraping Jumia phones"
   ]
  },
  {
   "cell_type": "code",
   "execution_count": 63,
   "id": "2eefefb6",
   "metadata": {},
   "outputs": [],
   "source": [
    "jumia = \"https://www.jumia.com.ng/mobile-phones/\""
   ]
  },
  {
   "cell_type": "code",
   "execution_count": 64,
   "id": "caf54e09",
   "metadata": {},
   "outputs": [],
   "source": [
    "webpage = requests.get(jumia)"
   ]
  },
  {
   "cell_type": "code",
   "execution_count": 65,
   "id": "e026a5c7",
   "metadata": {},
   "outputs": [
    {
     "data": {
      "text/plain": [
       "<Response [200]>"
      ]
     },
     "execution_count": 65,
     "metadata": {},
     "output_type": "execute_result"
    }
   ],
   "source": [
    "webpage"
   ]
  },
  {
   "cell_type": "code",
   "execution_count": 66,
   "id": "90f1a103",
   "metadata": {},
   "outputs": [],
   "source": [
    "soup = BeautifulSoup(webpage.content, 'html.parser')"
   ]
  },
  {
   "cell_type": "code",
   "execution_count": 68,
   "id": "d899bab3",
   "metadata": {},
   "outputs": [],
   "source": [
    "#soup"
   ]
  },
  {
   "cell_type": "code",
   "execution_count": 114,
   "id": "6c23074a",
   "metadata": {},
   "outputs": [],
   "source": [
    "temps = soup.find_all('section', class_ = \"card -fh\")"
   ]
  },
  {
   "cell_type": "code",
   "execution_count": 121,
   "id": "4788e1ae",
   "metadata": {},
   "outputs": [],
   "source": [
    "#temps"
   ]
  },
  {
   "cell_type": "code",
   "execution_count": 126,
   "id": "2daf2611",
   "metadata": {},
   "outputs": [],
   "source": [
    "links = temp.find_all('div',class_ = \"info\")"
   ]
  },
  {
   "cell_type": "code",
   "execution_count": 132,
   "id": "571e8483",
   "metadata": {},
   "outputs": [],
   "source": [
    "\n",
    "with open('phone_price.csv','w', encoding='utf8', newline='')as f:\n",
    "    thewriter = writer(f)\n",
    "    header = ['Name','Price']\n",
    "    thewriter.writerow(header)\n",
    "    for info in links:\n",
    "        name = info.find('h3',class_ =\"name\").text\n",
    "        price = info.find('div',class_ =\"prc\").text\n",
    "        #rating = info.find('div', class_ =\"stars _s\").text\n",
    "        data = [name,price]\n",
    "        thewriter.writerow(data)"
   ]
  },
  {
   "cell_type": "markdown",
   "id": "9dfb4c5e",
   "metadata": {},
   "source": [
    "# Clean the housing data"
   ]
  },
  {
   "cell_type": "code",
   "execution_count": 133,
   "id": "2afdffab",
   "metadata": {},
   "outputs": [
    {
     "data": {
      "text/html": [
       "<div>\n",
       "<style scoped>\n",
       "    .dataframe tbody tr th:only-of-type {\n",
       "        vertical-align: middle;\n",
       "    }\n",
       "\n",
       "    .dataframe tbody tr th {\n",
       "        vertical-align: top;\n",
       "    }\n",
       "\n",
       "    .dataframe thead th {\n",
       "        text-align: right;\n",
       "    }\n",
       "</style>\n",
       "<table border=\"1\" class=\"dataframe\">\n",
       "  <thead>\n",
       "    <tr style=\"text-align: right;\">\n",
       "      <th></th>\n",
       "      <th>Title</th>\n",
       "      <th>Location</th>\n",
       "      <th>Price</th>\n",
       "      <th>Area</th>\n",
       "      <th>Number_of_rooms</th>\n",
       "    </tr>\n",
       "  </thead>\n",
       "  <tbody>\n",
       "    <tr>\n",
       "      <th>0</th>\n",
       "      <td>Apartment Keizersgrach...</td>\n",
       "      <td>1016 EG Amsterdam (Grachtengordel-...</td>\n",
       "      <td>€6,000 per month</td>\n",
       "      <td>270 m²</td>\n",
       "      <td>4 rooms</td>\n",
       "    </tr>\n",
       "    <tr>\n",
       "      <th>1</th>\n",
       "      <td>Apartment Reguliersgra...</td>\n",
       "      <td>1017 LV Amsterdam (Grachtengordel-...</td>\n",
       "      <td>€5,500 per month</td>\n",
       "      <td>141 m²</td>\n",
       "      <td>4 rooms</td>\n",
       "    </tr>\n",
       "    <tr>\n",
       "      <th>2</th>\n",
       "      <td>Apartment Christiaan d...</td>\n",
       "      <td>1091 NG Amsterdam (Transvaalbuurt)...</td>\n",
       "      <td>€1,950 per month</td>\n",
       "      <td>50 m²</td>\n",
       "      <td>3 rooms</td>\n",
       "    </tr>\n",
       "    <tr>\n",
       "      <th>3</th>\n",
       "      <td>Apartment Pieter Corne...</td>\n",
       "      <td>1071 BN Amsterdam (Museumkwartier)...</td>\n",
       "      <td>€2,850 per month</td>\n",
       "      <td>131 m²</td>\n",
       "      <td>4 rooms</td>\n",
       "    </tr>\n",
       "    <tr>\n",
       "      <th>4</th>\n",
       "      <td>Apartment Van Nijenrod...</td>\n",
       "      <td>1082 JE Amsterdam (Buitenveldert-W...</td>\n",
       "      <td>€1,950 per month</td>\n",
       "      <td>40 m²</td>\n",
       "      <td>2 rooms</td>\n",
       "    </tr>\n",
       "  </tbody>\n",
       "</table>\n",
       "</div>"
      ],
      "text/plain": [
       "                                               Title  \\\n",
       "0                          Apartment Keizersgrach...   \n",
       "1                          Apartment Reguliersgra...   \n",
       "2                          Apartment Christiaan d...   \n",
       "3                          Apartment Pieter Corne...   \n",
       "4                          Apartment Van Nijenrod...   \n",
       "\n",
       "                                            Location  \\\n",
       "0              1016 EG Amsterdam (Grachtengordel-...   \n",
       "1              1017 LV Amsterdam (Grachtengordel-...   \n",
       "2              1091 NG Amsterdam (Transvaalbuurt)...   \n",
       "3              1071 BN Amsterdam (Museumkwartier)...   \n",
       "4              1082 JE Amsterdam (Buitenveldert-W...   \n",
       "\n",
       "                                          Price    Area Number_of_rooms  \n",
       "0                  €6,000 per month              270 m²         4 rooms  \n",
       "1                  €5,500 per month              141 m²         4 rooms  \n",
       "2                  €1,950 per month               50 m²         3 rooms  \n",
       "3                  €2,850 per month              131 m²         4 rooms  \n",
       "4                  €1,950 per month               40 m²         2 rooms  "
      ]
     },
     "execution_count": 133,
     "metadata": {},
     "output_type": "execute_result"
    }
   ],
   "source": [
    "housing = pd.read_csv(\"housing.csv\")\n",
    "housing.head()"
   ]
  },
  {
   "cell_type": "code",
   "execution_count": 135,
   "id": "142f0f70",
   "metadata": {},
   "outputs": [
    {
     "name": "stdout",
     "output_type": "stream",
     "text": [
      "<class 'pandas.core.frame.DataFrame'>\n",
      "RangeIndex: 32 entries, 0 to 31\n",
      "Data columns (total 5 columns):\n",
      " #   Column           Non-Null Count  Dtype \n",
      "---  ------           --------------  ----- \n",
      " 0   Title            32 non-null     object\n",
      " 1   Location         32 non-null     object\n",
      " 2   Price            32 non-null     object\n",
      " 3   Area             32 non-null     object\n",
      " 4   Number_of_rooms  32 non-null     object\n",
      "dtypes: object(5)\n",
      "memory usage: 1.4+ KB\n"
     ]
    }
   ],
   "source": [
    "housing.info()"
   ]
  },
  {
   "cell_type": "code",
   "execution_count": 142,
   "id": "570fa0ba",
   "metadata": {},
   "outputs": [],
   "source": [
    "# clean the data\n",
    "import re\n",
    "def clean(data):\n",
    "    return re.sub(\"[^0-9]\", \"\", data)"
   ]
  },
  {
   "cell_type": "code",
   "execution_count": 143,
   "id": "afc79405",
   "metadata": {},
   "outputs": [],
   "source": [
    "housing['Prices'] = housing['Price'].apply(clean)  "
   ]
  },
  {
   "cell_type": "code",
   "execution_count": 144,
   "id": "7ec410e1",
   "metadata": {},
   "outputs": [],
   "source": [
    "housing['Area_sqrm'] = housing[\"Area\"].apply(clean)\n",
    "housing['Number_of_Rooms']= housing['Number_of_rooms'].apply(clean)"
   ]
  },
  {
   "cell_type": "code",
   "execution_count": 145,
   "id": "a5456e1d",
   "metadata": {},
   "outputs": [
    {
     "data": {
      "text/html": [
       "<div>\n",
       "<style scoped>\n",
       "    .dataframe tbody tr th:only-of-type {\n",
       "        vertical-align: middle;\n",
       "    }\n",
       "\n",
       "    .dataframe tbody tr th {\n",
       "        vertical-align: top;\n",
       "    }\n",
       "\n",
       "    .dataframe thead th {\n",
       "        text-align: right;\n",
       "    }\n",
       "</style>\n",
       "<table border=\"1\" class=\"dataframe\">\n",
       "  <thead>\n",
       "    <tr style=\"text-align: right;\">\n",
       "      <th></th>\n",
       "      <th>Title</th>\n",
       "      <th>Location</th>\n",
       "      <th>Price</th>\n",
       "      <th>Area</th>\n",
       "      <th>Number_of_rooms</th>\n",
       "      <th>Prices</th>\n",
       "      <th>Area_sqrm</th>\n",
       "      <th>Number_of_Rooms</th>\n",
       "    </tr>\n",
       "  </thead>\n",
       "  <tbody>\n",
       "    <tr>\n",
       "      <th>0</th>\n",
       "      <td>Apartment Keizersgrach...</td>\n",
       "      <td>1016 EG Amsterdam (Grachtengordel-...</td>\n",
       "      <td>€6,000 per month</td>\n",
       "      <td>270 m²</td>\n",
       "      <td>4 rooms</td>\n",
       "      <td>6000</td>\n",
       "      <td>270</td>\n",
       "      <td>4</td>\n",
       "    </tr>\n",
       "    <tr>\n",
       "      <th>1</th>\n",
       "      <td>Apartment Reguliersgra...</td>\n",
       "      <td>1017 LV Amsterdam (Grachtengordel-...</td>\n",
       "      <td>€5,500 per month</td>\n",
       "      <td>141 m²</td>\n",
       "      <td>4 rooms</td>\n",
       "      <td>5500</td>\n",
       "      <td>141</td>\n",
       "      <td>4</td>\n",
       "    </tr>\n",
       "    <tr>\n",
       "      <th>2</th>\n",
       "      <td>Apartment Christiaan d...</td>\n",
       "      <td>1091 NG Amsterdam (Transvaalbuurt)...</td>\n",
       "      <td>€1,950 per month</td>\n",
       "      <td>50 m²</td>\n",
       "      <td>3 rooms</td>\n",
       "      <td>1950</td>\n",
       "      <td>50</td>\n",
       "      <td>3</td>\n",
       "    </tr>\n",
       "    <tr>\n",
       "      <th>3</th>\n",
       "      <td>Apartment Pieter Corne...</td>\n",
       "      <td>1071 BN Amsterdam (Museumkwartier)...</td>\n",
       "      <td>€2,850 per month</td>\n",
       "      <td>131 m²</td>\n",
       "      <td>4 rooms</td>\n",
       "      <td>2850</td>\n",
       "      <td>131</td>\n",
       "      <td>4</td>\n",
       "    </tr>\n",
       "    <tr>\n",
       "      <th>4</th>\n",
       "      <td>Apartment Van Nijenrod...</td>\n",
       "      <td>1082 JE Amsterdam (Buitenveldert-W...</td>\n",
       "      <td>€1,950 per month</td>\n",
       "      <td>40 m²</td>\n",
       "      <td>2 rooms</td>\n",
       "      <td>1950</td>\n",
       "      <td>40</td>\n",
       "      <td>2</td>\n",
       "    </tr>\n",
       "  </tbody>\n",
       "</table>\n",
       "</div>"
      ],
      "text/plain": [
       "                                               Title  \\\n",
       "0                          Apartment Keizersgrach...   \n",
       "1                          Apartment Reguliersgra...   \n",
       "2                          Apartment Christiaan d...   \n",
       "3                          Apartment Pieter Corne...   \n",
       "4                          Apartment Van Nijenrod...   \n",
       "\n",
       "                                            Location  \\\n",
       "0              1016 EG Amsterdam (Grachtengordel-...   \n",
       "1              1017 LV Amsterdam (Grachtengordel-...   \n",
       "2              1091 NG Amsterdam (Transvaalbuurt)...   \n",
       "3              1071 BN Amsterdam (Museumkwartier)...   \n",
       "4              1082 JE Amsterdam (Buitenveldert-W...   \n",
       "\n",
       "                                          Price    Area Number_of_rooms  \\\n",
       "0                  €6,000 per month              270 m²         4 rooms   \n",
       "1                  €5,500 per month              141 m²         4 rooms   \n",
       "2                  €1,950 per month               50 m²         3 rooms   \n",
       "3                  €2,850 per month              131 m²         4 rooms   \n",
       "4                  €1,950 per month               40 m²         2 rooms   \n",
       "\n",
       "  Prices Area_sqrm Number_of_Rooms  \n",
       "0   6000       270               4  \n",
       "1   5500       141               4  \n",
       "2   1950        50               3  \n",
       "3   2850       131               4  \n",
       "4   1950        40               2  "
      ]
     },
     "execution_count": 145,
     "metadata": {},
     "output_type": "execute_result"
    }
   ],
   "source": [
    "housing.head()"
   ]
  },
  {
   "cell_type": "code",
   "execution_count": 147,
   "id": "919bdc60",
   "metadata": {},
   "outputs": [],
   "source": [
    "housing_data = housing.drop(['Price','Area','Number_of_rooms'],axis=1, inplace=True)\n",
    "housing_data"
   ]
  },
  {
   "cell_type": "code",
   "execution_count": 149,
   "id": "91c9150d",
   "metadata": {},
   "outputs": [
    {
     "data": {
      "text/html": [
       "<div>\n",
       "<style scoped>\n",
       "    .dataframe tbody tr th:only-of-type {\n",
       "        vertical-align: middle;\n",
       "    }\n",
       "\n",
       "    .dataframe tbody tr th {\n",
       "        vertical-align: top;\n",
       "    }\n",
       "\n",
       "    .dataframe thead th {\n",
       "        text-align: right;\n",
       "    }\n",
       "</style>\n",
       "<table border=\"1\" class=\"dataframe\">\n",
       "  <thead>\n",
       "    <tr style=\"text-align: right;\">\n",
       "      <th></th>\n",
       "      <th>Title</th>\n",
       "      <th>Location</th>\n",
       "      <th>Prices</th>\n",
       "      <th>Area_sqrm</th>\n",
       "      <th>Number_of_Rooms</th>\n",
       "    </tr>\n",
       "  </thead>\n",
       "  <tbody>\n",
       "    <tr>\n",
       "      <th>0</th>\n",
       "      <td>Apartment Keizersgrach...</td>\n",
       "      <td>1016 EG Amsterdam (Grachtengordel-...</td>\n",
       "      <td>6000</td>\n",
       "      <td>270</td>\n",
       "      <td>4</td>\n",
       "    </tr>\n",
       "    <tr>\n",
       "      <th>1</th>\n",
       "      <td>Apartment Reguliersgra...</td>\n",
       "      <td>1017 LV Amsterdam (Grachtengordel-...</td>\n",
       "      <td>5500</td>\n",
       "      <td>141</td>\n",
       "      <td>4</td>\n",
       "    </tr>\n",
       "    <tr>\n",
       "      <th>2</th>\n",
       "      <td>Apartment Christiaan d...</td>\n",
       "      <td>1091 NG Amsterdam (Transvaalbuurt)...</td>\n",
       "      <td>1950</td>\n",
       "      <td>50</td>\n",
       "      <td>3</td>\n",
       "    </tr>\n",
       "    <tr>\n",
       "      <th>3</th>\n",
       "      <td>Apartment Pieter Corne...</td>\n",
       "      <td>1071 BN Amsterdam (Museumkwartier)...</td>\n",
       "      <td>2850</td>\n",
       "      <td>131</td>\n",
       "      <td>4</td>\n",
       "    </tr>\n",
       "    <tr>\n",
       "      <th>4</th>\n",
       "      <td>Apartment Van Nijenrod...</td>\n",
       "      <td>1082 JE Amsterdam (Buitenveldert-W...</td>\n",
       "      <td>1950</td>\n",
       "      <td>40</td>\n",
       "      <td>2</td>\n",
       "    </tr>\n",
       "  </tbody>\n",
       "</table>\n",
       "</div>"
      ],
      "text/plain": [
       "                                               Title  \\\n",
       "0                          Apartment Keizersgrach...   \n",
       "1                          Apartment Reguliersgra...   \n",
       "2                          Apartment Christiaan d...   \n",
       "3                          Apartment Pieter Corne...   \n",
       "4                          Apartment Van Nijenrod...   \n",
       "\n",
       "                                            Location Prices Area_sqrm  \\\n",
       "0              1016 EG Amsterdam (Grachtengordel-...   6000       270   \n",
       "1              1017 LV Amsterdam (Grachtengordel-...   5500       141   \n",
       "2              1091 NG Amsterdam (Transvaalbuurt)...   1950        50   \n",
       "3              1071 BN Amsterdam (Museumkwartier)...   2850       131   \n",
       "4              1082 JE Amsterdam (Buitenveldert-W...   1950        40   \n",
       "\n",
       "  Number_of_Rooms  \n",
       "0               4  \n",
       "1               4  \n",
       "2               3  \n",
       "3               4  \n",
       "4               2  "
      ]
     },
     "execution_count": 149,
     "metadata": {},
     "output_type": "execute_result"
    }
   ],
   "source": [
    "housing.head()"
   ]
  },
  {
   "cell_type": "code",
   "execution_count": 151,
   "id": "2800d803",
   "metadata": {},
   "outputs": [],
   "source": [
    "housing['Prices'] = housing['Prices'].astype('int')\n",
    "housing['Area_sqrm'] = housing['Area_sqrm'].astype('int')\n",
    "housing['Number_of_Rooms'] = housing['Number_of_Rooms'].astype('int')\n"
   ]
  },
  {
   "cell_type": "code",
   "execution_count": 152,
   "id": "bd0d5302",
   "metadata": {},
   "outputs": [
    {
     "name": "stdout",
     "output_type": "stream",
     "text": [
      "<class 'pandas.core.frame.DataFrame'>\n",
      "RangeIndex: 32 entries, 0 to 31\n",
      "Data columns (total 5 columns):\n",
      " #   Column           Non-Null Count  Dtype \n",
      "---  ------           --------------  ----- \n",
      " 0   Title            32 non-null     object\n",
      " 1   Location         32 non-null     object\n",
      " 2   Prices           32 non-null     int32 \n",
      " 3   Area_sqrm        32 non-null     int32 \n",
      " 4   Number_of_Rooms  32 non-null     int32 \n",
      "dtypes: int32(3), object(2)\n",
      "memory usage: 1.0+ KB\n"
     ]
    }
   ],
   "source": [
    "housing.info()"
   ]
  },
  {
   "cell_type": "code",
   "execution_count": 154,
   "id": "fbd03560",
   "metadata": {},
   "outputs": [
    {
     "data": {
      "text/plain": [
       "'            1017 DT Amsterdam (Grachtengordel-Zuid)        '"
      ]
     },
     "execution_count": 154,
     "metadata": {},
     "output_type": "execute_result"
    }
   ],
   "source": [
    "housing['Location'][5]"
   ]
  },
  {
   "cell_type": "code",
   "execution_count": 159,
   "id": "21290021",
   "metadata": {},
   "outputs": [],
   "source": [
    "def clean_location(location):\n",
    "    return re.sub(\"[^a-zA-Z0-9 ]\", \" \", location)"
   ]
  },
  {
   "cell_type": "code",
   "execution_count": 160,
   "id": "d95dbeb4",
   "metadata": {},
   "outputs": [],
   "source": [
    "housing['Location']= housing['Location'].apply(clean_location)"
   ]
  },
  {
   "cell_type": "code",
   "execution_count": 164,
   "id": "24c0cfe4",
   "metadata": {},
   "outputs": [
    {
     "data": {
      "text/html": [
       "<div>\n",
       "<style scoped>\n",
       "    .dataframe tbody tr th:only-of-type {\n",
       "        vertical-align: middle;\n",
       "    }\n",
       "\n",
       "    .dataframe tbody tr th {\n",
       "        vertical-align: top;\n",
       "    }\n",
       "\n",
       "    .dataframe thead th {\n",
       "        text-align: right;\n",
       "    }\n",
       "</style>\n",
       "<table border=\"1\" class=\"dataframe\">\n",
       "  <thead>\n",
       "    <tr style=\"text-align: right;\">\n",
       "      <th></th>\n",
       "      <th>Title</th>\n",
       "      <th>Prices</th>\n",
       "    </tr>\n",
       "  </thead>\n",
       "  <tbody>\n",
       "    <tr>\n",
       "      <th>0</th>\n",
       "      <td>Apartment Keizersgrach...</td>\n",
       "      <td>6000</td>\n",
       "    </tr>\n",
       "    <tr>\n",
       "      <th>1</th>\n",
       "      <td>Apartment Reguliersgra...</td>\n",
       "      <td>5500</td>\n",
       "    </tr>\n",
       "    <tr>\n",
       "      <th>5</th>\n",
       "      <td>House Keizersgracht   ...</td>\n",
       "      <td>5250</td>\n",
       "    </tr>\n",
       "    <tr>\n",
       "      <th>6</th>\n",
       "      <td>Apartment Bilderdijkst...</td>\n",
       "      <td>3600</td>\n",
       "    </tr>\n",
       "    <tr>\n",
       "      <th>13</th>\n",
       "      <td>Apartment Van Tuyll va...</td>\n",
       "      <td>3375</td>\n",
       "    </tr>\n",
       "  </tbody>\n",
       "</table>\n",
       "</div>"
      ],
      "text/plain": [
       "                                                Title  Prices\n",
       "0                           Apartment Keizersgrach...    6000\n",
       "1                           Apartment Reguliersgra...    5500\n",
       "5                           House Keizersgracht   ...    5250\n",
       "6                           Apartment Bilderdijkst...    3600\n",
       "13                          Apartment Van Tuyll va...    3375"
      ]
     },
     "execution_count": 164,
     "metadata": {},
     "output_type": "execute_result"
    }
   ],
   "source": [
    "#Top apartments with high price\n",
    "housing[['Title','Prices']].sort_values(by='Prices', ascending=False)[:5]"
   ]
  },
  {
   "cell_type": "code",
   "execution_count": 165,
   "id": "032d8395",
   "metadata": {},
   "outputs": [],
   "source": [
    "housing.to_csv('housing_data.csv')"
   ]
  },
  {
   "cell_type": "markdown",
   "id": "11d334f4",
   "metadata": {},
   "source": [
    "# Prepare the housing dataset for machine learning"
   ]
  },
  {
   "cell_type": "code",
   "execution_count": 166,
   "id": "9757f438",
   "metadata": {},
   "outputs": [],
   "source": [
    "# Lets change the categorical data to numerical\n",
    "housing['Location_code'] = housing['Location'].astype(\"category\").cat.codes"
   ]
  },
  {
   "cell_type": "code",
   "execution_count": 167,
   "id": "66c3a7c4",
   "metadata": {},
   "outputs": [
    {
     "data": {
      "text/html": [
       "<div>\n",
       "<style scoped>\n",
       "    .dataframe tbody tr th:only-of-type {\n",
       "        vertical-align: middle;\n",
       "    }\n",
       "\n",
       "    .dataframe tbody tr th {\n",
       "        vertical-align: top;\n",
       "    }\n",
       "\n",
       "    .dataframe thead th {\n",
       "        text-align: right;\n",
       "    }\n",
       "</style>\n",
       "<table border=\"1\" class=\"dataframe\">\n",
       "  <thead>\n",
       "    <tr style=\"text-align: right;\">\n",
       "      <th></th>\n",
       "      <th>Title</th>\n",
       "      <th>Location</th>\n",
       "      <th>Prices</th>\n",
       "      <th>Area_sqrm</th>\n",
       "      <th>Number_of_Rooms</th>\n",
       "      <th>Location_code</th>\n",
       "    </tr>\n",
       "  </thead>\n",
       "  <tbody>\n",
       "    <tr>\n",
       "      <th>0</th>\n",
       "      <td>Apartment Keizersgrach...</td>\n",
       "      <td>1016 EG Amsterdam GrachtengordelWe...</td>\n",
       "      <td>6000</td>\n",
       "      <td>270</td>\n",
       "      <td>4</td>\n",
       "      <td>6</td>\n",
       "    </tr>\n",
       "    <tr>\n",
       "      <th>1</th>\n",
       "      <td>Apartment Reguliersgra...</td>\n",
       "      <td>1017 LV Amsterdam GrachtengordelZu...</td>\n",
       "      <td>5500</td>\n",
       "      <td>141</td>\n",
       "      <td>4</td>\n",
       "      <td>12</td>\n",
       "    </tr>\n",
       "    <tr>\n",
       "      <th>2</th>\n",
       "      <td>Apartment Christiaan d...</td>\n",
       "      <td>1091 NG Amsterdam Transvaalbuurt  ...</td>\n",
       "      <td>1950</td>\n",
       "      <td>50</td>\n",
       "      <td>3</td>\n",
       "      <td>26</td>\n",
       "    </tr>\n",
       "    <tr>\n",
       "      <th>3</th>\n",
       "      <td>Apartment Pieter Corne...</td>\n",
       "      <td>1071 BN Amsterdam Museumkwartier  ...</td>\n",
       "      <td>2850</td>\n",
       "      <td>131</td>\n",
       "      <td>4</td>\n",
       "      <td>16</td>\n",
       "    </tr>\n",
       "    <tr>\n",
       "      <th>4</th>\n",
       "      <td>Apartment Van Nijenrod...</td>\n",
       "      <td>1082 JE Amsterdam BuitenveldertWes...</td>\n",
       "      <td>1950</td>\n",
       "      <td>40</td>\n",
       "      <td>2</td>\n",
       "      <td>20</td>\n",
       "    </tr>\n",
       "  </tbody>\n",
       "</table>\n",
       "</div>"
      ],
      "text/plain": [
       "                                               Title  \\\n",
       "0                          Apartment Keizersgrach...   \n",
       "1                          Apartment Reguliersgra...   \n",
       "2                          Apartment Christiaan d...   \n",
       "3                          Apartment Pieter Corne...   \n",
       "4                          Apartment Van Nijenrod...   \n",
       "\n",
       "                                            Location  Prices  Area_sqrm  \\\n",
       "0              1016 EG Amsterdam GrachtengordelWe...    6000        270   \n",
       "1              1017 LV Amsterdam GrachtengordelZu...    5500        141   \n",
       "2              1091 NG Amsterdam Transvaalbuurt  ...    1950         50   \n",
       "3              1071 BN Amsterdam Museumkwartier  ...    2850        131   \n",
       "4              1082 JE Amsterdam BuitenveldertWes...    1950         40   \n",
       "\n",
       "   Number_of_Rooms  Location_code  \n",
       "0                4              6  \n",
       "1                4             12  \n",
       "2                3             26  \n",
       "3                4             16  \n",
       "4                2             20  "
      ]
     },
     "execution_count": 167,
     "metadata": {},
     "output_type": "execute_result"
    }
   ],
   "source": [
    "housing.head()"
   ]
  },
  {
   "cell_type": "code",
   "execution_count": 168,
   "id": "14dc1d0d",
   "metadata": {},
   "outputs": [
    {
     "data": {
      "text/html": [
       "<div>\n",
       "<style scoped>\n",
       "    .dataframe tbody tr th:only-of-type {\n",
       "        vertical-align: middle;\n",
       "    }\n",
       "\n",
       "    .dataframe tbody tr th {\n",
       "        vertical-align: top;\n",
       "    }\n",
       "\n",
       "    .dataframe thead th {\n",
       "        text-align: right;\n",
       "    }\n",
       "</style>\n",
       "<table border=\"1\" class=\"dataframe\">\n",
       "  <thead>\n",
       "    <tr style=\"text-align: right;\">\n",
       "      <th></th>\n",
       "      <th>Prices</th>\n",
       "      <th>Area_sqrm</th>\n",
       "      <th>Number_of_Rooms</th>\n",
       "      <th>Location_code</th>\n",
       "    </tr>\n",
       "  </thead>\n",
       "  <tbody>\n",
       "    <tr>\n",
       "      <th>Prices</th>\n",
       "      <td>1.000000</td>\n",
       "      <td>0.885582</td>\n",
       "      <td>0.634050</td>\n",
       "      <td>-0.168542</td>\n",
       "    </tr>\n",
       "    <tr>\n",
       "      <th>Area_sqrm</th>\n",
       "      <td>0.885582</td>\n",
       "      <td>1.000000</td>\n",
       "      <td>0.688762</td>\n",
       "      <td>-0.039962</td>\n",
       "    </tr>\n",
       "    <tr>\n",
       "      <th>Number_of_Rooms</th>\n",
       "      <td>0.634050</td>\n",
       "      <td>0.688762</td>\n",
       "      <td>1.000000</td>\n",
       "      <td>0.158400</td>\n",
       "    </tr>\n",
       "    <tr>\n",
       "      <th>Location_code</th>\n",
       "      <td>-0.168542</td>\n",
       "      <td>-0.039962</td>\n",
       "      <td>0.158400</td>\n",
       "      <td>1.000000</td>\n",
       "    </tr>\n",
       "  </tbody>\n",
       "</table>\n",
       "</div>"
      ],
      "text/plain": [
       "                   Prices  Area_sqrm  Number_of_Rooms  Location_code\n",
       "Prices           1.000000   0.885582         0.634050      -0.168542\n",
       "Area_sqrm        0.885582   1.000000         0.688762      -0.039962\n",
       "Number_of_Rooms  0.634050   0.688762         1.000000       0.158400\n",
       "Location_code   -0.168542  -0.039962         0.158400       1.000000"
      ]
     },
     "execution_count": 168,
     "metadata": {},
     "output_type": "execute_result"
    }
   ],
   "source": [
    "#chech relationship between variables\n",
    "corr = housing.corr()\n",
    "corr"
   ]
  },
  {
   "cell_type": "code",
   "execution_count": 169,
   "id": "9bc684b3",
   "metadata": {},
   "outputs": [],
   "source": [
    "#import libraries for machine learning and visualization\n",
    "\n",
    "import seaborn as sns\n",
    "import matplotlib.pyplot as plt\n",
    "%matplotlib inline\n",
    "\n",
    "from sklearn.model_selection import train_test_split\n",
    "from sklearn.linear_model import LinearRegression"
   ]
  },
  {
   "cell_type": "code",
   "execution_count": 170,
   "id": "a357abe8",
   "metadata": {},
   "outputs": [],
   "source": [
    "# set feature and target dataset\n",
    "x = housing[['Area_sqrm','Number_of_Rooms','Location_code']]\n",
    "y= housing[['Prices']]"
   ]
  },
  {
   "cell_type": "code",
   "execution_count": 171,
   "id": "7ca8216f",
   "metadata": {},
   "outputs": [
    {
     "data": {
      "text/plain": [
       "(32, 3)"
      ]
     },
     "execution_count": 171,
     "metadata": {},
     "output_type": "execute_result"
    }
   ],
   "source": [
    "x.shape"
   ]
  },
  {
   "cell_type": "code",
   "execution_count": 172,
   "id": "5f8b1b7f",
   "metadata": {},
   "outputs": [
    {
     "data": {
      "text/plain": [
       "(32, 1)"
      ]
     },
     "execution_count": 172,
     "metadata": {},
     "output_type": "execute_result"
    }
   ],
   "source": [
    "y.shape"
   ]
  },
  {
   "cell_type": "code",
   "execution_count": 173,
   "id": "6b6a3d8b",
   "metadata": {},
   "outputs": [],
   "source": [
    "x_train,x_test,y_train,y_test = train_test_split(x,y, test_size=0.3,random_state=2)"
   ]
  },
  {
   "cell_type": "code",
   "execution_count": 174,
   "id": "1c229853",
   "metadata": {},
   "outputs": [
    {
     "data": {
      "text/plain": [
       "(22, 3)"
      ]
     },
     "execution_count": 174,
     "metadata": {},
     "output_type": "execute_result"
    }
   ],
   "source": [
    "x_train.shape"
   ]
  },
  {
   "cell_type": "code",
   "execution_count": 175,
   "id": "533350c4",
   "metadata": {},
   "outputs": [
    {
     "name": "stdout",
     "output_type": "stream",
     "text": [
      "(10, 3)\n",
      "(22, 1)\n",
      "(10, 1)\n"
     ]
    }
   ],
   "source": [
    "print(x_test.shape)\n",
    "print(y_train.shape)\n",
    "print(y_test.shape)"
   ]
  },
  {
   "cell_type": "code",
   "execution_count": 176,
   "id": "c3a48d32",
   "metadata": {},
   "outputs": [],
   "source": [
    "lr = LinearRegression()"
   ]
  },
  {
   "cell_type": "code",
   "execution_count": 177,
   "id": "f8c33419",
   "metadata": {},
   "outputs": [
    {
     "data": {
      "text/plain": [
       "LinearRegression()"
      ]
     },
     "execution_count": 177,
     "metadata": {},
     "output_type": "execute_result"
    }
   ],
   "source": [
    "lr.fit(x_train,y_train)"
   ]
  },
  {
   "cell_type": "code",
   "execution_count": 178,
   "id": "4aa27ff4",
   "metadata": {},
   "outputs": [],
   "source": [
    "y_pred = lr.predict(x_test)\n"
   ]
  },
  {
   "cell_type": "code",
   "execution_count": 179,
   "id": "216c6f9d",
   "metadata": {},
   "outputs": [
    {
     "data": {
      "text/plain": [
       "array([[1854.90069868],\n",
       "       [5328.45242582],\n",
       "       [2178.00321631],\n",
       "       [1393.65207588],\n",
       "       [2149.06679375],\n",
       "       [2262.91438212],\n",
       "       [3436.93865077],\n",
       "       [2560.96468986],\n",
       "       [3379.15344377],\n",
       "       [1288.23896783]])"
      ]
     },
     "execution_count": 179,
     "metadata": {},
     "output_type": "execute_result"
    }
   ],
   "source": [
    "y_pred"
   ]
  },
  {
   "cell_type": "code",
   "execution_count": 181,
   "id": "7f8e9e83",
   "metadata": {},
   "outputs": [],
   "source": [
    "score = lr.score(x_test,y_test)"
   ]
  },
  {
   "cell_type": "code",
   "execution_count": 183,
   "id": "a312536d",
   "metadata": {},
   "outputs": [
    {
     "data": {
      "text/plain": [
       "76.79255445312072"
      ]
     },
     "execution_count": 183,
     "metadata": {},
     "output_type": "execute_result"
    }
   ],
   "source": [
    "score*100"
   ]
  },
  {
   "cell_type": "code",
   "execution_count": 184,
   "id": "df8497a1",
   "metadata": {},
   "outputs": [
    {
     "data": {
      "text/html": [
       "<div>\n",
       "<style scoped>\n",
       "    .dataframe tbody tr th:only-of-type {\n",
       "        vertical-align: middle;\n",
       "    }\n",
       "\n",
       "    .dataframe tbody tr th {\n",
       "        vertical-align: top;\n",
       "    }\n",
       "\n",
       "    .dataframe thead th {\n",
       "        text-align: right;\n",
       "    }\n",
       "</style>\n",
       "<table border=\"1\" class=\"dataframe\">\n",
       "  <thead>\n",
       "    <tr style=\"text-align: right;\">\n",
       "      <th></th>\n",
       "      <th>Prices</th>\n",
       "    </tr>\n",
       "  </thead>\n",
       "  <tbody>\n",
       "    <tr>\n",
       "      <th>20</th>\n",
       "      <td>1850</td>\n",
       "    </tr>\n",
       "    <tr>\n",
       "      <th>0</th>\n",
       "      <td>6000</td>\n",
       "    </tr>\n",
       "    <tr>\n",
       "      <th>23</th>\n",
       "      <td>2000</td>\n",
       "    </tr>\n",
       "    <tr>\n",
       "      <th>12</th>\n",
       "      <td>1950</td>\n",
       "    </tr>\n",
       "    <tr>\n",
       "      <th>29</th>\n",
       "      <td>1900</td>\n",
       "    </tr>\n",
       "    <tr>\n",
       "      <th>9</th>\n",
       "      <td>2250</td>\n",
       "    </tr>\n",
       "    <tr>\n",
       "      <th>1</th>\n",
       "      <td>5500</td>\n",
       "    </tr>\n",
       "    <tr>\n",
       "      <th>21</th>\n",
       "      <td>2400</td>\n",
       "    </tr>\n",
       "    <tr>\n",
       "      <th>14</th>\n",
       "      <td>2795</td>\n",
       "    </tr>\n",
       "    <tr>\n",
       "      <th>16</th>\n",
       "      <td>1195</td>\n",
       "    </tr>\n",
       "  </tbody>\n",
       "</table>\n",
       "</div>"
      ],
      "text/plain": [
       "    Prices\n",
       "20    1850\n",
       "0     6000\n",
       "23    2000\n",
       "12    1950\n",
       "29    1900\n",
       "9     2250\n",
       "1     5500\n",
       "21    2400\n",
       "14    2795\n",
       "16    1195"
      ]
     },
     "execution_count": 184,
     "metadata": {},
     "output_type": "execute_result"
    }
   ],
   "source": [
    "y_test"
   ]
  },
  {
   "cell_type": "code",
   "execution_count": null,
   "id": "1eeeb33e",
   "metadata": {},
   "outputs": [],
   "source": []
  }
 ],
 "metadata": {
  "kernelspec": {
   "display_name": "Python 3 (ipykernel)",
   "language": "python",
   "name": "python3"
  },
  "language_info": {
   "codemirror_mode": {
    "name": "ipython",
    "version": 3
   },
   "file_extension": ".py",
   "mimetype": "text/x-python",
   "name": "python",
   "nbconvert_exporter": "python",
   "pygments_lexer": "ipython3",
   "version": "3.9.12"
  }
 },
 "nbformat": 4,
 "nbformat_minor": 5
}
