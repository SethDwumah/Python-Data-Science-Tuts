{
 "cells": [
  {
   "cell_type": "markdown",
   "id": "2bc33c01",
   "metadata": {},
   "source": [
    "# Learning Python\n"
   ]
  },
  {
   "cell_type": "markdown",
   "id": "1b2b40c8",
   "metadata": {},
   "source": [
    "## 1. Basics"
   ]
  },
  {
   "cell_type": "code",
   "execution_count": 2,
   "id": "48f993f4",
   "metadata": {},
   "outputs": [
    {
     "name": "stdout",
     "output_type": "stream",
     "text": [
      "What is your first name?Seth\n",
      "Hello Seth\n"
     ]
    }
   ],
   "source": [
    "# Challenge 1 -- Ask for the users first name\n",
    "name=input(\"What is your first name?\")\n",
    "print(\"Hello \" + name)"
   ]
  },
  {
   "cell_type": "code",
   "execution_count": 3,
   "id": "7a3175ae",
   "metadata": {},
   "outputs": [
    {
     "name": "stdout",
     "output_type": "stream",
     "text": [
      "What is your full name?Dwumah Seth\n",
      "Hello Dwumah Seth\n"
     ]
    }
   ],
   "source": [
    "# Challenge 2 ask for users full name\n",
    "full_name= input(\"What is your full name?\")\n",
    "print(\"Hello \"+ full_name)"
   ]
  },
  {
   "cell_type": "code",
   "execution_count": 16,
   "id": "2fba8792",
   "metadata": {},
   "outputs": [
    {
     "name": "stdout",
     "output_type": "stream",
     "text": [
      "What do you call a bear with no teeth?\n",
      " A gummy bear \n"
     ]
    }
   ],
   "source": [
    "# Challenge 3\n",
    "print(\"What do you call a bear with no teeth?\\n A gummy bear \")"
   ]
  },
  {
   "cell_type": "code",
   "execution_count": 20,
   "id": "44e0e50e",
   "metadata": {
    "scrolled": true
   },
   "outputs": [
    {
     "name": "stdout",
     "output_type": "stream",
     "text": [
      "Enter first number: 1\n",
      "Enter second number: 2\n",
      "The total is  3\n"
     ]
    }
   ],
   "source": [
    "# Challenge 4\n",
    "num1= int(input(\"Enter first number: \"))\n",
    "num2= int(input(\"Enter second number: \"))\n",
    "total= num1+ num2\n",
    "print(\"The total is \",  total)"
   ]
  },
  {
   "cell_type": "code",
   "execution_count": 22,
   "id": "9f6150c5",
   "metadata": {},
   "outputs": [
    {
     "name": "stdout",
     "output_type": "stream",
     "text": [
      "Enter first number: 2\n",
      "Enter second number: 43\n",
      "Enter third number: 1\n",
      "The answer is  45\n"
     ]
    }
   ],
   "source": [
    "# Challenge 5\n",
    "n1 = int(input(\"Enter first number: \"))\n",
    "n2= int(input(\"Enter second number: \"))\n",
    "n3= int(input(\"Enter third number: \"))\n",
    "answer = (n1 + n2)*n3\n",
    "print(\"The answer is \", answer)"
   ]
  },
  {
   "cell_type": "code",
   "execution_count": 23,
   "id": "1622650e",
   "metadata": {},
   "outputs": [
    {
     "name": "stdout",
     "output_type": "stream",
     "text": [
      "How many slice of pizza did you started with? 10\n",
      "How many slices are left? 3\n",
      "7 slices of pizza are left\n"
     ]
    }
   ],
   "source": [
    "# Challenge 6\n",
    "slice_no= int(input(\"How many slice of pizza did you started with? \"))\n",
    "remain =int(input(\"How many slices are left? \"))\n",
    "slice_left= slice_no - remain\n",
    "print(slice_left, \"slices of pizza are left\")"
   ]
  },
  {
   "cell_type": "code",
   "execution_count": 25,
   "id": "8f6b480b",
   "metadata": {},
   "outputs": [
    {
     "name": "stdout",
     "output_type": "stream",
     "text": [
      "Please, what's your name? TEsla\n",
      "How old are you? 23\n",
      "TEsla next birthday you will be  24\n"
     ]
    }
   ],
   "source": [
    "# Challenge 7\n",
    "name= input(\"Please, what's your name? \")\n",
    "age= int(input(\"How old are you? \"))\n",
    "new_age =age + 1\n",
    "print(name,\"next birthday you will be \",new_age)\n"
   ]
  },
  {
   "cell_type": "code",
   "execution_count": 27,
   "id": "4ece15b0",
   "metadata": {},
   "outputs": [
    {
     "name": "stdout",
     "output_type": "stream",
     "text": [
      "What is the price of the bill? 323546\n",
      "How many diners were there? 24\n",
      "Each person will pay $ 13481.083333333334\n"
     ]
    }
   ],
   "source": [
    "# Challenge 8\n",
    "bill= int(input(\"What is the price of the bill? \"))\n",
    "diners= int(input(\"How many diners were there? \"))\n",
    "amnt= bill/diners\n",
    "print(\"Each person will pay $\",amnt)"
   ]
  },
  {
   "cell_type": "code",
   "execution_count": 31,
   "id": "a135fabe",
   "metadata": {},
   "outputs": [
    {
     "name": "stdout",
     "output_type": "stream",
     "text": [
      "How many days are you spending on campus? 16\n",
      "You will spend  2.2857142857142856  weeks, 16  days, 384  hours, 23040 minutes and 1382400 seconds\n"
     ]
    }
   ],
   "source": [
    "days= int(input(\"How many days are you spending on campus? \"))\n",
    "weeks = days/7\n",
    "hours= days*24\n",
    "minutes= hours*60\n",
    "seconds= minutes*60\n",
    "print(\"You will spend \",weeks,\" weeks,\",days,\" days,\",hours,\" hours,\",minutes,\"minutes and\",seconds, \"seconds\")"
   ]
  },
  {
   "cell_type": "code",
   "execution_count": 32,
   "id": "c3b3c54e",
   "metadata": {},
   "outputs": [
    {
     "name": "stdout",
     "output_type": "stream",
     "text": [
      "Enter weight in kilograms: 1234\n",
      "1234 kg is equal to 2719.7360000000003 pounds\n"
     ]
    }
   ],
   "source": [
    "# Challenge 10\n",
    "kg= int(input(\"Enter weight in kilograms: \"))\n",
    "pounds = 2.204*kg\n",
    "print(kg,\"kg is equal to\",pounds,\"pounds\")"
   ]
  },
  {
   "cell_type": "code",
   "execution_count": null,
   "id": "a80796f4",
   "metadata": {},
   "outputs": [],
   "source": []
  },
  {
   "cell_type": "code",
   "execution_count": null,
   "id": "9668cf74",
   "metadata": {},
   "outputs": [],
   "source": []
  },
  {
   "cell_type": "code",
   "execution_count": null,
   "id": "12cc7cef",
   "metadata": {},
   "outputs": [],
   "source": []
  },
  {
   "cell_type": "code",
   "execution_count": null,
   "id": "48274823",
   "metadata": {},
   "outputs": [],
   "source": []
  },
  {
   "cell_type": "code",
   "execution_count": null,
   "id": "0a98d004",
   "metadata": {},
   "outputs": [],
   "source": []
  },
  {
   "cell_type": "code",
   "execution_count": null,
   "id": "7a388681",
   "metadata": {},
   "outputs": [],
   "source": []
  },
  {
   "cell_type": "code",
   "execution_count": null,
   "id": "ee448a29",
   "metadata": {},
   "outputs": [],
   "source": []
  },
  {
   "cell_type": "code",
   "execution_count": null,
   "id": "f3d7c0d2",
   "metadata": {},
   "outputs": [],
   "source": []
  },
  {
   "cell_type": "code",
   "execution_count": null,
   "id": "d417ce3f",
   "metadata": {},
   "outputs": [],
   "source": []
  },
  {
   "cell_type": "code",
   "execution_count": null,
   "id": "a1d984f5",
   "metadata": {},
   "outputs": [],
   "source": []
  },
  {
   "cell_type": "code",
   "execution_count": null,
   "id": "03dcd941",
   "metadata": {},
   "outputs": [],
   "source": []
  },
  {
   "cell_type": "code",
   "execution_count": 2,
   "id": "583f8b54",
   "metadata": {},
   "outputs": [
    {
     "name": "stdout",
     "output_type": "stream",
     "text": [
      "a=1, b=2, c=3\n",
      "a=4, b=5, c=6\n",
      "a=7, b=8, c=9\n"
     ]
    }
   ],
   "source": [
    "# Tuples\n",
    "seq= [(1,2,3),(4,5,6),(7,8,9)]\n",
    "for a,b,c in seq:\n",
    "    print('a={0}, b={1}, c={2}'.format(a,b,c))"
   ]
  },
  {
   "cell_type": "code",
   "execution_count": 4,
   "id": "c81a2a00",
   "metadata": {},
   "outputs": [
    {
     "data": {
      "text/plain": [
       "(1, 2)"
      ]
     },
     "execution_count": 4,
     "metadata": {},
     "output_type": "execute_result"
    }
   ],
   "source": [
    "## using *rest\n",
    "values = 1,2,3,4,5,6\n",
    "a,b, *rest = values\n",
    "a,b"
   ]
  },
  {
   "cell_type": "code",
   "execution_count": 5,
   "id": "ffc282bf",
   "metadata": {},
   "outputs": [
    {
     "data": {
      "text/plain": [
       "[3, 4, 5, 6]"
      ]
     },
     "execution_count": 5,
     "metadata": {},
     "output_type": "execute_result"
    }
   ],
   "source": [
    "rest"
   ]
  },
  {
   "cell_type": "code",
   "execution_count": 8,
   "id": "748aeaee",
   "metadata": {},
   "outputs": [
    {
     "data": {
      "text/plain": [
       "[1, 3, 4, 5]"
      ]
     },
     "execution_count": 8,
     "metadata": {},
     "output_type": "execute_result"
    }
   ],
   "source": [
    "# List\n",
    "a_list = [1,3,4,5]\n",
    "a_list"
   ]
  },
  {
   "cell_type": "code",
   "execution_count": 9,
   "id": "d949ba3e",
   "metadata": {},
   "outputs": [],
   "source": [
    "b_list = list(seq)"
   ]
  },
  {
   "cell_type": "code",
   "execution_count": 10,
   "id": "71b3645a",
   "metadata": {},
   "outputs": [
    {
     "data": {
      "text/plain": [
       "[(1, 2, 3), (4, 5, 6), (7, 8, 9)]"
      ]
     },
     "execution_count": 10,
     "metadata": {},
     "output_type": "execute_result"
    }
   ],
   "source": [
    "b_list"
   ]
  },
  {
   "cell_type": "code",
   "execution_count": 11,
   "id": "b19ea5f5",
   "metadata": {},
   "outputs": [],
   "source": [
    "a_list.append('you')"
   ]
  },
  {
   "cell_type": "code",
   "execution_count": 12,
   "id": "220b1a4e",
   "metadata": {},
   "outputs": [
    {
     "data": {
      "text/plain": [
       "[1, 3, 4, 5, 'you']"
      ]
     },
     "execution_count": 12,
     "metadata": {},
     "output_type": "execute_result"
    }
   ],
   "source": [
    "a_list"
   ]
  },
  {
   "cell_type": "code",
   "execution_count": 15,
   "id": "2161c4c0",
   "metadata": {},
   "outputs": [
    {
     "data": {
      "text/plain": [
       "[1, 3, 'good', 4, 5, 'you']"
      ]
     },
     "execution_count": 15,
     "metadata": {},
     "output_type": "execute_result"
    }
   ],
   "source": [
    "a_list.insert(2,'good')\n",
    "a_list"
   ]
  },
  {
   "cell_type": "code",
   "execution_count": 16,
   "id": "6e2349ea",
   "metadata": {},
   "outputs": [
    {
     "data": {
      "text/plain": [
       "True"
      ]
     },
     "execution_count": 16,
     "metadata": {},
     "output_type": "execute_result"
    }
   ],
   "source": [
    "'good' in a_list"
   ]
  },
  {
   "cell_type": "code",
   "execution_count": 19,
   "id": "568deb73",
   "metadata": {},
   "outputs": [],
   "source": [
    "lis= [3,5,75,4,7,9,0]\n",
    "lis.sort()"
   ]
  },
  {
   "cell_type": "code",
   "execution_count": 20,
   "id": "b75e7d27",
   "metadata": {},
   "outputs": [
    {
     "data": {
      "text/plain": [
       "[0, 3, 4, 5, 7, 9, 75]"
      ]
     },
     "execution_count": 20,
     "metadata": {},
     "output_type": "execute_result"
    }
   ],
   "source": [
    "lis"
   ]
  },
  {
   "cell_type": "code",
   "execution_count": 22,
   "id": "a59e393e",
   "metadata": {},
   "outputs": [],
   "source": [
    "# Binary search and mainting a sorted list\n",
    "import bisect"
   ]
  },
  {
   "cell_type": "code",
   "execution_count": 25,
   "id": "dd948619",
   "metadata": {},
   "outputs": [
    {
     "data": {
      "text/plain": [
       "4"
      ]
     },
     "execution_count": 25,
     "metadata": {},
     "output_type": "execute_result"
    }
   ],
   "source": [
    "c= [1,2,3,3,4,5,6,7,8,9]\n",
    "bisect.bisect(c, 3)"
   ]
  },
  {
   "cell_type": "code",
   "execution_count": 26,
   "id": "04c32b21",
   "metadata": {},
   "outputs": [],
   "source": [
    "bisect.insort(c, 6)"
   ]
  },
  {
   "cell_type": "code",
   "execution_count": null,
   "id": "d7b4d6d0",
   "metadata": {},
   "outputs": [],
   "source": [
    "plt.bar"
   ]
  },
  {
   "cell_type": "code",
   "execution_count": 27,
   "id": "9b362d7f",
   "metadata": {},
   "outputs": [
    {
     "data": {
      "text/plain": [
       "[1, 2, 3, 3, 4, 5, 6, 6, 7, 8, 9]"
      ]
     },
     "execution_count": 27,
     "metadata": {},
     "output_type": "execute_result"
    }
   ],
   "source": [
    "c"
   ]
  },
  {
   "cell_type": "code",
   "execution_count": 32,
   "id": "b58cbd49",
   "metadata": {},
   "outputs": [
    {
     "data": {
      "text/plain": [
       "[2, 3, 3, 5, 5, 7, 9]"
      ]
     },
     "execution_count": 32,
     "metadata": {},
     "output_type": "execute_result"
    }
   ],
   "source": [
    "# Slicing\n",
    "sef=[3,5,7,2,9,3,5]\n",
    "sef.sort()\n",
    "sef"
   ]
  },
  {
   "cell_type": "code",
   "execution_count": 33,
   "id": "cea8ccf5",
   "metadata": {},
   "outputs": [],
   "source": [
    "sef[3:5]=[2,90]"
   ]
  },
  {
   "cell_type": "code",
   "execution_count": 34,
   "id": "e848ef8a",
   "metadata": {},
   "outputs": [
    {
     "data": {
      "text/plain": [
       "[2, 3, 3, 2, 90, 7, 9]"
      ]
     },
     "execution_count": 34,
     "metadata": {},
     "output_type": "execute_result"
    }
   ],
   "source": [
    "sef"
   ]
  },
  {
   "cell_type": "code",
   "execution_count": 37,
   "id": "d6c09a72",
   "metadata": {},
   "outputs": [
    {
     "data": {
      "text/plain": [
       "[2, 2, 9]"
      ]
     },
     "execution_count": 37,
     "metadata": {},
     "output_type": "execute_result"
    }
   ],
   "source": [
    "sef[::3]"
   ]
  },
  {
   "cell_type": "code",
   "execution_count": 38,
   "id": "0403818c",
   "metadata": {},
   "outputs": [],
   "source": [
    "# enumerate\n",
    "some_list= ['good','bar','bape','pool']"
   ]
  },
  {
   "cell_type": "code",
   "execution_count": 39,
   "id": "408e897d",
   "metadata": {},
   "outputs": [],
   "source": [
    "mapping={}"
   ]
  },
  {
   "cell_type": "code",
   "execution_count": 41,
   "id": "60defa95",
   "metadata": {},
   "outputs": [
    {
     "data": {
      "text/plain": [
       "{'good': 0, 'bar': 1, 'bape': 2, 'pool': 3}"
      ]
     },
     "execution_count": 41,
     "metadata": {},
     "output_type": "execute_result"
    }
   ],
   "source": [
    "for i, v in enumerate(some_list):\n",
    "    mapping[v] = i\n",
    "mapping"
   ]
  },
  {
   "cell_type": "code",
   "execution_count": 42,
   "id": "3237355a",
   "metadata": {},
   "outputs": [],
   "source": [
    "## Zip\n",
    "pitcher= [('Norlan','Ryan'),('Roger','Clement'),('Salie','Curt')]"
   ]
  },
  {
   "cell_type": "code",
   "execution_count": 43,
   "id": "e3e91cbc",
   "metadata": {},
   "outputs": [],
   "source": [
    "first_names, last_names = zip(*pitcher)"
   ]
  },
  {
   "cell_type": "code",
   "execution_count": 44,
   "id": "e9f23b53",
   "metadata": {},
   "outputs": [
    {
     "data": {
      "text/plain": [
       "('Norlan', 'Roger', 'Salie')"
      ]
     },
     "execution_count": 44,
     "metadata": {},
     "output_type": "execute_result"
    }
   ],
   "source": [
    "first_names"
   ]
  },
  {
   "cell_type": "code",
   "execution_count": 45,
   "id": "b6d786a8",
   "metadata": {},
   "outputs": [
    {
     "data": {
      "text/plain": [
       "('Ryan', 'Clement', 'Curt')"
      ]
     },
     "execution_count": 45,
     "metadata": {},
     "output_type": "execute_result"
    }
   ],
   "source": [
    "last_names"
   ]
  },
  {
   "cell_type": "code",
   "execution_count": 46,
   "id": "64804a6b",
   "metadata": {},
   "outputs": [],
   "source": [
    "zipped = zip(first_names, last_names)"
   ]
  },
  {
   "cell_type": "code",
   "execution_count": 47,
   "id": "dfa1d288",
   "metadata": {},
   "outputs": [
    {
     "data": {
      "text/plain": [
       "[('Norlan', 'Ryan'), ('Roger', 'Clement'), ('Salie', 'Curt')]"
      ]
     },
     "execution_count": 47,
     "metadata": {},
     "output_type": "execute_result"
    }
   ],
   "source": [
    "list(zipped)"
   ]
  },
  {
   "cell_type": "code",
   "execution_count": 48,
   "id": "b88e48fb",
   "metadata": {},
   "outputs": [
    {
     "name": "stdout",
     "output_type": "stream",
     "text": [
      "0: Norlan, Ryan\n",
      "1: Roger, Clement\n",
      "2: Salie, Curt\n"
     ]
    }
   ],
   "source": [
    "for i, (a, b) in enumerate(zip(first_names, last_names)):\n",
    "    print('{0}: {1}, {2}'.format(i,a,b))"
   ]
  },
  {
   "cell_type": "code",
   "execution_count": 49,
   "id": "c3dd6ce1",
   "metadata": {},
   "outputs": [
    {
     "data": {
      "text/plain": [
       "{'a': 'sam', 'b': [2, 3, 4], 4: 'sour oil'}"
      ]
     },
     "execution_count": 49,
     "metadata": {},
     "output_type": "execute_result"
    }
   ],
   "source": [
    "## dict\n",
    "d1= {'a':'sam','b':[2,3,4],4:'sour oil'}\n",
    "d1"
   ]
  },
  {
   "cell_type": "code",
   "execution_count": 56,
   "id": "e9f03c86",
   "metadata": {},
   "outputs": [
    {
     "name": "stdout",
     "output_type": "stream",
     "text": [
      "dict keys: ['a', 'b', 4, 'c']\n",
      "dict values: dict_values(['sam', [2, 3, 4], 'sour oil', 'sweet gas'])\n"
     ]
    }
   ],
   "source": [
    "print(\"dict keys:\",list(d1.keys()))\n",
    "print(\"dict values:\",d1.values())"
   ]
  },
  {
   "cell_type": "code",
   "execution_count": 55,
   "id": "7f73f3d7",
   "metadata": {},
   "outputs": [
    {
     "data": {
      "text/plain": [
       "{'a': 'sam', 'b': [2, 3, 4], 4: 'sour oil', 'c': 'sweet gas'}"
      ]
     },
     "execution_count": 55,
     "metadata": {},
     "output_type": "execute_result"
    }
   ],
   "source": [
    "d1['c']='sweet gas'\n",
    "d1"
   ]
  },
  {
   "cell_type": "code",
   "execution_count": 57,
   "id": "9b7cedd5",
   "metadata": {},
   "outputs": [
    {
     "data": {
      "text/plain": [
       "{'a': 'sam', 'b': 'LNG', 4: 'sour gas', 'c': 'sweet gas'}"
      ]
     },
     "execution_count": 57,
     "metadata": {},
     "output_type": "execute_result"
    }
   ],
   "source": [
    "d1.update({'b':'LNG',4:'sour gas'})\n",
    "d1"
   ]
  },
  {
   "cell_type": "code",
   "execution_count": 62,
   "id": "6951fa7c",
   "metadata": {},
   "outputs": [],
   "source": [
    "words = ['apple','bat','cat','dog','book','xylophone']"
   ]
  },
  {
   "cell_type": "code",
   "execution_count": 63,
   "id": "adbcff18",
   "metadata": {},
   "outputs": [],
   "source": [
    "by_letter={}"
   ]
  },
  {
   "cell_type": "code",
   "execution_count": 64,
   "id": "85e8df04",
   "metadata": {},
   "outputs": [],
   "source": [
    "for word in words:\n",
    "    letter =word[0]\n",
    "    if letter not in by_letter:\n",
    "        by_letter[letter]=[word]\n",
    "    else:\n",
    "        by_letter[letter].append(word)"
   ]
  },
  {
   "cell_type": "code",
   "execution_count": 65,
   "id": "eba202d8",
   "metadata": {},
   "outputs": [
    {
     "data": {
      "text/plain": [
       "{'a': ['apple'],\n",
       " 'b': ['bat', 'book'],\n",
       " 'c': ['cat'],\n",
       " 'd': ['dog'],\n",
       " 'x': ['xylophone']}"
      ]
     },
     "execution_count": 65,
     "metadata": {},
     "output_type": "execute_result"
    }
   ],
   "source": [
    "by_letter"
   ]
  },
  {
   "cell_type": "code",
   "execution_count": 67,
   "id": "6169acf8",
   "metadata": {},
   "outputs": [
    {
     "data": {
      "text/plain": [
       "{'a': ['apple', 'apple', 'apple'],\n",
       " 'b': ['bat', 'book', 'bat', 'book', 'bat', 'book'],\n",
       " 'c': ['cat', 'cat', 'cat'],\n",
       " 'd': ['dog', 'dog', 'dog'],\n",
       " 'x': ['xylophone', 'xylophone', 'xylophone']}"
      ]
     },
     "execution_count": 67,
     "metadata": {},
     "output_type": "execute_result"
    }
   ],
   "source": [
    "for word in words:\n",
    "    letter = word[0]\n",
    "    by_letter.setdefault(letter, []).append(word)\n",
    "by_letter "
   ]
  },
  {
   "cell_type": "code",
   "execution_count": 68,
   "id": "f73e3eb1",
   "metadata": {},
   "outputs": [
    {
     "data": {
      "text/plain": [
       "{2, 3, 6, 7}"
      ]
     },
     "execution_count": 68,
     "metadata": {},
     "output_type": "execute_result"
    }
   ],
   "source": [
    "## Set\n",
    "set([2,3,2,2,3,6,7,3])"
   ]
  },
  {
   "cell_type": "code",
   "execution_count": null,
   "id": "0bcc1e1a",
   "metadata": {},
   "outputs": [],
   "source": []
  },
  {
   "cell_type": "code",
   "execution_count": 69,
   "id": "e6f1bffa",
   "metadata": {},
   "outputs": [],
   "source": [
    "strings= ['a','as','bat','car','dove','python']"
   ]
  },
  {
   "cell_type": "code",
   "execution_count": 70,
   "id": "9366b094",
   "metadata": {},
   "outputs": [
    {
     "data": {
      "text/plain": [
       "['BAT', 'CAR', 'DOVE', 'PYTHON']"
      ]
     },
     "execution_count": 70,
     "metadata": {},
     "output_type": "execute_result"
    }
   ],
   "source": [
    "[x.upper() for x in strings if len(x)>2]"
   ]
  },
  {
   "cell_type": "code",
   "execution_count": 71,
   "id": "17826d6a",
   "metadata": {},
   "outputs": [],
   "source": [
    "b_letts={}"
   ]
  },
  {
   "cell_type": "code",
   "execution_count": 74,
   "id": "fea65217",
   "metadata": {},
   "outputs": [],
   "source": [
    "for string in strings:\n",
    "    letts = string[0]\n",
    "    if letts not in b_letts:\n",
    "        b_letts[letts]= [string]\n",
    "    else:\n",
    "        b_letts[letts].append(string)\n",
    "    "
   ]
  },
  {
   "cell_type": "code",
   "execution_count": 75,
   "id": "d90ca769",
   "metadata": {},
   "outputs": [
    {
     "data": {
      "text/plain": [
       "{'a': ['a', 'as'], 'b': ['bat'], 'c': ['car'], 'd': ['dove'], 'p': ['python']}"
      ]
     },
     "execution_count": 75,
     "metadata": {},
     "output_type": "execute_result"
    }
   ],
   "source": [
    "b_letts"
   ]
  },
  {
   "cell_type": "code",
   "execution_count": null,
   "id": "4c2df31c",
   "metadata": {},
   "outputs": [],
   "source": []
  },
  {
   "cell_type": "code",
   "execution_count": 76,
   "id": "f6eaaab1",
   "metadata": {},
   "outputs": [],
   "source": [
    "def f():\n",
    "    a=3\n",
    "    b=4\n",
    "    c=5\n",
    "    return a,b,c"
   ]
  },
  {
   "cell_type": "code",
   "execution_count": 77,
   "id": "127e9de0",
   "metadata": {},
   "outputs": [],
   "source": [
    "a,b,c = f()"
   ]
  },
  {
   "cell_type": "code",
   "execution_count": 78,
   "id": "c39b240d",
   "metadata": {},
   "outputs": [
    {
     "data": {
      "text/plain": [
       "(3, 4, 5)"
      ]
     },
     "execution_count": 78,
     "metadata": {},
     "output_type": "execute_result"
    }
   ],
   "source": [
    "f()"
   ]
  },
  {
   "cell_type": "code",
   "execution_count": 82,
   "id": "a7381e90",
   "metadata": {},
   "outputs": [],
   "source": [
    "## Functions \n",
    "states= ['  Alabama ','Georgia!','georgia','Georgia','FlOrIda','south  carolina##','west virginia?']"
   ]
  },
  {
   "cell_type": "code",
   "execution_count": 83,
   "id": "ce093237",
   "metadata": {},
   "outputs": [],
   "source": [
    "import re\n",
    "\n",
    "\n",
    "def clean_strings(strings):\n",
    "    result = []\n",
    "    for value in strings:\n",
    "        value = value.strip()\n",
    "        value=re.sub('[!#?]','',value)\n",
    "        value = value.title()\n",
    "        result.append(value)\n",
    "    return result"
   ]
  },
  {
   "cell_type": "code",
   "execution_count": 84,
   "id": "074d517b",
   "metadata": {},
   "outputs": [
    {
     "data": {
      "text/plain": [
       "['Alabama',\n",
       " 'Georgia',\n",
       " 'Georgia',\n",
       " 'Georgia',\n",
       " 'Florida',\n",
       " 'South  Carolina',\n",
       " 'West Virginia']"
      ]
     },
     "execution_count": 84,
     "metadata": {},
     "output_type": "execute_result"
    }
   ],
   "source": [
    "clean_strings(states)"
   ]
  },
  {
   "cell_type": "code",
   "execution_count": 85,
   "id": "9c6fae0c",
   "metadata": {},
   "outputs": [],
   "source": [
    "# lambda function\n",
    "def short_function(x):\n",
    "    return x*2\n",
    "equiv_anon = lambda x: x * 2"
   ]
  },
  {
   "cell_type": "code",
   "execution_count": 86,
   "id": "99607aca",
   "metadata": {},
   "outputs": [
    {
     "data": {
      "text/plain": [
       "6"
      ]
     },
     "execution_count": 86,
     "metadata": {},
     "output_type": "execute_result"
    }
   ],
   "source": [
    "short_function(3)"
   ]
  },
  {
   "cell_type": "code",
   "execution_count": 87,
   "id": "4cbddd78",
   "metadata": {},
   "outputs": [
    {
     "data": {
      "text/plain": [
       "<function __main__.<lambda>(x)>"
      ]
     },
     "execution_count": 87,
     "metadata": {},
     "output_type": "execute_result"
    }
   ],
   "source": [
    "equiv_anon"
   ]
  },
  {
   "cell_type": "code",
   "execution_count": 88,
   "id": "9d6e9f78",
   "metadata": {},
   "outputs": [
    {
     "data": {
      "text/plain": [
       "1.234"
      ]
     },
     "execution_count": 88,
     "metadata": {},
     "output_type": "execute_result"
    }
   ],
   "source": [
    "## Errors and Exception Handling\n",
    "float('1.234')"
   ]
  },
  {
   "cell_type": "code",
   "execution_count": 90,
   "id": "4b54337c",
   "metadata": {},
   "outputs": [],
   "source": [
    "def attempt_float(x):\n",
    "    try:\n",
    "        return float(x)\n",
    "    except:\n",
    "        return x"
   ]
  },
  {
   "cell_type": "code",
   "execution_count": 91,
   "id": "68199500",
   "metadata": {},
   "outputs": [
    {
     "data": {
      "text/plain": [
       "'road'"
      ]
     },
     "execution_count": 91,
     "metadata": {},
     "output_type": "execute_result"
    }
   ],
   "source": [
    "attempt_float('road')"
   ]
  },
  {
   "cell_type": "code",
   "execution_count": 92,
   "id": "6f5ecc3b",
   "metadata": {},
   "outputs": [
    {
     "data": {
      "text/plain": [
       "34.3"
      ]
     },
     "execution_count": 92,
     "metadata": {},
     "output_type": "execute_result"
    }
   ],
   "source": [
    "attempt_float(34.3)"
   ]
  },
  {
   "cell_type": "code",
   "execution_count": null,
   "id": "ab987c7e",
   "metadata": {},
   "outputs": [],
   "source": []
  },
  {
   "cell_type": "code",
   "execution_count": null,
   "id": "61faf51f",
   "metadata": {},
   "outputs": [],
   "source": []
  },
  {
   "cell_type": "code",
   "execution_count": null,
   "id": "f0fa2fdd",
   "metadata": {},
   "outputs": [],
   "source": []
  },
  {
   "cell_type": "code",
   "execution_count": null,
   "id": "60d96616",
   "metadata": {},
   "outputs": [],
   "source": []
  },
  {
   "cell_type": "code",
   "execution_count": null,
   "id": "92348aa8",
   "metadata": {},
   "outputs": [],
   "source": []
  },
  {
   "cell_type": "code",
   "execution_count": null,
   "id": "e5aee299",
   "metadata": {},
   "outputs": [],
   "source": []
  },
  {
   "cell_type": "code",
   "execution_count": 4,
   "id": "e5c1d6ba",
   "metadata": {},
   "outputs": [
    {
     "name": "stdout",
     "output_type": "stream",
     "text": [
      "CPU times: total: 0 ns\n",
      "Wall time: 0 ns\n",
      "10 squared is 100\n",
      "11 squared is 121\n",
      "12 squared is 144\n",
      "13 squared is 169\n",
      "14 squared is 196\n",
      "15 squared is 225\n",
      "16 squared is 256\n",
      "17 squared is 289\n",
      "18 squared is 324\n",
      "19 squared is 361\n"
     ]
    }
   ],
   "source": [
    "%time\n",
    "def square(x):\n",
    "    \"\"\"square a number\"\"\"\n",
    "    \n",
    "    return x **2\n",
    "for N in range(10,20):\n",
    "    print(N, \"squared is\", square(N))"
   ]
  },
  {
   "cell_type": "code",
   "execution_count": 59,
   "id": "b8f02b39",
   "metadata": {},
   "outputs": [],
   "source": [
    "import numpy as np\n",
    "import pandas as pd"
   ]
  },
  {
   "cell_type": "markdown",
   "id": "892206d3",
   "metadata": {},
   "source": [
    "### Series"
   ]
  },
  {
   "cell_type": "code",
   "execution_count": 23,
   "id": "2290a5d2",
   "metadata": {},
   "outputs": [],
   "source": [
    "first_vector_series = pd.Series([1,2,3,4], index=['a','b','c','d'])\n",
    "second_vector_series =pd.Series([10,20,30,40],index=['a','b','c','d'])"
   ]
  },
  {
   "cell_type": "code",
   "execution_count": 24,
   "id": "94b66fad",
   "metadata": {},
   "outputs": [
    {
     "data": {
      "text/plain": [
       "a    1\n",
       "b    2\n",
       "c    3\n",
       "d    4\n",
       "dtype: int64"
      ]
     },
     "execution_count": 24,
     "metadata": {},
     "output_type": "execute_result"
    }
   ],
   "source": [
    "first_vector_series"
   ]
  },
  {
   "cell_type": "code",
   "execution_count": 25,
   "id": "68673ff4",
   "metadata": {},
   "outputs": [
    {
     "data": {
      "text/plain": [
       "a    10\n",
       "b    20\n",
       "c    30\n",
       "d    40\n",
       "dtype: int64"
      ]
     },
     "execution_count": 25,
     "metadata": {},
     "output_type": "execute_result"
    }
   ],
   "source": [
    "second_vector_series"
   ]
  },
  {
   "cell_type": "code",
   "execution_count": 26,
   "id": "3e5c0768",
   "metadata": {},
   "outputs": [
    {
     "data": {
      "text/plain": [
       "a    11\n",
       "b    22\n",
       "c    33\n",
       "d    44\n",
       "dtype: int64"
      ]
     },
     "execution_count": 26,
     "metadata": {},
     "output_type": "execute_result"
    }
   ],
   "source": [
    "first_vector_series + second_vector_series"
   ]
  },
  {
   "cell_type": "code",
   "execution_count": 27,
   "id": "56bf274a",
   "metadata": {},
   "outputs": [],
   "source": [
    "# now replace few indexes with new onews in second vector series\n",
    "second_vector_series = pd.Series([10,20,30,40],index=['a','b','e','f'])"
   ]
  },
  {
   "cell_type": "code",
   "execution_count": 28,
   "id": "fabaeafc",
   "metadata": {},
   "outputs": [
    {
     "data": {
      "text/plain": [
       "a    11.0\n",
       "b    22.0\n",
       "c     NaN\n",
       "d     NaN\n",
       "e     NaN\n",
       "f     NaN\n",
       "dtype: float64"
      ]
     },
     "execution_count": 28,
     "metadata": {},
     "output_type": "execute_result"
    }
   ],
   "source": [
    "first_vector_series + second_vector_series"
   ]
  },
  {
   "cell_type": "markdown",
   "id": "76c0c033",
   "metadata": {},
   "source": [
    "### DataFrame"
   ]
  },
  {
   "cell_type": "markdown",
   "id": "302c1ca4",
   "metadata": {},
   "source": [
    "#### Create DataFrame from dict of equal length lists"
   ]
  },
  {
   "cell_type": "code",
   "execution_count": 29,
   "id": "50cac973",
   "metadata": {},
   "outputs": [],
   "source": [
    "#Last five olympics data: place, year and number of countries participated\n",
    "olympic_data_list = {'HostCity':['London','Beijing','Athens','Sydney','Atlanta'],\n",
    "                    'Year':[2012,2000,2004,2000,1996],\n",
    "                    'No. of Participating Countries':[205,204,201,200,197]\n",
    "                    }"
   ]
  },
  {
   "cell_type": "code",
   "execution_count": 30,
   "id": "8569d687",
   "metadata": {},
   "outputs": [],
   "source": [
    "df_olympic_data = pd.DataFrame(olympic_data_list)"
   ]
  },
  {
   "cell_type": "code",
   "execution_count": 31,
   "id": "77e66314",
   "metadata": {},
   "outputs": [
    {
     "data": {
      "text/html": [
       "<div>\n",
       "<style scoped>\n",
       "    .dataframe tbody tr th:only-of-type {\n",
       "        vertical-align: middle;\n",
       "    }\n",
       "\n",
       "    .dataframe tbody tr th {\n",
       "        vertical-align: top;\n",
       "    }\n",
       "\n",
       "    .dataframe thead th {\n",
       "        text-align: right;\n",
       "    }\n",
       "</style>\n",
       "<table border=\"1\" class=\"dataframe\">\n",
       "  <thead>\n",
       "    <tr style=\"text-align: right;\">\n",
       "      <th></th>\n",
       "      <th>HostCity</th>\n",
       "      <th>Year</th>\n",
       "      <th>No. of Participating Countries</th>\n",
       "    </tr>\n",
       "  </thead>\n",
       "  <tbody>\n",
       "    <tr>\n",
       "      <th>0</th>\n",
       "      <td>London</td>\n",
       "      <td>2012</td>\n",
       "      <td>205</td>\n",
       "    </tr>\n",
       "    <tr>\n",
       "      <th>1</th>\n",
       "      <td>Beijing</td>\n",
       "      <td>2000</td>\n",
       "      <td>204</td>\n",
       "    </tr>\n",
       "    <tr>\n",
       "      <th>2</th>\n",
       "      <td>Athens</td>\n",
       "      <td>2004</td>\n",
       "      <td>201</td>\n",
       "    </tr>\n",
       "    <tr>\n",
       "      <th>3</th>\n",
       "      <td>Sydney</td>\n",
       "      <td>2000</td>\n",
       "      <td>200</td>\n",
       "    </tr>\n",
       "    <tr>\n",
       "      <th>4</th>\n",
       "      <td>Atlanta</td>\n",
       "      <td>1996</td>\n",
       "      <td>197</td>\n",
       "    </tr>\n",
       "  </tbody>\n",
       "</table>\n",
       "</div>"
      ],
      "text/plain": [
       "  HostCity  Year  No. of Participating Countries\n",
       "0   London  2012                             205\n",
       "1  Beijing  2000                             204\n",
       "2   Athens  2004                             201\n",
       "3   Sydney  2000                             200\n",
       "4  Atlanta  1996                             197"
      ]
     },
     "execution_count": 31,
     "metadata": {},
     "output_type": "execute_result"
    }
   ],
   "source": [
    "df_olympic_data"
   ]
  },
  {
   "cell_type": "markdown",
   "id": "c73bc98c",
   "metadata": {},
   "source": [
    "\n",
    "#### Create DataFrame from dict of dicts"
   ]
  },
  {
   "cell_type": "code",
   "execution_count": 32,
   "id": "92e7efde",
   "metadata": {},
   "outputs": [],
   "source": [
    "olympic_data_dict = {'London':{2012:205}, 'Beijing':{2008:204}}"
   ]
  },
  {
   "cell_type": "code",
   "execution_count": 33,
   "id": "0aef7480",
   "metadata": {},
   "outputs": [],
   "source": [
    "df_olympic_data_dict = pd.DataFrame(olympic_data_dict)"
   ]
  },
  {
   "cell_type": "code",
   "execution_count": 34,
   "id": "329e0368",
   "metadata": {},
   "outputs": [
    {
     "data": {
      "text/html": [
       "<div>\n",
       "<style scoped>\n",
       "    .dataframe tbody tr th:only-of-type {\n",
       "        vertical-align: middle;\n",
       "    }\n",
       "\n",
       "    .dataframe tbody tr th {\n",
       "        vertical-align: top;\n",
       "    }\n",
       "\n",
       "    .dataframe thead th {\n",
       "        text-align: right;\n",
       "    }\n",
       "</style>\n",
       "<table border=\"1\" class=\"dataframe\">\n",
       "  <thead>\n",
       "    <tr style=\"text-align: right;\">\n",
       "      <th></th>\n",
       "      <th>London</th>\n",
       "      <th>Beijing</th>\n",
       "    </tr>\n",
       "  </thead>\n",
       "  <tbody>\n",
       "    <tr>\n",
       "      <th>2012</th>\n",
       "      <td>205.0</td>\n",
       "      <td>NaN</td>\n",
       "    </tr>\n",
       "    <tr>\n",
       "      <th>2008</th>\n",
       "      <td>NaN</td>\n",
       "      <td>204.0</td>\n",
       "    </tr>\n",
       "  </tbody>\n",
       "</table>\n",
       "</div>"
      ],
      "text/plain": [
       "      London  Beijing\n",
       "2012   205.0      NaN\n",
       "2008     NaN    204.0"
      ]
     },
     "execution_count": 34,
     "metadata": {},
     "output_type": "execute_result"
    }
   ],
   "source": [
    "df_olympic_data_dict"
   ]
  },
  {
   "cell_type": "code",
   "execution_count": 35,
   "id": "f8e152d1",
   "metadata": {},
   "outputs": [
    {
     "data": {
      "text/plain": [
       "0     London\n",
       "1    Beijing\n",
       "2     Athens\n",
       "3     Sydney\n",
       "4    Atlanta\n",
       "Name: HostCity, dtype: object"
      ]
     },
     "execution_count": 35,
     "metadata": {},
     "output_type": "execute_result"
    }
   ],
   "source": [
    "# Select by City name\n",
    "df_olympic_data.HostCity"
   ]
  },
  {
   "cell_type": "code",
   "execution_count": 39,
   "id": "54cde0a7",
   "metadata": {},
   "outputs": [
    {
     "data": {
      "text/html": [
       "<div>\n",
       "<style scoped>\n",
       "    .dataframe tbody tr th:only-of-type {\n",
       "        vertical-align: middle;\n",
       "    }\n",
       "\n",
       "    .dataframe tbody tr th {\n",
       "        vertical-align: top;\n",
       "    }\n",
       "\n",
       "    .dataframe thead th {\n",
       "        text-align: right;\n",
       "    }\n",
       "</style>\n",
       "<table border=\"1\" class=\"dataframe\">\n",
       "  <thead>\n",
       "    <tr style=\"text-align: right;\">\n",
       "      <th></th>\n",
       "      <th>count</th>\n",
       "      <th>mean</th>\n",
       "      <th>std</th>\n",
       "      <th>min</th>\n",
       "      <th>25%</th>\n",
       "      <th>50%</th>\n",
       "      <th>75%</th>\n",
       "      <th>max</th>\n",
       "    </tr>\n",
       "  </thead>\n",
       "  <tbody>\n",
       "    <tr>\n",
       "      <th>Year</th>\n",
       "      <td>5.0</td>\n",
       "      <td>2002.4</td>\n",
       "      <td>6.066300</td>\n",
       "      <td>1996.0</td>\n",
       "      <td>2000.0</td>\n",
       "      <td>2000.0</td>\n",
       "      <td>2004.0</td>\n",
       "      <td>2012.0</td>\n",
       "    </tr>\n",
       "    <tr>\n",
       "      <th>No. of Participating Countries</th>\n",
       "      <td>5.0</td>\n",
       "      <td>201.4</td>\n",
       "      <td>3.209361</td>\n",
       "      <td>197.0</td>\n",
       "      <td>200.0</td>\n",
       "      <td>201.0</td>\n",
       "      <td>204.0</td>\n",
       "      <td>205.0</td>\n",
       "    </tr>\n",
       "  </tbody>\n",
       "</table>\n",
       "</div>"
      ],
      "text/plain": [
       "                                count    mean       std     min     25%  \\\n",
       "Year                              5.0  2002.4  6.066300  1996.0  2000.0   \n",
       "No. of Participating Countries    5.0   201.4  3.209361   197.0   200.0   \n",
       "\n",
       "                                   50%     75%     max  \n",
       "Year                            2000.0  2004.0  2012.0  \n",
       "No. of Participating Countries   201.0   204.0   205.0  "
      ]
     },
     "execution_count": 39,
     "metadata": {},
     "output_type": "execute_result"
    }
   ],
   "source": [
    "df_olympic_data.describe().T"
   ]
  },
  {
   "cell_type": "markdown",
   "id": "714975f9",
   "metadata": {},
   "source": [
    "#### Create DataFrame from dict of Series"
   ]
  },
  {
   "cell_type": "code",
   "execution_count": 40,
   "id": "60efe8c0",
   "metadata": {},
   "outputs": [],
   "source": [
    "olympic_series_participation = pd.Series([205,204,201,200,197],index=[2012,2008,2004,2000,1996])\n",
    "olympice_series_country = pd.Series(['London','Beijing','Athens','Sydney','Atlanta'],\n",
    "                                   index=[2012,2008,2004,2000,1996])"
   ]
  },
  {
   "cell_type": "code",
   "execution_count": 41,
   "id": "cdd34c2a",
   "metadata": {},
   "outputs": [],
   "source": [
    "df_olympic_series = pd.DataFrame({'No. of Particapating Countries':olympic_series_participation,\n",
    "                                 'Host Cities': olympice_series_country})"
   ]
  },
  {
   "cell_type": "code",
   "execution_count": 42,
   "id": "49edf740",
   "metadata": {},
   "outputs": [
    {
     "data": {
      "text/html": [
       "<div>\n",
       "<style scoped>\n",
       "    .dataframe tbody tr th:only-of-type {\n",
       "        vertical-align: middle;\n",
       "    }\n",
       "\n",
       "    .dataframe tbody tr th {\n",
       "        vertical-align: top;\n",
       "    }\n",
       "\n",
       "    .dataframe thead th {\n",
       "        text-align: right;\n",
       "    }\n",
       "</style>\n",
       "<table border=\"1\" class=\"dataframe\">\n",
       "  <thead>\n",
       "    <tr style=\"text-align: right;\">\n",
       "      <th></th>\n",
       "      <th>No. of Particapating Countries</th>\n",
       "      <th>Host Cities</th>\n",
       "    </tr>\n",
       "  </thead>\n",
       "  <tbody>\n",
       "    <tr>\n",
       "      <th>2012</th>\n",
       "      <td>205</td>\n",
       "      <td>London</td>\n",
       "    </tr>\n",
       "    <tr>\n",
       "      <th>2008</th>\n",
       "      <td>204</td>\n",
       "      <td>Beijing</td>\n",
       "    </tr>\n",
       "    <tr>\n",
       "      <th>2004</th>\n",
       "      <td>201</td>\n",
       "      <td>Athens</td>\n",
       "    </tr>\n",
       "    <tr>\n",
       "      <th>2000</th>\n",
       "      <td>200</td>\n",
       "      <td>Sydney</td>\n",
       "    </tr>\n",
       "    <tr>\n",
       "      <th>1996</th>\n",
       "      <td>197</td>\n",
       "      <td>Atlanta</td>\n",
       "    </tr>\n",
       "  </tbody>\n",
       "</table>\n",
       "</div>"
      ],
      "text/plain": [
       "      No. of Particapating Countries Host Cities\n",
       "2012                             205      London\n",
       "2008                             204     Beijing\n",
       "2004                             201      Athens\n",
       "2000                             200      Sydney\n",
       "1996                             197     Atlanta"
      ]
     },
     "execution_count": 42,
     "metadata": {},
     "output_type": "execute_result"
    }
   ],
   "source": [
    "df_olympic_series"
   ]
  },
  {
   "cell_type": "code",
   "execution_count": 56,
   "id": "14ee198f",
   "metadata": {},
   "outputs": [],
   "source": [
    "# Create DataFrame from DataFrame\n"
   ]
  },
  {
   "cell_type": "code",
   "execution_count": null,
   "id": "b9d34370",
   "metadata": {},
   "outputs": [],
   "source": []
  },
  {
   "cell_type": "code",
   "execution_count": null,
   "id": "eb658b6c",
   "metadata": {},
   "outputs": [],
   "source": []
  },
  {
   "cell_type": "markdown",
   "id": "03651db1",
   "metadata": {},
   "source": [
    "## Matplotlib"
   ]
  },
  {
   "cell_type": "code",
   "execution_count": 94,
   "id": "f6274f54",
   "metadata": {},
   "outputs": [],
   "source": [
    "import matplotlib.pyplot as plt\n",
    "%matplotlib inline\n",
    "import seaborn as sns\n",
    "import pandas as pd\n",
    "import numpy as np"
   ]
  },
  {
   "cell_type": "code",
   "execution_count": 99,
   "id": "c6960aee",
   "metadata": {},
   "outputs": [],
   "source": [
    "## Website traffic data\n",
    "#number of users\n",
    "web_customer =[123,645,950,1290,1630,1014,1295,465,205,80,120]\n",
    "# times distribution(hourly)\n",
    "time_hrs = [7,8,9,10,11,12,13,14,15,16,17]"
   ]
  },
  {
   "cell_type": "code",
   "execution_count": 108,
   "id": "be28f407",
   "metadata": {},
   "outputs": [
    {
     "data": {
      "image/png": "[encoded data removed]",
      "text/plain": [
       "<Figure size 432x288 with 1 Axes>"
      ]
     },
     "metadata": {},
     "output_type": "display_data"
    }
   ],
   "source": [
    "#select the style of the plot\n",
    "from matplotlib import style\n",
    "style.use('ggplot')\n",
    "plt.plot(time_hrs,web_customer,color='g',label='web traffic',alpha= 0.9)\n",
    "# set the title of the plot\n",
    "plt.title('Website traffic')\n",
    "plt.xlabel('Hrs')\n",
    "plt.ylabel('Numbers of users')\n",
    "plt.annotate('Max',ha ='center',va='bottom',xytext=(8,1500),xy=(11,1630),arrowprops={'facecolor':'red'})\n",
    "plt.legend()\n",
    "plt.xlim()\n",
    "plt.show()"
   ]
  },
  {
   "cell_type": "markdown",
   "id": "aa525180",
   "metadata": {},
   "source": [
    "#### Multiple Plots"
   ]
  },
  {
   "cell_type": "code",
   "execution_count": 111,
   "id": "9f93f63f",
   "metadata": {},
   "outputs": [],
   "source": [
    "# monday web traffic\n",
    "web_monday=[123,645,950,1290,2450,1034,1295,465,205,80,130]\n",
    "# tuesday we traffic\n",
    "web_tuesday = [92,680,1145,1670,1323,1119,1265,510,310,110,79]\n",
    "# wednesday web traffic\n",
    "web_wednesday = [105,630,700,1006,1520,1124,1239,1380,610,280,288]\n",
    "\n",
    "# time in hours\n",
    "time_hrs = [7,8,9,10,11,12,13,14,15,16,17]"
   ]
  },
  {
   "cell_type": "code",
   "execution_count": 114,
   "id": "6a4f9dc7",
   "metadata": {},
   "outputs": [
    {
     "data": {
      "image/png": "[encoded data removed]",
      "text/plain": [
       "<Figure size 432x288 with 1 Axes>"
      ]
     },
     "metadata": {},
     "output_type": "display_data"
    }
   ],
   "source": [
    "style.use('ggplot')\n",
    "plt.plot(time_hrs,web_monday,color='red',label='Monday')\n",
    "plt.plot(time_hrs,web_tuesday,color='blue',label='Tuesday')\n",
    "plt.plot(time_hrs,web_wednesday,color='green',label='Wednesday')\n",
    "plt.xlabel('Hrs',fontsize=15)\n",
    "plt.ylabel('Number of user',fontsize=15)\n",
    "plt.title('Website traffic',fontsize=22)\n",
    "plt.legend()\n",
    "plt.show()"
   ]
  },
  {
   "cell_type": "code",
   "execution_count": 116,
   "id": "c6097de0",
   "metadata": {},
   "outputs": [],
   "source": [
    "# measured data for temperature, humidity, wind, precipation\n",
    "temp_data= [12,44,55,21,21,15,17,14,18,12,24,26,34,27]\n",
    "humidity= [21,31,37,31,11,21,16,19,20,45,13,22,43,33]\n",
    "wind = [22,43,19,22,46,34,21,50,19,26,29,15,17,18]\n",
    "precipitate= [34,21,34,33,21,51,26,37,15,17,19,20,35,54]\n",
    "\n",
    "time_hr = [1,2,3,4,5,6,7,8,9,10,11,12,13,14]"
   ]
  },
  {
   "cell_type": "code",
   "execution_count": 118,
   "id": "e766f02c",
   "metadata": {
    "scrolled": true
   },
   "outputs": [
    {
     "data": {
      "image/png": "[encoded data removed]",
      "text/plain": [
       "<Figure size 576x288 with 2 Axes>"
      ]
     },
     "metadata": {},
     "output_type": "display_data"
    }
   ],
   "source": [
    "# draw the subplot (1,2,1) and ( 1,2,2)\n",
    "plt.figure(figsize=(8,4))\n",
    "style.use('ggplot')\n",
    "plt.subplots_adjust(hspace=.25)\n",
    "plt.subplot(1,2,1)\n",
    "plt.title('Temp',fontsize=12)\n",
    "plt.plot(time_hr,temp_data,'g')\n",
    "\n",
    "plt.subplot(1,2,2)\n",
    "plt.plot(time_hr,wind,'b')\n",
    "plt.title('Wind',fontsize=12)\n",
    "plt.show()"
   ]
  },
  {
   "cell_type": "code",
   "execution_count": 119,
   "id": "d79c6d87",
   "metadata": {},
   "outputs": [
    {
     "data": {
      "image/png": "[encoded data removed]",
      "text/plain": [
       "<Figure size 576x288 with 2 Axes>"
      ]
     },
     "metadata": {},
     "output_type": "display_data"
    }
   ],
   "source": [
    "# draw subplot for (2,1,1) and (2,1,2)\n",
    "plt.figure(figsize=(8,4))\n",
    "style.use('ggplot')\n",
    "plt.subplots_adjust(hspace=.25)\n",
    "plt.subplot(2,1,1)\n",
    "plt.title('Humidity',fontsize=12)\n",
    "plt.plot(time_hr,humidity,'r')\n",
    "\n",
    "plt.subplot(2,1,2)\n",
    "plt.plot(time_hr,precipitate,'b')\n",
    "plt.title('Precipitation',fontsize=12)\n",
    "plt.show()"
   ]
  },
  {
   "cell_type": "code",
   "execution_count": 120,
   "id": "c5a5ee51",
   "metadata": {},
   "outputs": [
    {
     "data": {
      "image/png": "[encoded data removed]",
      "text/plain": [
       "<Figure size 648x648 with 4 Axes>"
      ]
     },
     "metadata": {},
     "output_type": "display_data"
    }
   ],
   "source": [
    "# draw subplot for the four (2,2,1) , (2,2,2), (2,2,3) and (2,2,4)\n",
    "plt.figure(figsize=(9,9))\n",
    "style.use('ggplot')\n",
    "plt.subplots_adjust(hspace=.3)\n",
    "plt.subplot(2,2,1)\n",
    "plt.title('Temp (F)',fontsize=12)\n",
    "plt.plot(time_hr,temp_data,'g')\n",
    "\n",
    "plt.subplot(2,2,2)\n",
    "plt.plot(time_hr,wind,'b')\n",
    "plt.title('Wind (MPH)',fontsize=12)\n",
    "\n",
    "plt.subplot(2,2,3)\n",
    "plt.title('Humidity (%)',fontsize=12)\n",
    "plt.plot(time_hr,humidity,'r')\n",
    "\n",
    "plt.subplot(2,2,4)\n",
    "plt.plot(time_hr,precipitate,'y')\n",
    "plt.title('Precipitation (%)',fontsize=12)\n",
    "plt.show()\n"
   ]
  },
  {
   "cell_type": "code",
   "execution_count": null,
   "id": "ac1ff0da",
   "metadata": {},
   "outputs": [],
   "source": []
  },
  {
   "cell_type": "code",
   "execution_count": null,
   "id": "6031c78b",
   "metadata": {},
   "outputs": [],
   "source": []
  },
  {
   "cell_type": "code",
   "execution_count": null,
   "id": "5ae3b3e6",
   "metadata": {},
   "outputs": [],
   "source": []
  }
 ],
 "metadata": {
  "kernelspec": {
   "display_name": "Python 3 (ipykernel)",
   "language": "python",
   "name": "python3"
  },
  "language_info": {
   "codemirror_mode": {
    "name": "ipython",
    "version": 3
   },
   "file_extension": ".py",
   "mimetype": "text/x-python",
   "name": "python",
   "nbconvert_exporter": "python",
   "pygments_lexer": "ipython3",
   "version": "3.9.12"
  }
 },
 "nbformat": 4,
 "nbformat_minor": 5
}
